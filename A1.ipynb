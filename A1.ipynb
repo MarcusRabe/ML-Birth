{
 "cells": [
  {
   "cell_type": "markdown",
   "metadata": {},
   "source": [
    "# Newborn Health\n",
    "## Challenge\n",
    "Certain factors contribute to the health of a newborn baby. One such health measure is birth weight.\n",
    "Countless studies have identified factors, both preventative and hereditary, that lead to low birth weight.\n",
    "Your team has been hired as public health consultants to analyze and model an infant’s birth weight based on such characteristics.\n",
    "\n",
    "## Deliverables\n",
    "\n",
    "### No 1\n",
    "Analysis Write Up\n",
    "- Summarize the problem\n",
    "- Present key insights that are actionable\n",
    "- Offer implementation recommendations\n",
    "- Maximum of 5 pages double-spaced (A.P.A format)\n",
    "\n",
    "### No 2\n",
    "Data Analysis and Analysis Code\n",
    "- Tell the story of your analysis through:\n",
    " - exploratory data analysis\n",
    " - feature treatment and engineering\n",
    " - utilizing appropriate modeling techniques\n",
    "- Code should:\n",
    " - be well commented\n",
    " - follow PEP 8 guidelines (see myCourses for more details)\n",
    " - run without errors\n",
    " - be submitted as a .py script\n",
    " \n",
    "### No 3\n",
    "Final Model and Model Code\n",
    "- Model will be assessed on:\n",
    " - R-Square value on unseen data (randomly seeded)\n",
    " - appropriateness for the problem at hand\n",
    "- Code should:\n",
    " - be well commented\n",
    " - follow PEP 8 guidelines (see myCourses for more details)\n",
    " - run without errors\n",
    " - be submitted as a .py script\n",
    " \n",
    "## Data\n",
    "Data File: birthweight.xlsx\n",
    "Data Dictionary: birthweight_data_dictionary.rtf\n",
    "\n",
    "### Data Dictionarty\n",
    "\n",
    "| variable | label   | description |\n",
    "|---|---|---|\n",
    "| 1        | mage    | mother's age                    |\n",
    "| 2        | meduc   | mother's educ                   |\n",
    "| 3        | monpre  | month prenatal care began       |\n",
    "| 4        | npvis   | total number of prenatal visits |\n",
    "| 5        | fage    | father's age, years             |\n",
    "| 6        | feduc   | father's educ, years            |\n",
    "| 7        | omaps   | one minute apgar score          |\n",
    "| 8        | fmaps   | five minute apgar score         |\n",
    "| 9       | cigs    | avg cigarettes per day          |\n",
    "| 10       | drink   | avg drinks per week             |\n",
    "| 11       | male    | 1 if baby male                  |\n",
    "| 12       | mwhte   | 1 if mother white               |\n",
    "| 13       | mblck   | 1 if mother black               |\n",
    "| 14       | moth    | 1 if mother is other            |\n",
    "| 15       | fwhte   | 1 if father white               |\n",
    "| 16       | fblck   | 1 if father black               |\n",
    "| 17       | foth    | 1 if father is other            |\n",
    "| 18       | bwght   | birthweight, grams              |"
   ]
  },
  {
   "cell_type": "markdown",
   "metadata": {},
   "source": [
    "## Data exploration"
   ]
  },
  {
   "cell_type": "code",
   "execution_count": 10,
   "metadata": {},
   "outputs": [],
   "source": [
    "import pandas as pd\n",
    "import seaborn as sns\n",
    "import matplotlib.pyplot as plt\n",
    "%matplotlib inline"
   ]
  },
  {
   "cell_type": "markdown",
   "metadata": {},
   "source": [
    "### Import and basic stats"
   ]
  },
  {
   "cell_type": "code",
   "execution_count": 2,
   "metadata": {},
   "outputs": [],
   "source": [
    "file = \"birthweight.xlsx\"\n",
    "birthweight = pd.read_excel(file)"
   ]
  },
  {
   "cell_type": "code",
   "execution_count": 5,
   "metadata": {},
   "outputs": [
    {
     "data": {
      "text/html": [
       "<div>\n",
       "<style scoped>\n",
       "    .dataframe tbody tr th:only-of-type {\n",
       "        vertical-align: middle;\n",
       "    }\n",
       "\n",
       "    .dataframe tbody tr th {\n",
       "        vertical-align: top;\n",
       "    }\n",
       "\n",
       "    .dataframe thead th {\n",
       "        text-align: right;\n",
       "    }\n",
       "</style>\n",
       "<table border=\"1\" class=\"dataframe\">\n",
       "  <thead>\n",
       "    <tr style=\"text-align: right;\">\n",
       "      <th></th>\n",
       "      <th>mage</th>\n",
       "      <th>meduc</th>\n",
       "      <th>monpre</th>\n",
       "      <th>npvis</th>\n",
       "      <th>fage</th>\n",
       "      <th>feduc</th>\n",
       "      <th>omaps</th>\n",
       "      <th>fmaps</th>\n",
       "      <th>cigs</th>\n",
       "      <th>drink</th>\n",
       "      <th>male</th>\n",
       "      <th>mwhte</th>\n",
       "      <th>mblck</th>\n",
       "      <th>moth</th>\n",
       "      <th>fwhte</th>\n",
       "      <th>fblck</th>\n",
       "      <th>foth</th>\n",
       "      <th>bwght</th>\n",
       "    </tr>\n",
       "  </thead>\n",
       "  <tbody>\n",
       "    <tr>\n",
       "      <th>0</th>\n",
       "      <td>26</td>\n",
       "      <td>12.0</td>\n",
       "      <td>2.0</td>\n",
       "      <td>12.0</td>\n",
       "      <td>34.0</td>\n",
       "      <td>16.0</td>\n",
       "      <td>9.0</td>\n",
       "      <td>9.0</td>\n",
       "      <td>0.0</td>\n",
       "      <td>0.0</td>\n",
       "      <td>1</td>\n",
       "      <td>0</td>\n",
       "      <td>0</td>\n",
       "      <td>1</td>\n",
       "      <td>0</td>\n",
       "      <td>0</td>\n",
       "      <td>1</td>\n",
       "      <td>3060</td>\n",
       "    </tr>\n",
       "    <tr>\n",
       "      <th>1</th>\n",
       "      <td>29</td>\n",
       "      <td>12.0</td>\n",
       "      <td>2.0</td>\n",
       "      <td>12.0</td>\n",
       "      <td>32.0</td>\n",
       "      <td>12.0</td>\n",
       "      <td>8.0</td>\n",
       "      <td>9.0</td>\n",
       "      <td>NaN</td>\n",
       "      <td>NaN</td>\n",
       "      <td>0</td>\n",
       "      <td>1</td>\n",
       "      <td>0</td>\n",
       "      <td>0</td>\n",
       "      <td>1</td>\n",
       "      <td>0</td>\n",
       "      <td>0</td>\n",
       "      <td>3730</td>\n",
       "    </tr>\n",
       "    <tr>\n",
       "      <th>2</th>\n",
       "      <td>33</td>\n",
       "      <td>12.0</td>\n",
       "      <td>1.0</td>\n",
       "      <td>12.0</td>\n",
       "      <td>36.0</td>\n",
       "      <td>16.0</td>\n",
       "      <td>8.0</td>\n",
       "      <td>9.0</td>\n",
       "      <td>0.0</td>\n",
       "      <td>0.0</td>\n",
       "      <td>0</td>\n",
       "      <td>1</td>\n",
       "      <td>0</td>\n",
       "      <td>0</td>\n",
       "      <td>1</td>\n",
       "      <td>0</td>\n",
       "      <td>0</td>\n",
       "      <td>2530</td>\n",
       "    </tr>\n",
       "    <tr>\n",
       "      <th>3</th>\n",
       "      <td>28</td>\n",
       "      <td>17.0</td>\n",
       "      <td>5.0</td>\n",
       "      <td>8.0</td>\n",
       "      <td>32.0</td>\n",
       "      <td>17.0</td>\n",
       "      <td>8.0</td>\n",
       "      <td>9.0</td>\n",
       "      <td>0.0</td>\n",
       "      <td>0.0</td>\n",
       "      <td>1</td>\n",
       "      <td>1</td>\n",
       "      <td>0</td>\n",
       "      <td>0</td>\n",
       "      <td>1</td>\n",
       "      <td>0</td>\n",
       "      <td>0</td>\n",
       "      <td>3289</td>\n",
       "    </tr>\n",
       "    <tr>\n",
       "      <th>4</th>\n",
       "      <td>23</td>\n",
       "      <td>13.0</td>\n",
       "      <td>2.0</td>\n",
       "      <td>6.0</td>\n",
       "      <td>24.0</td>\n",
       "      <td>16.0</td>\n",
       "      <td>6.0</td>\n",
       "      <td>8.0</td>\n",
       "      <td>0.0</td>\n",
       "      <td>0.0</td>\n",
       "      <td>1</td>\n",
       "      <td>1</td>\n",
       "      <td>0</td>\n",
       "      <td>0</td>\n",
       "      <td>1</td>\n",
       "      <td>0</td>\n",
       "      <td>0</td>\n",
       "      <td>3590</td>\n",
       "    </tr>\n",
       "  </tbody>\n",
       "</table>\n",
       "</div>"
      ],
      "text/plain": [
       "   mage  meduc  monpre  npvis  fage  feduc  omaps  fmaps  cigs  drink  male  \\\n",
       "0    26   12.0     2.0   12.0  34.0   16.0    9.0    9.0   0.0    0.0     1   \n",
       "1    29   12.0     2.0   12.0  32.0   12.0    8.0    9.0   NaN    NaN     0   \n",
       "2    33   12.0     1.0   12.0  36.0   16.0    8.0    9.0   0.0    0.0     0   \n",
       "3    28   17.0     5.0    8.0  32.0   17.0    8.0    9.0   0.0    0.0     1   \n",
       "4    23   13.0     2.0    6.0  24.0   16.0    6.0    8.0   0.0    0.0     1   \n",
       "\n",
       "   mwhte  mblck  moth  fwhte  fblck  foth  bwght  \n",
       "0      0      0     1      0      0     1   3060  \n",
       "1      1      0     0      1      0     0   3730  \n",
       "2      1      0     0      1      0     0   2530  \n",
       "3      1      0     0      1      0     0   3289  \n",
       "4      1      0     0      1      0     0   3590  "
      ]
     },
     "execution_count": 5,
     "metadata": {},
     "output_type": "execute_result"
    }
   ],
   "source": [
    "birthweight.head()"
   ]
  },
  {
   "cell_type": "code",
   "execution_count": 6,
   "metadata": {},
   "outputs": [
    {
     "name": "stdout",
     "output_type": "stream",
     "text": [
      "<class 'pandas.core.frame.DataFrame'>\n",
      "RangeIndex: 1832 entries, 0 to 1831\n",
      "Data columns (total 18 columns):\n",
      "mage      1832 non-null int64\n",
      "meduc     1802 non-null float64\n",
      "monpre    1827 non-null float64\n",
      "npvis     1764 non-null float64\n",
      "fage      1826 non-null float64\n",
      "feduc     1785 non-null float64\n",
      "omaps     1829 non-null float64\n",
      "fmaps     1829 non-null float64\n",
      "cigs      1722 non-null float64\n",
      "drink     1717 non-null float64\n",
      "male      1832 non-null int64\n",
      "mwhte     1832 non-null int64\n",
      "mblck     1832 non-null int64\n",
      "moth      1832 non-null int64\n",
      "fwhte     1832 non-null int64\n",
      "fblck     1832 non-null int64\n",
      "foth      1832 non-null int64\n",
      "bwght     1832 non-null int64\n",
      "dtypes: float64(9), int64(9)\n",
      "memory usage: 257.7 KB\n"
     ]
    }
   ],
   "source": [
    "birthweight.info()"
   ]
  },
  {
   "cell_type": "code",
   "execution_count": 8,
   "metadata": {},
   "outputs": [
    {
     "data": {
      "text/html": [
       "<div>\n",
       "<style scoped>\n",
       "    .dataframe tbody tr th:only-of-type {\n",
       "        vertical-align: middle;\n",
       "    }\n",
       "\n",
       "    .dataframe tbody tr th {\n",
       "        vertical-align: top;\n",
       "    }\n",
       "\n",
       "    .dataframe thead th {\n",
       "        text-align: right;\n",
       "    }\n",
       "</style>\n",
       "<table border=\"1\" class=\"dataframe\">\n",
       "  <thead>\n",
       "    <tr style=\"text-align: right;\">\n",
       "      <th></th>\n",
       "      <th>mage</th>\n",
       "      <th>meduc</th>\n",
       "      <th>monpre</th>\n",
       "      <th>npvis</th>\n",
       "      <th>fage</th>\n",
       "      <th>feduc</th>\n",
       "      <th>omaps</th>\n",
       "      <th>fmaps</th>\n",
       "      <th>cigs</th>\n",
       "      <th>drink</th>\n",
       "      <th>male</th>\n",
       "      <th>mwhte</th>\n",
       "      <th>mblck</th>\n",
       "      <th>moth</th>\n",
       "      <th>fwhte</th>\n",
       "      <th>fblck</th>\n",
       "      <th>foth</th>\n",
       "      <th>bwght</th>\n",
       "    </tr>\n",
       "  </thead>\n",
       "  <tbody>\n",
       "    <tr>\n",
       "      <th>count</th>\n",
       "      <td>1832.00</td>\n",
       "      <td>1802.00</td>\n",
       "      <td>1827.00</td>\n",
       "      <td>1764.00</td>\n",
       "      <td>1826.00</td>\n",
       "      <td>1785.00</td>\n",
       "      <td>1829.00</td>\n",
       "      <td>1829.00</td>\n",
       "      <td>1722.00</td>\n",
       "      <td>1717.00</td>\n",
       "      <td>1832.00</td>\n",
       "      <td>1832.00</td>\n",
       "      <td>1832.00</td>\n",
       "      <td>1832.00</td>\n",
       "      <td>1832.00</td>\n",
       "      <td>1832.00</td>\n",
       "      <td>1832.00</td>\n",
       "      <td>1832.00</td>\n",
       "    </tr>\n",
       "    <tr>\n",
       "      <th>mean</th>\n",
       "      <td>29.56</td>\n",
       "      <td>13.72</td>\n",
       "      <td>2.12</td>\n",
       "      <td>11.62</td>\n",
       "      <td>31.92</td>\n",
       "      <td>13.92</td>\n",
       "      <td>8.39</td>\n",
       "      <td>9.00</td>\n",
       "      <td>1.09</td>\n",
       "      <td>0.02</td>\n",
       "      <td>0.51</td>\n",
       "      <td>0.89</td>\n",
       "      <td>0.06</td>\n",
       "      <td>0.05</td>\n",
       "      <td>0.89</td>\n",
       "      <td>0.06</td>\n",
       "      <td>0.05</td>\n",
       "      <td>3401.12</td>\n",
       "    </tr>\n",
       "    <tr>\n",
       "      <th>std</th>\n",
       "      <td>4.77</td>\n",
       "      <td>2.09</td>\n",
       "      <td>1.23</td>\n",
       "      <td>3.68</td>\n",
       "      <td>5.71</td>\n",
       "      <td>2.27</td>\n",
       "      <td>1.12</td>\n",
       "      <td>0.48</td>\n",
       "      <td>4.22</td>\n",
       "      <td>0.29</td>\n",
       "      <td>0.50</td>\n",
       "      <td>0.32</td>\n",
       "      <td>0.24</td>\n",
       "      <td>0.23</td>\n",
       "      <td>0.31</td>\n",
       "      <td>0.23</td>\n",
       "      <td>0.22</td>\n",
       "      <td>576.54</td>\n",
       "    </tr>\n",
       "    <tr>\n",
       "      <th>min</th>\n",
       "      <td>16.00</td>\n",
       "      <td>3.00</td>\n",
       "      <td>0.00</td>\n",
       "      <td>0.00</td>\n",
       "      <td>18.00</td>\n",
       "      <td>3.00</td>\n",
       "      <td>0.00</td>\n",
       "      <td>2.00</td>\n",
       "      <td>0.00</td>\n",
       "      <td>0.00</td>\n",
       "      <td>0.00</td>\n",
       "      <td>0.00</td>\n",
       "      <td>0.00</td>\n",
       "      <td>0.00</td>\n",
       "      <td>0.00</td>\n",
       "      <td>0.00</td>\n",
       "      <td>0.00</td>\n",
       "      <td>360.00</td>\n",
       "    </tr>\n",
       "    <tr>\n",
       "      <th>25%</th>\n",
       "      <td>26.00</td>\n",
       "      <td>12.00</td>\n",
       "      <td>1.00</td>\n",
       "      <td>10.00</td>\n",
       "      <td>28.00</td>\n",
       "      <td>12.00</td>\n",
       "      <td>8.00</td>\n",
       "      <td>9.00</td>\n",
       "      <td>0.00</td>\n",
       "      <td>0.00</td>\n",
       "      <td>0.00</td>\n",
       "      <td>1.00</td>\n",
       "      <td>0.00</td>\n",
       "      <td>0.00</td>\n",
       "      <td>1.00</td>\n",
       "      <td>0.00</td>\n",
       "      <td>0.00</td>\n",
       "      <td>3076.00</td>\n",
       "    </tr>\n",
       "    <tr>\n",
       "      <th>50%</th>\n",
       "      <td>29.00</td>\n",
       "      <td>13.00</td>\n",
       "      <td>2.00</td>\n",
       "      <td>12.00</td>\n",
       "      <td>31.00</td>\n",
       "      <td>14.00</td>\n",
       "      <td>9.00</td>\n",
       "      <td>9.00</td>\n",
       "      <td>0.00</td>\n",
       "      <td>0.00</td>\n",
       "      <td>1.00</td>\n",
       "      <td>1.00</td>\n",
       "      <td>0.00</td>\n",
       "      <td>0.00</td>\n",
       "      <td>1.00</td>\n",
       "      <td>0.00</td>\n",
       "      <td>0.00</td>\n",
       "      <td>3425.00</td>\n",
       "    </tr>\n",
       "    <tr>\n",
       "      <th>75%</th>\n",
       "      <td>33.00</td>\n",
       "      <td>16.00</td>\n",
       "      <td>2.00</td>\n",
       "      <td>13.00</td>\n",
       "      <td>35.00</td>\n",
       "      <td>16.00</td>\n",
       "      <td>9.00</td>\n",
       "      <td>9.00</td>\n",
       "      <td>0.00</td>\n",
       "      <td>0.00</td>\n",
       "      <td>1.00</td>\n",
       "      <td>1.00</td>\n",
       "      <td>0.00</td>\n",
       "      <td>0.00</td>\n",
       "      <td>1.00</td>\n",
       "      <td>0.00</td>\n",
       "      <td>0.00</td>\n",
       "      <td>3770.00</td>\n",
       "    </tr>\n",
       "    <tr>\n",
       "      <th>max</th>\n",
       "      <td>44.00</td>\n",
       "      <td>17.00</td>\n",
       "      <td>9.00</td>\n",
       "      <td>40.00</td>\n",
       "      <td>64.00</td>\n",
       "      <td>17.00</td>\n",
       "      <td>10.00</td>\n",
       "      <td>10.00</td>\n",
       "      <td>40.00</td>\n",
       "      <td>8.00</td>\n",
       "      <td>1.00</td>\n",
       "      <td>1.00</td>\n",
       "      <td>1.00</td>\n",
       "      <td>1.00</td>\n",
       "      <td>1.00</td>\n",
       "      <td>1.00</td>\n",
       "      <td>1.00</td>\n",
       "      <td>5204.00</td>\n",
       "    </tr>\n",
       "  </tbody>\n",
       "</table>\n",
       "</div>"
      ],
      "text/plain": [
       "          mage    meduc   monpre    npvis     fage    feduc    omaps    fmaps  \\\n",
       "count  1832.00  1802.00  1827.00  1764.00  1826.00  1785.00  1829.00  1829.00   \n",
       "mean     29.56    13.72     2.12    11.62    31.92    13.92     8.39     9.00   \n",
       "std       4.77     2.09     1.23     3.68     5.71     2.27     1.12     0.48   \n",
       "min      16.00     3.00     0.00     0.00    18.00     3.00     0.00     2.00   \n",
       "25%      26.00    12.00     1.00    10.00    28.00    12.00     8.00     9.00   \n",
       "50%      29.00    13.00     2.00    12.00    31.00    14.00     9.00     9.00   \n",
       "75%      33.00    16.00     2.00    13.00    35.00    16.00     9.00     9.00   \n",
       "max      44.00    17.00     9.00    40.00    64.00    17.00    10.00    10.00   \n",
       "\n",
       "          cigs    drink     male    mwhte    mblck     moth    fwhte    fblck  \\\n",
       "count  1722.00  1717.00  1832.00  1832.00  1832.00  1832.00  1832.00  1832.00   \n",
       "mean      1.09     0.02     0.51     0.89     0.06     0.05     0.89     0.06   \n",
       "std       4.22     0.29     0.50     0.32     0.24     0.23     0.31     0.23   \n",
       "min       0.00     0.00     0.00     0.00     0.00     0.00     0.00     0.00   \n",
       "25%       0.00     0.00     0.00     1.00     0.00     0.00     1.00     0.00   \n",
       "50%       0.00     0.00     1.00     1.00     0.00     0.00     1.00     0.00   \n",
       "75%       0.00     0.00     1.00     1.00     0.00     0.00     1.00     0.00   \n",
       "max      40.00     8.00     1.00     1.00     1.00     1.00     1.00     1.00   \n",
       "\n",
       "          foth    bwght  \n",
       "count  1832.00  1832.00  \n",
       "mean      0.05  3401.12  \n",
       "std       0.22   576.54  \n",
       "min       0.00   360.00  \n",
       "25%       0.00  3076.00  \n",
       "50%       0.00  3425.00  \n",
       "75%       0.00  3770.00  \n",
       "max       1.00  5204.00  "
      ]
     },
     "execution_count": 8,
     "metadata": {},
     "output_type": "execute_result"
    }
   ],
   "source": [
    "birthweight.describe().round(2)"
   ]
  },
  {
   "cell_type": "markdown",
   "metadata": {},
   "source": [
    "### Explore and deal with NaNs"
   ]
  },
  {
   "cell_type": "code",
   "execution_count": 9,
   "metadata": {},
   "outputs": [],
   "source": [
    "for col in birthweight:\n",
    "\n",
    "    \"\"\" Create columns that are 0s if a value was not missing and 1 if\n",
    "    a value is missing. \"\"\"\n",
    "    \n",
    "    if birthweight[col].isnull().any():\n",
    "        birthweight['m_'+col] = birthweight[col].isnull().astype(int)\n",
    "\n",
    "birthweight_dropped = birthweight.dropna()"
   ]
  },
  {
   "cell_type": "markdown",
   "metadata": {},
   "source": [
    "#### Meduc\n",
    "Mother's education - assumed to be in years spend in education.\n",
    "\n",
    "Categorical?\n",
    "\n",
    "30 NaNs in this column"
   ]
  },
  {
   "cell_type": "code",
   "execution_count": 12,
   "metadata": {},
   "outputs": [
    {
     "data": {
      "text/plain": [
       "<matplotlib.axes._subplots.AxesSubplot at 0x1a213cefd0>"
      ]
     },
     "execution_count": 12,
     "metadata": {},
     "output_type": "execute_result"
    },
    {
     "data": {
      "image/png": "[encoded data removed]",
      "text/plain": [
       "<Figure size 432x288 with 1 Axes>"
      ]
     },
     "metadata": {
      "needs_background": "light"
     },
     "output_type": "display_data"
    }
   ],
   "source": [
    "sns.distplot(birthweight_dropped['meduc'])"
   ]
  },
  {
   "cell_type": "markdown",
   "metadata": {},
   "source": [
    "Looks like camel humps...\n",
    "\n",
    "Less distince mode - replacing with mean would reduce the significance of the two distinct humps but due to the small number of NaNs in column is probably the best option.\n",
    "\n",
    "Probably best replace with rounded mean (14 years)"
   ]
  },
  {
   "cell_type": "code",
   "execution_count": 38,
   "metadata": {},
   "outputs": [],
   "source": [
    "birthweight['meduc'] = birthweight['meduc'].fillna(birthweight_dropped['meduc'].mean().round(0))"
   ]
  },
  {
   "cell_type": "markdown",
   "metadata": {},
   "source": [
    "#### monpre\n",
    "month prenatal care began\n",
    "\n",
    "Can be 0 to 9 - categorical again\n",
    "\n",
    "5 NaNs in column"
   ]
  },
  {
   "cell_type": "code",
   "execution_count": 17,
   "metadata": {},
   "outputs": [
    {
     "data": {
      "text/plain": [
       "<matplotlib.axes._subplots.AxesSubplot at 0x1a20df1358>"
      ]
     },
     "execution_count": 17,
     "metadata": {},
     "output_type": "execute_result"
    },
    {
     "data": {
      "image/png": "[encoded data removed]",
      "text/plain": [
       "<Figure size 432x288 with 1 Axes>"
      ]
     },
     "metadata": {
      "needs_background": "light"
     },
     "output_type": "display_data"
    }
   ],
   "source": [
    "sns.distplot(birthweight_dropped['monpre'])"
   ]
  },
  {
   "cell_type": "markdown",
   "metadata": {},
   "source": [
    "Replace with rounded mean (2)"
   ]
  },
  {
   "cell_type": "code",
   "execution_count": 53,
   "metadata": {},
   "outputs": [],
   "source": [
    "birthweight['monpre'] = birthweight['monpre'].fillna(birthweight_dropped['monpre'].mean().round(0))"
   ]
  },
  {
   "cell_type": "markdown",
   "metadata": {},
   "source": [
    "#### npvis\n",
    "total number of prenatal visits\n",
    "\n",
    "Should be Integer number even though currently float in DF\n",
    "\n",
    "68 NaNs in column"
   ]
  },
  {
   "cell_type": "code",
   "execution_count": 19,
   "metadata": {},
   "outputs": [
    {
     "data": {
      "text/plain": [
       "<matplotlib.axes._subplots.AxesSubplot at 0x1a2181ca20>"
      ]
     },
     "execution_count": 19,
     "metadata": {},
     "output_type": "execute_result"
    },
    {
     "data": {
      "image/png": "[encoded data removed]",
      "text/plain": [
       "<Figure size 432x288 with 1 Axes>"
      ]
     },
     "metadata": {
      "needs_background": "light"
     },
     "output_type": "display_data"
    }
   ],
   "source": [
    "sns.distplot(birthweight_dropped['npvis'])"
   ]
  },
  {
   "cell_type": "markdown",
   "metadata": {},
   "source": [
    "Looks like normal distribution around 12\n",
    "\n",
    "Replace NaNs with rounded mean or mode - which both gives 12"
   ]
  },
  {
   "cell_type": "code",
   "execution_count": 22,
   "metadata": {},
   "outputs": [],
   "source": [
    "birthweight['npvis'] = birthweight['npvis'].fillna(birthweight_dropped['npvis'].mean().round(0))"
   ]
  },
  {
   "cell_type": "markdown",
   "metadata": {},
   "source": [
    "#### fage\n",
    "father's age, years\n",
    "\n",
    "Should be Integer\n",
    "\n",
    "6 NaNs in column"
   ]
  },
  {
   "cell_type": "code",
   "execution_count": 23,
   "metadata": {},
   "outputs": [
    {
     "data": {
      "text/plain": [
       "<matplotlib.axes._subplots.AxesSubplot at 0x1a21934780>"
      ]
     },
     "execution_count": 23,
     "metadata": {},
     "output_type": "execute_result"
    },
    {
     "data": {
      "image/png": "[encoded data removed]",
      "text/plain": [
       "<Figure size 432x288 with 1 Axes>"
      ]
     },
     "metadata": {
      "needs_background": "light"
     },
     "output_type": "display_data"
    }
   ],
   "source": [
    "sns.distplot(birthweight_dropped['fage'])"
   ]
  },
  {
   "cell_type": "markdown",
   "metadata": {},
   "source": [
    "Looks normally distributed with some anomalies\n",
    "\n",
    "Best replace with rounded mean"
   ]
  },
  {
   "cell_type": "code",
   "execution_count": 24,
   "metadata": {},
   "outputs": [],
   "source": [
    "birthweight['fage'] = birthweight['fage'].fillna(birthweight_dropped['fage'].mean().round(0))"
   ]
  },
  {
   "cell_type": "markdown",
   "metadata": {},
   "source": [
    "#### feduc\n",
    "father's educ, years\n",
    "\n",
    "Should be Integer\n",
    "\n",
    "47 NaNs in column"
   ]
  },
  {
   "cell_type": "code",
   "execution_count": 25,
   "metadata": {},
   "outputs": [
    {
     "data": {
      "text/plain": [
       "<matplotlib.axes._subplots.AxesSubplot at 0x1a21a132e8>"
      ]
     },
     "execution_count": 25,
     "metadata": {},
     "output_type": "execute_result"
    },
    {
     "data": {
      "image/png": "[encoded data removed]",
      "text/plain": [
       "<Figure size 432x288 with 1 Axes>"
      ]
     },
     "metadata": {
      "needs_background": "light"
     },
     "output_type": "display_data"
    }
   ],
   "source": [
    "sns.distplot(birthweight_dropped['feduc'])"
   ]
  },
  {
   "cell_type": "markdown",
   "metadata": {},
   "source": [
    "Similar distribution to Meduc\n",
    "\n",
    "Less distince mode - replacing with mean would reduce the significance of the two distinct humps but due to the small number of NaNs in column is probably the best option."
   ]
  },
  {
   "cell_type": "code",
   "execution_count": 26,
   "metadata": {},
   "outputs": [],
   "source": [
    "birthweight['feduc'] = birthweight['feduc'].fillna(birthweight_dropped['feduc'].mean().round(0))"
   ]
  },
  {
   "cell_type": "markdown",
   "metadata": {},
   "source": [
    "#### omaps\n",
    "one minute apgar score\n",
    "\n",
    "Seems to be integer number\n",
    "\n",
    "2 NaNs in column"
   ]
  },
  {
   "cell_type": "code",
   "execution_count": 27,
   "metadata": {},
   "outputs": [
    {
     "data": {
      "text/plain": [
       "<matplotlib.axes._subplots.AxesSubplot at 0x1a21b43e48>"
      ]
     },
     "execution_count": 27,
     "metadata": {},
     "output_type": "execute_result"
    },
    {
     "data": {
      "image/png": "[encoded data removed]",
      "text/plain": [
       "<Figure size 432x288 with 1 Axes>"
      ]
     },
     "metadata": {
      "needs_background": "light"
     },
     "output_type": "display_data"
    }
   ],
   "source": [
    "sns.distplot(birthweight_dropped['omaps'])"
   ]
  },
  {
   "cell_type": "markdown",
   "metadata": {},
   "source": [
    "Only 2 NaNs - replace with mean or mode won't have a significant influence."
   ]
  },
  {
   "cell_type": "code",
   "execution_count": 28,
   "metadata": {},
   "outputs": [],
   "source": [
    "birthweight['omaps'] = birthweight['omaps'].fillna(birthweight_dropped['omaps'].mean().round(0))"
   ]
  },
  {
   "cell_type": "markdown",
   "metadata": {},
   "source": [
    "#### fmaps\n",
    "five minute apgar score \n",
    "\n",
    "Seems to be integer number\n",
    "\n",
    "2 NaNs in column"
   ]
  },
  {
   "cell_type": "code",
   "execution_count": 29,
   "metadata": {},
   "outputs": [
    {
     "data": {
      "text/plain": [
       "<matplotlib.axes._subplots.AxesSubplot at 0x1a21a13940>"
      ]
     },
     "execution_count": 29,
     "metadata": {},
     "output_type": "execute_result"
    },
    {
     "data": {
      "image/png": "[encoded data removed]",
      "text/plain": [
       "<Figure size 432x288 with 1 Axes>"
      ]
     },
     "metadata": {
      "needs_background": "light"
     },
     "output_type": "display_data"
    }
   ],
   "source": [
    "sns.distplot(birthweight_dropped['fmaps'])"
   ]
  },
  {
   "cell_type": "markdown",
   "metadata": {},
   "source": [
    "Only 2 NaNs - replace with rounded mean"
   ]
  },
  {
   "cell_type": "code",
   "execution_count": 30,
   "metadata": {},
   "outputs": [],
   "source": [
    "birthweight['fmaps'] = birthweight['fmaps'].fillna(birthweight_dropped['fmaps'].mean().round(0))"
   ]
  },
  {
   "cell_type": "markdown",
   "metadata": {},
   "source": [
    "#### cigs\n",
    "avg cigarettes per day\n",
    "\n",
    "110 NaNs in column"
   ]
  },
  {
   "cell_type": "code",
   "execution_count": 31,
   "metadata": {},
   "outputs": [
    {
     "data": {
      "text/plain": [
       "<matplotlib.axes._subplots.AxesSubplot at 0x1a21a56dd8>"
      ]
     },
     "execution_count": 31,
     "metadata": {},
     "output_type": "execute_result"
    },
    {
     "data": {
      "image/png": "[encoded data removed]",
      "text/plain": [
       "<Figure size 432x288 with 1 Axes>"
      ]
     },
     "metadata": {
      "needs_background": "light"
     },
     "output_type": "display_data"
    }
   ],
   "source": [
    "sns.distplot(birthweight_dropped['cigs'])"
   ]
  },
  {
   "cell_type": "markdown",
   "metadata": {},
   "source": [
    "90% don't smoke. It might be assumed that the NaNs are people that smoke but due to the stigma didn't want to respond. But NaNs can't be replaced with the mean (~1) as this value doesn't naturally occur. Best option to replace with mode (0) even though this is not ideal."
   ]
  },
  {
   "cell_type": "code",
   "execution_count": 54,
   "metadata": {},
   "outputs": [],
   "source": [
    "birthweight['cigs'] = birthweight['cigs'].fillna(0)"
   ]
  },
  {
   "cell_type": "markdown",
   "metadata": {},
   "source": [
    "#### drink\n",
    "avg drinks per week\n",
    "\n",
    "115 NaNs in column"
   ]
  },
  {
   "cell_type": "code",
   "execution_count": 33,
   "metadata": {},
   "outputs": [
    {
     "data": {
      "text/plain": [
       "<matplotlib.axes._subplots.AxesSubplot at 0x1a21d8cc50>"
      ]
     },
     "execution_count": 33,
     "metadata": {},
     "output_type": "execute_result"
    },
    {
     "data": {
      "image/png": "[encoded data removed]",
      "text/plain": [
       "<Figure size 432x288 with 1 Axes>"
      ]
     },
     "metadata": {
      "needs_background": "light"
     },
     "output_type": "display_data"
    }
   ],
   "source": [
    "sns.distplot(birthweight_dropped['drink'])"
   ]
  },
  {
   "cell_type": "markdown",
   "metadata": {},
   "source": [
    "Most don't drink. It might be assumed that the NaNs are people that drink but due to the stigma didn't want to respond. Best option to replace with mode (0) even though this is not ideal."
   ]
  },
  {
   "cell_type": "code",
   "execution_count": 50,
   "metadata": {},
   "outputs": [],
   "source": [
    "birthweight['drink'] = birthweight['drink'].fillna(birthweight_dropped['drink'].mean().round(0))"
   ]
  },
  {
   "cell_type": "markdown",
   "metadata": {},
   "source": [
    "### Outlier analysis"
   ]
  },
  {
   "cell_type": "code",
   "execution_count": 57,
   "metadata": {},
   "outputs": [
    {
     "data": {
      "text/html": [
       "<div>\n",
       "<style scoped>\n",
       "    .dataframe tbody tr th:only-of-type {\n",
       "        vertical-align: middle;\n",
       "    }\n",
       "\n",
       "    .dataframe tbody tr th {\n",
       "        vertical-align: top;\n",
       "    }\n",
       "\n",
       "    .dataframe thead th {\n",
       "        text-align: right;\n",
       "    }\n",
       "</style>\n",
       "<table border=\"1\" class=\"dataframe\">\n",
       "  <thead>\n",
       "    <tr style=\"text-align: right;\">\n",
       "      <th></th>\n",
       "      <th>mage</th>\n",
       "      <th>meduc</th>\n",
       "      <th>monpre</th>\n",
       "      <th>npvis</th>\n",
       "      <th>fage</th>\n",
       "      <th>feduc</th>\n",
       "      <th>omaps</th>\n",
       "      <th>fmaps</th>\n",
       "      <th>cigs</th>\n",
       "      <th>drink</th>\n",
       "      <th>...</th>\n",
       "      <th>bwght</th>\n",
       "      <th>m_meduc</th>\n",
       "      <th>m_monpre</th>\n",
       "      <th>m_npvis</th>\n",
       "      <th>m_fage</th>\n",
       "      <th>m_feduc</th>\n",
       "      <th>m_omaps</th>\n",
       "      <th>m_fmaps</th>\n",
       "      <th>m_cigs</th>\n",
       "      <th>m_drink</th>\n",
       "    </tr>\n",
       "  </thead>\n",
       "  <tbody>\n",
       "    <tr>\n",
       "      <th>0.2</th>\n",
       "      <td>26.0</td>\n",
       "      <td>12.0</td>\n",
       "      <td>1.0</td>\n",
       "      <td>9.0</td>\n",
       "      <td>28.0</td>\n",
       "      <td>12.0</td>\n",
       "      <td>8.0</td>\n",
       "      <td>9.0</td>\n",
       "      <td>0.0</td>\n",
       "      <td>0.0</td>\n",
       "      <td>...</td>\n",
       "      <td>2985.2</td>\n",
       "      <td>0.0</td>\n",
       "      <td>0.0</td>\n",
       "      <td>0.0</td>\n",
       "      <td>0.0</td>\n",
       "      <td>0.0</td>\n",
       "      <td>0.0</td>\n",
       "      <td>0.0</td>\n",
       "      <td>0.0</td>\n",
       "      <td>0.0</td>\n",
       "    </tr>\n",
       "    <tr>\n",
       "      <th>0.4</th>\n",
       "      <td>28.0</td>\n",
       "      <td>12.0</td>\n",
       "      <td>2.0</td>\n",
       "      <td>12.0</td>\n",
       "      <td>30.0</td>\n",
       "      <td>12.0</td>\n",
       "      <td>8.0</td>\n",
       "      <td>9.0</td>\n",
       "      <td>0.0</td>\n",
       "      <td>0.0</td>\n",
       "      <td>...</td>\n",
       "      <td>3295.0</td>\n",
       "      <td>0.0</td>\n",
       "      <td>0.0</td>\n",
       "      <td>0.0</td>\n",
       "      <td>0.0</td>\n",
       "      <td>0.0</td>\n",
       "      <td>0.0</td>\n",
       "      <td>0.0</td>\n",
       "      <td>0.0</td>\n",
       "      <td>0.0</td>\n",
       "    </tr>\n",
       "    <tr>\n",
       "      <th>0.6</th>\n",
       "      <td>31.0</td>\n",
       "      <td>14.0</td>\n",
       "      <td>2.0</td>\n",
       "      <td>12.0</td>\n",
       "      <td>33.0</td>\n",
       "      <td>16.0</td>\n",
       "      <td>9.0</td>\n",
       "      <td>9.0</td>\n",
       "      <td>0.0</td>\n",
       "      <td>0.0</td>\n",
       "      <td>...</td>\n",
       "      <td>3559.2</td>\n",
       "      <td>0.0</td>\n",
       "      <td>0.0</td>\n",
       "      <td>0.0</td>\n",
       "      <td>0.0</td>\n",
       "      <td>0.0</td>\n",
       "      <td>0.0</td>\n",
       "      <td>0.0</td>\n",
       "      <td>0.0</td>\n",
       "      <td>0.0</td>\n",
       "    </tr>\n",
       "    <tr>\n",
       "      <th>0.8</th>\n",
       "      <td>33.0</td>\n",
       "      <td>16.0</td>\n",
       "      <td>3.0</td>\n",
       "      <td>14.0</td>\n",
       "      <td>36.0</td>\n",
       "      <td>16.0</td>\n",
       "      <td>9.0</td>\n",
       "      <td>9.0</td>\n",
       "      <td>0.0</td>\n",
       "      <td>0.0</td>\n",
       "      <td>...</td>\n",
       "      <td>3845.0</td>\n",
       "      <td>0.0</td>\n",
       "      <td>0.0</td>\n",
       "      <td>0.0</td>\n",
       "      <td>0.0</td>\n",
       "      <td>0.0</td>\n",
       "      <td>0.0</td>\n",
       "      <td>0.0</td>\n",
       "      <td>0.0</td>\n",
       "      <td>0.0</td>\n",
       "    </tr>\n",
       "    <tr>\n",
       "      <th>1.0</th>\n",
       "      <td>44.0</td>\n",
       "      <td>17.0</td>\n",
       "      <td>9.0</td>\n",
       "      <td>40.0</td>\n",
       "      <td>64.0</td>\n",
       "      <td>17.0</td>\n",
       "      <td>10.0</td>\n",
       "      <td>10.0</td>\n",
       "      <td>40.0</td>\n",
       "      <td>8.0</td>\n",
       "      <td>...</td>\n",
       "      <td>5204.0</td>\n",
       "      <td>1.0</td>\n",
       "      <td>1.0</td>\n",
       "      <td>1.0</td>\n",
       "      <td>1.0</td>\n",
       "      <td>1.0</td>\n",
       "      <td>1.0</td>\n",
       "      <td>1.0</td>\n",
       "      <td>1.0</td>\n",
       "      <td>1.0</td>\n",
       "    </tr>\n",
       "  </tbody>\n",
       "</table>\n",
       "<p>5 rows × 27 columns</p>\n",
       "</div>"
      ],
      "text/plain": [
       "     mage  meduc  monpre  npvis  fage  feduc  omaps  fmaps  cigs  drink  ...  \\\n",
       "0.2  26.0   12.0     1.0    9.0  28.0   12.0    8.0    9.0   0.0    0.0  ...   \n",
       "0.4  28.0   12.0     2.0   12.0  30.0   12.0    8.0    9.0   0.0    0.0  ...   \n",
       "0.6  31.0   14.0     2.0   12.0  33.0   16.0    9.0    9.0   0.0    0.0  ...   \n",
       "0.8  33.0   16.0     3.0   14.0  36.0   16.0    9.0    9.0   0.0    0.0  ...   \n",
       "1.0  44.0   17.0     9.0   40.0  64.0   17.0   10.0   10.0  40.0    8.0  ...   \n",
       "\n",
       "      bwght  m_meduc  m_monpre  m_npvis  m_fage  m_feduc  m_omaps  m_fmaps  \\\n",
       "0.2  2985.2      0.0       0.0      0.0     0.0      0.0      0.0      0.0   \n",
       "0.4  3295.0      0.0       0.0      0.0     0.0      0.0      0.0      0.0   \n",
       "0.6  3559.2      0.0       0.0      0.0     0.0      0.0      0.0      0.0   \n",
       "0.8  3845.0      0.0       0.0      0.0     0.0      0.0      0.0      0.0   \n",
       "1.0  5204.0      1.0       1.0      1.0     1.0      1.0      1.0      1.0   \n",
       "\n",
       "     m_cigs  m_drink  \n",
       "0.2     0.0      0.0  \n",
       "0.4     0.0      0.0  \n",
       "0.6     0.0      0.0  \n",
       "0.8     0.0      0.0  \n",
       "1.0     1.0      1.0  \n",
       "\n",
       "[5 rows x 27 columns]"
      ]
     },
     "execution_count": 57,
     "metadata": {},
     "output_type": "execute_result"
    }
   ],
   "source": [
    "birthweight_quantiles = birthweight.loc[:, :].quantile([0.20,0.40,0.60,0.80,1.00])\n",
    "birthweight_quantiles"
   ]
  },
  {
   "cell_type": "markdown",
   "metadata": {},
   "source": [
    "#### Distribution plots"
   ]
  },
  {
   "cell_type": "code",
   "execution_count": 60,
   "metadata": {},
   "outputs": [
    {
     "data": {
      "image/png": "[encoded data removed]",
      "text/plain": [
       "<Figure size 432x288 with 4 Axes>"
      ]
     },
     "metadata": {
      "needs_background": "light"
     },
     "output_type": "display_data"
    }
   ],
   "source": [
    "plt.subplot(2, 2, 1)\n",
    "sns.distplot(birthweight['mage'],\n",
    "             color = 'g')\n",
    "plt.xlabel(\"Mother age\")\n",
    "\n",
    "plt.subplot(2, 2, 2)\n",
    "sns.distplot(birthweight['meduc'],\n",
    "             color = 'y')\n",
    "plt.xlabel('Mother Education')\n",
    "\n",
    "plt.subplot(2, 2, 3)\n",
    "sns.distplot(birthweight['monpre'],\n",
    "             color = 'orange')\n",
    "plt.xlabel('Months prenatal care began')\n",
    "\n",
    "plt.subplot(2, 2, 4)\n",
    "sns.distplot(birthweight['npvis'],\n",
    "             color = 'r')\n",
    "plt.xlabel('Number prenatal visits')\n",
    "\n",
    "plt.tight_layout()\n",
    "plt.savefig('Birthweight Histograms 1 of 5.png')\n",
    "\n",
    "plt.show()"
   ]
  },
  {
   "cell_type": "code",
   "execution_count": 59,
   "metadata": {},
   "outputs": [
    {
     "data": {
      "image/png": "[encoded data removed]",
      "text/plain": [
       "<Figure size 432x288 with 4 Axes>"
      ]
     },
     "metadata": {
      "needs_background": "light"
     },
     "output_type": "display_data"
    }
   ],
   "source": [
    "plt.subplot(2, 2, 1)\n",
    "sns.distplot(birthweight['fage'],\n",
    "             color = 'g')\n",
    "plt.xlabel(\"Father age\")\n",
    "\n",
    "plt.subplot(2, 2, 2)\n",
    "sns.distplot(birthweight['feduc'],\n",
    "             color = 'y')\n",
    "plt.xlabel('Father Education')\n",
    "\n",
    "plt.subplot(2, 2, 3)\n",
    "sns.distplot(birthweight['omaps'],\n",
    "             color = 'orange')\n",
    "plt.xlabel('1 min apgar')\n",
    "\n",
    "plt.subplot(2, 2, 4)\n",
    "sns.distplot(birthweight['fmaps'],\n",
    "             color = 'r')\n",
    "plt.xlabel('5 min apgar')\n",
    "\n",
    "plt.tight_layout()\n",
    "plt.savefig('Birthweight Histograms 2 of 5.png')\n",
    "\n",
    "plt.show()"
   ]
  },
  {
   "cell_type": "code",
   "execution_count": 64,
   "metadata": {},
   "outputs": [
    {
     "data": {
      "image/png": "[encoded data removed]",
      "text/plain": [
       "<Figure size 432x288 with 4 Axes>"
      ]
     },
     "metadata": {
      "needs_background": "light"
     },
     "output_type": "display_data"
    }
   ],
   "source": [
    "plt.subplot(2, 2, 1)\n",
    "sns.distplot(birthweight['cigs'],\n",
    "             color = 'g')\n",
    "plt.xlabel(\"avg cigarettes per day\")\n",
    "\n",
    "plt.subplot(2, 2, 2)\n",
    "sns.distplot(birthweight['drink'],\n",
    "             color = 'y')\n",
    "plt.xlabel('avg drinks per week')\n",
    "\n",
    "plt.subplot(2, 2, 3)\n",
    "sns.distplot(birthweight['male'],\n",
    "             bins = 2,\n",
    "             color = 'orange')\n",
    "plt.xlabel('if baby male')\n",
    "\n",
    "plt.subplot(2, 2, 4)\n",
    "sns.distplot(birthweight['mwhte'],\n",
    "             bins = 2,\n",
    "             color = 'r')\n",
    "plt.xlabel('if mother white')\n",
    "\n",
    "plt.tight_layout()\n",
    "plt.savefig('Birthweight Histograms 3 of 5.png')\n",
    "\n",
    "plt.show()"
   ]
  },
  {
   "cell_type": "code",
   "execution_count": 65,
   "metadata": {},
   "outputs": [
    {
     "data": {
      "image/png": "[encoded data removed]",
      "text/plain": [
       "<Figure size 432x288 with 4 Axes>"
      ]
     },
     "metadata": {
      "needs_background": "light"
     },
     "output_type": "display_data"
    }
   ],
   "source": [
    "plt.subplot(2, 2, 1)\n",
    "sns.distplot(birthweight['mblck'],\n",
    "             bins = 2,\n",
    "             color = 'g')\n",
    "plt.xlabel(\"if mother black\")\n",
    "\n",
    "plt.subplot(2, 2, 2)\n",
    "sns.distplot(birthweight['moth'],\n",
    "             bins = 2,\n",
    "             color = 'y')\n",
    "plt.xlabel('if mother is other')\n",
    "\n",
    "plt.subplot(2, 2, 3)\n",
    "sns.distplot(birthweight['fwhte'],\n",
    "             bins = 2,\n",
    "             color = 'orange')\n",
    "plt.xlabel('if father white')\n",
    "\n",
    "plt.subplot(2, 2, 4)\n",
    "sns.distplot(birthweight['fblck'],\n",
    "             bins = 2,\n",
    "             color = 'r')\n",
    "plt.xlabel('if father black')\n",
    "\n",
    "plt.tight_layout()\n",
    "plt.savefig('Birthweight Histograms 4 of 5.png')\n",
    "\n",
    "plt.show()"
   ]
  },
  {
   "cell_type": "code",
   "execution_count": 66,
   "metadata": {},
   "outputs": [
    {
     "data": {
      "image/png": "[encoded data removed]",
      "text/plain": [
       "<Figure size 432x288 with 2 Axes>"
      ]
     },
     "metadata": {
      "needs_background": "light"
     },
     "output_type": "display_data"
    }
   ],
   "source": [
    "plt.subplot(2, 1, 1)\n",
    "sns.distplot(birthweight['foth'],\n",
    "             bins = 2,\n",
    "             color = 'g')\n",
    "plt.xlabel(\"if father is other\")\n",
    "\n",
    "plt.subplot(2, 1, 2)\n",
    "sns.distplot(birthweight['bwght'],\n",
    "             color = 'y')\n",
    "plt.xlabel('birthweight, grams')\n",
    "\n",
    "plt.tight_layout()\n",
    "plt.savefig('Birthweight Histograms 5 of 5.png')\n",
    "\n",
    "plt.show()"
   ]
  },
  {
   "cell_type": "markdown",
   "metadata": {},
   "source": [
    "#### Check race columns\n",
    "Father and mother can only either be black, white or other, so the sum of these three needs to always be 1"
   ]
  },
  {
   "cell_type": "code",
   "execution_count": 71,
   "metadata": {},
   "outputs": [
    {
     "data": {
      "text/plain": [
       "0"
      ]
     },
     "execution_count": 71,
     "metadata": {},
     "output_type": "execute_result"
    }
   ],
   "source": [
    "fchck = birthweight['foth']+birthweight['fblck']+birthweight['fwhte']\n",
    "fchck[fchck != 1].sum()"
   ]
  },
  {
   "cell_type": "code",
   "execution_count": 72,
   "metadata": {},
   "outputs": [
    {
     "data": {
      "text/plain": [
       "0"
      ]
     },
     "execution_count": 72,
     "metadata": {},
     "output_type": "execute_result"
    }
   ],
   "source": [
    "mchck = birthweight['moth']+birthweight['mblck']+birthweight['mwhte']\n",
    "mchck[mchck != 1].sum()"
   ]
  },
  {
   "cell_type": "markdown",
   "metadata": {},
   "source": [
    "all good here"
   ]
  },
  {
   "cell_type": "code",
   "execution_count": null,
   "metadata": {},
   "outputs": [],
   "source": []
  }
 ],
 "metadata": {
  "kernelspec": {
   "display_name": "Python 3",
   "language": "python",
   "name": "python3"
  },
  "language_info": {
   "codemirror_mode": {
    "name": "ipython",
    "version": 3
   },
   "file_extension": ".py",
   "mimetype": "text/x-python",
   "name": "python",
   "nbconvert_exporter": "python",
   "pygments_lexer": "ipython3",
   "version": "3.6.8"
  }
 },
 "nbformat": 4,
 "nbformat_minor": 2
}
