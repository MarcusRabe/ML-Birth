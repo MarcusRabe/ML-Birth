{
 "cells": [
  {
   "cell_type": "markdown",
   "metadata": {},
   "source": [
    "# Newborn Health\n",
    "## Challenge\n",
    "Certain factors contribute to the health of a newborn baby. One such health measure is birth weight.\n",
    "Countless studies have identified factors, both preventative and hereditary, that lead to low birth weight.\n",
    "Your team has been hired as public health consultants to analyze and model an infant’s birth weight based on such characteristics.\n",
    "\n",
    "## Deliverables\n",
    "\n",
    "### No 1\n",
    "Analysis Write Up\n",
    "- Summarize the problem\n",
    "- Present key insights that are actionable\n",
    "- Offer implementation recommendations\n",
    "- Maximum of 5 pages double-spaced (A.P.A format)\n",
    "\n",
    "### No 2\n",
    "Data Analysis and Analysis Code\n",
    "- Tell the story of your analysis through:\n",
    " - exploratory data analysis\n",
    " - feature treatment and engineering\n",
    " - utilizing appropriate modeling techniques\n",
    "- Code should:\n",
    " - be well commented\n",
    " - follow PEP 8 guidelines (see myCourses for more details)\n",
    " - run without errors\n",
    " - be submitted as a .py script\n",
    " \n",
    "### No 3\n",
    "Final Model and Model Code\n",
    "- Model will be assessed on:\n",
    " - R-Square value on unseen data (randomly seeded)\n",
    " - appropriateness for the problem at hand\n",
    "- Code should:\n",
    " - be well commented\n",
    " - follow PEP 8 guidelines (see myCourses for more details)\n",
    " - run without errors\n",
    " - be submitted as a .py script\n",
    " \n",
    "## Data\n",
    "Data File: birthweight.xlsx\n",
    "Data Dictionary: birthweight_data_dictionary.rtf\n",
    "\n",
    "### Data Dictionarty\n",
    "\n",
    "| variable | label   | description |\n",
    "|---|---|---|\n",
    "| 1        | mage    | mother's age                    |\n",
    "| 2        | meduc   | mother's educ                   |\n",
    "| 3        | monpre  | month prenatal care began       |\n",
    "| 4        | npvis   | total number of prenatal visits |\n",
    "| 5        | fage    | father's age, years             |\n",
    "| 6        | feduc   | father's educ, years            |\n",
    "| 7        | omaps   | one minute apgar score          |\n",
    "| 8        | fmaps   | five minute apgar score         |\n",
    "| 9       | cigs    | avg cigarettes per day          |\n",
    "| 10       | drink   | avg drinks per week             |\n",
    "| 11       | male    | 1 if baby male                  |\n",
    "| 12       | mwhte   | 1 if mother white               |\n",
    "| 13       | mblck   | 1 if mother black               |\n",
    "| 14       | moth    | 1 if mother is other            |\n",
    "| 15       | fwhte   | 1 if father white               |\n",
    "| 16       | fblck   | 1 if father black               |\n",
    "| 17       | foth    | 1 if father is other            |\n",
    "| 18       | bwght   | birthweight, grams              |"
   ]
  },
  {
   "cell_type": "markdown",
   "metadata": {},
   "source": [
    "## Data exploration"
   ]
  },
  {
   "cell_type": "code",
   "execution_count": 347,
   "metadata": {},
   "outputs": [],
   "source": [
    "import pandas as pd\n",
    "import seaborn as sns\n",
    "import matplotlib.pyplot as plt\n",
    "import numpy as np\n",
    "%matplotlib inline"
   ]
  },
  {
   "cell_type": "markdown",
   "metadata": {},
   "source": [
    "### Import and basic stats"
   ]
  },
  {
   "cell_type": "code",
   "execution_count": 348,
   "metadata": {},
   "outputs": [],
   "source": [
    "file = \"birthweight_feature_set.xlsx\"\n",
    "birthweight = pd.read_excel(file)"
   ]
  },
  {
   "cell_type": "code",
   "execution_count": 349,
   "metadata": {},
   "outputs": [
    {
     "data": {
      "text/html": [
       "<div>\n",
       "<style scoped>\n",
       "    .dataframe tbody tr th:only-of-type {\n",
       "        vertical-align: middle;\n",
       "    }\n",
       "\n",
       "    .dataframe tbody tr th {\n",
       "        vertical-align: top;\n",
       "    }\n",
       "\n",
       "    .dataframe thead th {\n",
       "        text-align: right;\n",
       "    }\n",
       "</style>\n",
       "<table border=\"1\" class=\"dataframe\">\n",
       "  <thead>\n",
       "    <tr style=\"text-align: right;\">\n",
       "      <th></th>\n",
       "      <th>mage</th>\n",
       "      <th>meduc</th>\n",
       "      <th>monpre</th>\n",
       "      <th>npvis</th>\n",
       "      <th>fage</th>\n",
       "      <th>feduc</th>\n",
       "      <th>omaps</th>\n",
       "      <th>fmaps</th>\n",
       "      <th>cigs</th>\n",
       "      <th>drink</th>\n",
       "      <th>male</th>\n",
       "      <th>mwhte</th>\n",
       "      <th>mblck</th>\n",
       "      <th>moth</th>\n",
       "      <th>fwhte</th>\n",
       "      <th>fblck</th>\n",
       "      <th>foth</th>\n",
       "      <th>bwght</th>\n",
       "    </tr>\n",
       "  </thead>\n",
       "  <tbody>\n",
       "    <tr>\n",
       "      <th>0</th>\n",
       "      <td>69</td>\n",
       "      <td>NaN</td>\n",
       "      <td>5</td>\n",
       "      <td>2.0</td>\n",
       "      <td>62</td>\n",
       "      <td>NaN</td>\n",
       "      <td>4</td>\n",
       "      <td>7</td>\n",
       "      <td>23</td>\n",
       "      <td>9</td>\n",
       "      <td>1</td>\n",
       "      <td>0</td>\n",
       "      <td>1</td>\n",
       "      <td>0</td>\n",
       "      <td>0</td>\n",
       "      <td>1</td>\n",
       "      <td>0</td>\n",
       "      <td>697</td>\n",
       "    </tr>\n",
       "    <tr>\n",
       "      <th>1</th>\n",
       "      <td>68</td>\n",
       "      <td>12.0</td>\n",
       "      <td>3</td>\n",
       "      <td>10.0</td>\n",
       "      <td>61</td>\n",
       "      <td>11.0</td>\n",
       "      <td>4</td>\n",
       "      <td>6</td>\n",
       "      <td>25</td>\n",
       "      <td>11</td>\n",
       "      <td>1</td>\n",
       "      <td>1</td>\n",
       "      <td>0</td>\n",
       "      <td>0</td>\n",
       "      <td>1</td>\n",
       "      <td>0</td>\n",
       "      <td>0</td>\n",
       "      <td>1290</td>\n",
       "    </tr>\n",
       "    <tr>\n",
       "      <th>2</th>\n",
       "      <td>71</td>\n",
       "      <td>12.0</td>\n",
       "      <td>3</td>\n",
       "      <td>6.0</td>\n",
       "      <td>46</td>\n",
       "      <td>12.0</td>\n",
       "      <td>2</td>\n",
       "      <td>7</td>\n",
       "      <td>21</td>\n",
       "      <td>12</td>\n",
       "      <td>1</td>\n",
       "      <td>0</td>\n",
       "      <td>1</td>\n",
       "      <td>0</td>\n",
       "      <td>0</td>\n",
       "      <td>1</td>\n",
       "      <td>0</td>\n",
       "      <td>1490</td>\n",
       "    </tr>\n",
       "    <tr>\n",
       "      <th>3</th>\n",
       "      <td>59</td>\n",
       "      <td>16.0</td>\n",
       "      <td>1</td>\n",
       "      <td>8.0</td>\n",
       "      <td>48</td>\n",
       "      <td>16.0</td>\n",
       "      <td>7</td>\n",
       "      <td>8</td>\n",
       "      <td>21</td>\n",
       "      <td>10</td>\n",
       "      <td>0</td>\n",
       "      <td>0</td>\n",
       "      <td>0</td>\n",
       "      <td>1</td>\n",
       "      <td>0</td>\n",
       "      <td>0</td>\n",
       "      <td>1</td>\n",
       "      <td>1720</td>\n",
       "    </tr>\n",
       "    <tr>\n",
       "      <th>4</th>\n",
       "      <td>48</td>\n",
       "      <td>12.0</td>\n",
       "      <td>4</td>\n",
       "      <td>6.0</td>\n",
       "      <td>39</td>\n",
       "      <td>12.0</td>\n",
       "      <td>2</td>\n",
       "      <td>9</td>\n",
       "      <td>17</td>\n",
       "      <td>13</td>\n",
       "      <td>0</td>\n",
       "      <td>1</td>\n",
       "      <td>0</td>\n",
       "      <td>0</td>\n",
       "      <td>1</td>\n",
       "      <td>0</td>\n",
       "      <td>0</td>\n",
       "      <td>1956</td>\n",
       "    </tr>\n",
       "  </tbody>\n",
       "</table>\n",
       "</div>"
      ],
      "text/plain": [
       "   mage  meduc  monpre  npvis  fage  feduc  omaps  fmaps  cigs  drink  male  \\\n",
       "0    69    NaN       5    2.0    62    NaN      4      7    23      9     1   \n",
       "1    68   12.0       3   10.0    61   11.0      4      6    25     11     1   \n",
       "2    71   12.0       3    6.0    46   12.0      2      7    21     12     1   \n",
       "3    59   16.0       1    8.0    48   16.0      7      8    21     10     0   \n",
       "4    48   12.0       4    6.0    39   12.0      2      9    17     13     0   \n",
       "\n",
       "   mwhte  mblck  moth  fwhte  fblck  foth  bwght  \n",
       "0      0      1     0      0      1     0    697  \n",
       "1      1      0     0      1      0     0   1290  \n",
       "2      0      1     0      0      1     0   1490  \n",
       "3      0      0     1      0      0     1   1720  \n",
       "4      1      0     0      1      0     0   1956  "
      ]
     },
     "execution_count": 349,
     "metadata": {},
     "output_type": "execute_result"
    }
   ],
   "source": [
    "birthweight.head()"
   ]
  },
  {
   "cell_type": "code",
   "execution_count": 350,
   "metadata": {},
   "outputs": [
    {
     "name": "stdout",
     "output_type": "stream",
     "text": [
      "<class 'pandas.core.frame.DataFrame'>\n",
      "RangeIndex: 196 entries, 0 to 195\n",
      "Data columns (total 18 columns):\n",
      "mage      196 non-null int64\n",
      "meduc     193 non-null float64\n",
      "monpre    196 non-null int64\n",
      "npvis     193 non-null float64\n",
      "fage      196 non-null int64\n",
      "feduc     189 non-null float64\n",
      "omaps     196 non-null int64\n",
      "fmaps     196 non-null int64\n",
      "cigs      196 non-null int64\n",
      "drink     196 non-null int64\n",
      "male      196 non-null int64\n",
      "mwhte     196 non-null int64\n",
      "mblck     196 non-null int64\n",
      "moth      196 non-null int64\n",
      "fwhte     196 non-null int64\n",
      "fblck     196 non-null int64\n",
      "foth      196 non-null int64\n",
      "bwght     196 non-null int64\n",
      "dtypes: float64(3), int64(15)\n",
      "memory usage: 27.6 KB\n"
     ]
    }
   ],
   "source": [
    "birthweight.info()"
   ]
  },
  {
   "cell_type": "code",
   "execution_count": 351,
   "metadata": {},
   "outputs": [
    {
     "data": {
      "text/html": [
       "<div>\n",
       "<style scoped>\n",
       "    .dataframe tbody tr th:only-of-type {\n",
       "        vertical-align: middle;\n",
       "    }\n",
       "\n",
       "    .dataframe tbody tr th {\n",
       "        vertical-align: top;\n",
       "    }\n",
       "\n",
       "    .dataframe thead th {\n",
       "        text-align: right;\n",
       "    }\n",
       "</style>\n",
       "<table border=\"1\" class=\"dataframe\">\n",
       "  <thead>\n",
       "    <tr style=\"text-align: right;\">\n",
       "      <th></th>\n",
       "      <th>mage</th>\n",
       "      <th>meduc</th>\n",
       "      <th>monpre</th>\n",
       "      <th>npvis</th>\n",
       "      <th>fage</th>\n",
       "      <th>feduc</th>\n",
       "      <th>omaps</th>\n",
       "      <th>fmaps</th>\n",
       "      <th>cigs</th>\n",
       "      <th>drink</th>\n",
       "      <th>male</th>\n",
       "      <th>mwhte</th>\n",
       "      <th>mblck</th>\n",
       "      <th>moth</th>\n",
       "      <th>fwhte</th>\n",
       "      <th>fblck</th>\n",
       "      <th>foth</th>\n",
       "      <th>bwght</th>\n",
       "    </tr>\n",
       "  </thead>\n",
       "  <tbody>\n",
       "    <tr>\n",
       "      <th>count</th>\n",
       "      <td>196.00</td>\n",
       "      <td>193.00</td>\n",
       "      <td>196.00</td>\n",
       "      <td>193.00</td>\n",
       "      <td>196.00</td>\n",
       "      <td>189.00</td>\n",
       "      <td>196.00</td>\n",
       "      <td>196.00</td>\n",
       "      <td>196.00</td>\n",
       "      <td>196.00</td>\n",
       "      <td>196.00</td>\n",
       "      <td>196.00</td>\n",
       "      <td>196.00</td>\n",
       "      <td>196.00</td>\n",
       "      <td>196.00</td>\n",
       "      <td>196.00</td>\n",
       "      <td>196.00</td>\n",
       "      <td>196.00</td>\n",
       "    </tr>\n",
       "    <tr>\n",
       "      <th>mean</th>\n",
       "      <td>40.15</td>\n",
       "      <td>13.91</td>\n",
       "      <td>2.34</td>\n",
       "      <td>11.60</td>\n",
       "      <td>39.29</td>\n",
       "      <td>13.85</td>\n",
       "      <td>8.19</td>\n",
       "      <td>8.96</td>\n",
       "      <td>10.93</td>\n",
       "      <td>5.40</td>\n",
       "      <td>0.55</td>\n",
       "      <td>0.27</td>\n",
       "      <td>0.38</td>\n",
       "      <td>0.35</td>\n",
       "      <td>0.35</td>\n",
       "      <td>0.34</td>\n",
       "      <td>0.31</td>\n",
       "      <td>3334.09</td>\n",
       "    </tr>\n",
       "    <tr>\n",
       "      <th>std</th>\n",
       "      <td>10.25</td>\n",
       "      <td>2.06</td>\n",
       "      <td>1.36</td>\n",
       "      <td>4.27</td>\n",
       "      <td>8.98</td>\n",
       "      <td>2.63</td>\n",
       "      <td>1.58</td>\n",
       "      <td>0.65</td>\n",
       "      <td>6.10</td>\n",
       "      <td>3.00</td>\n",
       "      <td>0.50</td>\n",
       "      <td>0.45</td>\n",
       "      <td>0.49</td>\n",
       "      <td>0.48</td>\n",
       "      <td>0.48</td>\n",
       "      <td>0.48</td>\n",
       "      <td>0.46</td>\n",
       "      <td>646.70</td>\n",
       "    </tr>\n",
       "    <tr>\n",
       "      <th>min</th>\n",
       "      <td>23.00</td>\n",
       "      <td>8.00</td>\n",
       "      <td>1.00</td>\n",
       "      <td>2.00</td>\n",
       "      <td>23.00</td>\n",
       "      <td>1.00</td>\n",
       "      <td>2.00</td>\n",
       "      <td>5.00</td>\n",
       "      <td>0.00</td>\n",
       "      <td>0.00</td>\n",
       "      <td>0.00</td>\n",
       "      <td>0.00</td>\n",
       "      <td>0.00</td>\n",
       "      <td>0.00</td>\n",
       "      <td>0.00</td>\n",
       "      <td>0.00</td>\n",
       "      <td>0.00</td>\n",
       "      <td>697.00</td>\n",
       "    </tr>\n",
       "    <tr>\n",
       "      <th>25%</th>\n",
       "      <td>33.00</td>\n",
       "      <td>12.00</td>\n",
       "      <td>2.00</td>\n",
       "      <td>10.00</td>\n",
       "      <td>34.75</td>\n",
       "      <td>12.00</td>\n",
       "      <td>8.00</td>\n",
       "      <td>9.00</td>\n",
       "      <td>6.00</td>\n",
       "      <td>4.00</td>\n",
       "      <td>0.00</td>\n",
       "      <td>0.00</td>\n",
       "      <td>0.00</td>\n",
       "      <td>0.00</td>\n",
       "      <td>0.00</td>\n",
       "      <td>0.00</td>\n",
       "      <td>0.00</td>\n",
       "      <td>2916.25</td>\n",
       "    </tr>\n",
       "    <tr>\n",
       "      <th>50%</th>\n",
       "      <td>39.00</td>\n",
       "      <td>14.00</td>\n",
       "      <td>2.00</td>\n",
       "      <td>12.00</td>\n",
       "      <td>38.00</td>\n",
       "      <td>14.00</td>\n",
       "      <td>9.00</td>\n",
       "      <td>9.00</td>\n",
       "      <td>11.00</td>\n",
       "      <td>5.00</td>\n",
       "      <td>1.00</td>\n",
       "      <td>0.00</td>\n",
       "      <td>0.00</td>\n",
       "      <td>0.00</td>\n",
       "      <td>0.00</td>\n",
       "      <td>0.00</td>\n",
       "      <td>0.00</td>\n",
       "      <td>3452.00</td>\n",
       "    </tr>\n",
       "    <tr>\n",
       "      <th>75%</th>\n",
       "      <td>46.00</td>\n",
       "      <td>16.00</td>\n",
       "      <td>3.00</td>\n",
       "      <td>12.00</td>\n",
       "      <td>43.00</td>\n",
       "      <td>16.00</td>\n",
       "      <td>9.00</td>\n",
       "      <td>9.00</td>\n",
       "      <td>15.25</td>\n",
       "      <td>7.25</td>\n",
       "      <td>1.00</td>\n",
       "      <td>1.00</td>\n",
       "      <td>1.00</td>\n",
       "      <td>1.00</td>\n",
       "      <td>1.00</td>\n",
       "      <td>1.00</td>\n",
       "      <td>1.00</td>\n",
       "      <td>3759.50</td>\n",
       "    </tr>\n",
       "    <tr>\n",
       "      <th>max</th>\n",
       "      <td>71.00</td>\n",
       "      <td>17.00</td>\n",
       "      <td>8.00</td>\n",
       "      <td>35.00</td>\n",
       "      <td>73.00</td>\n",
       "      <td>17.00</td>\n",
       "      <td>10.00</td>\n",
       "      <td>10.00</td>\n",
       "      <td>25.00</td>\n",
       "      <td>14.00</td>\n",
       "      <td>1.00</td>\n",
       "      <td>1.00</td>\n",
       "      <td>1.00</td>\n",
       "      <td>1.00</td>\n",
       "      <td>1.00</td>\n",
       "      <td>1.00</td>\n",
       "      <td>1.00</td>\n",
       "      <td>4933.00</td>\n",
       "    </tr>\n",
       "  </tbody>\n",
       "</table>\n",
       "</div>"
      ],
      "text/plain": [
       "         mage   meduc  monpre   npvis    fage   feduc   omaps   fmaps    cigs  \\\n",
       "count  196.00  193.00  196.00  193.00  196.00  189.00  196.00  196.00  196.00   \n",
       "mean    40.15   13.91    2.34   11.60   39.29   13.85    8.19    8.96   10.93   \n",
       "std     10.25    2.06    1.36    4.27    8.98    2.63    1.58    0.65    6.10   \n",
       "min     23.00    8.00    1.00    2.00   23.00    1.00    2.00    5.00    0.00   \n",
       "25%     33.00   12.00    2.00   10.00   34.75   12.00    8.00    9.00    6.00   \n",
       "50%     39.00   14.00    2.00   12.00   38.00   14.00    9.00    9.00   11.00   \n",
       "75%     46.00   16.00    3.00   12.00   43.00   16.00    9.00    9.00   15.25   \n",
       "max     71.00   17.00    8.00   35.00   73.00   17.00   10.00   10.00   25.00   \n",
       "\n",
       "        drink    male   mwhte   mblck    moth   fwhte   fblck    foth    bwght  \n",
       "count  196.00  196.00  196.00  196.00  196.00  196.00  196.00  196.00   196.00  \n",
       "mean     5.40    0.55    0.27    0.38    0.35    0.35    0.34    0.31  3334.09  \n",
       "std      3.00    0.50    0.45    0.49    0.48    0.48    0.48    0.46   646.70  \n",
       "min      0.00    0.00    0.00    0.00    0.00    0.00    0.00    0.00   697.00  \n",
       "25%      4.00    0.00    0.00    0.00    0.00    0.00    0.00    0.00  2916.25  \n",
       "50%      5.00    1.00    0.00    0.00    0.00    0.00    0.00    0.00  3452.00  \n",
       "75%      7.25    1.00    1.00    1.00    1.00    1.00    1.00    1.00  3759.50  \n",
       "max     14.00    1.00    1.00    1.00    1.00    1.00    1.00    1.00  4933.00  "
      ]
     },
     "execution_count": 351,
     "metadata": {},
     "output_type": "execute_result"
    }
   ],
   "source": [
    "birthweight.describe().round(2)"
   ]
  },
  {
   "cell_type": "markdown",
   "metadata": {},
   "source": [
    "## Data cleaning"
   ]
  },
  {
   "cell_type": "markdown",
   "metadata": {},
   "source": [
    "### Explore and deal with NaNs"
   ]
  },
  {
   "cell_type": "code",
   "execution_count": 352,
   "metadata": {},
   "outputs": [],
   "source": [
    "for col in birthweight:\n",
    "\n",
    "    \"\"\" Create columns that are 0s if a value was not missing and 1 if\n",
    "    a value is missing. \"\"\"\n",
    "    \n",
    "    if birthweight[col].isnull().any():\n",
    "        birthweight['m_'+col] = birthweight[col].isnull().astype(int)\n",
    "\n",
    "birthweight_dropped = birthweight.dropna()"
   ]
  },
  {
   "cell_type": "markdown",
   "metadata": {},
   "source": [
    "#### Meduc\n",
    "Mother's education - assumed to be in years spend in education.\n",
    "\n",
    "Categorical?\n",
    "\n",
    "30 NaNs in this column"
   ]
  },
  {
   "cell_type": "code",
   "execution_count": 331,
   "metadata": {},
   "outputs": [
    {
     "data": {
      "text/plain": [
       "<matplotlib.axes._subplots.AxesSubplot at 0x1a18625ba8>"
      ]
     },
     "execution_count": 331,
     "metadata": {},
     "output_type": "execute_result"
    },
    {
     "data": {
      "image/png": "[encoded data removed]",
      "text/plain": [
       "<Figure size 720x720 with 1 Axes>"
      ]
     },
     "metadata": {
      "needs_background": "light"
     },
     "output_type": "display_data"
    }
   ],
   "source": [
    "sns.distplot(birthweight_dropped['meduc'])"
   ]
  },
  {
   "cell_type": "markdown",
   "metadata": {},
   "source": [
    "Looks like camel humps...\n",
    "\n",
    "Less distince mode - replacing with mean would reduce the significance of the two distinct humps but due to the small number of NaNs in column is probably the best option.\n",
    "\n",
    "Probably best replace with rounded mean (14 years)"
   ]
  },
  {
   "cell_type": "code",
   "execution_count": 353,
   "metadata": {},
   "outputs": [],
   "source": [
    "birthweight['meduc'] = birthweight['meduc'].fillna(birthweight_dropped['meduc'].mean().round(0))"
   ]
  },
  {
   "cell_type": "markdown",
   "metadata": {},
   "source": [
    "#### monpre\n",
    "month prenatal care began\n",
    "\n",
    "Can be 0 to 9 - categorical again\n",
    "\n",
    "5 NaNs in column"
   ]
  },
  {
   "cell_type": "code",
   "execution_count": 333,
   "metadata": {},
   "outputs": [
    {
     "data": {
      "text/plain": [
       "<matplotlib.axes._subplots.AxesSubplot at 0x1a1895a208>"
      ]
     },
     "execution_count": 333,
     "metadata": {},
     "output_type": "execute_result"
    },
    {
     "data": {
      "image/png": "[encoded data removed]",
      "text/plain": [
       "<Figure size 720x720 with 1 Axes>"
      ]
     },
     "metadata": {
      "needs_background": "light"
     },
     "output_type": "display_data"
    }
   ],
   "source": [
    "sns.distplot(birthweight_dropped['monpre'])"
   ]
  },
  {
   "cell_type": "markdown",
   "metadata": {},
   "source": [
    "Replace with rounded mean (2)"
   ]
  },
  {
   "cell_type": "code",
   "execution_count": 334,
   "metadata": {},
   "outputs": [],
   "source": [
    "birthweight['monpre'] = birthweight['monpre'].fillna(birthweight_dropped['monpre'].mean().round(0))"
   ]
  },
  {
   "cell_type": "markdown",
   "metadata": {},
   "source": [
    "#### npvis\n",
    "total number of prenatal visits\n",
    "\n",
    "Should be Integer number even though currently float in DF\n",
    "\n",
    "43 NaNs in column"
   ]
  },
  {
   "cell_type": "code",
   "execution_count": 335,
   "metadata": {},
   "outputs": [
    {
     "data": {
      "text/plain": [
       "<matplotlib.axes._subplots.AxesSubplot at 0x1a18320dd8>"
      ]
     },
     "execution_count": 335,
     "metadata": {},
     "output_type": "execute_result"
    },
    {
     "data": {
      "image/png": "[encoded data removed]",
      "text/plain": [
       "<Figure size 720x720 with 1 Axes>"
      ]
     },
     "metadata": {
      "needs_background": "light"
     },
     "output_type": "display_data"
    }
   ],
   "source": [
    "sns.distplot(birthweight_dropped['npvis'])"
   ]
  },
  {
   "cell_type": "markdown",
   "metadata": {},
   "source": [
    "Looks like normal distribution around 12\n",
    "\n",
    "Replace NaNs with rounded mean or mode - which both gives 12"
   ]
  },
  {
   "cell_type": "code",
   "execution_count": 354,
   "metadata": {},
   "outputs": [],
   "source": [
    "birthweight['npvis'] = birthweight['npvis'].fillna(birthweight_dropped['npvis'].mean().round(0))"
   ]
  },
  {
   "cell_type": "markdown",
   "metadata": {},
   "source": [
    "#### fage\n",
    "father's age, years\n",
    "\n",
    "Should be Integer\n",
    "\n",
    "6 NaNs in column"
   ]
  },
  {
   "cell_type": "code",
   "execution_count": 337,
   "metadata": {},
   "outputs": [
    {
     "data": {
      "text/plain": [
       "<matplotlib.axes._subplots.AxesSubplot at 0x1a17092160>"
      ]
     },
     "execution_count": 337,
     "metadata": {},
     "output_type": "execute_result"
    },
    {
     "data": {
      "image/png": "[encoded data removed]",
      "text/plain": [
       "<Figure size 720x720 with 1 Axes>"
      ]
     },
     "metadata": {
      "needs_background": "light"
     },
     "output_type": "display_data"
    }
   ],
   "source": [
    "sns.distplot(birthweight_dropped['fage'])"
   ]
  },
  {
   "cell_type": "markdown",
   "metadata": {},
   "source": [
    "Looks normally distributed with some anomalies\n",
    "\n",
    "Best replace with rounded mean"
   ]
  },
  {
   "cell_type": "code",
   "execution_count": 338,
   "metadata": {},
   "outputs": [],
   "source": [
    "birthweight['fage'] = birthweight['fage'].fillna(birthweight_dropped['fage'].mean().round(0))"
   ]
  },
  {
   "cell_type": "markdown",
   "metadata": {},
   "source": [
    "#### feduc\n",
    "father's educ, years\n",
    "\n",
    "Should be Integer\n",
    "\n",
    "47 NaNs in column"
   ]
  },
  {
   "cell_type": "code",
   "execution_count": 339,
   "metadata": {},
   "outputs": [
    {
     "data": {
      "text/plain": [
       "<matplotlib.axes._subplots.AxesSubplot at 0x1a1e124e48>"
      ]
     },
     "execution_count": 339,
     "metadata": {},
     "output_type": "execute_result"
    },
    {
     "data": {
      "image/png": "[encoded data removed]",
      "text/plain": [
       "<Figure size 720x720 with 1 Axes>"
      ]
     },
     "metadata": {
      "needs_background": "light"
     },
     "output_type": "display_data"
    }
   ],
   "source": [
    "sns.distplot(birthweight_dropped['feduc'])"
   ]
  },
  {
   "cell_type": "markdown",
   "metadata": {},
   "source": [
    "Similar distribution to Meduc\n",
    "\n",
    "Less distince mode - replacing with mean would reduce the significance of the two distinct humps but due to the small number of NaNs in column is probably the best option."
   ]
  },
  {
   "cell_type": "code",
   "execution_count": 355,
   "metadata": {},
   "outputs": [],
   "source": [
    "birthweight['feduc'] = birthweight['feduc'].fillna(birthweight_dropped['feduc'].mean().round(0))"
   ]
  },
  {
   "cell_type": "markdown",
   "metadata": {},
   "source": [
    "#### omaps\n",
    "one minute apgar score\n",
    "\n",
    "Apgar is a quick test performed on a baby at 1 and 5 minutes after birth. The 1-minute score determines how well the baby tolerated the birthing process.\n",
    "\n",
    "How the Test is Performed\n",
    "The Apgar test is done by a doctor, midwife, or nurse. The provider examines the baby's:\n",
    "\n",
    "Breathing effort\n",
    "Heart rate\n",
    "Muscle tone\n",
    "Reflexes\n",
    "Skin color\n",
    "Each category is scored with 0, 1, or 2, depending on the observed condition.\n",
    "\n",
    "Breathing effort:\n",
    "\n",
    "If the infant is not breathing, the respiratory score is 0.\n",
    "If the respirations are slow or irregular, the infant scores 1 for respiratory effort.\n",
    "If the infant cries well, the respiratory score is 2.\n",
    "Heart rate is evaluated by stethoscope. This is the most important assessment:\n",
    "\n",
    "If there is no heartbeat, the infant scores 0 for heart rate.\n",
    "If heart rate is less than 100 beats per minute, the infant scores 1 for heart rate.\n",
    "If heart rate is greater than 100 beats per minute, the infant scores 2 for heart rate.\n",
    "Muscle tone:\n",
    "\n",
    "If muscles are loose and floppy, the infant scores 0 for muscle tone.\n",
    "If there is some muscle tone, the infant scores 1.\n",
    "If there is active motion, the infant scores 2 for muscle tone.\n",
    "Grimace response or reflex irritability is a term describing response to stimulation, such as a mild pinch:\n",
    "\n",
    "If there is no reaction, the infant scores 0 for reflex irritability.\n",
    "If there is grimacing, the infant scores 1 for reflex irritability.\n",
    "If there is grimacing and a cough, sneeze, or vigorous cry, the infant scores 2 for reflex irritability.\n",
    "Skin color:\n",
    "\n",
    "If the skin color is pale blue, the infant scores 0 for color.\n",
    "If the body is pink and the extremities are blue, the infant scores 1 for color.\n",
    "If the entire body is pink, the infant scores 2 for color.\n",
    "\n",
    "Integer between 0 and 10\n",
    "\n",
    "2 NaNs in column"
   ]
  },
  {
   "cell_type": "code",
   "execution_count": 341,
   "metadata": {},
   "outputs": [
    {
     "data": {
      "text/plain": [
       "<matplotlib.axes._subplots.AxesSubplot at 0x1a1e272198>"
      ]
     },
     "execution_count": 341,
     "metadata": {},
     "output_type": "execute_result"
    },
    {
     "data": {
      "image/png": "[encoded data removed]",
      "text/plain": [
       "<Figure size 720x720 with 1 Axes>"
      ]
     },
     "metadata": {
      "needs_background": "light"
     },
     "output_type": "display_data"
    }
   ],
   "source": [
    "sns.distplot(birthweight_dropped['omaps'])"
   ]
  },
  {
   "cell_type": "markdown",
   "metadata": {},
   "source": [
    "Only 2 NaNs - replace with mode 9 won't have a significant influence."
   ]
  },
  {
   "cell_type": "code",
   "execution_count": 342,
   "metadata": {},
   "outputs": [],
   "source": [
    "birthweight['omaps'] = birthweight['omaps'].fillna(9)"
   ]
  },
  {
   "cell_type": "markdown",
   "metadata": {},
   "source": [
    "#### fmaps\n",
    "five minute apgar score \n",
    "\n",
    "Apgar is a quick test performed on a baby at 1 and 5 minutes after birth. The 5-minute score tells the health care provider how well the baby is doing outside the mother's womb.\n",
    "\n",
    "Integer between 0 and 10\n",
    "\n",
    "2 NaNs in column"
   ]
  },
  {
   "cell_type": "code",
   "execution_count": 343,
   "metadata": {
    "scrolled": true
   },
   "outputs": [
    {
     "data": {
      "text/plain": [
       "<matplotlib.axes._subplots.AxesSubplot at 0x1a1dd844a8>"
      ]
     },
     "execution_count": 343,
     "metadata": {},
     "output_type": "execute_result"
    },
    {
     "data": {
      "image/png": "[encoded data removed]",
      "text/plain": [
       "<Figure size 720x720 with 1 Axes>"
      ]
     },
     "metadata": {
      "needs_background": "light"
     },
     "output_type": "display_data"
    }
   ],
   "source": [
    "sns.distplot(birthweight_dropped['fmaps'])"
   ]
  },
  {
   "cell_type": "markdown",
   "metadata": {},
   "source": [
    "Only 2 NaNs - replace with rounded mean"
   ]
  },
  {
   "cell_type": "code",
   "execution_count": 344,
   "metadata": {},
   "outputs": [],
   "source": [
    "birthweight['fmaps'] = birthweight['fmaps'].fillna(9)"
   ]
  },
  {
   "cell_type": "markdown",
   "metadata": {},
   "source": [
    "#### cigs\n",
    "avg cigarettes per day\n",
    "\n",
    "110 NaNs in column"
   ]
  },
  {
   "cell_type": "code",
   "execution_count": 345,
   "metadata": {},
   "outputs": [
    {
     "data": {
      "text/plain": [
       "<matplotlib.axes._subplots.AxesSubplot at 0x1a1db61c88>"
      ]
     },
     "execution_count": 345,
     "metadata": {},
     "output_type": "execute_result"
    },
    {
     "data": {
      "image/png": "[encoded data removed]",
      "text/plain": [
       "<Figure size 720x720 with 1 Axes>"
      ]
     },
     "metadata": {
      "needs_background": "light"
     },
     "output_type": "display_data"
    }
   ],
   "source": [
    "sns.distplot(birthweight_dropped['cigs'])"
   ]
  },
  {
   "cell_type": "markdown",
   "metadata": {},
   "source": [
    "90% don't smoke. It might be assumed that the NaNs are people that smoke but due to the stigma didn't want to respond. But NaNs can't be replaced with the mean (~1) as this value doesn't naturally occur. Best option to replace with mode (0) even though this is not ideal."
   ]
  },
  {
   "cell_type": "code",
   "execution_count": 346,
   "metadata": {},
   "outputs": [],
   "source": [
    "birthweight['cigs'] = birthweight['cigs'].fillna(10)"
   ]
  },
  {
   "cell_type": "markdown",
   "metadata": {},
   "source": [
    "#### drink\n",
    "avg drinks per week\n",
    "\n",
    "115 NaNs in column"
   ]
  },
  {
   "cell_type": "code",
   "execution_count": 243,
   "metadata": {},
   "outputs": [
    {
     "data": {
      "text/plain": [
       "<matplotlib.axes._subplots.AxesSubplot at 0x1a16feceb8>"
      ]
     },
     "execution_count": 243,
     "metadata": {},
     "output_type": "execute_result"
    },
    {
     "data": {
      "image/png": "[encoded data removed]",
      "text/plain": [
       "<Figure size 432x288 with 1 Axes>"
      ]
     },
     "metadata": {
      "needs_background": "light"
     },
     "output_type": "display_data"
    }
   ],
   "source": [
    "sns.distplot(birthweight_dropped['drink'])"
   ]
  },
  {
   "cell_type": "markdown",
   "metadata": {},
   "source": [
    "Most don't drink. It might be assumed that the NaNs are people that drink but due to the stigma didn't want to respond. Best option to replace with mode (0) even though this is not ideal."
   ]
  },
  {
   "cell_type": "code",
   "execution_count": 244,
   "metadata": {},
   "outputs": [],
   "source": [
    "birthweight['drink'] = birthweight['drink'].fillna(1)"
   ]
  },
  {
   "cell_type": "markdown",
   "metadata": {},
   "source": [
    "### Outlier analysis"
   ]
  },
  {
   "cell_type": "code",
   "execution_count": 356,
   "metadata": {},
   "outputs": [
    {
     "data": {
      "text/html": [
       "<div>\n",
       "<style scoped>\n",
       "    .dataframe tbody tr th:only-of-type {\n",
       "        vertical-align: middle;\n",
       "    }\n",
       "\n",
       "    .dataframe tbody tr th {\n",
       "        vertical-align: top;\n",
       "    }\n",
       "\n",
       "    .dataframe thead th {\n",
       "        text-align: right;\n",
       "    }\n",
       "</style>\n",
       "<table border=\"1\" class=\"dataframe\">\n",
       "  <thead>\n",
       "    <tr style=\"text-align: right;\">\n",
       "      <th></th>\n",
       "      <th>mage</th>\n",
       "      <th>meduc</th>\n",
       "      <th>monpre</th>\n",
       "      <th>npvis</th>\n",
       "      <th>fage</th>\n",
       "      <th>feduc</th>\n",
       "      <th>omaps</th>\n",
       "      <th>fmaps</th>\n",
       "      <th>cigs</th>\n",
       "      <th>drink</th>\n",
       "      <th>...</th>\n",
       "      <th>mwhte</th>\n",
       "      <th>mblck</th>\n",
       "      <th>moth</th>\n",
       "      <th>fwhte</th>\n",
       "      <th>fblck</th>\n",
       "      <th>foth</th>\n",
       "      <th>bwght</th>\n",
       "      <th>m_meduc</th>\n",
       "      <th>m_npvis</th>\n",
       "      <th>m_feduc</th>\n",
       "    </tr>\n",
       "  </thead>\n",
       "  <tbody>\n",
       "    <tr>\n",
       "      <th>0.2</th>\n",
       "      <td>32.0</td>\n",
       "      <td>12.0</td>\n",
       "      <td>1.0</td>\n",
       "      <td>9.0</td>\n",
       "      <td>33.0</td>\n",
       "      <td>12.0</td>\n",
       "      <td>8.0</td>\n",
       "      <td>9.0</td>\n",
       "      <td>5.0</td>\n",
       "      <td>3.0</td>\n",
       "      <td>...</td>\n",
       "      <td>0.0</td>\n",
       "      <td>0.0</td>\n",
       "      <td>0.0</td>\n",
       "      <td>0.0</td>\n",
       "      <td>0.0</td>\n",
       "      <td>0.0</td>\n",
       "      <td>2799.0</td>\n",
       "      <td>0.0</td>\n",
       "      <td>0.0</td>\n",
       "      <td>0.0</td>\n",
       "    </tr>\n",
       "    <tr>\n",
       "      <th>0.4</th>\n",
       "      <td>37.0</td>\n",
       "      <td>13.0</td>\n",
       "      <td>2.0</td>\n",
       "      <td>11.0</td>\n",
       "      <td>36.0</td>\n",
       "      <td>12.0</td>\n",
       "      <td>8.0</td>\n",
       "      <td>9.0</td>\n",
       "      <td>9.0</td>\n",
       "      <td>4.0</td>\n",
       "      <td>...</td>\n",
       "      <td>0.0</td>\n",
       "      <td>0.0</td>\n",
       "      <td>0.0</td>\n",
       "      <td>0.0</td>\n",
       "      <td>0.0</td>\n",
       "      <td>0.0</td>\n",
       "      <td>3203.0</td>\n",
       "      <td>0.0</td>\n",
       "      <td>0.0</td>\n",
       "      <td>0.0</td>\n",
       "    </tr>\n",
       "    <tr>\n",
       "      <th>0.6</th>\n",
       "      <td>41.0</td>\n",
       "      <td>14.0</td>\n",
       "      <td>2.0</td>\n",
       "      <td>12.0</td>\n",
       "      <td>39.0</td>\n",
       "      <td>16.0</td>\n",
       "      <td>9.0</td>\n",
       "      <td>9.0</td>\n",
       "      <td>13.0</td>\n",
       "      <td>6.0</td>\n",
       "      <td>...</td>\n",
       "      <td>0.0</td>\n",
       "      <td>0.0</td>\n",
       "      <td>0.0</td>\n",
       "      <td>0.0</td>\n",
       "      <td>0.0</td>\n",
       "      <td>0.0</td>\n",
       "      <td>3629.0</td>\n",
       "      <td>0.0</td>\n",
       "      <td>0.0</td>\n",
       "      <td>0.0</td>\n",
       "    </tr>\n",
       "    <tr>\n",
       "      <th>0.8</th>\n",
       "      <td>48.0</td>\n",
       "      <td>16.0</td>\n",
       "      <td>3.0</td>\n",
       "      <td>13.0</td>\n",
       "      <td>45.0</td>\n",
       "      <td>16.0</td>\n",
       "      <td>9.0</td>\n",
       "      <td>9.0</td>\n",
       "      <td>16.0</td>\n",
       "      <td>8.0</td>\n",
       "      <td>...</td>\n",
       "      <td>1.0</td>\n",
       "      <td>1.0</td>\n",
       "      <td>1.0</td>\n",
       "      <td>1.0</td>\n",
       "      <td>1.0</td>\n",
       "      <td>1.0</td>\n",
       "      <td>3827.0</td>\n",
       "      <td>0.0</td>\n",
       "      <td>0.0</td>\n",
       "      <td>0.0</td>\n",
       "    </tr>\n",
       "    <tr>\n",
       "      <th>1.0</th>\n",
       "      <td>71.0</td>\n",
       "      <td>17.0</td>\n",
       "      <td>8.0</td>\n",
       "      <td>35.0</td>\n",
       "      <td>73.0</td>\n",
       "      <td>17.0</td>\n",
       "      <td>10.0</td>\n",
       "      <td>10.0</td>\n",
       "      <td>25.0</td>\n",
       "      <td>14.0</td>\n",
       "      <td>...</td>\n",
       "      <td>1.0</td>\n",
       "      <td>1.0</td>\n",
       "      <td>1.0</td>\n",
       "      <td>1.0</td>\n",
       "      <td>1.0</td>\n",
       "      <td>1.0</td>\n",
       "      <td>4933.0</td>\n",
       "      <td>1.0</td>\n",
       "      <td>1.0</td>\n",
       "      <td>1.0</td>\n",
       "    </tr>\n",
       "  </tbody>\n",
       "</table>\n",
       "<p>5 rows × 21 columns</p>\n",
       "</div>"
      ],
      "text/plain": [
       "     mage  meduc  monpre  npvis  fage  feduc  omaps  fmaps  cigs  drink  ...  \\\n",
       "0.2  32.0   12.0     1.0    9.0  33.0   12.0    8.0    9.0   5.0    3.0  ...   \n",
       "0.4  37.0   13.0     2.0   11.0  36.0   12.0    8.0    9.0   9.0    4.0  ...   \n",
       "0.6  41.0   14.0     2.0   12.0  39.0   16.0    9.0    9.0  13.0    6.0  ...   \n",
       "0.8  48.0   16.0     3.0   13.0  45.0   16.0    9.0    9.0  16.0    8.0  ...   \n",
       "1.0  71.0   17.0     8.0   35.0  73.0   17.0   10.0   10.0  25.0   14.0  ...   \n",
       "\n",
       "     mwhte  mblck  moth  fwhte  fblck  foth   bwght  m_meduc  m_npvis  m_feduc  \n",
       "0.2    0.0    0.0   0.0    0.0    0.0   0.0  2799.0      0.0      0.0      0.0  \n",
       "0.4    0.0    0.0   0.0    0.0    0.0   0.0  3203.0      0.0      0.0      0.0  \n",
       "0.6    0.0    0.0   0.0    0.0    0.0   0.0  3629.0      0.0      0.0      0.0  \n",
       "0.8    1.0    1.0   1.0    1.0    1.0   1.0  3827.0      0.0      0.0      0.0  \n",
       "1.0    1.0    1.0   1.0    1.0    1.0   1.0  4933.0      1.0      1.0      1.0  \n",
       "\n",
       "[5 rows x 21 columns]"
      ]
     },
     "execution_count": 356,
     "metadata": {},
     "output_type": "execute_result"
    }
   ],
   "source": [
    "birthweight_quantiles = birthweight.loc[:, :].quantile([0.20,0.40,0.60,0.80,1.00])\n",
    "birthweight_quantiles"
   ]
  },
  {
   "cell_type": "markdown",
   "metadata": {},
   "source": [
    "#### Distribution plots"
   ]
  },
  {
   "cell_type": "code",
   "execution_count": 357,
   "metadata": {},
   "outputs": [
    {
     "data": {
      "image/png": "[encoded data removed]",
      "text/plain": [
       "<Figure size 432x288 with 4 Axes>"
      ]
     },
     "metadata": {
      "needs_background": "light"
     },
     "output_type": "display_data"
    }
   ],
   "source": [
    "plt.subplot(2, 2, 1)\n",
    "sns.distplot(birthweight['mage'],\n",
    "             color = 'g')\n",
    "plt.xlabel(\"Mother age\")\n",
    "\n",
    "plt.subplot(2, 2, 2)\n",
    "sns.distplot(birthweight['meduc'],\n",
    "             color = 'y')\n",
    "plt.xlabel('Mother Education')\n",
    "\n",
    "plt.subplot(2, 2, 3)\n",
    "sns.distplot(birthweight['monpre'],\n",
    "             color = 'orange')\n",
    "plt.xlabel('Months prenatal care began')\n",
    "\n",
    "plt.subplot(2, 2, 4)\n",
    "sns.distplot(birthweight['npvis'],\n",
    "             color = 'r')\n",
    "plt.xlabel('Number prenatal visits')\n",
    "\n",
    "plt.tight_layout()\n",
    "plt.savefig('Birthweight Histograms 1 of 5.png')\n",
    "\n",
    "plt.show()"
   ]
  },
  {
   "cell_type": "code",
   "execution_count": 358,
   "metadata": {},
   "outputs": [
    {
     "data": {
      "image/png": "[encoded data removed]",
      "text/plain": [
       "<Figure size 432x288 with 4 Axes>"
      ]
     },
     "metadata": {
      "needs_background": "light"
     },
     "output_type": "display_data"
    }
   ],
   "source": [
    "plt.subplot(2, 2, 1)\n",
    "sns.distplot(birthweight['fage'],\n",
    "             color = 'g')\n",
    "plt.xlabel(\"Father age\")\n",
    "\n",
    "plt.subplot(2, 2, 2)\n",
    "sns.distplot(birthweight['feduc'],\n",
    "             color = 'y')\n",
    "plt.xlabel('Father Education')\n",
    "\n",
    "plt.subplot(2, 2, 3)\n",
    "sns.distplot(birthweight['omaps'],\n",
    "             color = 'orange')\n",
    "plt.xlabel('1 min apgar')\n",
    "\n",
    "plt.subplot(2, 2, 4)\n",
    "sns.distplot(birthweight['fmaps'],\n",
    "             color = 'r')\n",
    "plt.xlabel('5 min apgar')\n",
    "\n",
    "plt.tight_layout()\n",
    "plt.savefig('Birthweight Histograms 2 of 5.png')\n",
    "\n",
    "plt.show()"
   ]
  },
  {
   "cell_type": "code",
   "execution_count": 359,
   "metadata": {},
   "outputs": [
    {
     "data": {
      "image/png": "[encoded data removed]",
      "text/plain": [
       "<Figure size 432x288 with 4 Axes>"
      ]
     },
     "metadata": {
      "needs_background": "light"
     },
     "output_type": "display_data"
    }
   ],
   "source": [
    "plt.subplot(2, 2, 1)\n",
    "sns.distplot(birthweight['cigs'],\n",
    "             color = 'g')\n",
    "plt.xlabel(\"avg cigarettes per day\")\n",
    "\n",
    "plt.subplot(2, 2, 2)\n",
    "sns.distplot(birthweight['drink'],\n",
    "             color = 'y')\n",
    "plt.xlabel('avg drinks per week')\n",
    "\n",
    "plt.subplot(2, 2, 3)\n",
    "sns.distplot(birthweight['male'],\n",
    "             bins = 2,\n",
    "             color = 'orange')\n",
    "plt.xlabel('if baby male')\n",
    "\n",
    "plt.subplot(2, 2, 4)\n",
    "sns.distplot(birthweight['mwhte'],\n",
    "             bins = 2,\n",
    "             color = 'r')\n",
    "plt.xlabel('if mother white')\n",
    "\n",
    "plt.tight_layout()\n",
    "plt.savefig('Birthweight Histograms 3 of 5.png')\n",
    "\n",
    "plt.show()"
   ]
  },
  {
   "cell_type": "code",
   "execution_count": 360,
   "metadata": {},
   "outputs": [
    {
     "data": {
      "image/png": "[encoded data removed]",
      "text/plain": [
       "<Figure size 432x288 with 4 Axes>"
      ]
     },
     "metadata": {
      "needs_background": "light"
     },
     "output_type": "display_data"
    }
   ],
   "source": [
    "plt.subplot(2, 2, 1)\n",
    "sns.distplot(birthweight['mblck'],\n",
    "             bins = 2,\n",
    "             color = 'g')\n",
    "plt.xlabel(\"if mother black\")\n",
    "\n",
    "plt.subplot(2, 2, 2)\n",
    "sns.distplot(birthweight['moth'],\n",
    "             bins = 2,\n",
    "             color = 'y')\n",
    "plt.xlabel('if mother is other')\n",
    "\n",
    "plt.subplot(2, 2, 3)\n",
    "sns.distplot(birthweight['fwhte'],\n",
    "             bins = 2,\n",
    "             color = 'orange')\n",
    "plt.xlabel('if father white')\n",
    "\n",
    "plt.subplot(2, 2, 4)\n",
    "sns.distplot(birthweight['fblck'],\n",
    "             bins = 2,\n",
    "             color = 'r')\n",
    "plt.xlabel('if father black')\n",
    "\n",
    "plt.tight_layout()\n",
    "plt.savefig('Birthweight Histograms 4 of 5.png')\n",
    "\n",
    "plt.show()"
   ]
  },
  {
   "cell_type": "code",
   "execution_count": 361,
   "metadata": {},
   "outputs": [
    {
     "data": {
      "image/png": "[encoded data removed]",
      "text/plain": [
       "<Figure size 432x288 with 2 Axes>"
      ]
     },
     "metadata": {
      "needs_background": "light"
     },
     "output_type": "display_data"
    }
   ],
   "source": [
    "plt.subplot(2, 1, 1)\n",
    "sns.distplot(birthweight['foth'],\n",
    "             bins = 2,\n",
    "             color = 'g')\n",
    "plt.xlabel(\"if father is other\")\n",
    "\n",
    "plt.subplot(2, 1, 2)\n",
    "sns.distplot(birthweight['bwght'],\n",
    "             color = 'y')\n",
    "plt.xlabel('birthweight, grams')\n",
    "\n",
    "plt.tight_layout()\n",
    "plt.savefig('Birthweight Histograms 5 of 5.png')\n",
    "\n",
    "plt.show()"
   ]
  },
  {
   "cell_type": "markdown",
   "metadata": {},
   "source": [
    "#### Check race columns\n",
    "Father and mother can only either be black, white or other, so the sum of these three needs to always be 1"
   ]
  },
  {
   "cell_type": "code",
   "execution_count": 362,
   "metadata": {},
   "outputs": [
    {
     "data": {
      "text/plain": [
       "0"
      ]
     },
     "execution_count": 362,
     "metadata": {},
     "output_type": "execute_result"
    }
   ],
   "source": [
    "fchck = birthweight['foth']+birthweight['fblck']+birthweight['fwhte']\n",
    "fchck[fchck != 1].sum()"
   ]
  },
  {
   "cell_type": "code",
   "execution_count": 363,
   "metadata": {},
   "outputs": [
    {
     "data": {
      "text/plain": [
       "0"
      ]
     },
     "execution_count": 363,
     "metadata": {},
     "output_type": "execute_result"
    }
   ],
   "source": [
    "mchck = birthweight['moth']+birthweight['mblck']+birthweight['mwhte']\n",
    "mchck[mchck != 1].sum()"
   ]
  },
  {
   "cell_type": "markdown",
   "metadata": {},
   "source": [
    "all good here"
   ]
  },
  {
   "cell_type": "markdown",
   "metadata": {},
   "source": [
    "#### Create Outlier Dictionaries\n",
    "Hi values: Outliers are greater than these\n",
    "\n",
    "Lo values: Outliers are less than these\n"
   ]
  },
  {
   "cell_type": "code",
   "execution_count": 364,
   "metadata": {},
   "outputs": [],
   "source": [
    "OL_hi = {'mage':45,\n",
    "         'meduc':16,\n",
    "         'monpre':4,\n",
    "         'npvis':18,\n",
    "         'fage':45,\n",
    "         'feduc':16,\n",
    "         'omaps':9,\n",
    "         'fmaps':9,\n",
    "         'cigs':20,\n",
    "         'drink':5\n",
    "        }\n",
    "OL_lo = {'mage':18,\n",
    "         'meduc':11,\n",
    "         'monpre':1,\n",
    "         'npvis':3,\n",
    "         'fage':18,\n",
    "         'feduc':11,\n",
    "         'omaps':8,\n",
    "         'fmaps':8,\n",
    "         'cigs':0,\n",
    "         'drink':0\n",
    "        }"
   ]
  },
  {
   "cell_type": "markdown",
   "metadata": {},
   "source": [
    "The outlierflagging function loops through all keys in the dictionary and applies the lower and upper boundaries to the data frame. Note that the same keys have to be in both dictionaries."
   ]
  },
  {
   "cell_type": "code",
   "execution_count": 365,
   "metadata": {},
   "outputs": [],
   "source": [
    "def outlierflagging (df, OL_hi, OL_lo):\n",
    "    for key in OL_hi.keys():\n",
    "        df['out_'+key] = 0\n",
    "        df['out_'+key] = df[key].apply(lambda val: 1 if val > OL_hi[key] else -1 if val < OL_lo[key] else 0)\n",
    "    return df"
   ]
  },
  {
   "cell_type": "code",
   "execution_count": 366,
   "metadata": {},
   "outputs": [],
   "source": [
    "birthweight = outlierflagging(birthweight, OL_hi, OL_lo)"
   ]
  },
  {
   "cell_type": "markdown",
   "metadata": {},
   "source": [
    "### Correlation"
   ]
  },
  {
   "cell_type": "code",
   "execution_count": 609,
   "metadata": {},
   "outputs": [
    {
     "data": {
      "image/png": "[encoded data removed]",
      "text/plain": [
       "<Figure size 864x72 with 1 Axes>"
      ]
     },
     "metadata": {
      "needs_background": "light"
     },
     "output_type": "display_data"
    },
    {
     "data": {
      "image/png": "[encoded data removed]",
      "text/plain": [
       "<Figure size 1080x1080 with 2 Axes>"
      ]
     },
     "metadata": {
      "needs_background": "light"
     },
     "output_type": "display_data"
    }
   ],
   "source": [
    "df_corr = birthweight.corr().round(2)\n",
    "# only use the original columns\n",
    "df_corr2 = df_corr.iloc[0:18, 0:18]\n",
    "\n",
    "sns.palplot(sns.color_palette('coolwarm', 12))\n",
    "fig, ax = plt.subplots(figsize=(15,15))\n",
    "sns.heatmap(df_corr2,\n",
    "            cmap = 'coolwarm',\n",
    "            square = True,\n",
    "            annot = True,\n",
    "            linecolor = 'black',\n",
    "            linewidths = 0.5)\n",
    "plt.savefig('Birthweight Correlation Heatmap.png')\n",
    "plt.show()"
   ]
  },
  {
   "cell_type": "markdown",
   "metadata": {},
   "source": [
    "As can be seen there are no correlations with birth weight.\n",
    "\n",
    "It can be seen that Mother education is correlated to father education. The same is true for the color. It seems that many children were from similar couples."
   ]
  },
  {
   "cell_type": "markdown",
   "metadata": {},
   "source": [
    "### Boxplots"
   ]
  },
  {
   "cell_type": "code",
   "execution_count": 506,
   "metadata": {},
   "outputs": [
    {
     "data": {
      "image/png": "[encoded data removed]",
      "text/plain": [
       "<Figure size 720x720 with 1 Axes>"
      ]
     },
     "metadata": {
      "needs_background": "light"
     },
     "output_type": "display_data"
    }
   ],
   "source": [
    "# Meduc\n",
    "birthweight.boxplot(column = ['bwght'],\n",
    "                by = ['meduc'],\n",
    "                vert = False,\n",
    "                patch_artist = False,\n",
    "                meanline = True,\n",
    "                showmeans = True)\n",
    "\n",
    "plt.title(\"Birthweight by Mother education\")\n",
    "plt.suptitle(\"\")\n",
    "plt.savefig(\"Birthweight by Mother education.png\")\n",
    "plt.show()"
   ]
  },
  {
   "cell_type": "code",
   "execution_count": 507,
   "metadata": {},
   "outputs": [
    {
     "data": {
      "image/png": "[encoded data removed]",
      "text/plain": [
       "<Figure size 720x720 with 1 Axes>"
      ]
     },
     "metadata": {
      "needs_background": "light"
     },
     "output_type": "display_data"
    }
   ],
   "source": [
    "# monpre\n",
    "birthweight.boxplot(column = ['bwght'],\n",
    "                by = ['monpre'],\n",
    "                vert = False,\n",
    "                patch_artist = False,\n",
    "                meanline = True,\n",
    "                showmeans = True)\n",
    "\n",
    "plt.title(\"Birthweight by month prenatal care began\")\n",
    "plt.suptitle(\"\")\n",
    "plt.savefig(\"Birthweight by month prenatal care began.png\")\n",
    "plt.show()"
   ]
  },
  {
   "cell_type": "markdown",
   "metadata": {},
   "source": [
    "As there is no correlation between the birthweight and any other column it is not useful to carry on and create the boxplots for the other variables."
   ]
  },
  {
   "cell_type": "markdown",
   "metadata": {},
   "source": [
    "### Try add races into similar/dissimilar\n",
    "\n",
    "create a new feature for race similarity and one for education similarity"
   ]
  },
  {
   "cell_type": "code",
   "execution_count": 259,
   "metadata": {},
   "outputs": [],
   "source": [
    "birthweight['sameEduc'] = (birthweight['meduc'] == birthweight['feduc'])*1\n",
    "birthweight['bothBlck'] = (birthweight['mblck'] * birthweight['fblck'])\n",
    "birthweight['bothWhte'] = (birthweight['mwhte'] * birthweight['fwhte'])\n",
    "birthweight['bothOth'] = (birthweight['moth'] * birthweight['foth'])\n",
    "birthweight['raceSame'] = birthweight['bothBlck'] + birthweight['bothWhte'] + birthweight['bothOth']"
   ]
  },
  {
   "cell_type": "code",
   "execution_count": 260,
   "metadata": {},
   "outputs": [
    {
     "data": {
      "text/plain": [
       "<matplotlib.axes._subplots.AxesSubplot at 0x1a1ddacb70>"
      ]
     },
     "execution_count": 260,
     "metadata": {},
     "output_type": "execute_result"
    },
    {
     "data": {
      "image/png": "[encoded data removed]",
      "text/plain": [
       "<Figure size 432x288 with 1 Axes>"
      ]
     },
     "metadata": {
      "needs_background": "light"
     },
     "output_type": "display_data"
    }
   ],
   "source": [
    "sns.distplot(birthweight['raceSame'],\n",
    "             color = 'y')\n",
    "\n"
   ]
  },
  {
   "cell_type": "markdown",
   "metadata": {},
   "source": [
    "## Linear Regression"
   ]
  },
  {
   "cell_type": "markdown",
   "metadata": {},
   "source": [
    "### Statsmodels"
   ]
  },
  {
   "cell_type": "code",
   "execution_count": 368,
   "metadata": {},
   "outputs": [],
   "source": [
    "import statsmodels.formula.api as smf"
   ]
  },
  {
   "cell_type": "code",
   "execution_count": 262,
   "metadata": {},
   "outputs": [],
   "source": [
    "birthweight_N=((birthweight-birthweight.min())/(birthweight.max()-birthweight.min()))\n",
    "birthweight_N[\"bwght\"]=birthweight[\"bwght\"]"
   ]
  },
  {
   "cell_type": "code",
   "execution_count": 369,
   "metadata": {},
   "outputs": [],
   "source": [
    "# all features used\n",
    "formula = \"\"\"bwght\n",
    "             ~ mage\n",
    "             + meduc\n",
    "             + monpre\n",
    "             + npvis\n",
    "             + fage\n",
    "             + feduc\n",
    "             + cigs\n",
    "             + drink\n",
    "             + male\n",
    "             + mwhte\n",
    "             + mblck\n",
    "             + moth\n",
    "             + fwhte\n",
    "             + fblck\n",
    "             + foth\n",
    "             + out_mage\n",
    "             + out_meduc\n",
    "             + out_monpre\n",
    "             + out_npvis\n",
    "             + out_fage\n",
    "             + out_feduc\n",
    "             + out_cigs\n",
    "             + out_drink\"\"\"\n",
    "lm = smf.ols(formula=formula,\n",
    "             data=birthweight).fit()\n",
    "# -1 for no intercept"
   ]
  },
  {
   "cell_type": "code",
   "execution_count": 370,
   "metadata": {},
   "outputs": [
    {
     "data": {
      "text/html": [
       "<table class=\"simpletable\">\n",
       "<caption>OLS Regression Results</caption>\n",
       "<tr>\n",
       "  <th>Dep. Variable:</th>          <td>bwght</td>      <th>  R-squared:         </th> <td>   0.736</td>\n",
       "</tr>\n",
       "<tr>\n",
       "  <th>Model:</th>                   <td>OLS</td>       <th>  Adj. R-squared:    </th> <td>   0.704</td>\n",
       "</tr>\n",
       "<tr>\n",
       "  <th>Method:</th>             <td>Least Squares</td>  <th>  F-statistic:       </th> <td>   23.09</td>\n",
       "</tr>\n",
       "<tr>\n",
       "  <th>Date:</th>             <td>Sun, 03 Mar 2019</td> <th>  Prob (F-statistic):</th> <td>1.13e-39</td>\n",
       "</tr>\n",
       "<tr>\n",
       "  <th>Time:</th>                 <td>11:13:25</td>     <th>  Log-Likelihood:    </th> <td> -1415.6</td>\n",
       "</tr>\n",
       "<tr>\n",
       "  <th>No. Observations:</th>      <td>   196</td>      <th>  AIC:               </th> <td>   2875.</td>\n",
       "</tr>\n",
       "<tr>\n",
       "  <th>Df Residuals:</th>          <td>   174</td>      <th>  BIC:               </th> <td>   2947.</td>\n",
       "</tr>\n",
       "<tr>\n",
       "  <th>Df Model:</th>              <td>    21</td>      <th>                     </th>     <td> </td>   \n",
       "</tr>\n",
       "<tr>\n",
       "  <th>Covariance Type:</th>      <td>nonrobust</td>    <th>                     </th>     <td> </td>   \n",
       "</tr>\n",
       "</table>\n",
       "<table class=\"simpletable\">\n",
       "<tr>\n",
       "       <td></td>         <th>coef</th>     <th>std err</th>      <th>t</th>      <th>P>|t|</th>  <th>[0.025</th>    <th>0.975]</th>  \n",
       "</tr>\n",
       "<tr>\n",
       "  <th>Intercept</th>  <td> 2641.1816</td> <td>  236.059</td> <td>   11.189</td> <td> 0.000</td> <td> 2175.273</td> <td> 3107.090</td>\n",
       "</tr>\n",
       "<tr>\n",
       "  <th>mage</th>       <td>   -7.7593</td> <td>    4.757</td> <td>   -1.631</td> <td> 0.105</td> <td>  -17.148</td> <td>    1.630</td>\n",
       "</tr>\n",
       "<tr>\n",
       "  <th>meduc</th>      <td>   27.1932</td> <td>   20.153</td> <td>    1.349</td> <td> 0.179</td> <td>  -12.582</td> <td>   66.969</td>\n",
       "</tr>\n",
       "<tr>\n",
       "  <th>monpre</th>     <td>    9.5692</td> <td>   33.353</td> <td>    0.287</td> <td> 0.775</td> <td>  -56.260</td> <td>   75.398</td>\n",
       "</tr>\n",
       "<tr>\n",
       "  <th>npvis</th>      <td>   -9.6479</td> <td>   10.208</td> <td>   -0.945</td> <td> 0.346</td> <td>  -29.795</td> <td>   10.499</td>\n",
       "</tr>\n",
       "<tr>\n",
       "  <th>fage</th>       <td>   -2.1183</td> <td>    4.798</td> <td>   -0.442</td> <td> 0.659</td> <td>  -11.588</td> <td>    7.351</td>\n",
       "</tr>\n",
       "<tr>\n",
       "  <th>feduc</th>      <td>    3.8731</td> <td>   17.772</td> <td>    0.218</td> <td> 0.828</td> <td>  -31.203</td> <td>   38.950</td>\n",
       "</tr>\n",
       "<tr>\n",
       "  <th>cigs</th>       <td>  -30.6696</td> <td>    5.303</td> <td>   -5.783</td> <td> 0.000</td> <td>  -41.137</td> <td>  -20.202</td>\n",
       "</tr>\n",
       "<tr>\n",
       "  <th>drink</th>      <td> -114.5870</td> <td>   16.131</td> <td>   -7.104</td> <td> 0.000</td> <td> -146.424</td> <td>  -82.750</td>\n",
       "</tr>\n",
       "<tr>\n",
       "  <th>male</th>       <td>   13.3402</td> <td>   53.296</td> <td>    0.250</td> <td> 0.803</td> <td>  -91.850</td> <td>  118.531</td>\n",
       "</tr>\n",
       "<tr>\n",
       "  <th>mwhte</th>      <td>  943.2373</td> <td>  106.340</td> <td>    8.870</td> <td> 0.000</td> <td>  733.356</td> <td> 1153.119</td>\n",
       "</tr>\n",
       "<tr>\n",
       "  <th>mblck</th>      <td>  819.5748</td> <td>  114.827</td> <td>    7.137</td> <td> 0.000</td> <td>  592.942</td> <td> 1046.208</td>\n",
       "</tr>\n",
       "<tr>\n",
       "  <th>moth</th>       <td>  878.3695</td> <td>  109.685</td> <td>    8.008</td> <td> 0.000</td> <td>  661.886</td> <td> 1094.853</td>\n",
       "</tr>\n",
       "<tr>\n",
       "  <th>fwhte</th>      <td>  828.3010</td> <td>  101.590</td> <td>    8.153</td> <td> 0.000</td> <td>  627.794</td> <td> 1028.808</td>\n",
       "</tr>\n",
       "<tr>\n",
       "  <th>fblck</th>      <td>  962.6302</td> <td>  112.318</td> <td>    8.571</td> <td> 0.000</td> <td>  740.950</td> <td> 1184.311</td>\n",
       "</tr>\n",
       "<tr>\n",
       "  <th>foth</th>       <td>  850.2504</td> <td>  116.314</td> <td>    7.310</td> <td> 0.000</td> <td>  620.683</td> <td> 1079.818</td>\n",
       "</tr>\n",
       "<tr>\n",
       "  <th>out_mage</th>   <td> -135.8286</td> <td>  101.127</td> <td>   -1.343</td> <td> 0.181</td> <td> -335.421</td> <td>   63.764</td>\n",
       "</tr>\n",
       "<tr>\n",
       "  <th>out_meduc</th>  <td>  -43.0450</td> <td>   98.594</td> <td>   -0.437</td> <td> 0.663</td> <td> -237.639</td> <td>  151.549</td>\n",
       "</tr>\n",
       "<tr>\n",
       "  <th>out_monpre</th> <td>  -95.7208</td> <td>  180.893</td> <td>   -0.529</td> <td> 0.597</td> <td> -452.748</td> <td>  261.306</td>\n",
       "</tr>\n",
       "<tr>\n",
       "  <th>out_npvis</th>  <td>  336.7813</td> <td>  181.783</td> <td>    1.853</td> <td> 0.066</td> <td>  -22.002</td> <td>  695.565</td>\n",
       "</tr>\n",
       "<tr>\n",
       "  <th>out_fage</th>   <td>  -30.0159</td> <td>  111.759</td> <td>   -0.269</td> <td> 0.789</td> <td> -250.593</td> <td>  190.561</td>\n",
       "</tr>\n",
       "<tr>\n",
       "  <th>out_feduc</th>  <td>   65.9371</td> <td>   87.730</td> <td>    0.752</td> <td> 0.453</td> <td> -107.216</td> <td>  239.090</td>\n",
       "</tr>\n",
       "<tr>\n",
       "  <th>out_cigs</th>   <td> -272.2024</td> <td>  120.993</td> <td>   -2.250</td> <td> 0.026</td> <td> -511.005</td> <td>  -33.400</td>\n",
       "</tr>\n",
       "<tr>\n",
       "  <th>out_drink</th>  <td>  -33.1633</td> <td>   90.289</td> <td>   -0.367</td> <td> 0.714</td> <td> -211.365</td> <td>  145.039</td>\n",
       "</tr>\n",
       "</table>\n",
       "<table class=\"simpletable\">\n",
       "<tr>\n",
       "  <th>Omnibus:</th>       <td> 1.666</td> <th>  Durbin-Watson:     </th> <td>   1.294</td>\n",
       "</tr>\n",
       "<tr>\n",
       "  <th>Prob(Omnibus):</th> <td> 0.435</td> <th>  Jarque-Bera (JB):  </th> <td>   1.290</td>\n",
       "</tr>\n",
       "<tr>\n",
       "  <th>Skew:</th>          <td> 0.148</td> <th>  Prob(JB):          </th> <td>   0.525</td>\n",
       "</tr>\n",
       "<tr>\n",
       "  <th>Kurtosis:</th>      <td> 3.265</td> <th>  Cond. No.          </th> <td>1.81e+18</td>\n",
       "</tr>\n",
       "</table><br/><br/>Warnings:<br/>[1] Standard Errors assume that the covariance matrix of the errors is correctly specified.<br/>[2] The smallest eigenvalue is 2.37e-31. This might indicate that there are<br/>strong multicollinearity problems or that the design matrix is singular."
      ],
      "text/plain": [
       "<class 'statsmodels.iolib.summary.Summary'>\n",
       "\"\"\"\n",
       "                            OLS Regression Results                            \n",
       "==============================================================================\n",
       "Dep. Variable:                  bwght   R-squared:                       0.736\n",
       "Model:                            OLS   Adj. R-squared:                  0.704\n",
       "Method:                 Least Squares   F-statistic:                     23.09\n",
       "Date:                Sun, 03 Mar 2019   Prob (F-statistic):           1.13e-39\n",
       "Time:                        11:13:25   Log-Likelihood:                -1415.6\n",
       "No. Observations:                 196   AIC:                             2875.\n",
       "Df Residuals:                     174   BIC:                             2947.\n",
       "Df Model:                          21                                         \n",
       "Covariance Type:            nonrobust                                         \n",
       "==============================================================================\n",
       "                 coef    std err          t      P>|t|      [0.025      0.975]\n",
       "------------------------------------------------------------------------------\n",
       "Intercept   2641.1816    236.059     11.189      0.000    2175.273    3107.090\n",
       "mage          -7.7593      4.757     -1.631      0.105     -17.148       1.630\n",
       "meduc         27.1932     20.153      1.349      0.179     -12.582      66.969\n",
       "monpre         9.5692     33.353      0.287      0.775     -56.260      75.398\n",
       "npvis         -9.6479     10.208     -0.945      0.346     -29.795      10.499\n",
       "fage          -2.1183      4.798     -0.442      0.659     -11.588       7.351\n",
       "feduc          3.8731     17.772      0.218      0.828     -31.203      38.950\n",
       "cigs         -30.6696      5.303     -5.783      0.000     -41.137     -20.202\n",
       "drink       -114.5870     16.131     -7.104      0.000    -146.424     -82.750\n",
       "male          13.3402     53.296      0.250      0.803     -91.850     118.531\n",
       "mwhte        943.2373    106.340      8.870      0.000     733.356    1153.119\n",
       "mblck        819.5748    114.827      7.137      0.000     592.942    1046.208\n",
       "moth         878.3695    109.685      8.008      0.000     661.886    1094.853\n",
       "fwhte        828.3010    101.590      8.153      0.000     627.794    1028.808\n",
       "fblck        962.6302    112.318      8.571      0.000     740.950    1184.311\n",
       "foth         850.2504    116.314      7.310      0.000     620.683    1079.818\n",
       "out_mage    -135.8286    101.127     -1.343      0.181    -335.421      63.764\n",
       "out_meduc    -43.0450     98.594     -0.437      0.663    -237.639     151.549\n",
       "out_monpre   -95.7208    180.893     -0.529      0.597    -452.748     261.306\n",
       "out_npvis    336.7813    181.783      1.853      0.066     -22.002     695.565\n",
       "out_fage     -30.0159    111.759     -0.269      0.789    -250.593     190.561\n",
       "out_feduc     65.9371     87.730      0.752      0.453    -107.216     239.090\n",
       "out_cigs    -272.2024    120.993     -2.250      0.026    -511.005     -33.400\n",
       "out_drink    -33.1633     90.289     -0.367      0.714    -211.365     145.039\n",
       "==============================================================================\n",
       "Omnibus:                        1.666   Durbin-Watson:                   1.294\n",
       "Prob(Omnibus):                  0.435   Jarque-Bera (JB):                1.290\n",
       "Skew:                           0.148   Prob(JB):                        0.525\n",
       "Kurtosis:                       3.265   Cond. No.                     1.81e+18\n",
       "==============================================================================\n",
       "\n",
       "Warnings:\n",
       "[1] Standard Errors assume that the covariance matrix of the errors is correctly specified.\n",
       "[2] The smallest eigenvalue is 2.37e-31. This might indicate that there are\n",
       "strong multicollinearity problems or that the design matrix is singular.\n",
       "\"\"\""
      ]
     },
     "execution_count": 370,
     "metadata": {},
     "output_type": "execute_result"
    }
   ],
   "source": [
    "lm.summary()"
   ]
  },
  {
   "cell_type": "code",
   "execution_count": 265,
   "metadata": {},
   "outputs": [],
   "source": [
    "formula = \"\"\"bwght\n",
    "             ~ monpre\n",
    "             + npvis\n",
    "             + fage\n",
    "             + feduc\n",
    "             + omaps\n",
    "             + fmaps\n",
    "             + drink\n",
    "             + male\n",
    "             + mwhte\n",
    "             + mblck\n",
    "             + moth\n",
    "             + fwhte\n",
    "             + fblck\n",
    "             + m_fage\n",
    "             + m_feduc\n",
    "             + out_mage\n",
    "             + out_monpre\n",
    "             + out_npvis\n",
    "             + out_fage\n",
    "             + out_fmaps\n",
    "             + out_cigs\n",
    "             + out_drink\n",
    "             + raceSame\n",
    "             + sameEduc\n",
    "             + bothBlck\n",
    "             + bothWhte\n",
    "             + bothOth -1\"\"\""
   ]
  },
  {
   "cell_type": "code",
   "execution_count": 266,
   "metadata": {},
   "outputs": [],
   "source": [
    "lm = smf.ols(formula=formula,\n",
    "             data=birthweight).fit()"
   ]
  },
  {
   "cell_type": "code",
   "execution_count": 267,
   "metadata": {},
   "outputs": [
    {
     "data": {
      "text/html": [
       "<table class=\"simpletable\">\n",
       "<caption>OLS Regression Results</caption>\n",
       "<tr>\n",
       "  <th>Dep. Variable:</th>          <td>bwght</td>      <th>  R-squared:         </th> <td>   0.103</td> \n",
       "</tr>\n",
       "<tr>\n",
       "  <th>Model:</th>                   <td>OLS</td>       <th>  Adj. R-squared:    </th> <td>   0.091</td> \n",
       "</tr>\n",
       "<tr>\n",
       "  <th>Method:</th>             <td>Least Squares</td>  <th>  F-statistic:       </th> <td>   8.294</td> \n",
       "</tr>\n",
       "<tr>\n",
       "  <th>Date:</th>             <td>Sun, 03 Mar 2019</td> <th>  Prob (F-statistic):</th> <td>9.18e-29</td> \n",
       "</tr>\n",
       "<tr>\n",
       "  <th>Time:</th>                 <td>08:47:45</td>     <th>  Log-Likelihood:    </th> <td> -14146.</td> \n",
       "</tr>\n",
       "<tr>\n",
       "  <th>No. Observations:</th>      <td>  1832</td>      <th>  AIC:               </th> <td>2.834e+04</td>\n",
       "</tr>\n",
       "<tr>\n",
       "  <th>Df Residuals:</th>          <td>  1806</td>      <th>  BIC:               </th> <td>2.849e+04</td>\n",
       "</tr>\n",
       "<tr>\n",
       "  <th>Df Model:</th>              <td>    25</td>      <th>                     </th>     <td> </td>    \n",
       "</tr>\n",
       "<tr>\n",
       "  <th>Covariance Type:</th>      <td>nonrobust</td>    <th>                     </th>     <td> </td>    \n",
       "</tr>\n",
       "</table>\n",
       "<table class=\"simpletable\">\n",
       "<tr>\n",
       "       <td></td>         <th>coef</th>     <th>std err</th>      <th>t</th>      <th>P>|t|</th>  <th>[0.025</th>    <th>0.975]</th>  \n",
       "</tr>\n",
       "<tr>\n",
       "  <th>monpre</th>     <td>   22.1354</td> <td>   16.042</td> <td>    1.380</td> <td> 0.168</td> <td>   -9.327</td> <td>   53.597</td>\n",
       "</tr>\n",
       "<tr>\n",
       "  <th>npvis</th>      <td>   23.9355</td> <td>    5.004</td> <td>    4.783</td> <td> 0.000</td> <td>   14.120</td> <td>   33.751</td>\n",
       "</tr>\n",
       "<tr>\n",
       "  <th>fage</th>       <td>   10.5681</td> <td>    3.086</td> <td>    3.424</td> <td> 0.001</td> <td>    4.515</td> <td>   16.622</td>\n",
       "</tr>\n",
       "<tr>\n",
       "  <th>feduc</th>      <td>    7.3583</td> <td>    6.203</td> <td>    1.186</td> <td> 0.236</td> <td>   -4.808</td> <td>   19.525</td>\n",
       "</tr>\n",
       "<tr>\n",
       "  <th>omaps</th>      <td>   37.8737</td> <td>   14.419</td> <td>    2.627</td> <td> 0.009</td> <td>    9.593</td> <td>   66.154</td>\n",
       "</tr>\n",
       "<tr>\n",
       "  <th>fmaps</th>      <td>  305.9646</td> <td>   52.845</td> <td>    5.790</td> <td> 0.000</td> <td>  202.320</td> <td>  409.609</td>\n",
       "</tr>\n",
       "<tr>\n",
       "  <th>drink</th>      <td>   59.9648</td> <td>   56.579</td> <td>    1.060</td> <td> 0.289</td> <td>  -51.003</td> <td>  170.933</td>\n",
       "</tr>\n",
       "<tr>\n",
       "  <th>male</th>       <td>   88.0662</td> <td>   25.980</td> <td>    3.390</td> <td> 0.001</td> <td>   37.112</td> <td>  139.020</td>\n",
       "</tr>\n",
       "<tr>\n",
       "  <th>mwhte</th>      <td> -512.8182</td> <td>  478.512</td> <td>   -1.072</td> <td> 0.284</td> <td>-1451.314</td> <td>  425.678</td>\n",
       "</tr>\n",
       "<tr>\n",
       "  <th>mblck</th>      <td> -230.5165</td> <td>  517.942</td> <td>   -0.445</td> <td> 0.656</td> <td>-1246.344</td> <td>  785.311</td>\n",
       "</tr>\n",
       "<tr>\n",
       "  <th>moth</th>       <td>  243.0343</td> <td>  547.018</td> <td>    0.444</td> <td> 0.657</td> <td> -829.820</td> <td> 1315.888</td>\n",
       "</tr>\n",
       "<tr>\n",
       "  <th>fwhte</th>      <td> -456.6546</td> <td>  323.011</td> <td>   -1.414</td> <td> 0.158</td> <td>-1090.169</td> <td>  176.860</td>\n",
       "</tr>\n",
       "<tr>\n",
       "  <th>fblck</th>      <td>  149.7084</td> <td>  257.663</td> <td>    0.581</td> <td> 0.561</td> <td> -355.640</td> <td>  655.057</td>\n",
       "</tr>\n",
       "<tr>\n",
       "  <th>m_fage</th>     <td>  282.7840</td> <td>  270.006</td> <td>    1.047</td> <td> 0.295</td> <td> -246.773</td> <td>  812.341</td>\n",
       "</tr>\n",
       "<tr>\n",
       "  <th>m_feduc</th>    <td>  -56.6435</td> <td>   90.150</td> <td>   -0.628</td> <td> 0.530</td> <td> -233.453</td> <td>  120.166</td>\n",
       "</tr>\n",
       "<tr>\n",
       "  <th>out_mage</th>   <td> -125.7325</td> <td>   45.020</td> <td>   -2.793</td> <td> 0.005</td> <td> -214.029</td> <td>  -37.436</td>\n",
       "</tr>\n",
       "<tr>\n",
       "  <th>out_monpre</th> <td>   53.0051</td> <td>   84.723</td> <td>    0.626</td> <td> 0.532</td> <td> -113.160</td> <td>  219.171</td>\n",
       "</tr>\n",
       "<tr>\n",
       "  <th>out_npvis</th>  <td> -243.1293</td> <td>   84.724</td> <td>   -2.870</td> <td> 0.004</td> <td> -409.296</td> <td>  -76.963</td>\n",
       "</tr>\n",
       "<tr>\n",
       "  <th>out_fage</th>   <td>  -36.5253</td> <td>   65.058</td> <td>   -0.561</td> <td> 0.575</td> <td> -164.123</td> <td>   91.072</td>\n",
       "</tr>\n",
       "<tr>\n",
       "  <th>out_fmaps</th>  <td> -279.0571</td> <td>   76.314</td> <td>   -3.657</td> <td> 0.000</td> <td> -428.730</td> <td> -129.384</td>\n",
       "</tr>\n",
       "<tr>\n",
       "  <th>out_cigs</th>   <td> -190.7626</td> <td>   46.317</td> <td>   -4.119</td> <td> 0.000</td> <td> -281.604</td> <td>  -99.921</td>\n",
       "</tr>\n",
       "<tr>\n",
       "  <th>out_drink</th>  <td> -525.4518</td> <td>  344.344</td> <td>   -1.526</td> <td> 0.127</td> <td>-1200.807</td> <td>  149.904</td>\n",
       "</tr>\n",
       "<tr>\n",
       "  <th>raceSame</th>   <td> -186.7428</td> <td>   86.559</td> <td>   -2.157</td> <td> 0.031</td> <td> -356.508</td> <td>  -16.977</td>\n",
       "</tr>\n",
       "<tr>\n",
       "  <th>sameEduc</th>   <td>   13.3451</td> <td>   25.999</td> <td>    0.513</td> <td> 0.608</td> <td>  -37.647</td> <td>   64.337</td>\n",
       "</tr>\n",
       "<tr>\n",
       "  <th>bothBlck</th>   <td> -177.5550</td> <td>  276.663</td> <td>   -0.642</td> <td> 0.521</td> <td> -720.169</td> <td>  365.059</td>\n",
       "</tr>\n",
       "<tr>\n",
       "  <th>bothWhte</th>   <td>  743.1406</td> <td>  371.825</td> <td>    1.999</td> <td> 0.046</td> <td>   13.888</td> <td> 1472.393</td>\n",
       "</tr>\n",
       "<tr>\n",
       "  <th>bothOth</th>    <td> -752.3285</td> <td>  292.049</td> <td>   -2.576</td> <td> 0.010</td> <td>-1325.119</td> <td> -179.538</td>\n",
       "</tr>\n",
       "</table>\n",
       "<table class=\"simpletable\">\n",
       "<tr>\n",
       "  <th>Omnibus:</th>       <td>79.514</td> <th>  Durbin-Watson:     </th> <td>   1.946</td>\n",
       "</tr>\n",
       "<tr>\n",
       "  <th>Prob(Omnibus):</th> <td> 0.000</td> <th>  Jarque-Bera (JB):  </th> <td> 175.702</td>\n",
       "</tr>\n",
       "<tr>\n",
       "  <th>Skew:</th>          <td>-0.263</td> <th>  Prob(JB):          </th> <td>7.03e-39</td>\n",
       "</tr>\n",
       "<tr>\n",
       "  <th>Kurtosis:</th>      <td> 4.423</td> <th>  Cond. No.          </th> <td>1.19e+16</td>\n",
       "</tr>\n",
       "</table><br/><br/>Warnings:<br/>[1] Standard Errors assume that the covariance matrix of the errors is correctly specified.<br/>[2] The smallest eigenvalue is  2e-26. This might indicate that there are<br/>strong multicollinearity problems or that the design matrix is singular."
      ],
      "text/plain": [
       "<class 'statsmodels.iolib.summary.Summary'>\n",
       "\"\"\"\n",
       "                            OLS Regression Results                            \n",
       "==============================================================================\n",
       "Dep. Variable:                  bwght   R-squared:                       0.103\n",
       "Model:                            OLS   Adj. R-squared:                  0.091\n",
       "Method:                 Least Squares   F-statistic:                     8.294\n",
       "Date:                Sun, 03 Mar 2019   Prob (F-statistic):           9.18e-29\n",
       "Time:                        08:47:45   Log-Likelihood:                -14146.\n",
       "No. Observations:                1832   AIC:                         2.834e+04\n",
       "Df Residuals:                    1806   BIC:                         2.849e+04\n",
       "Df Model:                          25                                         \n",
       "Covariance Type:            nonrobust                                         \n",
       "==============================================================================\n",
       "                 coef    std err          t      P>|t|      [0.025      0.975]\n",
       "------------------------------------------------------------------------------\n",
       "monpre        22.1354     16.042      1.380      0.168      -9.327      53.597\n",
       "npvis         23.9355      5.004      4.783      0.000      14.120      33.751\n",
       "fage          10.5681      3.086      3.424      0.001       4.515      16.622\n",
       "feduc          7.3583      6.203      1.186      0.236      -4.808      19.525\n",
       "omaps         37.8737     14.419      2.627      0.009       9.593      66.154\n",
       "fmaps        305.9646     52.845      5.790      0.000     202.320     409.609\n",
       "drink         59.9648     56.579      1.060      0.289     -51.003     170.933\n",
       "male          88.0662     25.980      3.390      0.001      37.112     139.020\n",
       "mwhte       -512.8182    478.512     -1.072      0.284   -1451.314     425.678\n",
       "mblck       -230.5165    517.942     -0.445      0.656   -1246.344     785.311\n",
       "moth         243.0343    547.018      0.444      0.657    -829.820    1315.888\n",
       "fwhte       -456.6546    323.011     -1.414      0.158   -1090.169     176.860\n",
       "fblck        149.7084    257.663      0.581      0.561    -355.640     655.057\n",
       "m_fage       282.7840    270.006      1.047      0.295    -246.773     812.341\n",
       "m_feduc      -56.6435     90.150     -0.628      0.530    -233.453     120.166\n",
       "out_mage    -125.7325     45.020     -2.793      0.005    -214.029     -37.436\n",
       "out_monpre    53.0051     84.723      0.626      0.532    -113.160     219.171\n",
       "out_npvis   -243.1293     84.724     -2.870      0.004    -409.296     -76.963\n",
       "out_fage     -36.5253     65.058     -0.561      0.575    -164.123      91.072\n",
       "out_fmaps   -279.0571     76.314     -3.657      0.000    -428.730    -129.384\n",
       "out_cigs    -190.7626     46.317     -4.119      0.000    -281.604     -99.921\n",
       "out_drink   -525.4518    344.344     -1.526      0.127   -1200.807     149.904\n",
       "raceSame    -186.7428     86.559     -2.157      0.031    -356.508     -16.977\n",
       "sameEduc      13.3451     25.999      0.513      0.608     -37.647      64.337\n",
       "bothBlck    -177.5550    276.663     -0.642      0.521    -720.169     365.059\n",
       "bothWhte     743.1406    371.825      1.999      0.046      13.888    1472.393\n",
       "bothOth     -752.3285    292.049     -2.576      0.010   -1325.119    -179.538\n",
       "==============================================================================\n",
       "Omnibus:                       79.514   Durbin-Watson:                   1.946\n",
       "Prob(Omnibus):                  0.000   Jarque-Bera (JB):              175.702\n",
       "Skew:                          -0.263   Prob(JB):                     7.03e-39\n",
       "Kurtosis:                       4.423   Cond. No.                     1.19e+16\n",
       "==============================================================================\n",
       "\n",
       "Warnings:\n",
       "[1] Standard Errors assume that the covariance matrix of the errors is correctly specified.\n",
       "[2] The smallest eigenvalue is  2e-26. This might indicate that there are\n",
       "strong multicollinearity problems or that the design matrix is singular.\n",
       "\"\"\""
      ]
     },
     "execution_count": 267,
     "metadata": {},
     "output_type": "execute_result"
    }
   ],
   "source": [
    "lm.summary()"
   ]
  },
  {
   "cell_type": "code",
   "execution_count": 268,
   "metadata": {},
   "outputs": [
    {
     "ename": "NameError",
     "evalue": "name 'birthweight_enc' is not defined",
     "output_type": "error",
     "traceback": [
      "\u001b[0;31m---------------------------------------------------------------------------\u001b[0m",
      "\u001b[0;31mNameError\u001b[0m                                 Traceback (most recent call last)",
      "\u001b[0;32m<ipython-input-268-ba47330db280>\u001b[0m in \u001b[0;36m<module>\u001b[0;34m\u001b[0m\n\u001b[1;32m     11\u001b[0m              + moth\"\"\"\n\u001b[1;32m     12\u001b[0m lm = smf.ols(formula=formula,\n\u001b[0;32m---> 13\u001b[0;31m              data=birthweight_enc).fit()\n\u001b[0m",
      "\u001b[0;31mNameError\u001b[0m: name 'birthweight_enc' is not defined"
     ]
    }
   ],
   "source": [
    "\n",
    "formula = \"\"\"bwght\n",
    "             ~ monpre\n",
    "             + npvis\n",
    "             + omaps\n",
    "             + fmaps\n",
    "             + cigs\n",
    "             + male\n",
    "             + mwhte\n",
    "             + mblck\n",
    "             + moth\"\"\"\n",
    "lm = smf.ols(formula=formula,\n",
    "             data=birthweight_enc).fit()"
   ]
  },
  {
   "cell_type": "code",
   "execution_count": 269,
   "metadata": {},
   "outputs": [
    {
     "data": {
      "text/html": [
       "<table class=\"simpletable\">\n",
       "<caption>OLS Regression Results</caption>\n",
       "<tr>\n",
       "  <th>Dep. Variable:</th>          <td>bwght</td>      <th>  R-squared:         </th> <td>   0.103</td> \n",
       "</tr>\n",
       "<tr>\n",
       "  <th>Model:</th>                   <td>OLS</td>       <th>  Adj. R-squared:    </th> <td>   0.091</td> \n",
       "</tr>\n",
       "<tr>\n",
       "  <th>Method:</th>             <td>Least Squares</td>  <th>  F-statistic:       </th> <td>   8.294</td> \n",
       "</tr>\n",
       "<tr>\n",
       "  <th>Date:</th>             <td>Sun, 03 Mar 2019</td> <th>  Prob (F-statistic):</th> <td>9.18e-29</td> \n",
       "</tr>\n",
       "<tr>\n",
       "  <th>Time:</th>                 <td>08:47:47</td>     <th>  Log-Likelihood:    </th> <td> -14146.</td> \n",
       "</tr>\n",
       "<tr>\n",
       "  <th>No. Observations:</th>      <td>  1832</td>      <th>  AIC:               </th> <td>2.834e+04</td>\n",
       "</tr>\n",
       "<tr>\n",
       "  <th>Df Residuals:</th>          <td>  1806</td>      <th>  BIC:               </th> <td>2.849e+04</td>\n",
       "</tr>\n",
       "<tr>\n",
       "  <th>Df Model:</th>              <td>    25</td>      <th>                     </th>     <td> </td>    \n",
       "</tr>\n",
       "<tr>\n",
       "  <th>Covariance Type:</th>      <td>nonrobust</td>    <th>                     </th>     <td> </td>    \n",
       "</tr>\n",
       "</table>\n",
       "<table class=\"simpletable\">\n",
       "<tr>\n",
       "       <td></td>         <th>coef</th>     <th>std err</th>      <th>t</th>      <th>P>|t|</th>  <th>[0.025</th>    <th>0.975]</th>  \n",
       "</tr>\n",
       "<tr>\n",
       "  <th>monpre</th>     <td>   22.1354</td> <td>   16.042</td> <td>    1.380</td> <td> 0.168</td> <td>   -9.327</td> <td>   53.597</td>\n",
       "</tr>\n",
       "<tr>\n",
       "  <th>npvis</th>      <td>   23.9355</td> <td>    5.004</td> <td>    4.783</td> <td> 0.000</td> <td>   14.120</td> <td>   33.751</td>\n",
       "</tr>\n",
       "<tr>\n",
       "  <th>fage</th>       <td>   10.5681</td> <td>    3.086</td> <td>    3.424</td> <td> 0.001</td> <td>    4.515</td> <td>   16.622</td>\n",
       "</tr>\n",
       "<tr>\n",
       "  <th>feduc</th>      <td>    7.3583</td> <td>    6.203</td> <td>    1.186</td> <td> 0.236</td> <td>   -4.808</td> <td>   19.525</td>\n",
       "</tr>\n",
       "<tr>\n",
       "  <th>omaps</th>      <td>   37.8737</td> <td>   14.419</td> <td>    2.627</td> <td> 0.009</td> <td>    9.593</td> <td>   66.154</td>\n",
       "</tr>\n",
       "<tr>\n",
       "  <th>fmaps</th>      <td>  305.9646</td> <td>   52.845</td> <td>    5.790</td> <td> 0.000</td> <td>  202.320</td> <td>  409.609</td>\n",
       "</tr>\n",
       "<tr>\n",
       "  <th>drink</th>      <td>   59.9648</td> <td>   56.579</td> <td>    1.060</td> <td> 0.289</td> <td>  -51.003</td> <td>  170.933</td>\n",
       "</tr>\n",
       "<tr>\n",
       "  <th>male</th>       <td>   88.0662</td> <td>   25.980</td> <td>    3.390</td> <td> 0.001</td> <td>   37.112</td> <td>  139.020</td>\n",
       "</tr>\n",
       "<tr>\n",
       "  <th>mwhte</th>      <td> -512.8182</td> <td>  478.512</td> <td>   -1.072</td> <td> 0.284</td> <td>-1451.314</td> <td>  425.678</td>\n",
       "</tr>\n",
       "<tr>\n",
       "  <th>mblck</th>      <td> -230.5165</td> <td>  517.942</td> <td>   -0.445</td> <td> 0.656</td> <td>-1246.344</td> <td>  785.311</td>\n",
       "</tr>\n",
       "<tr>\n",
       "  <th>moth</th>       <td>  243.0343</td> <td>  547.018</td> <td>    0.444</td> <td> 0.657</td> <td> -829.820</td> <td> 1315.888</td>\n",
       "</tr>\n",
       "<tr>\n",
       "  <th>fwhte</th>      <td> -456.6546</td> <td>  323.011</td> <td>   -1.414</td> <td> 0.158</td> <td>-1090.169</td> <td>  176.860</td>\n",
       "</tr>\n",
       "<tr>\n",
       "  <th>fblck</th>      <td>  149.7084</td> <td>  257.663</td> <td>    0.581</td> <td> 0.561</td> <td> -355.640</td> <td>  655.057</td>\n",
       "</tr>\n",
       "<tr>\n",
       "  <th>m_fage</th>     <td>  282.7840</td> <td>  270.006</td> <td>    1.047</td> <td> 0.295</td> <td> -246.773</td> <td>  812.341</td>\n",
       "</tr>\n",
       "<tr>\n",
       "  <th>m_feduc</th>    <td>  -56.6435</td> <td>   90.150</td> <td>   -0.628</td> <td> 0.530</td> <td> -233.453</td> <td>  120.166</td>\n",
       "</tr>\n",
       "<tr>\n",
       "  <th>out_mage</th>   <td> -125.7325</td> <td>   45.020</td> <td>   -2.793</td> <td> 0.005</td> <td> -214.029</td> <td>  -37.436</td>\n",
       "</tr>\n",
       "<tr>\n",
       "  <th>out_monpre</th> <td>   53.0051</td> <td>   84.723</td> <td>    0.626</td> <td> 0.532</td> <td> -113.160</td> <td>  219.171</td>\n",
       "</tr>\n",
       "<tr>\n",
       "  <th>out_npvis</th>  <td> -243.1293</td> <td>   84.724</td> <td>   -2.870</td> <td> 0.004</td> <td> -409.296</td> <td>  -76.963</td>\n",
       "</tr>\n",
       "<tr>\n",
       "  <th>out_fage</th>   <td>  -36.5253</td> <td>   65.058</td> <td>   -0.561</td> <td> 0.575</td> <td> -164.123</td> <td>   91.072</td>\n",
       "</tr>\n",
       "<tr>\n",
       "  <th>out_fmaps</th>  <td> -279.0571</td> <td>   76.314</td> <td>   -3.657</td> <td> 0.000</td> <td> -428.730</td> <td> -129.384</td>\n",
       "</tr>\n",
       "<tr>\n",
       "  <th>out_cigs</th>   <td> -190.7626</td> <td>   46.317</td> <td>   -4.119</td> <td> 0.000</td> <td> -281.604</td> <td>  -99.921</td>\n",
       "</tr>\n",
       "<tr>\n",
       "  <th>out_drink</th>  <td> -525.4518</td> <td>  344.344</td> <td>   -1.526</td> <td> 0.127</td> <td>-1200.807</td> <td>  149.904</td>\n",
       "</tr>\n",
       "<tr>\n",
       "  <th>raceSame</th>   <td> -186.7428</td> <td>   86.559</td> <td>   -2.157</td> <td> 0.031</td> <td> -356.508</td> <td>  -16.977</td>\n",
       "</tr>\n",
       "<tr>\n",
       "  <th>sameEduc</th>   <td>   13.3451</td> <td>   25.999</td> <td>    0.513</td> <td> 0.608</td> <td>  -37.647</td> <td>   64.337</td>\n",
       "</tr>\n",
       "<tr>\n",
       "  <th>bothBlck</th>   <td> -177.5550</td> <td>  276.663</td> <td>   -0.642</td> <td> 0.521</td> <td> -720.169</td> <td>  365.059</td>\n",
       "</tr>\n",
       "<tr>\n",
       "  <th>bothWhte</th>   <td>  743.1406</td> <td>  371.825</td> <td>    1.999</td> <td> 0.046</td> <td>   13.888</td> <td> 1472.393</td>\n",
       "</tr>\n",
       "<tr>\n",
       "  <th>bothOth</th>    <td> -752.3285</td> <td>  292.049</td> <td>   -2.576</td> <td> 0.010</td> <td>-1325.119</td> <td> -179.538</td>\n",
       "</tr>\n",
       "</table>\n",
       "<table class=\"simpletable\">\n",
       "<tr>\n",
       "  <th>Omnibus:</th>       <td>79.514</td> <th>  Durbin-Watson:     </th> <td>   1.946</td>\n",
       "</tr>\n",
       "<tr>\n",
       "  <th>Prob(Omnibus):</th> <td> 0.000</td> <th>  Jarque-Bera (JB):  </th> <td> 175.702</td>\n",
       "</tr>\n",
       "<tr>\n",
       "  <th>Skew:</th>          <td>-0.263</td> <th>  Prob(JB):          </th> <td>7.03e-39</td>\n",
       "</tr>\n",
       "<tr>\n",
       "  <th>Kurtosis:</th>      <td> 4.423</td> <th>  Cond. No.          </th> <td>1.19e+16</td>\n",
       "</tr>\n",
       "</table><br/><br/>Warnings:<br/>[1] Standard Errors assume that the covariance matrix of the errors is correctly specified.<br/>[2] The smallest eigenvalue is  2e-26. This might indicate that there are<br/>strong multicollinearity problems or that the design matrix is singular."
      ],
      "text/plain": [
       "<class 'statsmodels.iolib.summary.Summary'>\n",
       "\"\"\"\n",
       "                            OLS Regression Results                            \n",
       "==============================================================================\n",
       "Dep. Variable:                  bwght   R-squared:                       0.103\n",
       "Model:                            OLS   Adj. R-squared:                  0.091\n",
       "Method:                 Least Squares   F-statistic:                     8.294\n",
       "Date:                Sun, 03 Mar 2019   Prob (F-statistic):           9.18e-29\n",
       "Time:                        08:47:47   Log-Likelihood:                -14146.\n",
       "No. Observations:                1832   AIC:                         2.834e+04\n",
       "Df Residuals:                    1806   BIC:                         2.849e+04\n",
       "Df Model:                          25                                         \n",
       "Covariance Type:            nonrobust                                         \n",
       "==============================================================================\n",
       "                 coef    std err          t      P>|t|      [0.025      0.975]\n",
       "------------------------------------------------------------------------------\n",
       "monpre        22.1354     16.042      1.380      0.168      -9.327      53.597\n",
       "npvis         23.9355      5.004      4.783      0.000      14.120      33.751\n",
       "fage          10.5681      3.086      3.424      0.001       4.515      16.622\n",
       "feduc          7.3583      6.203      1.186      0.236      -4.808      19.525\n",
       "omaps         37.8737     14.419      2.627      0.009       9.593      66.154\n",
       "fmaps        305.9646     52.845      5.790      0.000     202.320     409.609\n",
       "drink         59.9648     56.579      1.060      0.289     -51.003     170.933\n",
       "male          88.0662     25.980      3.390      0.001      37.112     139.020\n",
       "mwhte       -512.8182    478.512     -1.072      0.284   -1451.314     425.678\n",
       "mblck       -230.5165    517.942     -0.445      0.656   -1246.344     785.311\n",
       "moth         243.0343    547.018      0.444      0.657    -829.820    1315.888\n",
       "fwhte       -456.6546    323.011     -1.414      0.158   -1090.169     176.860\n",
       "fblck        149.7084    257.663      0.581      0.561    -355.640     655.057\n",
       "m_fage       282.7840    270.006      1.047      0.295    -246.773     812.341\n",
       "m_feduc      -56.6435     90.150     -0.628      0.530    -233.453     120.166\n",
       "out_mage    -125.7325     45.020     -2.793      0.005    -214.029     -37.436\n",
       "out_monpre    53.0051     84.723      0.626      0.532    -113.160     219.171\n",
       "out_npvis   -243.1293     84.724     -2.870      0.004    -409.296     -76.963\n",
       "out_fage     -36.5253     65.058     -0.561      0.575    -164.123      91.072\n",
       "out_fmaps   -279.0571     76.314     -3.657      0.000    -428.730    -129.384\n",
       "out_cigs    -190.7626     46.317     -4.119      0.000    -281.604     -99.921\n",
       "out_drink   -525.4518    344.344     -1.526      0.127   -1200.807     149.904\n",
       "raceSame    -186.7428     86.559     -2.157      0.031    -356.508     -16.977\n",
       "sameEduc      13.3451     25.999      0.513      0.608     -37.647      64.337\n",
       "bothBlck    -177.5550    276.663     -0.642      0.521    -720.169     365.059\n",
       "bothWhte     743.1406    371.825      1.999      0.046      13.888    1472.393\n",
       "bothOth     -752.3285    292.049     -2.576      0.010   -1325.119    -179.538\n",
       "==============================================================================\n",
       "Omnibus:                       79.514   Durbin-Watson:                   1.946\n",
       "Prob(Omnibus):                  0.000   Jarque-Bera (JB):              175.702\n",
       "Skew:                          -0.263   Prob(JB):                     7.03e-39\n",
       "Kurtosis:                       4.423   Cond. No.                     1.19e+16\n",
       "==============================================================================\n",
       "\n",
       "Warnings:\n",
       "[1] Standard Errors assume that the covariance matrix of the errors is correctly specified.\n",
       "[2] The smallest eigenvalue is  2e-26. This might indicate that there are\n",
       "strong multicollinearity problems or that the design matrix is singular.\n",
       "\"\"\""
      ]
     },
     "execution_count": 269,
     "metadata": {},
     "output_type": "execute_result"
    }
   ],
   "source": [
    "lm.summary()"
   ]
  },
  {
   "cell_type": "markdown",
   "metadata": {},
   "source": [
    "This model doesn't perform well at all!!!!\n",
    "\n",
    "Not surprising though as we don't have any strong correlations in the data"
   ]
  },
  {
   "cell_type": "markdown",
   "metadata": {},
   "source": [
    "### Sklearn"
   ]
  },
  {
   "cell_type": "markdown",
   "metadata": {},
   "source": [
    "#### Imports"
   ]
  },
  {
   "cell_type": "code",
   "execution_count": 371,
   "metadata": {},
   "outputs": [],
   "source": [
    "from sklearn.model_selection import train_test_split\n",
    "from sklearn.linear_model import LinearRegression\n",
    "from sklearn import metrics\n",
    "from sklearn.metrics import r2_score\n",
    "from sklearn import linear_model\n",
    "import time\n",
    "from sklearn.linear_model import LassoCV, LassoLarsCV, LassoLarsIC, MultiTaskLasso, Lasso, ElasticNet, lasso_path, enet_path"
   ]
  },
  {
   "cell_type": "markdown",
   "metadata": {},
   "source": [
    "#### Prepare Data"
   ]
  },
  {
   "cell_type": "code",
   "execution_count": 515,
   "metadata": {},
   "outputs": [],
   "source": [
    "# attributes\n",
    "X = birthweight.drop(['bwght', 'omaps', 'fmaps', 'out_fmaps', 'out_omaps'], 1)\n",
    "# lables\n",
    "y = birthweight['bwght']"
   ]
  },
  {
   "cell_type": "code",
   "execution_count": 516,
   "metadata": {},
   "outputs": [],
   "source": [
    "X_train, X_test, y_train, y_test = train_test_split(X, y, test_size = 0.1, random_state = 508)"
   ]
  },
  {
   "cell_type": "markdown",
   "metadata": {},
   "source": [
    "#### Train OLS"
   ]
  },
  {
   "cell_type": "code",
   "execution_count": 448,
   "metadata": {},
   "outputs": [
    {
     "data": {
      "text/plain": [
       "LinearRegression(copy_X=True, fit_intercept=True, n_jobs=None,\n",
       "         normalize=False)"
      ]
     },
     "execution_count": 448,
     "metadata": {},
     "output_type": "execute_result"
    }
   ],
   "source": [
    "lr = LinearRegression()\n",
    "lr.fit(X_train, y_train)"
   ]
  },
  {
   "cell_type": "code",
   "execution_count": 449,
   "metadata": {},
   "outputs": [
    {
     "name": "stdout",
     "output_type": "stream",
     "text": [
      "Accuracy: 0.611521\n",
      "RMSE: 317.001012\n",
      "R2: 0.611521\n"
     ]
    }
   ],
   "source": [
    "preds = lr.predict(X_test)\n",
    "rmse = np.sqrt(mean_squared_error(y_test, preds))\n",
    "r2 = r2_score(y_test, preds)\n",
    "score = lr.score(X_test, y_test)\n",
    "print(\"Accuracy: %f\" % (score))\n",
    "print(\"RMSE: %f\" % (rmse))\n",
    "print(\"R2: %f\" % (r2))"
   ]
  },
  {
   "cell_type": "markdown",
   "metadata": {},
   "source": [
    "#### Predict OLS"
   ]
  },
  {
   "cell_type": "code",
   "execution_count": 450,
   "metadata": {},
   "outputs": [],
   "source": [
    "pred_y = lr.predict(X_test)"
   ]
  },
  {
   "cell_type": "markdown",
   "metadata": {},
   "source": [
    "#### Metrics OLS"
   ]
  },
  {
   "cell_type": "code",
   "execution_count": 451,
   "metadata": {},
   "outputs": [
    {
     "name": "stdout",
     "output_type": "stream",
     "text": [
      "MAE:  256.63398525987486\n",
      "MSE:  100489.64156040477\n",
      "RSME:  317.0010119233135\n",
      "R2:  0.6115208821882143\n"
     ]
    }
   ],
   "source": [
    "print('MAE: ', metrics.mean_absolute_error(y_test, pred_y))\n",
    "print('MSE: ', metrics.mean_squared_error(y_test, pred_y))\n",
    "print('RSME: ', np.sqrt(metrics.mean_squared_error(y_test, pred_y)))\n",
    "print('R2: ', r2_score(y_test, pred_y))"
   ]
  },
  {
   "cell_type": "markdown",
   "metadata": {},
   "source": [
    "#### Train Ridge Reg"
   ]
  },
  {
   "cell_type": "code",
   "execution_count": 452,
   "metadata": {},
   "outputs": [
    {
     "name": "stderr",
     "output_type": "stream",
     "text": [
      "/anaconda3/lib/python3.6/site-packages/sklearn/model_selection/_search.py:841: DeprecationWarning: The default of the `iid` parameter will change from True to False in version 0.22 and will be removed in 0.24. This will change numeric results when test-set sizes are unequal.\n",
      "  DeprecationWarning)\n"
     ]
    },
    {
     "data": {
      "text/plain": [
       "RidgeCV(alphas=array([1.0e-01, 1.0e+00, 1.0e+01, 2.5e+01, 5.0e+01, 1.0e+02, 1.5e+02]),\n",
       "    cv=7, fit_intercept=True, gcv_mode=None, normalize=False, scoring=None,\n",
       "    store_cv_values=False)"
      ]
     },
     "execution_count": 452,
     "metadata": {},
     "output_type": "execute_result"
    }
   ],
   "source": [
    "reg = linear_model.RidgeCV(alphas=[0.1, 1.0, 10.0, 25.0, 50.0, 100.0, 150.0], cv=7)\n",
    "reg.fit(X_train, y_train)"
   ]
  },
  {
   "cell_type": "code",
   "execution_count": 453,
   "metadata": {},
   "outputs": [
    {
     "data": {
      "text/plain": [
       "150.0"
      ]
     },
     "execution_count": 453,
     "metadata": {},
     "output_type": "execute_result"
    }
   ],
   "source": [
    "reg.alpha_"
   ]
  },
  {
   "cell_type": "markdown",
   "metadata": {},
   "source": [
    "#### Predict Ridge Reg"
   ]
  },
  {
   "cell_type": "code",
   "execution_count": 454,
   "metadata": {},
   "outputs": [],
   "source": [
    "pred_y_RR = reg.predict(X_test)"
   ]
  },
  {
   "cell_type": "markdown",
   "metadata": {},
   "source": [
    "#### Metrics Ridge Reg"
   ]
  },
  {
   "cell_type": "code",
   "execution_count": 455,
   "metadata": {},
   "outputs": [
    {
     "name": "stdout",
     "output_type": "stream",
     "text": [
      "MAE:  253.2105078881081\n",
      "MSE:  98913.51147609197\n",
      "RSME:  314.5051851338734\n",
      "R2:  0.6176139840761576\n"
     ]
    }
   ],
   "source": [
    "print('MAE: ', metrics.mean_absolute_error(y_test, pred_y_RR))\n",
    "print('MSE: ', metrics.mean_squared_error(y_test, pred_y_RR))\n",
    "print('RSME: ', np.sqrt(metrics.mean_squared_error(y_test, pred_y_RR)))\n",
    "print('R2: ', r2_score(y_test, pred_y_RR))"
   ]
  },
  {
   "cell_type": "markdown",
   "metadata": {},
   "source": [
    "#### Train Lasso"
   ]
  },
  {
   "cell_type": "code",
   "execution_count": 456,
   "metadata": {},
   "outputs": [
    {
     "data": {
      "text/plain": [
       "LassoCV(alphas=None, copy_X=True, cv=50, eps=0.001, fit_intercept=True,\n",
       "    max_iter=1000, n_alphas=100, n_jobs=None, normalize=False,\n",
       "    positive=False, precompute='auto', random_state=0, selection='cyclic',\n",
       "    tol=0.0001, verbose=False)"
      ]
     },
     "execution_count": 456,
     "metadata": {},
     "output_type": "execute_result"
    }
   ],
   "source": [
    "regL = linear_model.Lasso(alpha=0.1)\n",
    "regL.fit(X_train, y_train)\n",
    "regLCV = linear_model.LassoCV(cv=50, random_state=0)\n",
    "regLCV.fit(X_train, y_train)"
   ]
  },
  {
   "cell_type": "markdown",
   "metadata": {},
   "source": [
    "#### Predict Lasso"
   ]
  },
  {
   "cell_type": "code",
   "execution_count": 457,
   "metadata": {},
   "outputs": [],
   "source": [
    "pred_y_L = regL.predict(X_test)\n",
    "pred_y_LCV = regLCV.predict(X_test)"
   ]
  },
  {
   "cell_type": "markdown",
   "metadata": {},
   "source": [
    "#### Metrics Lasso"
   ]
  },
  {
   "cell_type": "code",
   "execution_count": 458,
   "metadata": {},
   "outputs": [
    {
     "name": "stdout",
     "output_type": "stream",
     "text": [
      "L MAE:  257.29636421938966\n",
      "L MSE:  100662.1556066838\n",
      "L RSME:  317.2729985464943\n",
      "L R2:  0.6108539666388306\n",
      "LCV MAE:  244.02767064118763\n",
      "LCV MSE:  96797.95051838117\n",
      "LCV RSME:  311.1236900629413\n",
      "LCV R2:  0.6257924514461952\n",
      "LCV alpha:  104.79933274588902\n"
     ]
    }
   ],
   "source": [
    "print('L MAE: ', metrics.mean_absolute_error(y_test, pred_y_L))\n",
    "print('L MSE: ', metrics.mean_squared_error(y_test, pred_y_L))\n",
    "print('L RSME: ', np.sqrt(metrics.mean_squared_error(y_test, pred_y_L)))\n",
    "print('L R2: ', r2_score(y_test, pred_y_L))\n",
    "print('LCV MAE: ', metrics.mean_absolute_error(y_test, pred_y_LCV))\n",
    "print('LCV MSE: ', metrics.mean_squared_error(y_test, pred_y_LCV))\n",
    "print('LCV RSME: ', np.sqrt(metrics.mean_squared_error(y_test, pred_y_LCV)))\n",
    "print('LCV R2: ', r2_score(y_test, pred_y_LCV))\n",
    "print('LCV alpha: ', regLCV.alpha_)"
   ]
  },
  {
   "cell_type": "markdown",
   "metadata": {},
   "source": [
    "#### Play with some Lasso mode selection\n",
    "https://scikit-learn.org/stable/auto_examples/linear_model/plot_lasso_model_selection.html#sphx-glr-auto-examples-linear-model-plot-lasso-model-selection-py"
   ]
  },
  {
   "cell_type": "code",
   "execution_count": 459,
   "metadata": {},
   "outputs": [
    {
     "ename": "NameError",
     "evalue": "name 'model_aic' is not defined",
     "output_type": "error",
     "traceback": [
      "\u001b[0;31m---------------------------------------------------------------------------\u001b[0m",
      "\u001b[0;31mNameError\u001b[0m                                 Traceback (most recent call last)",
      "\u001b[0;32m<ipython-input-459-27cffe37cc30>\u001b[0m in \u001b[0;36m<module>\u001b[0;34m\u001b[0m\n\u001b[0;32m----> 1\u001b[0;31m \u001b[0my_aic\u001b[0m \u001b[0;34m=\u001b[0m \u001b[0mmodel_aic\u001b[0m\u001b[0;34m.\u001b[0m\u001b[0mpredict\u001b[0m\u001b[0;34m(\u001b[0m\u001b[0mX_test\u001b[0m\u001b[0;34m)\u001b[0m\u001b[0;34m\u001b[0m\u001b[0;34m\u001b[0m\u001b[0m\n\u001b[0m",
      "\u001b[0;31mNameError\u001b[0m: name 'model_aic' is not defined"
     ]
    }
   ],
   "source": [
    "y_aic = model_aic.predict(X_test)"
   ]
  },
  {
   "cell_type": "code",
   "execution_count": null,
   "metadata": {},
   "outputs": [],
   "source": [
    "print('R2: ', r2_score(y_test, y_aic))"
   ]
  },
  {
   "cell_type": "markdown",
   "metadata": {},
   "source": [
    "#### Train Elastic Net"
   ]
  },
  {
   "cell_type": "code",
   "execution_count": 460,
   "metadata": {},
   "outputs": [
    {
     "data": {
      "text/plain": [
       "ElasticNet(alpha=0.5, copy_X=True, fit_intercept=True, l1_ratio=0.7,\n",
       "      max_iter=1000, normalize=False, positive=False, precompute=False,\n",
       "      random_state=None, selection='cyclic', tol=0.0001, warm_start=False)"
      ]
     },
     "execution_count": 460,
     "metadata": {},
     "output_type": "execute_result"
    }
   ],
   "source": [
    "regEN = ElasticNet(alpha=0.5, l1_ratio=0.7)\n",
    "regEN.fit(X_train, y_train)"
   ]
  },
  {
   "cell_type": "markdown",
   "metadata": {},
   "source": [
    "#### Predict Elastic Net"
   ]
  },
  {
   "cell_type": "code",
   "execution_count": 461,
   "metadata": {},
   "outputs": [],
   "source": [
    "pred_y_EN = regEN.predict(X_test)"
   ]
  },
  {
   "cell_type": "markdown",
   "metadata": {},
   "source": [
    "#### Metrics Elastic Net"
   ]
  },
  {
   "cell_type": "code",
   "execution_count": 462,
   "metadata": {},
   "outputs": [
    {
     "name": "stdout",
     "output_type": "stream",
     "text": [
      "MAE:  259.42921990115855\n",
      "MSE:  100698.82818714206\n",
      "RSME:  317.330786699214\n",
      "R2:  0.610712195492242\n"
     ]
    }
   ],
   "source": [
    "print('MAE: ', metrics.mean_absolute_error(y_test, pred_y_EN))\n",
    "print('MSE: ', metrics.mean_squared_error(y_test, pred_y_EN))\n",
    "print('RSME: ', np.sqrt(metrics.mean_squared_error(y_test, pred_y_EN)))\n",
    "print('R2: ', r2_score(y_test, pred_y_EN))"
   ]
  },
  {
   "cell_type": "code",
   "execution_count": 478,
   "metadata": {},
   "outputs": [
    {
     "data": {
      "text/plain": [
       "LassoLars(alpha=2, copy_X=True, eps=2.220446049250313e-16, fit_intercept=True,\n",
       "     fit_path=True, max_iter=1000, normalize=True, positive=False,\n",
       "     precompute='auto', verbose=False)"
      ]
     },
     "execution_count": 478,
     "metadata": {},
     "output_type": "execute_result"
    }
   ],
   "source": [
    "regLARS = linear_model.LassoLars(alpha=2, max_iter = 1000)\n",
    "regLARS.fit(X_train, y_train)  "
   ]
  },
  {
   "cell_type": "code",
   "execution_count": 479,
   "metadata": {},
   "outputs": [],
   "source": [
    "pred_y_LARS = regLARS.predict(X_test)"
   ]
  },
  {
   "cell_type": "code",
   "execution_count": 480,
   "metadata": {},
   "outputs": [
    {
     "name": "stdout",
     "output_type": "stream",
     "text": [
      "MAE:  249.74083939958277\n",
      "MSE:  92455.01604179214\n",
      "RSME:  304.06416434988216\n",
      "R2:  0.6425816381522255\n"
     ]
    }
   ],
   "source": [
    "print('MAE: ', metrics.mean_absolute_error(y_test, pred_y_LARS))\n",
    "print('MSE: ', metrics.mean_squared_error(y_test, pred_y_LARS))\n",
    "print('RSME: ', np.sqrt(metrics.mean_squared_error(y_test, pred_y_LARS)))\n",
    "print('R2: ', r2_score(y_test, pred_y_LARS))"
   ]
  },
  {
   "cell_type": "code",
   "execution_count": 392,
   "metadata": {},
   "outputs": [],
   "source": [
    "from sklearn.model_selection import train_test_split # train/test split\n",
    "from sklearn.neighbors import KNeighborsRegressor # KNN for Regression\n",
    "import statsmodels.formula.api as smf # regression modeling\n",
    "import sklearn.metrics # more metrics for model performance evaluation\n",
    "from sklearn.model_selection import cross_val_score # k-folds cross validation"
   ]
  },
  {
   "cell_type": "code",
   "execution_count": 393,
   "metadata": {},
   "outputs": [
    {
     "data": {
      "image/png": "[encoded data removed]",
      "text/plain": [
       "<Figure size 864x648 with 1 Axes>"
      ]
     },
     "metadata": {
      "needs_background": "light"
     },
     "output_type": "display_data"
    }
   ],
   "source": [
    "training_accuracy = []\n",
    "test_accuracy = []\n",
    "neighbors_settings = range(1, 51)\n",
    "for n_neighbors in neighbors_settings:\n",
    "    # Building the model\n",
    "    clf = KNeighborsRegressor(n_neighbors = n_neighbors)\n",
    "    clf.fit(X_train, y_train)\n",
    "    \n",
    "    # Recording the training set accuracy\n",
    "    training_accuracy.append(clf.score(X_train, y_train))\n",
    "    \n",
    "    # Recording the generalization accuracy\n",
    "    test_accuracy.append(clf.score(X_test, y_test))\n",
    "\n",
    "# Plotting the visualization\n",
    "fig, ax = plt.subplots(figsize=(12,9))\n",
    "plt.plot(neighbors_settings, training_accuracy, label = \"training accuracy\")\n",
    "plt.plot(neighbors_settings, test_accuracy, label = \"test accuracy\")\n",
    "plt.ylabel(\"Accuracy\")\n",
    "plt.xlabel(\"n_neighbors\")\n",
    "plt.legend()\n",
    "plt.show()"
   ]
  },
  {
   "cell_type": "code",
   "execution_count": null,
   "metadata": {},
   "outputs": [],
   "source": [
    "print(\"The optimal number of neighbors is\", \\\n",
    "      test_accuracy.index(max(test_accuracy)), \\\n",
    "      \"with an optimal score of\", \\\n",
    "      max(test_accuracy))"
   ]
  },
  {
   "cell_type": "code",
   "execution_count": null,
   "metadata": {},
   "outputs": [],
   "source": [
    "knn_reg = KNeighborsRegressor(algorithm = 'auto',\n",
    "                              n_neighbors = 11)\n",
    "knn_reg.fit(X_train, y_train)"
   ]
  },
  {
   "cell_type": "code",
   "execution_count": null,
   "metadata": {},
   "outputs": [],
   "source": [
    "y_pred_KNN = knn_reg.predict(X_test)"
   ]
  },
  {
   "cell_type": "code",
   "execution_count": null,
   "metadata": {},
   "outputs": [],
   "source": [
    "y_score_KNN = knn_reg.score(X_test, y_test)"
   ]
  },
  {
   "cell_type": "code",
   "execution_count": null,
   "metadata": {},
   "outputs": [],
   "source": [
    "y_score_KNN"
   ]
  },
  {
   "cell_type": "markdown",
   "metadata": {},
   "source": [
    "## Friday trials\n"
   ]
  },
  {
   "cell_type": "markdown",
   "metadata": {},
   "source": [
    "Try today:\n",
    "- Normalisation of data\n",
    "- change output to categories in order to see if this works better\n",
    "- try more algorithms\n",
    "- learn about metrics"
   ]
  },
  {
   "cell_type": "code",
   "execution_count": 394,
   "metadata": {},
   "outputs": [],
   "source": [
    "import xgboost as xgb\n",
    "from sklearn.metrics import mean_squared_error, r2_score\n",
    "from sklearn.model_selection import train_test_split"
   ]
  },
  {
   "cell_type": "code",
   "execution_count": 273,
   "metadata": {},
   "outputs": [],
   "source": [
    "birthweight2 = pd.read_excel(file)"
   ]
  },
  {
   "cell_type": "code",
   "execution_count": 274,
   "metadata": {},
   "outputs": [],
   "source": [
    "# attributes\n",
    "X = birthweight2.drop('bwght', 1)\n",
    "# lables\n",
    "y = birthweight2['bwght']"
   ]
  },
  {
   "cell_type": "markdown",
   "metadata": {},
   "source": [
    "#### XGBoost hyperparameters\n",
    "- learning_rate: step size shrinkage used to prevent overfitting. Range is [0,1]\n",
    "- max_depth: determines how deeply each tree is allowed to grow during any boosting round.\n",
    "- subsample: percentage of samples used per tree. Low value can lead to underfitting.\n",
    "- colsample_bytree: percentage of features used per tree. High value can lead to overfitting.\n",
    "- n_estimators: number of trees you want to build.\n",
    "- objective: determines the loss function to be used like reg:linear for regression problems, reg:logistic for classification problems with only decision, binary:logistic for classification problems with probability.\n",
    "\n",
    "XGBoost also supports regularization parameters to penalize models as they become more complex and reduce them to simple (parsimonious) models.\n",
    "\n",
    "- gamma: controls whether a given node will split based on the expected reduction in loss after the split. A higher value leads to fewer splits. Supported only for tree-based learners.\n",
    "- alpha: L1 regularization on leaf weights. A large value leads to more regularization.\n",
    "- lambda: L2 regularization on leaf weights and is smoother than L1 regularization.\n",
    "\n",
    "It's also worth mentioning that though you are using trees as your base learners, you can also use XGBoost's relatively less popular linear base learners and one other tree learner known as dart. All you have to do is set the booster parameter to either gbtree (default),gblinear or dart."
   ]
  },
  {
   "cell_type": "code",
   "execution_count": 395,
   "metadata": {},
   "outputs": [],
   "source": [
    "X_train, X_test, y_train, y_test = train_test_split(X, y, test_size=0.1, random_state=508)"
   ]
  },
  {
   "cell_type": "code",
   "execution_count": 444,
   "metadata": {},
   "outputs": [],
   "source": [
    "xg_reg = xgb.XGBRegressor(objective ='reg:linear',\n",
    "                          colsample_bytree = 0.2,\n",
    "                          learning_rate = 0.3,\n",
    "                          max_depth = 15,\n",
    "                          alpha = 10,\n",
    "                          n_estimators = 10,\n",
    "                          subsample = 1)"
   ]
  },
  {
   "cell_type": "code",
   "execution_count": 445,
   "metadata": {},
   "outputs": [],
   "source": [
    "xg_reg.fit(X_train,y_train)\n",
    "\n",
    "preds = xg_reg.predict(X_test)"
   ]
  },
  {
   "cell_type": "code",
   "execution_count": 446,
   "metadata": {},
   "outputs": [
    {
     "name": "stdout",
     "output_type": "stream",
     "text": [
      "RMSE: 343.537836\n",
      "R2: 0.543758\n",
      "Accuracy: 0.543758\n"
     ]
    }
   ],
   "source": [
    "rmse = np.sqrt(mean_squared_error(y_test, preds))\n",
    "r2 = r2_score(y_test, preds)\n",
    "print(\"RMSE: %f\" % (rmse))\n",
    "print(\"R2: %f\" % (r2))\n",
    "score = xg_reg.score(X_test, y_test)\n",
    "print(\"Accuracy: %f\" % (score))"
   ]
  },
  {
   "cell_type": "code",
   "execution_count": 282,
   "metadata": {},
   "outputs": [],
   "source": [
    "preds2 = xg_reg.predict(X_train)"
   ]
  },
  {
   "cell_type": "code",
   "execution_count": 283,
   "metadata": {},
   "outputs": [
    {
     "name": "stdout",
     "output_type": "stream",
     "text": [
      "RMSE: 490.681938\n",
      "R2: 0.289767\n"
     ]
    }
   ],
   "source": [
    "rmse = np.sqrt(mean_squared_error(y_train, preds2))\n",
    "r2 = r2_score(y_train, preds2)\n",
    "print(\"RMSE: %f\" % (rmse))\n",
    "print(\"R2: %f\" % (r2))"
   ]
  },
  {
   "cell_type": "code",
   "execution_count": 284,
   "metadata": {},
   "outputs": [
    {
     "name": "stdout",
     "output_type": "stream",
     "text": [
      "[08:49:17] src/tree/updater_prune.cc:74: tree pruning end, 1 roots, 4 extra nodes, 0 pruned nodes, max_depth=2\n",
      "[08:49:17] src/tree/updater_prune.cc:74: tree pruning end, 1 roots, 2 extra nodes, 0 pruned nodes, max_depth=1\n",
      "[08:49:17] src/tree/updater_prune.cc:74: tree pruning end, 1 roots, 4 extra nodes, 0 pruned nodes, max_depth=2\n",
      "[08:49:17] src/tree/updater_prune.cc:74: tree pruning end, 1 roots, 4 extra nodes, 0 pruned nodes, max_depth=2\n",
      "[08:49:17] src/tree/updater_prune.cc:74: tree pruning end, 1 roots, 4 extra nodes, 0 pruned nodes, max_depth=2\n",
      "[08:49:17] src/tree/updater_prune.cc:74: tree pruning end, 1 roots, 8 extra nodes, 0 pruned nodes, max_depth=4\n",
      "[08:49:17] src/tree/updater_prune.cc:74: tree pruning end, 1 roots, 0 extra nodes, 0 pruned nodes, max_depth=0\n",
      "[08:49:17] src/tree/updater_prune.cc:74: tree pruning end, 1 roots, 0 extra nodes, 0 pruned nodes, max_depth=0\n",
      "[08:49:17] src/tree/updater_prune.cc:74: tree pruning end, 1 roots, 0 extra nodes, 0 pruned nodes, max_depth=0\n",
      "[08:49:17] src/tree/updater_prune.cc:74: tree pruning end, 1 roots, 0 extra nodes, 0 pruned nodes, max_depth=0\n",
      "[08:49:17] src/tree/updater_prune.cc:74: tree pruning end, 1 roots, 4 extra nodes, 0 pruned nodes, max_depth=2\n",
      "[08:49:17] src/tree/updater_prune.cc:74: tree pruning end, 1 roots, 0 extra nodes, 0 pruned nodes, max_depth=0\n",
      "[08:49:17] src/tree/updater_prune.cc:74: tree pruning end, 1 roots, 4 extra nodes, 0 pruned nodes, max_depth=2\n",
      "[08:49:17] src/tree/updater_prune.cc:74: tree pruning end, 1 roots, 14 extra nodes, 0 pruned nodes, max_depth=4\n",
      "[08:49:17] src/tree/updater_prune.cc:74: tree pruning end, 1 roots, 4 extra nodes, 0 pruned nodes, max_depth=2\n",
      "[08:49:17] src/tree/updater_prune.cc:74: tree pruning end, 1 roots, 8 extra nodes, 0 pruned nodes, max_depth=4\n",
      "[08:49:17] src/tree/updater_prune.cc:74: tree pruning end, 1 roots, 18 extra nodes, 0 pruned nodes, max_depth=7\n",
      "[08:49:17] src/tree/updater_prune.cc:74: tree pruning end, 1 roots, 14 extra nodes, 0 pruned nodes, max_depth=4\n",
      "[08:49:17] src/tree/updater_prune.cc:74: tree pruning end, 1 roots, 16 extra nodes, 0 pruned nodes, max_depth=4\n",
      "[08:49:17] src/tree/updater_prune.cc:74: tree pruning end, 1 roots, 22 extra nodes, 0 pruned nodes, max_depth=5\n",
      "[08:49:17] src/tree/updater_prune.cc:74: tree pruning end, 1 roots, 10 extra nodes, 0 pruned nodes, max_depth=4\n",
      "[08:49:17] src/tree/updater_prune.cc:74: tree pruning end, 1 roots, 4 extra nodes, 0 pruned nodes, max_depth=2\n",
      "[08:49:17] src/tree/updater_prune.cc:74: tree pruning end, 1 roots, 30 extra nodes, 0 pruned nodes, max_depth=8\n",
      "[08:49:17] src/tree/updater_prune.cc:74: tree pruning end, 1 roots, 4 extra nodes, 0 pruned nodes, max_depth=2\n",
      "[08:49:17] src/tree/updater_prune.cc:74: tree pruning end, 1 roots, 16 extra nodes, 0 pruned nodes, max_depth=5\n",
      "[08:49:17] src/tree/updater_prune.cc:74: tree pruning end, 1 roots, 238 extra nodes, 0 pruned nodes, max_depth=13\n",
      "[08:49:17] src/tree/updater_prune.cc:74: tree pruning end, 1 roots, 48 extra nodes, 0 pruned nodes, max_depth=7\n",
      "[08:49:17] src/tree/updater_prune.cc:74: tree pruning end, 1 roots, 34 extra nodes, 0 pruned nodes, max_depth=7\n",
      "[08:49:17] src/tree/updater_prune.cc:74: tree pruning end, 1 roots, 104 extra nodes, 0 pruned nodes, max_depth=10\n",
      "[08:49:17] src/tree/updater_prune.cc:74: tree pruning end, 1 roots, 266 extra nodes, 0 pruned nodes, max_depth=15\n",
      "[08:49:17] src/tree/updater_prune.cc:74: tree pruning end, 1 roots, 32 extra nodes, 0 pruned nodes, max_depth=8\n",
      "[08:49:17] src/tree/updater_prune.cc:74: tree pruning end, 1 roots, 296 extra nodes, 0 pruned nodes, max_depth=14\n",
      "[08:49:17] src/tree/updater_prune.cc:74: tree pruning end, 1 roots, 102 extra nodes, 0 pruned nodes, max_depth=9\n",
      "[08:49:17] src/tree/updater_prune.cc:74: tree pruning end, 1 roots, 152 extra nodes, 0 pruned nodes, max_depth=12\n",
      "[08:49:17] src/tree/updater_prune.cc:74: tree pruning end, 1 roots, 174 extra nodes, 0 pruned nodes, max_depth=11\n",
      "[08:49:17] src/tree/updater_prune.cc:74: tree pruning end, 1 roots, 454 extra nodes, 0 pruned nodes, max_depth=19\n",
      "[08:49:17] src/tree/updater_prune.cc:74: tree pruning end, 1 roots, 90 extra nodes, 0 pruned nodes, max_depth=9\n",
      "[08:49:17] src/tree/updater_prune.cc:74: tree pruning end, 1 roots, 164 extra nodes, 0 pruned nodes, max_depth=17\n",
      "[08:49:17] src/tree/updater_prune.cc:74: tree pruning end, 1 roots, 120 extra nodes, 0 pruned nodes, max_depth=13\n",
      "[08:49:17] src/tree/updater_prune.cc:74: tree pruning end, 1 roots, 18 extra nodes, 0 pruned nodes, max_depth=4\n",
      "[08:49:17] src/tree/updater_prune.cc:74: tree pruning end, 1 roots, 104 extra nodes, 0 pruned nodes, max_depth=9\n",
      "[08:49:17] src/tree/updater_prune.cc:74: tree pruning end, 1 roots, 126 extra nodes, 0 pruned nodes, max_depth=11\n",
      "[08:49:17] src/tree/updater_prune.cc:74: tree pruning end, 1 roots, 118 extra nodes, 0 pruned nodes, max_depth=11\n",
      "[08:49:17] src/tree/updater_prune.cc:74: tree pruning end, 1 roots, 138 extra nodes, 0 pruned nodes, max_depth=12\n",
      "[08:49:17] src/tree/updater_prune.cc:74: tree pruning end, 1 roots, 168 extra nodes, 0 pruned nodes, max_depth=12\n",
      "[08:49:17] src/tree/updater_prune.cc:74: tree pruning end, 1 roots, 74 extra nodes, 0 pruned nodes, max_depth=8\n",
      "[08:49:17] src/tree/updater_prune.cc:74: tree pruning end, 1 roots, 192 extra nodes, 0 pruned nodes, max_depth=14\n",
      "[08:49:17] src/tree/updater_prune.cc:74: tree pruning end, 1 roots, 220 extra nodes, 0 pruned nodes, max_depth=14\n",
      "[08:49:17] src/tree/updater_prune.cc:74: tree pruning end, 1 roots, 112 extra nodes, 0 pruned nodes, max_depth=12\n",
      "[08:49:17] src/tree/updater_prune.cc:74: tree pruning end, 1 roots, 338 extra nodes, 0 pruned nodes, max_depth=17\n",
      "[08:49:17] src/tree/updater_prune.cc:74: tree pruning end, 1 roots, 142 extra nodes, 0 pruned nodes, max_depth=12\n",
      "[08:49:17] src/tree/updater_prune.cc:74: tree pruning end, 1 roots, 172 extra nodes, 0 pruned nodes, max_depth=11\n",
      "[08:49:17] src/tree/updater_prune.cc:74: tree pruning end, 1 roots, 134 extra nodes, 0 pruned nodes, max_depth=12\n",
      "[08:49:17] src/tree/updater_prune.cc:74: tree pruning end, 1 roots, 22 extra nodes, 0 pruned nodes, max_depth=6\n",
      "[08:49:17] src/tree/updater_prune.cc:74: tree pruning end, 1 roots, 860 extra nodes, 0 pruned nodes, max_depth=20\n",
      "[08:49:17] src/tree/updater_prune.cc:74: tree pruning end, 1 roots, 78 extra nodes, 0 pruned nodes, max_depth=11\n",
      "[08:49:17] src/tree/updater_prune.cc:74: tree pruning end, 1 roots, 186 extra nodes, 0 pruned nodes, max_depth=11\n",
      "[08:49:17] src/tree/updater_prune.cc:74: tree pruning end, 1 roots, 286 extra nodes, 0 pruned nodes, max_depth=17\n",
      "[08:49:17] src/tree/updater_prune.cc:74: tree pruning end, 1 roots, 28 extra nodes, 0 pruned nodes, max_depth=7\n",
      "[08:49:17] src/tree/updater_prune.cc:74: tree pruning end, 1 roots, 34 extra nodes, 0 pruned nodes, max_depth=7\n",
      "[08:49:17] src/tree/updater_prune.cc:74: tree pruning end, 1 roots, 70 extra nodes, 0 pruned nodes, max_depth=9\n",
      "[08:49:17] src/tree/updater_prune.cc:74: tree pruning end, 1 roots, 138 extra nodes, 0 pruned nodes, max_depth=13\n",
      "[08:49:17] src/tree/updater_prune.cc:74: tree pruning end, 1 roots, 136 extra nodes, 0 pruned nodes, max_depth=13\n",
      "[08:49:17] src/tree/updater_prune.cc:74: tree pruning end, 1 roots, 368 extra nodes, 0 pruned nodes, max_depth=15\n",
      "[08:49:17] src/tree/updater_prune.cc:74: tree pruning end, 1 roots, 46 extra nodes, 0 pruned nodes, max_depth=8\n",
      "[08:49:17] src/tree/updater_prune.cc:74: tree pruning end, 1 roots, 46 extra nodes, 0 pruned nodes, max_depth=8\n",
      "[08:49:17] src/tree/updater_prune.cc:74: tree pruning end, 1 roots, 110 extra nodes, 0 pruned nodes, max_depth=12\n",
      "[08:49:17] src/tree/updater_prune.cc:74: tree pruning end, 1 roots, 304 extra nodes, 0 pruned nodes, max_depth=13\n",
      "[08:49:17] src/tree/updater_prune.cc:74: tree pruning end, 1 roots, 100 extra nodes, 0 pruned nodes, max_depth=14\n",
      "[08:49:17] src/tree/updater_prune.cc:74: tree pruning end, 1 roots, 1020 extra nodes, 0 pruned nodes, max_depth=20\n",
      "[08:49:17] src/tree/updater_prune.cc:74: tree pruning end, 1 roots, 46 extra nodes, 0 pruned nodes, max_depth=11\n",
      "[08:49:17] src/tree/updater_prune.cc:74: tree pruning end, 1 roots, 162 extra nodes, 0 pruned nodes, max_depth=11\n",
      "[08:49:17] src/tree/updater_prune.cc:74: tree pruning end, 1 roots, 34 extra nodes, 0 pruned nodes, max_depth=7\n",
      "[08:49:17] src/tree/updater_prune.cc:74: tree pruning end, 1 roots, 330 extra nodes, 0 pruned nodes, max_depth=17\n",
      "[08:49:17] src/tree/updater_prune.cc:74: tree pruning end, 1 roots, 102 extra nodes, 0 pruned nodes, max_depth=10\n",
      "[08:49:17] src/tree/updater_prune.cc:74: tree pruning end, 1 roots, 66 extra nodes, 0 pruned nodes, max_depth=10\n",
      "[08:49:17] src/tree/updater_prune.cc:74: tree pruning end, 1 roots, 40 extra nodes, 0 pruned nodes, max_depth=8\n",
      "[08:49:17] src/tree/updater_prune.cc:74: tree pruning end, 1 roots, 4 extra nodes, 0 pruned nodes, max_depth=2\n",
      "[08:49:17] src/tree/updater_prune.cc:74: tree pruning end, 1 roots, 10 extra nodes, 0 pruned nodes, max_depth=3\n",
      "[08:49:17] src/tree/updater_prune.cc:74: tree pruning end, 1 roots, 116 extra nodes, 0 pruned nodes, max_depth=10\n",
      "[08:49:17] src/tree/updater_prune.cc:74: tree pruning end, 1 roots, 148 extra nodes, 0 pruned nodes, max_depth=11\n",
      "[08:49:17] src/tree/updater_prune.cc:74: tree pruning end, 1 roots, 288 extra nodes, 0 pruned nodes, max_depth=16\n",
      "[08:49:17] src/tree/updater_prune.cc:74: tree pruning end, 1 roots, 188 extra nodes, 0 pruned nodes, max_depth=14\n",
      "[08:49:17] src/tree/updater_prune.cc:74: tree pruning end, 1 roots, 124 extra nodes, 0 pruned nodes, max_depth=10\n",
      "[08:49:17] src/tree/updater_prune.cc:74: tree pruning end, 1 roots, 34 extra nodes, 0 pruned nodes, max_depth=9\n"
     ]
    }
   ],
   "source": [
    "data_dmatrix = xgb.DMatrix(data=X,label=y)\n",
    "params = {\"objective\":\"reg:linear\",\n",
    "          'colsample_bytree': 0.2,\n",
    "          'learning_rate': 0.3,\n",
    "          'max_depth': 20,\n",
    "          'alpha': 10}\n",
    "\n",
    "cv_results = xgb.cv(dtrain=data_dmatrix,\n",
    "                    params=params,\n",
    "                    nfold=5,\n",
    "                    num_boost_round=17,\n",
    "                    early_stopping_rounds=10,\n",
    "                    metrics=\"rmse\",\n",
    "                    as_pandas=True,\n",
    "                    seed=123)"
   ]
  },
  {
   "cell_type": "code",
   "execution_count": 285,
   "metadata": {},
   "outputs": [
    {
     "name": "stdout",
     "output_type": "stream",
     "text": [
      "16    569.093713\n",
      "Name: test-rmse-mean, dtype: float64\n"
     ]
    }
   ],
   "source": [
    "print((cv_results[\"test-rmse-mean\"]).tail(1))"
   ]
  },
  {
   "cell_type": "code",
   "execution_count": 286,
   "metadata": {},
   "outputs": [
    {
     "name": "stdout",
     "output_type": "stream",
     "text": [
      "[08:49:25] src/tree/updater_prune.cc:74: tree pruning end, 1 roots, 4 extra nodes, 0 pruned nodes, max_depth=2\n",
      "[08:49:25] src/tree/updater_prune.cc:74: tree pruning end, 1 roots, 12 extra nodes, 0 pruned nodes, max_depth=5\n",
      "[08:49:25] src/tree/updater_prune.cc:74: tree pruning end, 1 roots, 2 extra nodes, 0 pruned nodes, max_depth=1\n",
      "[08:49:25] src/tree/updater_prune.cc:74: tree pruning end, 1 roots, 8 extra nodes, 0 pruned nodes, max_depth=4\n",
      "[08:49:25] src/tree/updater_prune.cc:74: tree pruning end, 1 roots, 38 extra nodes, 0 pruned nodes, max_depth=6\n",
      "[08:49:25] src/tree/updater_prune.cc:74: tree pruning end, 1 roots, 52 extra nodes, 0 pruned nodes, max_depth=7\n",
      "[08:49:25] src/tree/updater_prune.cc:74: tree pruning end, 1 roots, 72 extra nodes, 0 pruned nodes, max_depth=10\n",
      "[08:49:25] src/tree/updater_prune.cc:74: tree pruning end, 1 roots, 114 extra nodes, 0 pruned nodes, max_depth=13\n",
      "[08:49:25] src/tree/updater_prune.cc:74: tree pruning end, 1 roots, 352 extra nodes, 0 pruned nodes, max_depth=14\n",
      "[08:49:25] src/tree/updater_prune.cc:74: tree pruning end, 1 roots, 28 extra nodes, 0 pruned nodes, max_depth=5\n",
      "[08:49:25] src/tree/updater_prune.cc:74: tree pruning end, 1 roots, 42 extra nodes, 0 pruned nodes, max_depth=11\n",
      "[08:49:25] src/tree/updater_prune.cc:74: tree pruning end, 1 roots, 96 extra nodes, 0 pruned nodes, max_depth=12\n",
      "[08:49:25] src/tree/updater_prune.cc:74: tree pruning end, 1 roots, 174 extra nodes, 0 pruned nodes, max_depth=15\n",
      "[08:49:25] src/tree/updater_prune.cc:74: tree pruning end, 1 roots, 74 extra nodes, 0 pruned nodes, max_depth=11\n",
      "[08:49:25] src/tree/updater_prune.cc:74: tree pruning end, 1 roots, 142 extra nodes, 0 pruned nodes, max_depth=14\n",
      "[08:49:25] src/tree/updater_prune.cc:74: tree pruning end, 1 roots, 98 extra nodes, 0 pruned nodes, max_depth=9\n",
      "[08:49:25] src/tree/updater_prune.cc:74: tree pruning end, 1 roots, 58 extra nodes, 0 pruned nodes, max_depth=11\n"
     ]
    }
   ],
   "source": [
    "xg_reg = xgb.train(params=params, dtrain=data_dmatrix, num_boost_round=17)"
   ]
  },
  {
   "cell_type": "code",
   "execution_count": 287,
   "metadata": {},
   "outputs": [
    {
     "data": {
      "image/png": "[encoded data removed]",
      "text/plain": [
       "<Figure size 432x288 with 1 Axes>"
      ]
     },
     "metadata": {
      "needs_background": "light"
     },
     "output_type": "display_data"
    }
   ],
   "source": [
    "xgb.plot_importance(xg_reg)\n",
    "plt.rcParams['figure.figsize'] = [5, 5]\n",
    "plt.show()"
   ]
  },
  {
   "cell_type": "code",
   "execution_count": null,
   "metadata": {},
   "outputs": [],
   "source": []
  },
  {
   "cell_type": "markdown",
   "metadata": {},
   "source": [
    "#### Try on modified dataset"
   ]
  },
  {
   "cell_type": "code",
   "execution_count": 288,
   "metadata": {},
   "outputs": [],
   "source": [
    "#for col in birthweight2:\n",
    "\n",
    "  #  \"\"\" Create columns that are 0s if a value was not missing and 1 if\n",
    " #  a value is missing. \"\"\"\n",
    "    \n",
    " #   if birthweight2[col].isnull().any():\n",
    "   #     birthweight2['m_'+col] = birthweight2[col].isnull().astype(int)\n",
    "\n",
    "birthweight2_dropped = birthweight2.dropna()\n",
    "birthweight2['meduc'] = birthweight2['meduc'].fillna(birthweight2_dropped['meduc'].mean().round(0))\n",
    "birthweight2['monpre'] = birthweight2['monpre'].fillna(birthweight2_dropped['monpre'].mean().round(0))\n",
    "birthweight2['npvis'] = birthweight2['npvis'].fillna(birthweight2_dropped['npvis'].mean().round(0))\n",
    "birthweight2['fage'] = birthweight2['fage'].fillna(birthweight2_dropped['fage'].mean().round(0))\n",
    "birthweight2['feduc'] = birthweight2['feduc'].fillna(birthweight2_dropped['feduc'].mean().round(0))\n",
    "birthweight2['omaps'] = birthweight2['omaps'].fillna(9)\n",
    "birthweight2['fmaps'] = birthweight2['fmaps'].fillna(9)\n",
    "birthweight2['cigs'] = birthweight2['cigs'].fillna(10)\n",
    "birthweight2['drink'] = birthweight2['drink'].fillna(1)\n",
    "\n",
    "OL_hi = {'mage':35,\n",
    "         'meduc':16,\n",
    "         'monpre':4,\n",
    "         'npvis':18,\n",
    "         'fage':40,\n",
    "         'feduc':16,\n",
    "         'omaps':9,\n",
    "         'fmaps':9,\n",
    "         'cigs':1,\n",
    "         'drink':1\n",
    "        }\n",
    "OL_lo = {'mage':18,\n",
    "         'meduc':11,\n",
    "         'monpre':1,\n",
    "         'npvis':3,\n",
    "         'fage':18,\n",
    "         'feduc':11,\n",
    "         'omaps':8,\n",
    "         'fmaps':8,\n",
    "         'cigs':0,\n",
    "         'drink':0\n",
    "        }\n",
    "#birthweight2 = outlierflagging(birthweight2, OL_hi, OL_lo)\n",
    "\n",
    "birthweight2['sameEduc'] = (birthweight2['meduc'] == birthweight2['feduc'])*1\n",
    "birthweight2['bothBlck'] = (birthweight2['mblck'] * birthweight2['fblck'])\n",
    "birthweight2['bothWhte'] = (birthweight2['mwhte'] * birthweight2['fwhte'])\n",
    "birthweight2['bothOth'] = (birthweight2['moth'] * birthweight2['foth'])\n",
    "birthweight2['raceSame'] = birthweight2['bothBlck'] + birthweight2['bothWhte'] + birthweight2['bothOth']\n",
    "\n"
   ]
  },
  {
   "cell_type": "code",
   "execution_count": 289,
   "metadata": {},
   "outputs": [],
   "source": [
    "# attributes\n",
    "X = birthweight2.drop('bwght', 1)\n",
    "# lables\n",
    "y = birthweight2['bwght']\n",
    "\n",
    "X=((X-X.min())/(X.max()-X.min()))"
   ]
  },
  {
   "cell_type": "code",
   "execution_count": 290,
   "metadata": {},
   "outputs": [
    {
     "data": {
      "text/html": [
       "<div>\n",
       "<style scoped>\n",
       "    .dataframe tbody tr th:only-of-type {\n",
       "        vertical-align: middle;\n",
       "    }\n",
       "\n",
       "    .dataframe tbody tr th {\n",
       "        vertical-align: top;\n",
       "    }\n",
       "\n",
       "    .dataframe thead th {\n",
       "        text-align: right;\n",
       "    }\n",
       "</style>\n",
       "<table border=\"1\" class=\"dataframe\">\n",
       "  <thead>\n",
       "    <tr style=\"text-align: right;\">\n",
       "      <th></th>\n",
       "      <th>mage</th>\n",
       "      <th>meduc</th>\n",
       "      <th>monpre</th>\n",
       "      <th>npvis</th>\n",
       "      <th>fage</th>\n",
       "      <th>feduc</th>\n",
       "      <th>omaps</th>\n",
       "      <th>fmaps</th>\n",
       "      <th>cigs</th>\n",
       "      <th>drink</th>\n",
       "      <th>...</th>\n",
       "      <th>mblck</th>\n",
       "      <th>moth</th>\n",
       "      <th>fwhte</th>\n",
       "      <th>fblck</th>\n",
       "      <th>foth</th>\n",
       "      <th>sameEduc</th>\n",
       "      <th>bothBlck</th>\n",
       "      <th>bothWhte</th>\n",
       "      <th>bothOth</th>\n",
       "      <th>raceSame</th>\n",
       "    </tr>\n",
       "  </thead>\n",
       "  <tbody>\n",
       "    <tr>\n",
       "      <th>0</th>\n",
       "      <td>0.357143</td>\n",
       "      <td>0.642857</td>\n",
       "      <td>0.222222</td>\n",
       "      <td>0.30</td>\n",
       "      <td>0.347826</td>\n",
       "      <td>0.928571</td>\n",
       "      <td>0.9</td>\n",
       "      <td>0.875</td>\n",
       "      <td>0.00</td>\n",
       "      <td>0.000</td>\n",
       "      <td>...</td>\n",
       "      <td>0.0</td>\n",
       "      <td>1.0</td>\n",
       "      <td>0.0</td>\n",
       "      <td>0.0</td>\n",
       "      <td>1.0</td>\n",
       "      <td>0.0</td>\n",
       "      <td>0.0</td>\n",
       "      <td>0.0</td>\n",
       "      <td>1.0</td>\n",
       "      <td>1.0</td>\n",
       "    </tr>\n",
       "    <tr>\n",
       "      <th>1</th>\n",
       "      <td>0.464286</td>\n",
       "      <td>0.642857</td>\n",
       "      <td>0.222222</td>\n",
       "      <td>0.30</td>\n",
       "      <td>0.304348</td>\n",
       "      <td>0.642857</td>\n",
       "      <td>0.8</td>\n",
       "      <td>0.875</td>\n",
       "      <td>0.25</td>\n",
       "      <td>0.125</td>\n",
       "      <td>...</td>\n",
       "      <td>0.0</td>\n",
       "      <td>0.0</td>\n",
       "      <td>1.0</td>\n",
       "      <td>0.0</td>\n",
       "      <td>0.0</td>\n",
       "      <td>1.0</td>\n",
       "      <td>0.0</td>\n",
       "      <td>1.0</td>\n",
       "      <td>0.0</td>\n",
       "      <td>1.0</td>\n",
       "    </tr>\n",
       "    <tr>\n",
       "      <th>2</th>\n",
       "      <td>0.607143</td>\n",
       "      <td>0.642857</td>\n",
       "      <td>0.111111</td>\n",
       "      <td>0.30</td>\n",
       "      <td>0.391304</td>\n",
       "      <td>0.928571</td>\n",
       "      <td>0.8</td>\n",
       "      <td>0.875</td>\n",
       "      <td>0.00</td>\n",
       "      <td>0.000</td>\n",
       "      <td>...</td>\n",
       "      <td>0.0</td>\n",
       "      <td>0.0</td>\n",
       "      <td>1.0</td>\n",
       "      <td>0.0</td>\n",
       "      <td>0.0</td>\n",
       "      <td>0.0</td>\n",
       "      <td>0.0</td>\n",
       "      <td>1.0</td>\n",
       "      <td>0.0</td>\n",
       "      <td>1.0</td>\n",
       "    </tr>\n",
       "    <tr>\n",
       "      <th>3</th>\n",
       "      <td>0.428571</td>\n",
       "      <td>1.000000</td>\n",
       "      <td>0.555556</td>\n",
       "      <td>0.20</td>\n",
       "      <td>0.304348</td>\n",
       "      <td>1.000000</td>\n",
       "      <td>0.8</td>\n",
       "      <td>0.875</td>\n",
       "      <td>0.00</td>\n",
       "      <td>0.000</td>\n",
       "      <td>...</td>\n",
       "      <td>0.0</td>\n",
       "      <td>0.0</td>\n",
       "      <td>1.0</td>\n",
       "      <td>0.0</td>\n",
       "      <td>0.0</td>\n",
       "      <td>1.0</td>\n",
       "      <td>0.0</td>\n",
       "      <td>1.0</td>\n",
       "      <td>0.0</td>\n",
       "      <td>1.0</td>\n",
       "    </tr>\n",
       "    <tr>\n",
       "      <th>4</th>\n",
       "      <td>0.250000</td>\n",
       "      <td>0.714286</td>\n",
       "      <td>0.222222</td>\n",
       "      <td>0.15</td>\n",
       "      <td>0.130435</td>\n",
       "      <td>0.928571</td>\n",
       "      <td>0.6</td>\n",
       "      <td>0.750</td>\n",
       "      <td>0.00</td>\n",
       "      <td>0.000</td>\n",
       "      <td>...</td>\n",
       "      <td>0.0</td>\n",
       "      <td>0.0</td>\n",
       "      <td>1.0</td>\n",
       "      <td>0.0</td>\n",
       "      <td>0.0</td>\n",
       "      <td>0.0</td>\n",
       "      <td>0.0</td>\n",
       "      <td>1.0</td>\n",
       "      <td>0.0</td>\n",
       "      <td>1.0</td>\n",
       "    </tr>\n",
       "  </tbody>\n",
       "</table>\n",
       "<p>5 rows × 22 columns</p>\n",
       "</div>"
      ],
      "text/plain": [
       "       mage     meduc    monpre  npvis      fage     feduc  omaps  fmaps  \\\n",
       "0  0.357143  0.642857  0.222222   0.30  0.347826  0.928571    0.9  0.875   \n",
       "1  0.464286  0.642857  0.222222   0.30  0.304348  0.642857    0.8  0.875   \n",
       "2  0.607143  0.642857  0.111111   0.30  0.391304  0.928571    0.8  0.875   \n",
       "3  0.428571  1.000000  0.555556   0.20  0.304348  1.000000    0.8  0.875   \n",
       "4  0.250000  0.714286  0.222222   0.15  0.130435  0.928571    0.6  0.750   \n",
       "\n",
       "   cigs  drink  ...  mblck  moth  fwhte  fblck  foth  sameEduc  bothBlck  \\\n",
       "0  0.00  0.000  ...    0.0   1.0    0.0    0.0   1.0       0.0       0.0   \n",
       "1  0.25  0.125  ...    0.0   0.0    1.0    0.0   0.0       1.0       0.0   \n",
       "2  0.00  0.000  ...    0.0   0.0    1.0    0.0   0.0       0.0       0.0   \n",
       "3  0.00  0.000  ...    0.0   0.0    1.0    0.0   0.0       1.0       0.0   \n",
       "4  0.00  0.000  ...    0.0   0.0    1.0    0.0   0.0       0.0       0.0   \n",
       "\n",
       "   bothWhte  bothOth  raceSame  \n",
       "0       0.0      1.0       1.0  \n",
       "1       1.0      0.0       1.0  \n",
       "2       1.0      0.0       1.0  \n",
       "3       1.0      0.0       1.0  \n",
       "4       1.0      0.0       1.0  \n",
       "\n",
       "[5 rows x 22 columns]"
      ]
     },
     "execution_count": 290,
     "metadata": {},
     "output_type": "execute_result"
    }
   ],
   "source": [
    "X.head()"
   ]
  },
  {
   "cell_type": "code",
   "execution_count": 291,
   "metadata": {},
   "outputs": [
    {
     "ename": "NameError",
     "evalue": "name 'Xs' is not defined",
     "output_type": "error",
     "traceback": [
      "\u001b[0;31m---------------------------------------------------------------------------\u001b[0m",
      "\u001b[0;31mNameError\u001b[0m                                 Traceback (most recent call last)",
      "\u001b[0;32m<ipython-input-291-28a830653bf8>\u001b[0m in \u001b[0;36m<module>\u001b[0;34m\u001b[0m\n\u001b[0;32m----> 1\u001b[0;31m \u001b[0mX_train\u001b[0m\u001b[0;34m,\u001b[0m \u001b[0mX_test\u001b[0m\u001b[0;34m,\u001b[0m \u001b[0my_train\u001b[0m\u001b[0;34m,\u001b[0m \u001b[0my_test\u001b[0m \u001b[0;34m=\u001b[0m \u001b[0mtrain_test_split\u001b[0m\u001b[0;34m(\u001b[0m\u001b[0mXs\u001b[0m\u001b[0;34m,\u001b[0m \u001b[0my\u001b[0m\u001b[0;34m,\u001b[0m \u001b[0mtest_size\u001b[0m\u001b[0;34m=\u001b[0m\u001b[0;36m0.2\u001b[0m\u001b[0;34m,\u001b[0m \u001b[0mrandom_state\u001b[0m\u001b[0;34m=\u001b[0m\u001b[0;36m123\u001b[0m\u001b[0;34m)\u001b[0m\u001b[0;34m\u001b[0m\u001b[0;34m\u001b[0m\u001b[0m\n\u001b[0m",
      "\u001b[0;31mNameError\u001b[0m: name 'Xs' is not defined"
     ]
    }
   ],
   "source": [
    "X_train, X_test, y_train, y_test = train_test_split(Xs, y, test_size=0.2, random_state=123)"
   ]
  },
  {
   "cell_type": "code",
   "execution_count": 481,
   "metadata": {},
   "outputs": [],
   "source": [
    "xg_reg = xgb.XGBRegressor(objective ='reg:linear',\n",
    "                          colsample_bytree = 0.03,\n",
    "                          learning_rate = 0.5,\n",
    "                          max_depth = 20,\n",
    "                          alpha = 10,\n",
    "                          n_estimators = 17,\n",
    "                          subsample = 1)"
   ]
  },
  {
   "cell_type": "code",
   "execution_count": 482,
   "metadata": {},
   "outputs": [],
   "source": [
    "xg_reg.fit(X_train,y_train)\n",
    "\n",
    "preds = xg_reg.predict(X_test)"
   ]
  },
  {
   "cell_type": "code",
   "execution_count": 483,
   "metadata": {},
   "outputs": [
    {
     "name": "stdout",
     "output_type": "stream",
     "text": [
      "RMSE: 447.648535\n",
      "R2: 0.225323\n"
     ]
    }
   ],
   "source": [
    "rmse = np.sqrt(mean_squared_error(y_test, preds))\n",
    "r2 = r2_score(y_test, preds)\n",
    "print(\"RMSE: %f\" % (rmse))\n",
    "print(\"R2: %f\" % (r2))"
   ]
  },
  {
   "cell_type": "code",
   "execution_count": 484,
   "metadata": {},
   "outputs": [
    {
     "data": {
      "image/png": "[encoded data removed]",
      "text/plain": [
       "<Figure size 432x288 with 1 Axes>"
      ]
     },
     "metadata": {
      "needs_background": "light"
     },
     "output_type": "display_data"
    }
   ],
   "source": [
    "xgb.plot_importance(xg_reg)\n",
    "plt.rcParams['figure.figsize'] = [10, 10]\n",
    "plt.show()"
   ]
  },
  {
   "cell_type": "markdown",
   "metadata": {},
   "source": [
    "## next try"
   ]
  },
  {
   "cell_type": "code",
   "execution_count": 293,
   "metadata": {},
   "outputs": [],
   "source": [
    "birthweight2 = pd.read_excel(file)\n",
    "\n",
    "\n",
    "birthweight2_dropped = birthweight2.dropna()\n",
    "birthweight2['meduc'] = birthweight2['meduc'].fillna(birthweight2_dropped['meduc'].mean().round(0))\n",
    "birthweight2['monpre'] = birthweight2['monpre'].fillna(birthweight2_dropped['monpre'].mean().round(0))\n",
    "birthweight2['npvis'] = birthweight2['npvis'].fillna(birthweight2_dropped['npvis'].mean().round(0))\n",
    "birthweight2['fage'] = birthweight2['fage'].fillna(birthweight2_dropped['fage'].mean().round(0))\n",
    "birthweight2['feduc'] = birthweight2['feduc'].fillna(birthweight2_dropped['feduc'].mean().round(0))\n",
    "birthweight2['omaps'] = birthweight2['omaps'].fillna(9)\n",
    "birthweight2['fmaps'] = birthweight2['fmaps'].fillna(9)\n",
    "birthweight2['cigs'] = birthweight2['cigs'].fillna(10)\n",
    "birthweight2['drink'] = birthweight2['drink'].fillna(1)\n",
    "\n",
    "OL_hi = {'mage':35,\n",
    "         'meduc':16,\n",
    "         'monpre':4,\n",
    "         'npvis':18,\n",
    "         'fage':40,\n",
    "         'feduc':16,\n",
    "         'omaps':9,\n",
    "         'fmaps':9,\n",
    "         'cigs':1,\n",
    "         'drink':1\n",
    "        }\n",
    "OL_lo = {'mage':18,\n",
    "         'meduc':11,\n",
    "         'monpre':1,\n",
    "         'npvis':3,\n",
    "         'fage':18,\n",
    "         'feduc':11,\n",
    "         'omaps':8,\n",
    "         'fmaps':8,\n",
    "         'cigs':0,\n",
    "         'drink':0\n",
    "        }\n",
    "birthweight2 = outlierflagging(birthweight2, OL_hi, OL_lo)\n",
    "\n",
    "birthweight2['sameEduc'] = (birthweight2['meduc'] == birthweight2['feduc'])*1\n",
    "birthweight2['bothBlck'] = (birthweight2['mblck'] * birthweight2['fblck'])\n",
    "birthweight2['bothWhte'] = (birthweight2['mwhte'] * birthweight2['fwhte'])\n",
    "birthweight2['bothOth'] = (birthweight2['moth'] * birthweight2['foth'])\n",
    "birthweight2['raceSame'] = birthweight2['bothBlck'] + birthweight2['bothWhte'] + birthweight2['bothOth']\n",
    "\n",
    "# attributes\n",
    "X = birthweight2.drop('bwght', 1)\n",
    "# lables\n",
    "y = birthweight2['bwght']\n",
    "\n",
    "X_train, X_test, y_train, y_test = train_test_split(X, y, test_size=0.2, random_state=123)"
   ]
  },
  {
   "cell_type": "code",
   "execution_count": 294,
   "metadata": {},
   "outputs": [],
   "source": [
    "#birthweight2['CatMeduc']= pd.qcut(birthweight2.meduc, q=3, labels=False)\n",
    "#birthweight2['CatFeduc']= pd.qcut(birthweight2.feduc, q=3, labels=False)\n",
    "birthweight2['BDrinks'] = birthweight2['drink'].apply(lambda val: 1 if val > 0 else 0)\n",
    "birthweight2['BCigs'] = birthweight2['cigs'].apply(lambda val: 1 if val > 0 else 0)\n",
    "birthweight2['CatMeduc'] = birthweight2['meduc'].apply(lambda val: 0 if val <= 10 else 1 if val <= 12 else 2 if val <= 15 else 3)\n",
    "birthweight2['CatFeduc'] = birthweight2['feduc'].apply(lambda val: 0 if val <= 10 else 1 if val <= 12 else 2 if val <= 15 else 3)\n",
    "birthweight2 = birthweight2.drop(['feduc', 'meduc', 'drink', 'cigs'], axis=1)\n"
   ]
  },
  {
   "cell_type": "code",
   "execution_count": 295,
   "metadata": {},
   "outputs": [
    {
     "data": {
      "text/html": [
       "<div>\n",
       "<style scoped>\n",
       "    .dataframe tbody tr th:only-of-type {\n",
       "        vertical-align: middle;\n",
       "    }\n",
       "\n",
       "    .dataframe tbody tr th {\n",
       "        vertical-align: top;\n",
       "    }\n",
       "\n",
       "    .dataframe thead th {\n",
       "        text-align: right;\n",
       "    }\n",
       "</style>\n",
       "<table border=\"1\" class=\"dataframe\">\n",
       "  <thead>\n",
       "    <tr style=\"text-align: right;\">\n",
       "      <th></th>\n",
       "      <th>mage</th>\n",
       "      <th>monpre</th>\n",
       "      <th>npvis</th>\n",
       "      <th>fage</th>\n",
       "      <th>omaps</th>\n",
       "      <th>fmaps</th>\n",
       "      <th>male</th>\n",
       "      <th>mwhte</th>\n",
       "      <th>mblck</th>\n",
       "      <th>moth</th>\n",
       "      <th>...</th>\n",
       "      <th>out_drink</th>\n",
       "      <th>sameEduc</th>\n",
       "      <th>bothBlck</th>\n",
       "      <th>bothWhte</th>\n",
       "      <th>bothOth</th>\n",
       "      <th>raceSame</th>\n",
       "      <th>BDrinks</th>\n",
       "      <th>BCigs</th>\n",
       "      <th>CatMeduc</th>\n",
       "      <th>CatFeduc</th>\n",
       "    </tr>\n",
       "  </thead>\n",
       "  <tbody>\n",
       "    <tr>\n",
       "      <th>0</th>\n",
       "      <td>26</td>\n",
       "      <td>2.0</td>\n",
       "      <td>12.0</td>\n",
       "      <td>34.0</td>\n",
       "      <td>9.0</td>\n",
       "      <td>9.0</td>\n",
       "      <td>1</td>\n",
       "      <td>0</td>\n",
       "      <td>0</td>\n",
       "      <td>1</td>\n",
       "      <td>...</td>\n",
       "      <td>0</td>\n",
       "      <td>0</td>\n",
       "      <td>0</td>\n",
       "      <td>0</td>\n",
       "      <td>1</td>\n",
       "      <td>1</td>\n",
       "      <td>0</td>\n",
       "      <td>0</td>\n",
       "      <td>1</td>\n",
       "      <td>3</td>\n",
       "    </tr>\n",
       "    <tr>\n",
       "      <th>1</th>\n",
       "      <td>29</td>\n",
       "      <td>2.0</td>\n",
       "      <td>12.0</td>\n",
       "      <td>32.0</td>\n",
       "      <td>8.0</td>\n",
       "      <td>9.0</td>\n",
       "      <td>0</td>\n",
       "      <td>1</td>\n",
       "      <td>0</td>\n",
       "      <td>0</td>\n",
       "      <td>...</td>\n",
       "      <td>0</td>\n",
       "      <td>1</td>\n",
       "      <td>0</td>\n",
       "      <td>1</td>\n",
       "      <td>0</td>\n",
       "      <td>1</td>\n",
       "      <td>1</td>\n",
       "      <td>1</td>\n",
       "      <td>1</td>\n",
       "      <td>1</td>\n",
       "    </tr>\n",
       "    <tr>\n",
       "      <th>2</th>\n",
       "      <td>33</td>\n",
       "      <td>1.0</td>\n",
       "      <td>12.0</td>\n",
       "      <td>36.0</td>\n",
       "      <td>8.0</td>\n",
       "      <td>9.0</td>\n",
       "      <td>0</td>\n",
       "      <td>1</td>\n",
       "      <td>0</td>\n",
       "      <td>0</td>\n",
       "      <td>...</td>\n",
       "      <td>0</td>\n",
       "      <td>0</td>\n",
       "      <td>0</td>\n",
       "      <td>1</td>\n",
       "      <td>0</td>\n",
       "      <td>1</td>\n",
       "      <td>0</td>\n",
       "      <td>0</td>\n",
       "      <td>1</td>\n",
       "      <td>3</td>\n",
       "    </tr>\n",
       "    <tr>\n",
       "      <th>3</th>\n",
       "      <td>28</td>\n",
       "      <td>5.0</td>\n",
       "      <td>8.0</td>\n",
       "      <td>32.0</td>\n",
       "      <td>8.0</td>\n",
       "      <td>9.0</td>\n",
       "      <td>1</td>\n",
       "      <td>1</td>\n",
       "      <td>0</td>\n",
       "      <td>0</td>\n",
       "      <td>...</td>\n",
       "      <td>0</td>\n",
       "      <td>1</td>\n",
       "      <td>0</td>\n",
       "      <td>1</td>\n",
       "      <td>0</td>\n",
       "      <td>1</td>\n",
       "      <td>0</td>\n",
       "      <td>0</td>\n",
       "      <td>3</td>\n",
       "      <td>3</td>\n",
       "    </tr>\n",
       "    <tr>\n",
       "      <th>4</th>\n",
       "      <td>23</td>\n",
       "      <td>2.0</td>\n",
       "      <td>6.0</td>\n",
       "      <td>24.0</td>\n",
       "      <td>6.0</td>\n",
       "      <td>8.0</td>\n",
       "      <td>1</td>\n",
       "      <td>1</td>\n",
       "      <td>0</td>\n",
       "      <td>0</td>\n",
       "      <td>...</td>\n",
       "      <td>0</td>\n",
       "      <td>0</td>\n",
       "      <td>0</td>\n",
       "      <td>1</td>\n",
       "      <td>0</td>\n",
       "      <td>1</td>\n",
       "      <td>0</td>\n",
       "      <td>0</td>\n",
       "      <td>2</td>\n",
       "      <td>3</td>\n",
       "    </tr>\n",
       "  </tbody>\n",
       "</table>\n",
       "<p>5 rows × 33 columns</p>\n",
       "</div>"
      ],
      "text/plain": [
       "   mage  monpre  npvis  fage  omaps  fmaps  male  mwhte  mblck  moth  ...  \\\n",
       "0    26     2.0   12.0  34.0    9.0    9.0     1      0      0     1  ...   \n",
       "1    29     2.0   12.0  32.0    8.0    9.0     0      1      0     0  ...   \n",
       "2    33     1.0   12.0  36.0    8.0    9.0     0      1      0     0  ...   \n",
       "3    28     5.0    8.0  32.0    8.0    9.0     1      1      0     0  ...   \n",
       "4    23     2.0    6.0  24.0    6.0    8.0     1      1      0     0  ...   \n",
       "\n",
       "   out_drink  sameEduc  bothBlck  bothWhte  bothOth  raceSame  BDrinks  BCigs  \\\n",
       "0          0         0         0         0        1         1        0      0   \n",
       "1          0         1         0         1        0         1        1      1   \n",
       "2          0         0         0         1        0         1        0      0   \n",
       "3          0         1         0         1        0         1        0      0   \n",
       "4          0         0         0         1        0         1        0      0   \n",
       "\n",
       "   CatMeduc  CatFeduc  \n",
       "0         1         3  \n",
       "1         1         1  \n",
       "2         1         3  \n",
       "3         3         3  \n",
       "4         2         3  \n",
       "\n",
       "[5 rows x 33 columns]"
      ]
     },
     "execution_count": 295,
     "metadata": {},
     "output_type": "execute_result"
    }
   ],
   "source": [
    "birthweight2.head()"
   ]
  },
  {
   "cell_type": "code",
   "execution_count": 296,
   "metadata": {},
   "outputs": [
    {
     "data": {
      "text/html": [
       "<div>\n",
       "<style scoped>\n",
       "    .dataframe tbody tr th:only-of-type {\n",
       "        vertical-align: middle;\n",
       "    }\n",
       "\n",
       "    .dataframe tbody tr th {\n",
       "        vertical-align: top;\n",
       "    }\n",
       "\n",
       "    .dataframe thead th {\n",
       "        text-align: right;\n",
       "    }\n",
       "</style>\n",
       "<table border=\"1\" class=\"dataframe\">\n",
       "  <thead>\n",
       "    <tr style=\"text-align: right;\">\n",
       "      <th></th>\n",
       "      <th>mage</th>\n",
       "      <th>monpre</th>\n",
       "      <th>npvis</th>\n",
       "      <th>fage</th>\n",
       "      <th>omaps</th>\n",
       "      <th>fmaps</th>\n",
       "      <th>male</th>\n",
       "      <th>mwhte</th>\n",
       "      <th>mblck</th>\n",
       "      <th>moth</th>\n",
       "      <th>...</th>\n",
       "      <th>out_fage</th>\n",
       "      <th>out_feduc</th>\n",
       "      <th>out_omaps</th>\n",
       "      <th>out_fmaps</th>\n",
       "      <th>out_cigs</th>\n",
       "      <th>raceSame</th>\n",
       "      <th>BDrinks</th>\n",
       "      <th>BCigs</th>\n",
       "      <th>CatMeduc</th>\n",
       "      <th>CatFeduc</th>\n",
       "    </tr>\n",
       "  </thead>\n",
       "  <tbody>\n",
       "    <tr>\n",
       "      <th>0</th>\n",
       "      <td>26</td>\n",
       "      <td>2.0</td>\n",
       "      <td>12.0</td>\n",
       "      <td>34.0</td>\n",
       "      <td>9.0</td>\n",
       "      <td>9.0</td>\n",
       "      <td>1</td>\n",
       "      <td>0</td>\n",
       "      <td>0</td>\n",
       "      <td>1</td>\n",
       "      <td>...</td>\n",
       "      <td>0</td>\n",
       "      <td>0</td>\n",
       "      <td>0</td>\n",
       "      <td>0</td>\n",
       "      <td>0</td>\n",
       "      <td>1</td>\n",
       "      <td>0</td>\n",
       "      <td>0</td>\n",
       "      <td>1</td>\n",
       "      <td>3</td>\n",
       "    </tr>\n",
       "    <tr>\n",
       "      <th>1</th>\n",
       "      <td>29</td>\n",
       "      <td>2.0</td>\n",
       "      <td>12.0</td>\n",
       "      <td>32.0</td>\n",
       "      <td>8.0</td>\n",
       "      <td>9.0</td>\n",
       "      <td>0</td>\n",
       "      <td>1</td>\n",
       "      <td>0</td>\n",
       "      <td>0</td>\n",
       "      <td>...</td>\n",
       "      <td>0</td>\n",
       "      <td>0</td>\n",
       "      <td>0</td>\n",
       "      <td>0</td>\n",
       "      <td>1</td>\n",
       "      <td>1</td>\n",
       "      <td>1</td>\n",
       "      <td>1</td>\n",
       "      <td>1</td>\n",
       "      <td>1</td>\n",
       "    </tr>\n",
       "    <tr>\n",
       "      <th>2</th>\n",
       "      <td>33</td>\n",
       "      <td>1.0</td>\n",
       "      <td>12.0</td>\n",
       "      <td>36.0</td>\n",
       "      <td>8.0</td>\n",
       "      <td>9.0</td>\n",
       "      <td>0</td>\n",
       "      <td>1</td>\n",
       "      <td>0</td>\n",
       "      <td>0</td>\n",
       "      <td>...</td>\n",
       "      <td>0</td>\n",
       "      <td>0</td>\n",
       "      <td>0</td>\n",
       "      <td>0</td>\n",
       "      <td>0</td>\n",
       "      <td>1</td>\n",
       "      <td>0</td>\n",
       "      <td>0</td>\n",
       "      <td>1</td>\n",
       "      <td>3</td>\n",
       "    </tr>\n",
       "    <tr>\n",
       "      <th>3</th>\n",
       "      <td>28</td>\n",
       "      <td>5.0</td>\n",
       "      <td>8.0</td>\n",
       "      <td>32.0</td>\n",
       "      <td>8.0</td>\n",
       "      <td>9.0</td>\n",
       "      <td>1</td>\n",
       "      <td>1</td>\n",
       "      <td>0</td>\n",
       "      <td>0</td>\n",
       "      <td>...</td>\n",
       "      <td>0</td>\n",
       "      <td>1</td>\n",
       "      <td>0</td>\n",
       "      <td>0</td>\n",
       "      <td>0</td>\n",
       "      <td>1</td>\n",
       "      <td>0</td>\n",
       "      <td>0</td>\n",
       "      <td>3</td>\n",
       "      <td>3</td>\n",
       "    </tr>\n",
       "    <tr>\n",
       "      <th>4</th>\n",
       "      <td>23</td>\n",
       "      <td>2.0</td>\n",
       "      <td>6.0</td>\n",
       "      <td>24.0</td>\n",
       "      <td>6.0</td>\n",
       "      <td>8.0</td>\n",
       "      <td>1</td>\n",
       "      <td>1</td>\n",
       "      <td>0</td>\n",
       "      <td>0</td>\n",
       "      <td>...</td>\n",
       "      <td>0</td>\n",
       "      <td>0</td>\n",
       "      <td>-1</td>\n",
       "      <td>0</td>\n",
       "      <td>0</td>\n",
       "      <td>1</td>\n",
       "      <td>0</td>\n",
       "      <td>0</td>\n",
       "      <td>2</td>\n",
       "      <td>3</td>\n",
       "    </tr>\n",
       "  </tbody>\n",
       "</table>\n",
       "<p>5 rows × 28 columns</p>\n",
       "</div>"
      ],
      "text/plain": [
       "   mage  monpre  npvis  fage  omaps  fmaps  male  mwhte  mblck  moth  ...  \\\n",
       "0    26     2.0   12.0  34.0    9.0    9.0     1      0      0     1  ...   \n",
       "1    29     2.0   12.0  32.0    8.0    9.0     0      1      0     0  ...   \n",
       "2    33     1.0   12.0  36.0    8.0    9.0     0      1      0     0  ...   \n",
       "3    28     5.0    8.0  32.0    8.0    9.0     1      1      0     0  ...   \n",
       "4    23     2.0    6.0  24.0    6.0    8.0     1      1      0     0  ...   \n",
       "\n",
       "   out_fage  out_feduc  out_omaps  out_fmaps  out_cigs  raceSame  BDrinks  \\\n",
       "0         0          0          0          0         0         1        0   \n",
       "1         0          0          0          0         1         1        1   \n",
       "2         0          0          0          0         0         1        0   \n",
       "3         0          1          0          0         0         1        0   \n",
       "4         0          0         -1          0         0         1        0   \n",
       "\n",
       "   BCigs  CatMeduc  CatFeduc  \n",
       "0      0         1         3  \n",
       "1      1         1         1  \n",
       "2      0         1         3  \n",
       "3      0         3         3  \n",
       "4      0         2         3  \n",
       "\n",
       "[5 rows x 28 columns]"
      ]
     },
     "execution_count": 296,
     "metadata": {},
     "output_type": "execute_result"
    }
   ],
   "source": [
    "birthweight2 = birthweight2.drop(['out_drink', 'bothOth', 'bothWhte', 'bothBlck', 'sameEduc'], axis=1)\n",
    "birthweight2.head()"
   ]
  },
  {
   "cell_type": "code",
   "execution_count": 297,
   "metadata": {},
   "outputs": [
    {
     "data": {
      "text/html": [
       "<div>\n",
       "<style scoped>\n",
       "    .dataframe tbody tr th:only-of-type {\n",
       "        vertical-align: middle;\n",
       "    }\n",
       "\n",
       "    .dataframe tbody tr th {\n",
       "        vertical-align: top;\n",
       "    }\n",
       "\n",
       "    .dataframe thead th {\n",
       "        text-align: right;\n",
       "    }\n",
       "</style>\n",
       "<table border=\"1\" class=\"dataframe\">\n",
       "  <thead>\n",
       "    <tr style=\"text-align: right;\">\n",
       "      <th></th>\n",
       "      <th>mage</th>\n",
       "      <th>monpre</th>\n",
       "      <th>npvis</th>\n",
       "      <th>fage</th>\n",
       "      <th>omaps</th>\n",
       "      <th>fmaps</th>\n",
       "      <th>male</th>\n",
       "      <th>mwhte</th>\n",
       "      <th>mblck</th>\n",
       "      <th>moth</th>\n",
       "      <th>...</th>\n",
       "      <th>bwght</th>\n",
       "      <th>out_mage</th>\n",
       "      <th>out_meduc</th>\n",
       "      <th>out_monpre</th>\n",
       "      <th>out_npvis</th>\n",
       "      <th>raceSame</th>\n",
       "      <th>BDrinks</th>\n",
       "      <th>BCigs</th>\n",
       "      <th>CatMeduc</th>\n",
       "      <th>CatFeduc</th>\n",
       "    </tr>\n",
       "  </thead>\n",
       "  <tbody>\n",
       "    <tr>\n",
       "      <th>0</th>\n",
       "      <td>26</td>\n",
       "      <td>2.0</td>\n",
       "      <td>12.0</td>\n",
       "      <td>34.0</td>\n",
       "      <td>9.0</td>\n",
       "      <td>9.0</td>\n",
       "      <td>1</td>\n",
       "      <td>0</td>\n",
       "      <td>0</td>\n",
       "      <td>1</td>\n",
       "      <td>...</td>\n",
       "      <td>3060</td>\n",
       "      <td>0</td>\n",
       "      <td>0</td>\n",
       "      <td>0</td>\n",
       "      <td>0</td>\n",
       "      <td>1</td>\n",
       "      <td>0</td>\n",
       "      <td>0</td>\n",
       "      <td>1</td>\n",
       "      <td>3</td>\n",
       "    </tr>\n",
       "    <tr>\n",
       "      <th>1</th>\n",
       "      <td>29</td>\n",
       "      <td>2.0</td>\n",
       "      <td>12.0</td>\n",
       "      <td>32.0</td>\n",
       "      <td>8.0</td>\n",
       "      <td>9.0</td>\n",
       "      <td>0</td>\n",
       "      <td>1</td>\n",
       "      <td>0</td>\n",
       "      <td>0</td>\n",
       "      <td>...</td>\n",
       "      <td>3730</td>\n",
       "      <td>0</td>\n",
       "      <td>0</td>\n",
       "      <td>0</td>\n",
       "      <td>0</td>\n",
       "      <td>1</td>\n",
       "      <td>1</td>\n",
       "      <td>1</td>\n",
       "      <td>1</td>\n",
       "      <td>1</td>\n",
       "    </tr>\n",
       "    <tr>\n",
       "      <th>2</th>\n",
       "      <td>33</td>\n",
       "      <td>1.0</td>\n",
       "      <td>12.0</td>\n",
       "      <td>36.0</td>\n",
       "      <td>8.0</td>\n",
       "      <td>9.0</td>\n",
       "      <td>0</td>\n",
       "      <td>1</td>\n",
       "      <td>0</td>\n",
       "      <td>0</td>\n",
       "      <td>...</td>\n",
       "      <td>2530</td>\n",
       "      <td>0</td>\n",
       "      <td>0</td>\n",
       "      <td>0</td>\n",
       "      <td>0</td>\n",
       "      <td>1</td>\n",
       "      <td>0</td>\n",
       "      <td>0</td>\n",
       "      <td>1</td>\n",
       "      <td>3</td>\n",
       "    </tr>\n",
       "    <tr>\n",
       "      <th>3</th>\n",
       "      <td>28</td>\n",
       "      <td>5.0</td>\n",
       "      <td>8.0</td>\n",
       "      <td>32.0</td>\n",
       "      <td>8.0</td>\n",
       "      <td>9.0</td>\n",
       "      <td>1</td>\n",
       "      <td>1</td>\n",
       "      <td>0</td>\n",
       "      <td>0</td>\n",
       "      <td>...</td>\n",
       "      <td>3289</td>\n",
       "      <td>0</td>\n",
       "      <td>1</td>\n",
       "      <td>1</td>\n",
       "      <td>0</td>\n",
       "      <td>1</td>\n",
       "      <td>0</td>\n",
       "      <td>0</td>\n",
       "      <td>3</td>\n",
       "      <td>3</td>\n",
       "    </tr>\n",
       "    <tr>\n",
       "      <th>4</th>\n",
       "      <td>23</td>\n",
       "      <td>2.0</td>\n",
       "      <td>6.0</td>\n",
       "      <td>24.0</td>\n",
       "      <td>6.0</td>\n",
       "      <td>8.0</td>\n",
       "      <td>1</td>\n",
       "      <td>1</td>\n",
       "      <td>0</td>\n",
       "      <td>0</td>\n",
       "      <td>...</td>\n",
       "      <td>3590</td>\n",
       "      <td>0</td>\n",
       "      <td>0</td>\n",
       "      <td>0</td>\n",
       "      <td>0</td>\n",
       "      <td>1</td>\n",
       "      <td>0</td>\n",
       "      <td>0</td>\n",
       "      <td>2</td>\n",
       "      <td>3</td>\n",
       "    </tr>\n",
       "  </tbody>\n",
       "</table>\n",
       "<p>5 rows × 23 columns</p>\n",
       "</div>"
      ],
      "text/plain": [
       "   mage  monpre  npvis  fage  omaps  fmaps  male  mwhte  mblck  moth  ...  \\\n",
       "0    26     2.0   12.0  34.0    9.0    9.0     1      0      0     1  ...   \n",
       "1    29     2.0   12.0  32.0    8.0    9.0     0      1      0     0  ...   \n",
       "2    33     1.0   12.0  36.0    8.0    9.0     0      1      0     0  ...   \n",
       "3    28     5.0    8.0  32.0    8.0    9.0     1      1      0     0  ...   \n",
       "4    23     2.0    6.0  24.0    6.0    8.0     1      1      0     0  ...   \n",
       "\n",
       "   bwght  out_mage  out_meduc  out_monpre  out_npvis  raceSame  BDrinks  \\\n",
       "0   3060         0          0           0          0         1        0   \n",
       "1   3730         0          0           0          0         1        1   \n",
       "2   2530         0          0           0          0         1        0   \n",
       "3   3289         0          1           1          0         1        0   \n",
       "4   3590         0          0           0          0         1        0   \n",
       "\n",
       "   BCigs  CatMeduc  CatFeduc  \n",
       "0      0         1         3  \n",
       "1      1         1         1  \n",
       "2      0         1         3  \n",
       "3      0         3         3  \n",
       "4      0         2         3  \n",
       "\n",
       "[5 rows x 23 columns]"
      ]
     },
     "execution_count": 297,
     "metadata": {},
     "output_type": "execute_result"
    }
   ],
   "source": [
    "birthweight2 = birthweight2.drop(['out_fage', 'out_feduc', 'out_omaps', 'out_fmaps', 'out_cigs'], axis=1)\n",
    "birthweight2.head()"
   ]
  },
  {
   "cell_type": "code",
   "execution_count": 298,
   "metadata": {},
   "outputs": [
    {
     "data": {
      "text/html": [
       "<div>\n",
       "<style scoped>\n",
       "    .dataframe tbody tr th:only-of-type {\n",
       "        vertical-align: middle;\n",
       "    }\n",
       "\n",
       "    .dataframe tbody tr th {\n",
       "        vertical-align: top;\n",
       "    }\n",
       "\n",
       "    .dataframe thead th {\n",
       "        text-align: right;\n",
       "    }\n",
       "</style>\n",
       "<table border=\"1\" class=\"dataframe\">\n",
       "  <thead>\n",
       "    <tr style=\"text-align: right;\">\n",
       "      <th></th>\n",
       "      <th>mage</th>\n",
       "      <th>monpre</th>\n",
       "      <th>npvis</th>\n",
       "      <th>fage</th>\n",
       "      <th>omaps</th>\n",
       "      <th>fmaps</th>\n",
       "      <th>male</th>\n",
       "      <th>moth</th>\n",
       "      <th>fwhte</th>\n",
       "      <th>fblck</th>\n",
       "      <th>foth</th>\n",
       "      <th>bwght</th>\n",
       "      <th>raceSame</th>\n",
       "      <th>BDrinks</th>\n",
       "      <th>BCigs</th>\n",
       "      <th>CatMeduc</th>\n",
       "      <th>CatFeduc</th>\n",
       "    </tr>\n",
       "  </thead>\n",
       "  <tbody>\n",
       "    <tr>\n",
       "      <th>0</th>\n",
       "      <td>26</td>\n",
       "      <td>2.0</td>\n",
       "      <td>12.0</td>\n",
       "      <td>34.0</td>\n",
       "      <td>9.0</td>\n",
       "      <td>9.0</td>\n",
       "      <td>1</td>\n",
       "      <td>1</td>\n",
       "      <td>0</td>\n",
       "      <td>0</td>\n",
       "      <td>1</td>\n",
       "      <td>3060</td>\n",
       "      <td>1</td>\n",
       "      <td>0</td>\n",
       "      <td>0</td>\n",
       "      <td>1</td>\n",
       "      <td>3</td>\n",
       "    </tr>\n",
       "    <tr>\n",
       "      <th>1</th>\n",
       "      <td>29</td>\n",
       "      <td>2.0</td>\n",
       "      <td>12.0</td>\n",
       "      <td>32.0</td>\n",
       "      <td>8.0</td>\n",
       "      <td>9.0</td>\n",
       "      <td>0</td>\n",
       "      <td>0</td>\n",
       "      <td>1</td>\n",
       "      <td>0</td>\n",
       "      <td>0</td>\n",
       "      <td>3730</td>\n",
       "      <td>1</td>\n",
       "      <td>1</td>\n",
       "      <td>1</td>\n",
       "      <td>1</td>\n",
       "      <td>1</td>\n",
       "    </tr>\n",
       "    <tr>\n",
       "      <th>2</th>\n",
       "      <td>33</td>\n",
       "      <td>1.0</td>\n",
       "      <td>12.0</td>\n",
       "      <td>36.0</td>\n",
       "      <td>8.0</td>\n",
       "      <td>9.0</td>\n",
       "      <td>0</td>\n",
       "      <td>0</td>\n",
       "      <td>1</td>\n",
       "      <td>0</td>\n",
       "      <td>0</td>\n",
       "      <td>2530</td>\n",
       "      <td>1</td>\n",
       "      <td>0</td>\n",
       "      <td>0</td>\n",
       "      <td>1</td>\n",
       "      <td>3</td>\n",
       "    </tr>\n",
       "    <tr>\n",
       "      <th>3</th>\n",
       "      <td>28</td>\n",
       "      <td>5.0</td>\n",
       "      <td>8.0</td>\n",
       "      <td>32.0</td>\n",
       "      <td>8.0</td>\n",
       "      <td>9.0</td>\n",
       "      <td>1</td>\n",
       "      <td>0</td>\n",
       "      <td>1</td>\n",
       "      <td>0</td>\n",
       "      <td>0</td>\n",
       "      <td>3289</td>\n",
       "      <td>1</td>\n",
       "      <td>0</td>\n",
       "      <td>0</td>\n",
       "      <td>3</td>\n",
       "      <td>3</td>\n",
       "    </tr>\n",
       "    <tr>\n",
       "      <th>4</th>\n",
       "      <td>23</td>\n",
       "      <td>2.0</td>\n",
       "      <td>6.0</td>\n",
       "      <td>24.0</td>\n",
       "      <td>6.0</td>\n",
       "      <td>8.0</td>\n",
       "      <td>1</td>\n",
       "      <td>0</td>\n",
       "      <td>1</td>\n",
       "      <td>0</td>\n",
       "      <td>0</td>\n",
       "      <td>3590</td>\n",
       "      <td>1</td>\n",
       "      <td>0</td>\n",
       "      <td>0</td>\n",
       "      <td>2</td>\n",
       "      <td>3</td>\n",
       "    </tr>\n",
       "  </tbody>\n",
       "</table>\n",
       "</div>"
      ],
      "text/plain": [
       "   mage  monpre  npvis  fage  omaps  fmaps  male  moth  fwhte  fblck  foth  \\\n",
       "0    26     2.0   12.0  34.0    9.0    9.0     1     1      0      0     1   \n",
       "1    29     2.0   12.0  32.0    8.0    9.0     0     0      1      0     0   \n",
       "2    33     1.0   12.0  36.0    8.0    9.0     0     0      1      0     0   \n",
       "3    28     5.0    8.0  32.0    8.0    9.0     1     0      1      0     0   \n",
       "4    23     2.0    6.0  24.0    6.0    8.0     1     0      1      0     0   \n",
       "\n",
       "   bwght  raceSame  BDrinks  BCigs  CatMeduc  CatFeduc  \n",
       "0   3060         1        0      0         1         3  \n",
       "1   3730         1        1      1         1         1  \n",
       "2   2530         1        0      0         1         3  \n",
       "3   3289         1        0      0         3         3  \n",
       "4   3590         1        0      0         2         3  "
      ]
     },
     "execution_count": 298,
     "metadata": {},
     "output_type": "execute_result"
    }
   ],
   "source": [
    "birthweight2 = birthweight2.drop(['out_mage', 'out_meduc', 'out_monpre', 'out_npvis', 'mwhte', 'mblck'], axis=1)\n",
    "birthweight2.head()"
   ]
  },
  {
   "cell_type": "code",
   "execution_count": 299,
   "metadata": {},
   "outputs": [
    {
     "data": {
      "text/html": [
       "<div>\n",
       "<style scoped>\n",
       "    .dataframe tbody tr th:only-of-type {\n",
       "        vertical-align: middle;\n",
       "    }\n",
       "\n",
       "    .dataframe tbody tr th {\n",
       "        vertical-align: top;\n",
       "    }\n",
       "\n",
       "    .dataframe thead th {\n",
       "        text-align: right;\n",
       "    }\n",
       "</style>\n",
       "<table border=\"1\" class=\"dataframe\">\n",
       "  <thead>\n",
       "    <tr style=\"text-align: right;\">\n",
       "      <th></th>\n",
       "      <th>mage</th>\n",
       "      <th>monpre</th>\n",
       "      <th>npvis</th>\n",
       "      <th>fage</th>\n",
       "      <th>omaps</th>\n",
       "      <th>fmaps</th>\n",
       "      <th>male</th>\n",
       "      <th>bwght</th>\n",
       "      <th>raceSame</th>\n",
       "      <th>BDrinks</th>\n",
       "      <th>BCigs</th>\n",
       "      <th>CatMeduc</th>\n",
       "      <th>CatFeduc</th>\n",
       "    </tr>\n",
       "  </thead>\n",
       "  <tbody>\n",
       "    <tr>\n",
       "      <th>0</th>\n",
       "      <td>26</td>\n",
       "      <td>2.0</td>\n",
       "      <td>12.0</td>\n",
       "      <td>34.0</td>\n",
       "      <td>9.0</td>\n",
       "      <td>9.0</td>\n",
       "      <td>1</td>\n",
       "      <td>3060</td>\n",
       "      <td>1</td>\n",
       "      <td>0</td>\n",
       "      <td>0</td>\n",
       "      <td>1</td>\n",
       "      <td>3</td>\n",
       "    </tr>\n",
       "    <tr>\n",
       "      <th>1</th>\n",
       "      <td>29</td>\n",
       "      <td>2.0</td>\n",
       "      <td>12.0</td>\n",
       "      <td>32.0</td>\n",
       "      <td>8.0</td>\n",
       "      <td>9.0</td>\n",
       "      <td>0</td>\n",
       "      <td>3730</td>\n",
       "      <td>1</td>\n",
       "      <td>1</td>\n",
       "      <td>1</td>\n",
       "      <td>1</td>\n",
       "      <td>1</td>\n",
       "    </tr>\n",
       "    <tr>\n",
       "      <th>2</th>\n",
       "      <td>33</td>\n",
       "      <td>1.0</td>\n",
       "      <td>12.0</td>\n",
       "      <td>36.0</td>\n",
       "      <td>8.0</td>\n",
       "      <td>9.0</td>\n",
       "      <td>0</td>\n",
       "      <td>2530</td>\n",
       "      <td>1</td>\n",
       "      <td>0</td>\n",
       "      <td>0</td>\n",
       "      <td>1</td>\n",
       "      <td>3</td>\n",
       "    </tr>\n",
       "    <tr>\n",
       "      <th>3</th>\n",
       "      <td>28</td>\n",
       "      <td>5.0</td>\n",
       "      <td>8.0</td>\n",
       "      <td>32.0</td>\n",
       "      <td>8.0</td>\n",
       "      <td>9.0</td>\n",
       "      <td>1</td>\n",
       "      <td>3289</td>\n",
       "      <td>1</td>\n",
       "      <td>0</td>\n",
       "      <td>0</td>\n",
       "      <td>3</td>\n",
       "      <td>3</td>\n",
       "    </tr>\n",
       "    <tr>\n",
       "      <th>4</th>\n",
       "      <td>23</td>\n",
       "      <td>2.0</td>\n",
       "      <td>6.0</td>\n",
       "      <td>24.0</td>\n",
       "      <td>6.0</td>\n",
       "      <td>8.0</td>\n",
       "      <td>1</td>\n",
       "      <td>3590</td>\n",
       "      <td>1</td>\n",
       "      <td>0</td>\n",
       "      <td>0</td>\n",
       "      <td>2</td>\n",
       "      <td>3</td>\n",
       "    </tr>\n",
       "  </tbody>\n",
       "</table>\n",
       "</div>"
      ],
      "text/plain": [
       "   mage  monpre  npvis  fage  omaps  fmaps  male  bwght  raceSame  BDrinks  \\\n",
       "0    26     2.0   12.0  34.0    9.0    9.0     1   3060         1        0   \n",
       "1    29     2.0   12.0  32.0    8.0    9.0     0   3730         1        1   \n",
       "2    33     1.0   12.0  36.0    8.0    9.0     0   2530         1        0   \n",
       "3    28     5.0    8.0  32.0    8.0    9.0     1   3289         1        0   \n",
       "4    23     2.0    6.0  24.0    6.0    8.0     1   3590         1        0   \n",
       "\n",
       "   BCigs  CatMeduc  CatFeduc  \n",
       "0      0         1         3  \n",
       "1      1         1         1  \n",
       "2      0         1         3  \n",
       "3      0         3         3  \n",
       "4      0         2         3  "
      ]
     },
     "execution_count": 299,
     "metadata": {},
     "output_type": "execute_result"
    }
   ],
   "source": [
    "birthweight2 = birthweight2.drop(['moth', 'fwhte', 'fblck', 'foth'], axis=1)\n",
    "birthweight2.head()"
   ]
  },
  {
   "cell_type": "code",
   "execution_count": 300,
   "metadata": {},
   "outputs": [],
   "source": [
    "# attributes\n",
    "X = birthweight2.drop('bwght', 1)\n",
    "# lables\n",
    "y = birthweight2['bwght']\n",
    "\n",
    "X_train, X_test, y_train, y_test = train_test_split(X, y, test_size=0.2, random_state=123)"
   ]
  },
  {
   "cell_type": "code",
   "execution_count": null,
   "metadata": {},
   "outputs": [],
   "source": []
  },
  {
   "cell_type": "code",
   "execution_count": 494,
   "metadata": {},
   "outputs": [],
   "source": [
    "xg_reg = xgb.XGBRegressor(objective ='reg:linear',\n",
    "                          colsample_bytree = 0.2,\n",
    "                          learning_rate = 0.3,\n",
    "                          max_depth = 10,\n",
    "                          #alpha = 30,\n",
    "                          n_estimators = 12,\n",
    "                          subsample = 1)"
   ]
  },
  {
   "cell_type": "code",
   "execution_count": 495,
   "metadata": {},
   "outputs": [],
   "source": [
    "xg_reg.fit(X_train,y_train)\n",
    "\n",
    "preds = xg_reg.predict(X_test)"
   ]
  },
  {
   "cell_type": "code",
   "execution_count": 496,
   "metadata": {},
   "outputs": [
    {
     "name": "stdout",
     "output_type": "stream",
     "text": [
      "RMSE: 363.318736\n",
      "R2: 0.489704\n"
     ]
    }
   ],
   "source": [
    "rmse = np.sqrt(mean_squared_error(y_test, preds))\n",
    "r2 = r2_score(y_test, preds)\n",
    "print(\"RMSE: %f\" % (rmse))\n",
    "print(\"R2: %f\" % (r2))"
   ]
  },
  {
   "cell_type": "code",
   "execution_count": 497,
   "metadata": {},
   "outputs": [
    {
     "data": {
      "image/png": "[encoded data removed]",
      "text/plain": [
       "<Figure size 720x720 with 1 Axes>"
      ]
     },
     "metadata": {
      "needs_background": "light"
     },
     "output_type": "display_data"
    }
   ],
   "source": [
    "xgb.plot_importance(xg_reg)\n",
    "plt.rcParams['figure.figsize'] = [10, 10]\n",
    "plt.show()"
   ]
  },
  {
   "cell_type": "markdown",
   "metadata": {},
   "source": [
    "## TBD\n",
    "\n",
    "As the challenge is referring to low birthweight let's try to predict low birthweight based on the factors given and not the exact number\n",
    "\n"
   ]
  },
  {
   "cell_type": "code",
   "execution_count": 305,
   "metadata": {},
   "outputs": [],
   "source": [
    "birthweight2['LowBW'] = birthweight2['bwght'].apply(lambda val: 1 if val < 2500 else 0)"
   ]
  },
  {
   "cell_type": "code",
   "execution_count": 306,
   "metadata": {},
   "outputs": [
    {
     "data": {
      "text/plain": [
       "count    1832.000000\n",
       "mean        0.050218\n",
       "std         0.218455\n",
       "min         0.000000\n",
       "25%         0.000000\n",
       "50%         0.000000\n",
       "75%         0.000000\n",
       "max         1.000000\n",
       "Name: LowBW, dtype: float64"
      ]
     },
     "execution_count": 306,
     "metadata": {},
     "output_type": "execute_result"
    }
   ],
   "source": [
    "birthweight2['LowBW'].describe()"
   ]
  },
  {
   "cell_type": "code",
   "execution_count": 307,
   "metadata": {},
   "outputs": [],
   "source": [
    "birthweight2 = birthweight2.drop(['bwght'], axis=1)\n",
    "\n"
   ]
  },
  {
   "cell_type": "code",
   "execution_count": 308,
   "metadata": {},
   "outputs": [],
   "source": [
    "# attributes\n",
    "X = birthweight2.drop('LowBW', 1)\n",
    "# lables\n",
    "y = birthweight2['LowBW']\n",
    "\n",
    "X_train, X_test, y_train, y_test = train_test_split(X, y, test_size=0.2, random_state=123)"
   ]
  },
  {
   "cell_type": "code",
   "execution_count": 508,
   "metadata": {},
   "outputs": [],
   "source": [
    "xg_reg = xgb.XGBRegressor(objective ='reg:linear',\n",
    "                          colsample_bytree = 0.14,\n",
    "                          learning_rate = 0.3,\n",
    "                          max_depth = 5,\n",
    "                          alpha = 30,\n",
    "                          n_estimators = 22,\n",
    "                          subsample = 1)\n"
   ]
  },
  {
   "cell_type": "code",
   "execution_count": 524,
   "metadata": {},
   "outputs": [],
   "source": [
    "xg_reg.fit(X_train,y_train)\n",
    "\n",
    "preds = xg_reg.predict(X_test)"
   ]
  },
  {
   "cell_type": "code",
   "execution_count": 525,
   "metadata": {},
   "outputs": [
    {
     "name": "stdout",
     "output_type": "stream",
     "text": [
      "RMSE: 339.805498\n",
      "R2: 0.553617\n",
      "Accuracy: 0.553617\n"
     ]
    }
   ],
   "source": [
    "rmse = np.sqrt(mean_squared_error(y_test, preds))\n",
    "r2 = r2_score(y_test, preds)\n",
    "print(\"RMSE: %f\" % (rmse))\n",
    "print(\"R2: %f\" % (r2))\n",
    "score = xg_reg.score(X_test, y_test)\n",
    "print(\"Accuracy: %f\" % (score))"
   ]
  },
  {
   "cell_type": "code",
   "execution_count": 526,
   "metadata": {},
   "outputs": [
    {
     "data": {
      "image/png": "[encoded data removed]",
      "text/plain": [
       "<Figure size 720x720 with 1 Axes>"
      ]
     },
     "metadata": {
      "needs_background": "light"
     },
     "output_type": "display_data"
    }
   ],
   "source": [
    "xgb.plot_importance(xg_reg)\n",
    "plt.rcParams['figure.figsize'] = [10, 10]\n",
    "plt.show()"
   ]
  },
  {
   "cell_type": "code",
   "execution_count": 601,
   "metadata": {},
   "outputs": [
    {
     "data": {
      "text/plain": [
       "DecisionTreeRegressor(criterion='mae', max_depth=3, max_features=None,\n",
       "           max_leaf_nodes=None, min_impurity_decrease=0.0,\n",
       "           min_impurity_split=None, min_samples_leaf=1,\n",
       "           min_samples_split=2, min_weight_fraction_leaf=0.0,\n",
       "           presort=False, random_state=508, splitter='best')"
      ]
     },
     "execution_count": 601,
     "metadata": {},
     "output_type": "execute_result"
    }
   ],
   "source": [
    "from sklearn import tree\n",
    "from sklearn.model_selection import train_test_split\n",
    "from sklearn.linear_model import LogisticRegression\n",
    "from sklearn.model_selection import GridSearchCV\n",
    "clf = tree.DecisionTreeRegressor(max_depth=3, random_state = 508, criterion='mae')\n",
    "clf.fit(X_train, y_train)"
   ]
  },
  {
   "cell_type": "code",
   "execution_count": 605,
   "metadata": {},
   "outputs": [
    {
     "data": {
      "text/plain": [
       "DecisionTreeRegressor(criterion='mae', max_depth=None, max_features=None,\n",
       "           max_leaf_nodes=None, min_impurity_decrease=0.0,\n",
       "           min_impurity_split=None, min_samples_leaf=17,\n",
       "           min_samples_split=2, min_weight_fraction_leaf=0.0,\n",
       "           presort=False, random_state=508, splitter='best')"
      ]
     },
     "execution_count": 605,
     "metadata": {},
     "output_type": "execute_result"
    }
   ],
   "source": [
    "clf = tree.DecisionTreeRegressor(min_samples_leaf=17,\n",
    "                                random_state = 508,\n",
    "                                 criterion='mae'\n",
    "                                )\n",
    "clf.fit(X_train, y_train)"
   ]
  },
  {
   "cell_type": "code",
   "execution_count": 606,
   "metadata": {},
   "outputs": [
    {
     "name": "stdout",
     "output_type": "stream",
     "text": [
      "Testing score: 0.425859\n",
      "Training score: 0.566235\n",
      "Diff: 0.140376\n"
     ]
    }
   ],
   "source": [
    "score = clf.score(X_test, y_test)\n",
    "train_score = clf.score(X_train, y_train)\n",
    "diff = train_score - score\n",
    "\n",
    "print(\"Testing score: %f\" % (score))\n",
    "print(\"Training score: %f\" % (train_score))\n",
    "print(\"Diff: %f\" % (diff))"
   ]
  },
  {
   "cell_type": "code",
   "execution_count": 529,
   "metadata": {},
   "outputs": [
    {
     "data": {
      "image/png": "[encoded data removed]",
      "text/plain": [
       "<Figure size 720x720 with 1 Axes>"
      ]
     },
     "metadata": {
      "needs_background": "light"
     },
     "output_type": "display_data"
    }
   ],
   "source": [
    "dep = np.arange(1, 9)\n",
    "train_accuracy = np.empty(len(dep))\n",
    "test_accuracy = np.empty(len(dep))\n",
    "\n",
    "# Loop over different values of k\n",
    "for i, k in enumerate(dep):\n",
    "    # Setup a Decision Tree Classifier\n",
    "    clf = tree.DecisionTreeRegressor(max_depth=k)\n",
    "\n",
    "    # Fit the classifier to the training data\n",
    "    clf.fit(X_train, y_train)\n",
    "\n",
    "    #Compute accuracy on the training set\n",
    "    train_accuracy[i] = clf.score(X_train, y_train)\n",
    "\n",
    "    #Compute accuracy on the testing set\n",
    "    test_accuracy[i] = clf.score(X_test, y_test)\n",
    "\n",
    "# Generate plot\n",
    "plt.title('clf: Varying depth of tree')\n",
    "plt.plot(dep, test_accuracy, label = 'Testing Accuracy')\n",
    "plt.plot(dep, train_accuracy, label = 'Training Accuracy')\n",
    "plt.legend()\n",
    "plt.xlabel('Depth of tree')\n",
    "plt.ylabel('Accuracy')\n",
    "plt.show()"
   ]
  },
  {
   "cell_type": "code",
   "execution_count": 522,
   "metadata": {},
   "outputs": [],
   "source": [
    "import graphviz\n",
    "\n",
    "\n",
    "features = X.columns.values.tolist()"
   ]
  },
  {
   "cell_type": "code",
   "execution_count": 607,
   "metadata": {},
   "outputs": [
    {
     "data": {
      "image/svg+xml": [
       "<?xml version=\"1.0\" encoding=\"UTF-8\" standalone=\"no\"?>\n",
       "<!DOCTYPE svg PUBLIC \"-//W3C//DTD SVG 1.1//EN\"\n",
       " \"http://www.w3.org/Graphics/SVG/1.1/DTD/svg11.dtd\">\n",
       "<!-- Generated by graphviz version 2.40.1 (20161225.0304)\n",
       " -->\n",
       "<!-- Title: Tree Pages: 1 -->\n",
       "<svg width=\"630pt\" height=\"581pt\"\n",
       " viewBox=\"0.00 0.00 630.00 581.00\" xmlns=\"http://www.w3.org/2000/svg\" xmlns:xlink=\"http://www.w3.org/1999/xlink\">\n",
       "<g id=\"graph0\" class=\"graph\" transform=\"scale(1 1) rotate(0) translate(4 577)\">\n",
       "<title>Tree</title>\n",
       "<polygon fill=\"#ffffff\" stroke=\"transparent\" points=\"-4,4 -4,-577 626,-577 626,4 -4,4\"/>\n",
       "<!-- 0 -->\n",
       "<g id=\"node1\" class=\"node\">\n",
       "<title>0</title>\n",
       "<path fill=\"#e58139\" fill-opacity=\"0.647059\" stroke=\"#000000\" d=\"M418,-573C418,-573 332,-573 332,-573 326,-573 320,-567 320,-561 320,-561 320,-517 320,-517 320,-511 326,-505 332,-505 332,-505 418,-505 418,-505 424,-505 430,-511 430,-517 430,-517 430,-561 430,-561 430,-567 424,-573 418,-573\"/>\n",
       "<text text-anchor=\"start\" x=\"342\" y=\"-557.8\" font-family=\"Helvetica,sans-Serif\" font-size=\"14.00\" fill=\"#000000\">drink ≤ 6.5</text>\n",
       "<text text-anchor=\"start\" x=\"328\" y=\"-542.8\" font-family=\"Helvetica,sans-Serif\" font-size=\"14.00\" fill=\"#000000\">mae = 519.665</text>\n",
       "<text text-anchor=\"start\" x=\"329\" y=\"-527.8\" font-family=\"Helvetica,sans-Serif\" font-size=\"14.00\" fill=\"#000000\">samples = 176</text>\n",
       "<text text-anchor=\"start\" x=\"328.5\" y=\"-512.8\" font-family=\"Helvetica,sans-Serif\" font-size=\"14.00\" fill=\"#000000\">value = 3454.0</text>\n",
       "</g>\n",
       "<!-- 1 -->\n",
       "<g id=\"node2\" class=\"node\">\n",
       "<title>1</title>\n",
       "<path fill=\"#e58139\" fill-opacity=\"0.831373\" stroke=\"#000000\" d=\"M353.5,-469C353.5,-469 268.5,-469 268.5,-469 262.5,-469 256.5,-463 256.5,-457 256.5,-457 256.5,-413 256.5,-413 256.5,-407 262.5,-401 268.5,-401 268.5,-401 353.5,-401 353.5,-401 359.5,-401 365.5,-407 365.5,-413 365.5,-413 365.5,-457 365.5,-457 365.5,-463 359.5,-469 353.5,-469\"/>\n",
       "<text text-anchor=\"start\" x=\"278\" y=\"-453.8\" font-family=\"Helvetica,sans-Serif\" font-size=\"14.00\" fill=\"#000000\">drink ≤ 2.5</text>\n",
       "<text text-anchor=\"start\" x=\"267.5\" y=\"-438.8\" font-family=\"Helvetica,sans-Serif\" font-size=\"14.00\" fill=\"#000000\">mae = 358.54</text>\n",
       "<text text-anchor=\"start\" x=\"265\" y=\"-423.8\" font-family=\"Helvetica,sans-Serif\" font-size=\"14.00\" fill=\"#000000\">samples = 113</text>\n",
       "<text text-anchor=\"start\" x=\"264.5\" y=\"-408.8\" font-family=\"Helvetica,sans-Serif\" font-size=\"14.00\" fill=\"#000000\">value = 3700.0</text>\n",
       "</g>\n",
       "<!-- 0&#45;&gt;1 -->\n",
       "<g id=\"edge1\" class=\"edge\">\n",
       "<title>0&#45;&gt;1</title>\n",
       "<path fill=\"none\" stroke=\"#000000\" d=\"M354.044,-504.9465C348.6845,-496.2373 342.8539,-486.7626 337.2647,-477.6801\"/>\n",
       "<polygon fill=\"#000000\" stroke=\"#000000\" points=\"340.2249,-475.8122 332.0031,-469.13 334.2633,-479.481 340.2249,-475.8122\"/>\n",
       "<text text-anchor=\"middle\" x=\"326.2126\" y=\"-489.7502\" font-family=\"Helvetica,sans-Serif\" font-size=\"14.00\" fill=\"#000000\">True</text>\n",
       "</g>\n",
       "<!-- 10 -->\n",
       "<g id=\"node11\" class=\"node\">\n",
       "<title>10</title>\n",
       "<path fill=\"#e58139\" fill-opacity=\"0.168627\" stroke=\"#000000\" d=\"M482,-469C482,-469 396,-469 396,-469 390,-469 384,-463 384,-457 384,-457 384,-413 384,-413 384,-407 390,-401 396,-401 396,-401 482,-401 482,-401 488,-401 494,-407 494,-413 494,-413 494,-457 494,-457 494,-463 488,-469 482,-469\"/>\n",
       "<text text-anchor=\"start\" x=\"406\" y=\"-453.8\" font-family=\"Helvetica,sans-Serif\" font-size=\"14.00\" fill=\"#000000\">drink ≤ 8.5</text>\n",
       "<text text-anchor=\"start\" x=\"392\" y=\"-438.8\" font-family=\"Helvetica,sans-Serif\" font-size=\"14.00\" fill=\"#000000\">mae = 450.937</text>\n",
       "<text text-anchor=\"start\" x=\"397\" y=\"-423.8\" font-family=\"Helvetica,sans-Serif\" font-size=\"14.00\" fill=\"#000000\">samples = 63</text>\n",
       "<text text-anchor=\"start\" x=\"392.5\" y=\"-408.8\" font-family=\"Helvetica,sans-Serif\" font-size=\"14.00\" fill=\"#000000\">value = 2807.0</text>\n",
       "</g>\n",
       "<!-- 0&#45;&gt;10 -->\n",
       "<g id=\"edge10\" class=\"edge\">\n",
       "<title>0&#45;&gt;10</title>\n",
       "<path fill=\"none\" stroke=\"#000000\" d=\"M395.956,-504.9465C401.3155,-496.2373 407.1461,-486.7626 412.7353,-477.6801\"/>\n",
       "<polygon fill=\"#000000\" stroke=\"#000000\" points=\"415.7367,-479.481 417.9969,-469.13 409.7751,-475.8122 415.7367,-479.481\"/>\n",
       "<text text-anchor=\"middle\" x=\"423.7874\" y=\"-489.7502\" font-family=\"Helvetica,sans-Serif\" font-size=\"14.00\" fill=\"#000000\">False</text>\n",
       "</g>\n",
       "<!-- 2 -->\n",
       "<g id=\"node3\" class=\"node\">\n",
       "<title>2</title>\n",
       "<path fill=\"#e58139\" stroke=\"#000000\" d=\"M225.5,-357.5C225.5,-357.5 140.5,-357.5 140.5,-357.5 134.5,-357.5 128.5,-351.5 128.5,-345.5 128.5,-345.5 128.5,-316.5 128.5,-316.5 128.5,-310.5 134.5,-304.5 140.5,-304.5 140.5,-304.5 225.5,-304.5 225.5,-304.5 231.5,-304.5 237.5,-310.5 237.5,-316.5 237.5,-316.5 237.5,-345.5 237.5,-345.5 237.5,-351.5 231.5,-357.5 225.5,-357.5\"/>\n",
       "<text text-anchor=\"start\" x=\"143.5\" y=\"-342.3\" font-family=\"Helvetica,sans-Serif\" font-size=\"14.00\" fill=\"#000000\">mae = 214.6</text>\n",
       "<text text-anchor=\"start\" x=\"141\" y=\"-327.3\" font-family=\"Helvetica,sans-Serif\" font-size=\"14.00\" fill=\"#000000\">samples = 30</text>\n",
       "<text text-anchor=\"start\" x=\"136.5\" y=\"-312.3\" font-family=\"Helvetica,sans-Serif\" font-size=\"14.00\" fill=\"#000000\">value = 3930.0</text>\n",
       "</g>\n",
       "<!-- 1&#45;&gt;2 -->\n",
       "<g id=\"edge2\" class=\"edge\">\n",
       "<title>1&#45;&gt;2</title>\n",
       "<path fill=\"none\" stroke=\"#000000\" d=\"M269.088,-400.9465C254.4467,-389.0504 238.0474,-375.726 223.5215,-363.9237\"/>\n",
       "<polygon fill=\"#000000\" stroke=\"#000000\" points=\"225.6355,-361.1317 215.6673,-357.5422 221.2214,-366.5645 225.6355,-361.1317\"/>\n",
       "</g>\n",
       "<!-- 3 -->\n",
       "<g id=\"node4\" class=\"node\">\n",
       "<title>3</title>\n",
       "<path fill=\"#e58139\" fill-opacity=\"0.756863\" stroke=\"#000000\" d=\"M354,-365C354,-365 268,-365 268,-365 262,-365 256,-359 256,-353 256,-353 256,-309 256,-309 256,-303 262,-297 268,-297 268,-297 354,-297 354,-297 360,-297 366,-303 366,-309 366,-309 366,-353 366,-353 366,-359 360,-365 354,-365\"/>\n",
       "<text text-anchor=\"start\" x=\"277\" y=\"-349.8\" font-family=\"Helvetica,sans-Serif\" font-size=\"14.00\" fill=\"#000000\">cigs ≤ 13.5</text>\n",
       "<text text-anchor=\"start\" x=\"264\" y=\"-334.8\" font-family=\"Helvetica,sans-Serif\" font-size=\"14.00\" fill=\"#000000\">mae = 349.337</text>\n",
       "<text text-anchor=\"start\" x=\"269\" y=\"-319.8\" font-family=\"Helvetica,sans-Serif\" font-size=\"14.00\" fill=\"#000000\">samples = 83</text>\n",
       "<text text-anchor=\"start\" x=\"264.5\" y=\"-304.8\" font-family=\"Helvetica,sans-Serif\" font-size=\"14.00\" fill=\"#000000\">value = 3600.0</text>\n",
       "</g>\n",
       "<!-- 1&#45;&gt;3 -->\n",
       "<g id=\"edge3\" class=\"edge\">\n",
       "<title>1&#45;&gt;3</title>\n",
       "<path fill=\"none\" stroke=\"#000000\" d=\"M311,-400.9465C311,-392.776 311,-383.9318 311,-375.3697\"/>\n",
       "<polygon fill=\"#000000\" stroke=\"#000000\" points=\"314.5001,-375.13 311,-365.13 307.5001,-375.13 314.5001,-375.13\"/>\n",
       "</g>\n",
       "<!-- 4 -->\n",
       "<g id=\"node5\" class=\"node\">\n",
       "<title>4</title>\n",
       "<path fill=\"#e58139\" fill-opacity=\"0.823529\" stroke=\"#000000\" d=\"M226,-261C226,-261 140,-261 140,-261 134,-261 128,-255 128,-249 128,-249 128,-205 128,-205 128,-199 134,-193 140,-193 140,-193 226,-193 226,-193 232,-193 238,-199 238,-205 238,-205 238,-249 238,-249 238,-255 232,-261 226,-261\"/>\n",
       "<text text-anchor=\"start\" x=\"148\" y=\"-245.8\" font-family=\"Helvetica,sans-Serif\" font-size=\"14.00\" fill=\"#000000\">fage ≤ 39.5</text>\n",
       "<text text-anchor=\"start\" x=\"136\" y=\"-230.8\" font-family=\"Helvetica,sans-Serif\" font-size=\"14.00\" fill=\"#000000\">mae = 320.017</text>\n",
       "<text text-anchor=\"start\" x=\"141\" y=\"-215.8\" font-family=\"Helvetica,sans-Serif\" font-size=\"14.00\" fill=\"#000000\">samples = 60</text>\n",
       "<text text-anchor=\"start\" x=\"136.5\" y=\"-200.8\" font-family=\"Helvetica,sans-Serif\" font-size=\"14.00\" fill=\"#000000\">value = 3690.0</text>\n",
       "</g>\n",
       "<!-- 3&#45;&gt;4 -->\n",
       "<g id=\"edge4\" class=\"edge\">\n",
       "<title>3&#45;&gt;4</title>\n",
       "<path fill=\"none\" stroke=\"#000000\" d=\"M269.088,-296.9465C257.485,-287.519 244.7779,-277.1946 232.7741,-267.4415\"/>\n",
       "<polygon fill=\"#000000\" stroke=\"#000000\" points=\"234.9744,-264.7196 225.0061,-261.13 230.5602,-270.1524 234.9744,-264.7196\"/>\n",
       "</g>\n",
       "<!-- 9 -->\n",
       "<g id=\"node10\" class=\"node\">\n",
       "<title>9</title>\n",
       "<path fill=\"#e58139\" fill-opacity=\"0.462745\" stroke=\"#000000\" d=\"M354,-253.5C354,-253.5 268,-253.5 268,-253.5 262,-253.5 256,-247.5 256,-241.5 256,-241.5 256,-212.5 256,-212.5 256,-206.5 262,-200.5 268,-200.5 268,-200.5 354,-200.5 354,-200.5 360,-200.5 366,-206.5 366,-212.5 366,-212.5 366,-241.5 366,-241.5 366,-247.5 360,-253.5 354,-253.5\"/>\n",
       "<text text-anchor=\"start\" x=\"264\" y=\"-238.3\" font-family=\"Helvetica,sans-Serif\" font-size=\"14.00\" fill=\"#000000\">mae = 255.348</text>\n",
       "<text text-anchor=\"start\" x=\"269\" y=\"-223.3\" font-family=\"Helvetica,sans-Serif\" font-size=\"14.00\" fill=\"#000000\">samples = 23</text>\n",
       "<text text-anchor=\"start\" x=\"264.5\" y=\"-208.3\" font-family=\"Helvetica,sans-Serif\" font-size=\"14.00\" fill=\"#000000\">value = 3203.0</text>\n",
       "</g>\n",
       "<!-- 3&#45;&gt;9 -->\n",
       "<g id=\"edge9\" class=\"edge\">\n",
       "<title>3&#45;&gt;9</title>\n",
       "<path fill=\"none\" stroke=\"#000000\" d=\"M311,-296.9465C311,-286.2621 311,-274.4254 311,-263.5742\"/>\n",
       "<polygon fill=\"#000000\" stroke=\"#000000\" points=\"314.5001,-263.5421 311,-253.5422 307.5001,-263.5422 314.5001,-263.5421\"/>\n",
       "</g>\n",
       "<!-- 5 -->\n",
       "<g id=\"node6\" class=\"node\">\n",
       "<title>5</title>\n",
       "<path fill=\"#e58139\" fill-opacity=\"0.843137\" stroke=\"#000000\" d=\"M162,-157C162,-157 76,-157 76,-157 70,-157 64,-151 64,-145 64,-145 64,-101 64,-101 64,-95 70,-89 76,-89 76,-89 162,-89 162,-89 168,-89 174,-95 174,-101 174,-101 174,-145 174,-145 174,-151 168,-157 162,-157\"/>\n",
       "<text text-anchor=\"start\" x=\"89\" y=\"-141.8\" font-family=\"Helvetica,sans-Serif\" font-size=\"14.00\" fill=\"#000000\">cigs ≤ 8.5</text>\n",
       "<text text-anchor=\"start\" x=\"72\" y=\"-126.8\" font-family=\"Helvetica,sans-Serif\" font-size=\"14.00\" fill=\"#000000\">mae = 222.476</text>\n",
       "<text text-anchor=\"start\" x=\"77\" y=\"-111.8\" font-family=\"Helvetica,sans-Serif\" font-size=\"14.00\" fill=\"#000000\">samples = 42</text>\n",
       "<text text-anchor=\"start\" x=\"72.5\" y=\"-96.8\" font-family=\"Helvetica,sans-Serif\" font-size=\"14.00\" fill=\"#000000\">value = 3717.0</text>\n",
       "</g>\n",
       "<!-- 4&#45;&gt;5 -->\n",
       "<g id=\"edge5\" class=\"edge\">\n",
       "<title>4&#45;&gt;5</title>\n",
       "<path fill=\"none\" stroke=\"#000000\" d=\"M162.044,-192.9465C156.6845,-184.2373 150.8539,-174.7626 145.2647,-165.6801\"/>\n",
       "<polygon fill=\"#000000\" stroke=\"#000000\" points=\"148.2249,-163.8122 140.0031,-157.13 142.2633,-167.481 148.2249,-163.8122\"/>\n",
       "</g>\n",
       "<!-- 8 -->\n",
       "<g id=\"node9\" class=\"node\">\n",
       "<title>8</title>\n",
       "<path fill=\"#e58139\" fill-opacity=\"0.619608\" stroke=\"#000000\" d=\"M290,-149.5C290,-149.5 204,-149.5 204,-149.5 198,-149.5 192,-143.5 192,-137.5 192,-137.5 192,-108.5 192,-108.5 192,-102.5 198,-96.5 204,-96.5 204,-96.5 290,-96.5 290,-96.5 296,-96.5 302,-102.5 302,-108.5 302,-108.5 302,-137.5 302,-137.5 302,-143.5 296,-149.5 290,-149.5\"/>\n",
       "<text text-anchor=\"start\" x=\"200\" y=\"-134.3\" font-family=\"Helvetica,sans-Serif\" font-size=\"14.00\" fill=\"#000000\">mae = 494.611</text>\n",
       "<text text-anchor=\"start\" x=\"205\" y=\"-119.3\" font-family=\"Helvetica,sans-Serif\" font-size=\"14.00\" fill=\"#000000\">samples = 18</text>\n",
       "<text text-anchor=\"start\" x=\"200.5\" y=\"-104.3\" font-family=\"Helvetica,sans-Serif\" font-size=\"14.00\" fill=\"#000000\">value = 3414.5</text>\n",
       "</g>\n",
       "<!-- 4&#45;&gt;8 -->\n",
       "<g id=\"edge8\" class=\"edge\">\n",
       "<title>4&#45;&gt;8</title>\n",
       "<path fill=\"none\" stroke=\"#000000\" d=\"M203.956,-192.9465C210.8022,-181.8215 218.4171,-169.4473 225.3157,-158.237\"/>\n",
       "<polygon fill=\"#000000\" stroke=\"#000000\" points=\"228.4061,-159.8931 230.6664,-149.5422 222.4445,-156.2244 228.4061,-159.8931\"/>\n",
       "</g>\n",
       "<!-- 6 -->\n",
       "<g id=\"node7\" class=\"node\">\n",
       "<title>6</title>\n",
       "<path fill=\"#e58139\" fill-opacity=\"0.870588\" stroke=\"#000000\" d=\"M98,-53C98,-53 12,-53 12,-53 6,-53 0,-47 0,-41 0,-41 0,-12 0,-12 0,-6 6,0 12,0 12,0 98,0 98,0 104,0 110,-6 110,-12 110,-12 110,-41 110,-41 110,-47 104,-53 98,-53\"/>\n",
       "<text text-anchor=\"start\" x=\"8\" y=\"-37.8\" font-family=\"Helvetica,sans-Serif\" font-size=\"14.00\" fill=\"#000000\">mae = 241.609</text>\n",
       "<text text-anchor=\"start\" x=\"13\" y=\"-22.8\" font-family=\"Helvetica,sans-Serif\" font-size=\"14.00\" fill=\"#000000\">samples = 23</text>\n",
       "<text text-anchor=\"start\" x=\"8.5\" y=\"-7.8\" font-family=\"Helvetica,sans-Serif\" font-size=\"14.00\" fill=\"#000000\">value = 3756.0</text>\n",
       "</g>\n",
       "<!-- 5&#45;&gt;6 -->\n",
       "<g id=\"edge6\" class=\"edge\">\n",
       "<title>5&#45;&gt;6</title>\n",
       "<path fill=\"none\" stroke=\"#000000\" d=\"M96.436,-88.9777C90.6059,-80.187 84.3169,-70.7044 78.443,-61.8477\"/>\n",
       "<polygon fill=\"#000000\" stroke=\"#000000\" points=\"81.1838,-59.6478 72.7399,-53.2485 75.3502,-63.5167 81.1838,-59.6478\"/>\n",
       "</g>\n",
       "<!-- 7 -->\n",
       "<g id=\"node8\" class=\"node\">\n",
       "<title>7</title>\n",
       "<path fill=\"#e58139\" fill-opacity=\"0.796078\" stroke=\"#000000\" d=\"M226,-53C226,-53 140,-53 140,-53 134,-53 128,-47 128,-41 128,-41 128,-12 128,-12 128,-6 134,0 140,0 140,0 226,0 226,0 232,0 238,-6 238,-12 238,-12 238,-41 238,-41 238,-47 232,-53 226,-53\"/>\n",
       "<text text-anchor=\"start\" x=\"136\" y=\"-37.8\" font-family=\"Helvetica,sans-Serif\" font-size=\"14.00\" fill=\"#000000\">mae = 190.105</text>\n",
       "<text text-anchor=\"start\" x=\"141\" y=\"-22.8\" font-family=\"Helvetica,sans-Serif\" font-size=\"14.00\" fill=\"#000000\">samples = 19</text>\n",
       "<text text-anchor=\"start\" x=\"136.5\" y=\"-7.8\" font-family=\"Helvetica,sans-Serif\" font-size=\"14.00\" fill=\"#000000\">value = 3657.0</text>\n",
       "</g>\n",
       "<!-- 5&#45;&gt;7 -->\n",
       "<g id=\"edge7\" class=\"edge\">\n",
       "<title>5&#45;&gt;7</title>\n",
       "<path fill=\"none\" stroke=\"#000000\" d=\"M141.564,-88.9777C147.3941,-80.187 153.6831,-70.7044 159.557,-61.8477\"/>\n",
       "<polygon fill=\"#000000\" stroke=\"#000000\" points=\"162.6498,-63.5167 165.2601,-53.2485 156.8162,-59.6478 162.6498,-63.5167\"/>\n",
       "</g>\n",
       "<!-- 11 -->\n",
       "<g id=\"node12\" class=\"node\">\n",
       "<title>11</title>\n",
       "<path fill=\"#e58139\" fill-opacity=\"0.419608\" stroke=\"#000000\" d=\"M482,-365C482,-365 396,-365 396,-365 390,-365 384,-359 384,-353 384,-353 384,-309 384,-309 384,-303 390,-297 396,-297 396,-297 482,-297 482,-297 488,-297 494,-303 494,-309 494,-309 494,-353 494,-353 494,-359 488,-365 482,-365\"/>\n",
       "<text text-anchor=\"start\" x=\"400.5\" y=\"-349.8\" font-family=\"Helvetica,sans-Serif\" font-size=\"14.00\" fill=\"#000000\">feduc ≤ 13.5</text>\n",
       "<text text-anchor=\"start\" x=\"392\" y=\"-334.8\" font-family=\"Helvetica,sans-Serif\" font-size=\"14.00\" fill=\"#000000\">mae = 344.324</text>\n",
       "<text text-anchor=\"start\" x=\"397\" y=\"-319.8\" font-family=\"Helvetica,sans-Serif\" font-size=\"14.00\" fill=\"#000000\">samples = 34</text>\n",
       "<text text-anchor=\"start\" x=\"392.5\" y=\"-304.8\" font-family=\"Helvetica,sans-Serif\" font-size=\"14.00\" fill=\"#000000\">value = 3147.0</text>\n",
       "</g>\n",
       "<!-- 10&#45;&gt;11 -->\n",
       "<g id=\"edge11\" class=\"edge\">\n",
       "<title>10&#45;&gt;11</title>\n",
       "<path fill=\"none\" stroke=\"#000000\" d=\"M439,-400.9465C439,-392.776 439,-383.9318 439,-375.3697\"/>\n",
       "<polygon fill=\"#000000\" stroke=\"#000000\" points=\"442.5001,-375.13 439,-365.13 435.5001,-375.13 442.5001,-375.13\"/>\n",
       "</g>\n",
       "<!-- 14 -->\n",
       "<g id=\"node15\" class=\"node\">\n",
       "<title>14</title>\n",
       "<path fill=\"transparent\" stroke=\"#000000\" d=\"M610,-357.5C610,-357.5 524,-357.5 524,-357.5 518,-357.5 512,-351.5 512,-345.5 512,-345.5 512,-316.5 512,-316.5 512,-310.5 518,-304.5 524,-304.5 524,-304.5 610,-304.5 610,-304.5 616,-304.5 622,-310.5 622,-316.5 622,-316.5 622,-345.5 622,-345.5 622,-351.5 616,-357.5 610,-357.5\"/>\n",
       "<text text-anchor=\"start\" x=\"520\" y=\"-342.3\" font-family=\"Helvetica,sans-Serif\" font-size=\"14.00\" fill=\"#000000\">mae = 419.207</text>\n",
       "<text text-anchor=\"start\" x=\"525\" y=\"-327.3\" font-family=\"Helvetica,sans-Serif\" font-size=\"14.00\" fill=\"#000000\">samples = 29</text>\n",
       "<text text-anchor=\"start\" x=\"520.5\" y=\"-312.3\" font-family=\"Helvetica,sans-Serif\" font-size=\"14.00\" fill=\"#000000\">value = 2580.0</text>\n",
       "</g>\n",
       "<!-- 10&#45;&gt;14 -->\n",
       "<g id=\"edge14\" class=\"edge\">\n",
       "<title>10&#45;&gt;14</title>\n",
       "<path fill=\"none\" stroke=\"#000000\" d=\"M480.912,-400.9465C495.5533,-389.0504 511.9526,-375.726 526.4785,-363.9237\"/>\n",
       "<polygon fill=\"#000000\" stroke=\"#000000\" points=\"528.7786,-366.5645 534.3327,-357.5422 524.3645,-361.1317 528.7786,-366.5645\"/>\n",
       "</g>\n",
       "<!-- 12 -->\n",
       "<g id=\"node13\" class=\"node\">\n",
       "<title>12</title>\n",
       "<path fill=\"#e58139\" fill-opacity=\"0.235294\" stroke=\"#000000\" d=\"M482,-253.5C482,-253.5 396,-253.5 396,-253.5 390,-253.5 384,-247.5 384,-241.5 384,-241.5 384,-212.5 384,-212.5 384,-206.5 390,-200.5 396,-200.5 396,-200.5 482,-200.5 482,-200.5 488,-200.5 494,-206.5 494,-212.5 494,-212.5 494,-241.5 494,-241.5 494,-247.5 488,-253.5 482,-253.5\"/>\n",
       "<text text-anchor=\"start\" x=\"392\" y=\"-238.3\" font-family=\"Helvetica,sans-Serif\" font-size=\"14.00\" fill=\"#000000\">mae = 315.412</text>\n",
       "<text text-anchor=\"start\" x=\"397\" y=\"-223.3\" font-family=\"Helvetica,sans-Serif\" font-size=\"14.00\" fill=\"#000000\">samples = 17</text>\n",
       "<text text-anchor=\"start\" x=\"392.5\" y=\"-208.3\" font-family=\"Helvetica,sans-Serif\" font-size=\"14.00\" fill=\"#000000\">value = 2900.0</text>\n",
       "</g>\n",
       "<!-- 11&#45;&gt;12 -->\n",
       "<g id=\"edge12\" class=\"edge\">\n",
       "<title>11&#45;&gt;12</title>\n",
       "<path fill=\"none\" stroke=\"#000000\" d=\"M439,-296.9465C439,-286.2621 439,-274.4254 439,-263.5742\"/>\n",
       "<polygon fill=\"#000000\" stroke=\"#000000\" points=\"442.5001,-263.5421 439,-253.5422 435.5001,-263.5422 442.5001,-263.5421\"/>\n",
       "</g>\n",
       "<!-- 13 -->\n",
       "<g id=\"node14\" class=\"node\">\n",
       "<title>13</title>\n",
       "<path fill=\"#e58139\" fill-opacity=\"0.458824\" stroke=\"#000000\" d=\"M610,-253.5C610,-253.5 524,-253.5 524,-253.5 518,-253.5 512,-247.5 512,-241.5 512,-241.5 512,-212.5 512,-212.5 512,-206.5 518,-200.5 524,-200.5 524,-200.5 610,-200.5 610,-200.5 616,-200.5 622,-206.5 622,-212.5 622,-212.5 622,-241.5 622,-241.5 622,-247.5 616,-253.5 610,-253.5\"/>\n",
       "<text text-anchor=\"start\" x=\"520\" y=\"-238.3\" font-family=\"Helvetica,sans-Serif\" font-size=\"14.00\" fill=\"#000000\">mae = 336.765</text>\n",
       "<text text-anchor=\"start\" x=\"525\" y=\"-223.3\" font-family=\"Helvetica,sans-Serif\" font-size=\"14.00\" fill=\"#000000\">samples = 17</text>\n",
       "<text text-anchor=\"start\" x=\"520.5\" y=\"-208.3\" font-family=\"Helvetica,sans-Serif\" font-size=\"14.00\" fill=\"#000000\">value = 3200.0</text>\n",
       "</g>\n",
       "<!-- 11&#45;&gt;13 -->\n",
       "<g id=\"edge13\" class=\"edge\">\n",
       "<title>11&#45;&gt;13</title>\n",
       "<path fill=\"none\" stroke=\"#000000\" d=\"M480.912,-296.9465C495.5533,-285.0504 511.9526,-271.726 526.4785,-259.9237\"/>\n",
       "<polygon fill=\"#000000\" stroke=\"#000000\" points=\"528.7786,-262.5645 534.3327,-253.5422 524.3645,-257.1317 528.7786,-262.5645\"/>\n",
       "</g>\n",
       "</g>\n",
       "</svg>\n"
      ],
      "text/plain": [
       "<graphviz.files.Source at 0x1a2040b4e0>"
      ]
     },
     "execution_count": 607,
     "metadata": {},
     "output_type": "execute_result"
    }
   ],
   "source": [
    " \n",
    "\n",
    "dot_data = tree.export_graphviz(clf, out_file=None,\n",
    "                                feature_names=X.columns.values.tolist(),\n",
    "#                                class_names=birthweight2.target_names,\n",
    "                                filled=True, rounded=True,\n",
    "                                special_characters=True)\n",
    "graph = graphviz.Source(dot_data)  \n",
    "graph "
   ]
  },
  {
   "cell_type": "code",
   "execution_count": 514,
   "metadata": {},
   "outputs": [
    {
     "data": {
      "text/plain": [
       "['mage',\n",
       " 'meduc',\n",
       " 'monpre',\n",
       " 'npvis',\n",
       " 'fage',\n",
       " 'feduc',\n",
       " 'cigs',\n",
       " 'drink',\n",
       " 'male',\n",
       " 'mwhte',\n",
       " 'mblck',\n",
       " 'moth',\n",
       " 'fwhte',\n",
       " 'fblck',\n",
       " 'foth',\n",
       " 'm_meduc',\n",
       " 'm_npvis',\n",
       " 'm_feduc',\n",
       " 'out_mage',\n",
       " 'out_meduc',\n",
       " 'out_monpre',\n",
       " 'out_npvis',\n",
       " 'out_fage',\n",
       " 'out_feduc',\n",
       " 'out_omaps',\n",
       " 'out_fmaps',\n",
       " 'out_cigs',\n",
       " 'out_drink']"
      ]
     },
     "execution_count": 514,
     "metadata": {},
     "output_type": "execute_result"
    }
   ],
   "source": [
    "features"
   ]
  },
  {
   "cell_type": "code",
   "execution_count": null,
   "metadata": {},
   "outputs": [],
   "source": [
    "birthweight2 = pd.read_excel(file)\n",
    "OL_hi = {'mage':35,\n",
    "         'meduc':16,\n",
    "         'monpre':4,\n",
    "         'npvis':18,\n",
    "         'fage':40,\n",
    "         'feduc':16,\n",
    "         'omaps':9,\n",
    "         'fmaps':9,\n",
    "         'cigs':1,\n",
    "         'drink':1\n",
    "        }\n",
    "OL_lo = {'mage':18,\n",
    "         'meduc':11,\n",
    "         'monpre':1,\n",
    "         'npvis':3,\n",
    "         'fage':18,\n",
    "         'feduc':11,\n",
    "         'omaps':8,\n",
    "         'fmaps':8,\n",
    "         'cigs':0,\n",
    "         'drink':0\n",
    "        }\n",
    "birthweight2['feduc'] = birthweight['feduc'].fillna(birthweight_dropped['feduc'].mean().round(0))\n",
    "birthweight2['npvis'] = birthweight['npvis'].fillna(birthweight_dropped['npvis'].mean().round(0))\n",
    "birthweight2['meduc'] = birthweight['meduc'].fillna(birthweight_dropped['meduc'].mean().round(0))\n",
    "birthweight2 = outlierflagging(birthweight2, OL_hi, OL_lo)\n",
    "birthweight2['sameEduc'] = (birthweight['meduc'] == birthweight['feduc'])*1\n",
    "birthweight2['bothBlck'] = (birthweight['mblck'] * birthweight['fblck'])\n",
    "birthweight2['bothWhte'] = (birthweight['mwhte'] * birthweight['fwhte'])\n",
    "birthweight2['bothOth'] = (birthweight['moth'] * birthweight['foth'])\n",
    "birthweight2['bothSame'] = (birthweight['bothBlck'] + birthweight['bothWhte'] + birthweight2['bothOth'])\n",
    "\n",
    "\n",
    "# attributes\n",
    "X2 = birthweight2.drop(['bwght', 'omaps', 'fmaps'], 1)\n",
    "# lables\n",
    "y2 = birthweight2['bwght']\n",
    "X_train2, X_test2, y_train2, y_test2 = train_test_split(X2, y2, test_size=0.1, random_state=508)\n",
    "\n"
   ]
  },
  {
   "cell_type": "code",
   "execution_count": null,
   "metadata": {},
   "outputs": [],
   "source": [
    "xg_reg = xgb.XGBRegressor(objective ='reg:linear',\n",
    "                          colsample_bytree = 1,\n",
    "                          learning_rate = 0.35,\n",
    "                          max_depth = 2,\n",
    "                          alpha = 0.01,\n",
    "                          n_estimators = 8,\n",
    "                          subsample = 1)\n",
    "xg_reg.fit(X_train2,y_train2)"
   ]
  },
  {
   "cell_type": "code",
   "execution_count": null,
   "metadata": {},
   "outputs": [],
   "source": [
    "score = xg_reg.score(X_test2, y_test2)\n",
    "train_score = xg_reg.score(X_train2, y_train2)\n",
    "diff = train_score - score\n",
    "\n",
    "print(\"Testing score: %f\" % (score))\n",
    "print(\"Training score: %f\" % (train_score))\n",
    "print(\"Diff: %f\" % (diff))"
   ]
  }
 ],
 "metadata": {
  "kernelspec": {
   "display_name": "Python 3",
   "language": "python",
   "name": "python3"
  },
  "language_info": {
   "codemirror_mode": {
    "name": "ipython",
    "version": 3
   },
   "file_extension": ".py",
   "mimetype": "text/x-python",
   "name": "python",
   "nbconvert_exporter": "python",
   "pygments_lexer": "ipython3",
   "version": "3.6.8"
  }
 },
 "nbformat": 4,
 "nbformat_minor": 2
}
