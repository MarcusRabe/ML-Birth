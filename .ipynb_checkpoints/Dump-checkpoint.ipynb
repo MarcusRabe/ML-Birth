{
 "cells": [
  {
   "cell_type": "code",
   "execution_count": 1,
   "metadata": {},
   "outputs": [
    {
     "ename": "SyntaxError",
     "evalue": "invalid syntax (<ipython-input-1-0aaaa47fb593>, line 2)",
     "output_type": "error",
     "traceback": [
      "\u001b[0;36m  File \u001b[0;32m\"<ipython-input-1-0aaaa47fb593>\"\u001b[0;36m, line \u001b[0;32m2\u001b[0m\n\u001b[0;31m    Need to encode the categorical variables.\u001b[0m\n\u001b[0m          ^\u001b[0m\n\u001b[0;31mSyntaxError\u001b[0m\u001b[0;31m:\u001b[0m invalid syntax\n"
     ]
    }
   ],
   "source": [
    "## One Hot encoding\n",
    "Need to encode the categorical variables.\n",
    "\n",
    "The following are assumed categorical:\n",
    "\n",
    "| Variable | Reason |\n",
    "| ---|---|\n",
    "| meduc | Education years are not contiuous but can only be certain levels |\n",
    "| monpre| Months prenatal care began can only be integers between 0 and 9 - assumed categorical |\n",
    "| feduc | Education years are not contiuous but can only be certain levels |\n",
    "| omaps | The apgar score is can be integers between 0 and 10 - categorical |\n",
    "| fmaps | The apgar score is can be integers between 0 and 10 - categorical |"
   ]
  },
  {
   "cell_type": "code",
   "execution_count": null,
   "metadata": {},
   "outputs": [],
   "source": [
    "to_encode_vars = ['meduc', 'monpre', 'feduc', 'omaps', 'fmaps']\n",
    "# create copy of data frame\n",
    "birthweight_enc = birthweight\n",
    "for var in to_encode_vars:\n",
    "    # for each column to be encoded get the dummie columns\n",
    "    dum = pd.get_dummies(list(birthweight[var]),\n",
    "                         drop_first = True,\n",
    "                         prefix = var,\n",
    "                         prefix_sep = '_')\n",
    "    # remove last two characters from new column names as the regression doesn't like the .\n",
    "    dum = dum.rename(columns = lambda x : str(x)[:-2])\n",
    "    # add the dummies to the data frame\n",
    "    birthweight_enc = pd.concat(\n",
    "        [birthweight_enc.loc[:,:],\n",
    "         dum],\n",
    "         axis = 1)"
   ]
  },
  {
   "cell_type": "code",
   "execution_count": null,
   "metadata": {},
   "outputs": [],
   "source": [
    "birthweight_enc.columns.values"
   ]
  },
  {
   "cell_type": "code",
   "execution_count": null,
   "metadata": {},
   "outputs": [],
   "source": [
    "from sklearn.preprocessing import MinMaxScaler\n",
    "\n",
    "scaler = MinMaxScaler() \n",
    "scaled_values = scaler.fit_transform(df) \n",
    "df.loc[:,:] = scaled_values"
   ]
  },
  {
   "cell_type": "code",
   "execution_count": null,
   "metadata": {},
   "outputs": [],
   "source": []
  }
 ],
 "metadata": {
  "kernelspec": {
   "display_name": "Python 3",
   "language": "python",
   "name": "python3"
  },
  "language_info": {
   "codemirror_mode": {
    "name": "ipython",
    "version": 3
   },
   "file_extension": ".py",
   "mimetype": "text/x-python",
   "name": "python",
   "nbconvert_exporter": "python",
   "pygments_lexer": "ipython3",
   "version": "3.6.8"
  }
 },
 "nbformat": 4,
 "nbformat_minor": 2
}
