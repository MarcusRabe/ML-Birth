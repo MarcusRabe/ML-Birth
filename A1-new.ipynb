{
 "cells": [
  {
   "cell_type": "markdown",
   "metadata": {},
   "source": [
    "# Newborn Health\n",
    "## Challenge\n",
    "Certain factors contribute to the health of a newborn baby. One such health measure is birth weight.\n",
    "Countless studies have identified factors, both preventative and hereditary, that lead to low birth weight.\n",
    "Your team has been hired as public health consultants to analyze and model an infant’s birth weight based on such characteristics.\n",
    "\n",
    "## Deliverables\n",
    "\n",
    "### No 1\n",
    "Analysis Write Up\n",
    "- Summarize the problem\n",
    "- Present key insights that are actionable\n",
    "- Offer implementation recommendations\n",
    "- Maximum of 5 pages double-spaced (A.P.A format)\n",
    "\n",
    "### No 2\n",
    "Data Analysis and Analysis Code\n",
    "- Tell the story of your analysis through:\n",
    " - exploratory data analysis\n",
    " - feature treatment and engineering\n",
    " - utilizing appropriate modeling techniques\n",
    "- Code should:\n",
    " - be well commented\n",
    " - follow PEP 8 guidelines (see myCourses for more details)\n",
    " - run without errors\n",
    " - be submitted as a .py script\n",
    " \n",
    "### No 3\n",
    "Final Model and Model Code\n",
    "- Model will be assessed on:\n",
    " - R-Square value on unseen data (randomly seeded)\n",
    " - appropriateness for the problem at hand\n",
    "- Code should:\n",
    " - be well commented\n",
    " - follow PEP 8 guidelines (see myCourses for more details)\n",
    " - run without errors\n",
    " - be submitted as a .py script\n",
    " \n",
    "## The Team\n",
    "\n",
    "**Team 2**\n",
    "\n",
    "- Carolina Rios\n",
    "- Ireti Ojeyomi\n",
    "- Maria Dolgusheva\n",
    "- Vanessa Zheng\n",
    "- Fred Shen\n",
    "- Marcus Rabe\n",
    "\n",
    "\n",
    "## Data\n",
    "Data File: birthweight_feature_set.xlsx\n",
    "\n",
    "Data Dictionary: birthweight_data_dictionary.rtf\n",
    "\n",
    "### Data Dictionarty\n",
    "\n",
    "| variable | label   | description |\n",
    "|---|---|---|\n",
    "| 1        | mage    | mother's age                    |\n",
    "| 2        | meduc   | mother's educ                   |\n",
    "| 3        | monpre  | month prenatal care began       |\n",
    "| 4        | npvis   | total number of prenatal visits |\n",
    "| 5        | fage    | father's age, years             |\n",
    "| 6        | feduc   | father's educ, years            |\n",
    "| 7        | omaps   | one minute apgar score          |\n",
    "| 8        | fmaps   | five minute apgar score         |\n",
    "| 9       | cigs    | avg cigarettes per day          |\n",
    "| 10       | drink   | avg drinks per week             |\n",
    "| 11       | male    | 1 if baby male                  |\n",
    "| 12       | mwhte   | 1 if mother white               |\n",
    "| 13       | mblck   | 1 if mother black               |\n",
    "| 14       | moth    | 1 if mother is other            |\n",
    "| 15       | fwhte   | 1 if father white               |\n",
    "| 16       | fblck   | 1 if father black               |\n",
    "| 17       | foth    | 1 if father is other            |\n",
    "| 18       | bwght   | birthweight, grams              |"
   ]
  },
  {
   "cell_type": "markdown",
   "metadata": {},
   "source": [
    "# Imports"
   ]
  },
  {
   "cell_type": "code",
   "execution_count": 1,
   "metadata": {},
   "outputs": [],
   "source": [
    "import pandas as pd\n",
    "import seaborn as sns\n",
    "import matplotlib.pyplot as plt\n",
    "import numpy as np\n",
    "import graphviz\n",
    "# prep\n",
    "from sklearn.model_selection import train_test_split\n",
    "from sklearn.model_selection import GridSearchCV\n",
    "# linear models\n",
    "from sklearn import linear_model\n",
    "from sklearn.linear_model import LinearRegression\n",
    "from sklearn.linear_model import LassoCV\n",
    "from sklearn.linear_model import LassoLarsCV\n",
    "from sklearn.linear_model import LassoLarsIC\n",
    "from sklearn.linear_model import MultiTaskLasso\n",
    "from sklearn.linear_model import Lasso\n",
    "from sklearn.linear_model import ElasticNet\n",
    "from sklearn.linear_model import lasso_path\n",
    "from sklearn.linear_model import enet_path\n",
    "import statsmodels.formula.api as smf\n",
    "# other models\n",
    "from sklearn import tree\n",
    "from sklearn.neighbors import KNeighborsRegressor\n",
    "import xgboost as xgb\n",
    "# metrics\n",
    "from sklearn import metrics\n",
    "from sklearn.metrics import r2_score\n",
    "\n",
    "%matplotlib inline"
   ]
  },
  {
   "cell_type": "markdown",
   "metadata": {},
   "source": [
    "# Load and prepare data"
   ]
  },
  {
   "cell_type": "markdown",
   "metadata": {},
   "source": [
    "## Load"
   ]
  },
  {
   "cell_type": "code",
   "execution_count": 2,
   "metadata": {},
   "outputs": [],
   "source": [
    "file = \"birthweight_feature_set.xlsx\"\n",
    "birthweight = pd.read_excel(file)"
   ]
  },
  {
   "cell_type": "markdown",
   "metadata": {},
   "source": [
    "## Explore data"
   ]
  },
  {
   "cell_type": "code",
   "execution_count": 3,
   "metadata": {},
   "outputs": [
    {
     "data": {
      "text/html": [
       "<div>\n",
       "<style scoped>\n",
       "    .dataframe tbody tr th:only-of-type {\n",
       "        vertical-align: middle;\n",
       "    }\n",
       "\n",
       "    .dataframe tbody tr th {\n",
       "        vertical-align: top;\n",
       "    }\n",
       "\n",
       "    .dataframe thead th {\n",
       "        text-align: right;\n",
       "    }\n",
       "</style>\n",
       "<table border=\"1\" class=\"dataframe\">\n",
       "  <thead>\n",
       "    <tr style=\"text-align: right;\">\n",
       "      <th></th>\n",
       "      <th>mage</th>\n",
       "      <th>meduc</th>\n",
       "      <th>monpre</th>\n",
       "      <th>npvis</th>\n",
       "      <th>fage</th>\n",
       "      <th>feduc</th>\n",
       "      <th>omaps</th>\n",
       "      <th>fmaps</th>\n",
       "      <th>cigs</th>\n",
       "      <th>drink</th>\n",
       "      <th>male</th>\n",
       "      <th>mwhte</th>\n",
       "      <th>mblck</th>\n",
       "      <th>moth</th>\n",
       "      <th>fwhte</th>\n",
       "      <th>fblck</th>\n",
       "      <th>foth</th>\n",
       "      <th>bwght</th>\n",
       "    </tr>\n",
       "  </thead>\n",
       "  <tbody>\n",
       "    <tr>\n",
       "      <th>0</th>\n",
       "      <td>69</td>\n",
       "      <td>NaN</td>\n",
       "      <td>5</td>\n",
       "      <td>2.0</td>\n",
       "      <td>62</td>\n",
       "      <td>NaN</td>\n",
       "      <td>4</td>\n",
       "      <td>7</td>\n",
       "      <td>23</td>\n",
       "      <td>9</td>\n",
       "      <td>1</td>\n",
       "      <td>0</td>\n",
       "      <td>1</td>\n",
       "      <td>0</td>\n",
       "      <td>0</td>\n",
       "      <td>1</td>\n",
       "      <td>0</td>\n",
       "      <td>697</td>\n",
       "    </tr>\n",
       "    <tr>\n",
       "      <th>1</th>\n",
       "      <td>68</td>\n",
       "      <td>12.0</td>\n",
       "      <td>3</td>\n",
       "      <td>10.0</td>\n",
       "      <td>61</td>\n",
       "      <td>11.0</td>\n",
       "      <td>4</td>\n",
       "      <td>6</td>\n",
       "      <td>25</td>\n",
       "      <td>11</td>\n",
       "      <td>1</td>\n",
       "      <td>1</td>\n",
       "      <td>0</td>\n",
       "      <td>0</td>\n",
       "      <td>1</td>\n",
       "      <td>0</td>\n",
       "      <td>0</td>\n",
       "      <td>1290</td>\n",
       "    </tr>\n",
       "    <tr>\n",
       "      <th>2</th>\n",
       "      <td>71</td>\n",
       "      <td>12.0</td>\n",
       "      <td>3</td>\n",
       "      <td>6.0</td>\n",
       "      <td>46</td>\n",
       "      <td>12.0</td>\n",
       "      <td>2</td>\n",
       "      <td>7</td>\n",
       "      <td>21</td>\n",
       "      <td>12</td>\n",
       "      <td>1</td>\n",
       "      <td>0</td>\n",
       "      <td>1</td>\n",
       "      <td>0</td>\n",
       "      <td>0</td>\n",
       "      <td>1</td>\n",
       "      <td>0</td>\n",
       "      <td>1490</td>\n",
       "    </tr>\n",
       "    <tr>\n",
       "      <th>3</th>\n",
       "      <td>59</td>\n",
       "      <td>16.0</td>\n",
       "      <td>1</td>\n",
       "      <td>8.0</td>\n",
       "      <td>48</td>\n",
       "      <td>16.0</td>\n",
       "      <td>7</td>\n",
       "      <td>8</td>\n",
       "      <td>21</td>\n",
       "      <td>10</td>\n",
       "      <td>0</td>\n",
       "      <td>0</td>\n",
       "      <td>0</td>\n",
       "      <td>1</td>\n",
       "      <td>0</td>\n",
       "      <td>0</td>\n",
       "      <td>1</td>\n",
       "      <td>1720</td>\n",
       "    </tr>\n",
       "    <tr>\n",
       "      <th>4</th>\n",
       "      <td>48</td>\n",
       "      <td>12.0</td>\n",
       "      <td>4</td>\n",
       "      <td>6.0</td>\n",
       "      <td>39</td>\n",
       "      <td>12.0</td>\n",
       "      <td>2</td>\n",
       "      <td>9</td>\n",
       "      <td>17</td>\n",
       "      <td>13</td>\n",
       "      <td>0</td>\n",
       "      <td>1</td>\n",
       "      <td>0</td>\n",
       "      <td>0</td>\n",
       "      <td>1</td>\n",
       "      <td>0</td>\n",
       "      <td>0</td>\n",
       "      <td>1956</td>\n",
       "    </tr>\n",
       "  </tbody>\n",
       "</table>\n",
       "</div>"
      ],
      "text/plain": [
       "   mage  meduc  monpre  npvis  fage  feduc  omaps  fmaps  cigs  drink  male  \\\n",
       "0    69    NaN       5    2.0    62    NaN      4      7    23      9     1   \n",
       "1    68   12.0       3   10.0    61   11.0      4      6    25     11     1   \n",
       "2    71   12.0       3    6.0    46   12.0      2      7    21     12     1   \n",
       "3    59   16.0       1    8.0    48   16.0      7      8    21     10     0   \n",
       "4    48   12.0       4    6.0    39   12.0      2      9    17     13     0   \n",
       "\n",
       "   mwhte  mblck  moth  fwhte  fblck  foth  bwght  \n",
       "0      0      1     0      0      1     0    697  \n",
       "1      1      0     0      1      0     0   1290  \n",
       "2      0      1     0      0      1     0   1490  \n",
       "3      0      0     1      0      0     1   1720  \n",
       "4      1      0     0      1      0     0   1956  "
      ]
     },
     "execution_count": 3,
     "metadata": {},
     "output_type": "execute_result"
    }
   ],
   "source": [
    "birthweight.head()"
   ]
  },
  {
   "cell_type": "code",
   "execution_count": 4,
   "metadata": {},
   "outputs": [
    {
     "name": "stdout",
     "output_type": "stream",
     "text": [
      "<class 'pandas.core.frame.DataFrame'>\n",
      "RangeIndex: 196 entries, 0 to 195\n",
      "Data columns (total 18 columns):\n",
      "mage      196 non-null int64\n",
      "meduc     193 non-null float64\n",
      "monpre    196 non-null int64\n",
      "npvis     193 non-null float64\n",
      "fage      196 non-null int64\n",
      "feduc     189 non-null float64\n",
      "omaps     196 non-null int64\n",
      "fmaps     196 non-null int64\n",
      "cigs      196 non-null int64\n",
      "drink     196 non-null int64\n",
      "male      196 non-null int64\n",
      "mwhte     196 non-null int64\n",
      "mblck     196 non-null int64\n",
      "moth      196 non-null int64\n",
      "fwhte     196 non-null int64\n",
      "fblck     196 non-null int64\n",
      "foth      196 non-null int64\n",
      "bwght     196 non-null int64\n",
      "dtypes: float64(3), int64(15)\n",
      "memory usage: 27.6 KB\n"
     ]
    }
   ],
   "source": [
    "birthweight.info()"
   ]
  },
  {
   "cell_type": "code",
   "execution_count": 5,
   "metadata": {},
   "outputs": [
    {
     "data": {
      "text/html": [
       "<div>\n",
       "<style scoped>\n",
       "    .dataframe tbody tr th:only-of-type {\n",
       "        vertical-align: middle;\n",
       "    }\n",
       "\n",
       "    .dataframe tbody tr th {\n",
       "        vertical-align: top;\n",
       "    }\n",
       "\n",
       "    .dataframe thead th {\n",
       "        text-align: right;\n",
       "    }\n",
       "</style>\n",
       "<table border=\"1\" class=\"dataframe\">\n",
       "  <thead>\n",
       "    <tr style=\"text-align: right;\">\n",
       "      <th></th>\n",
       "      <th>mage</th>\n",
       "      <th>meduc</th>\n",
       "      <th>monpre</th>\n",
       "      <th>npvis</th>\n",
       "      <th>fage</th>\n",
       "      <th>feduc</th>\n",
       "      <th>omaps</th>\n",
       "      <th>fmaps</th>\n",
       "      <th>cigs</th>\n",
       "      <th>drink</th>\n",
       "      <th>male</th>\n",
       "      <th>mwhte</th>\n",
       "      <th>mblck</th>\n",
       "      <th>moth</th>\n",
       "      <th>fwhte</th>\n",
       "      <th>fblck</th>\n",
       "      <th>foth</th>\n",
       "      <th>bwght</th>\n",
       "    </tr>\n",
       "  </thead>\n",
       "  <tbody>\n",
       "    <tr>\n",
       "      <th>count</th>\n",
       "      <td>196.00</td>\n",
       "      <td>193.00</td>\n",
       "      <td>196.00</td>\n",
       "      <td>193.00</td>\n",
       "      <td>196.00</td>\n",
       "      <td>189.00</td>\n",
       "      <td>196.00</td>\n",
       "      <td>196.00</td>\n",
       "      <td>196.00</td>\n",
       "      <td>196.00</td>\n",
       "      <td>196.00</td>\n",
       "      <td>196.00</td>\n",
       "      <td>196.00</td>\n",
       "      <td>196.00</td>\n",
       "      <td>196.00</td>\n",
       "      <td>196.00</td>\n",
       "      <td>196.00</td>\n",
       "      <td>196.00</td>\n",
       "    </tr>\n",
       "    <tr>\n",
       "      <th>mean</th>\n",
       "      <td>40.15</td>\n",
       "      <td>13.91</td>\n",
       "      <td>2.34</td>\n",
       "      <td>11.60</td>\n",
       "      <td>39.29</td>\n",
       "      <td>13.85</td>\n",
       "      <td>8.19</td>\n",
       "      <td>8.96</td>\n",
       "      <td>10.93</td>\n",
       "      <td>5.40</td>\n",
       "      <td>0.55</td>\n",
       "      <td>0.27</td>\n",
       "      <td>0.38</td>\n",
       "      <td>0.35</td>\n",
       "      <td>0.35</td>\n",
       "      <td>0.34</td>\n",
       "      <td>0.31</td>\n",
       "      <td>3334.09</td>\n",
       "    </tr>\n",
       "    <tr>\n",
       "      <th>std</th>\n",
       "      <td>10.25</td>\n",
       "      <td>2.06</td>\n",
       "      <td>1.36</td>\n",
       "      <td>4.27</td>\n",
       "      <td>8.98</td>\n",
       "      <td>2.63</td>\n",
       "      <td>1.58</td>\n",
       "      <td>0.65</td>\n",
       "      <td>6.10</td>\n",
       "      <td>3.00</td>\n",
       "      <td>0.50</td>\n",
       "      <td>0.45</td>\n",
       "      <td>0.49</td>\n",
       "      <td>0.48</td>\n",
       "      <td>0.48</td>\n",
       "      <td>0.48</td>\n",
       "      <td>0.46</td>\n",
       "      <td>646.70</td>\n",
       "    </tr>\n",
       "    <tr>\n",
       "      <th>min</th>\n",
       "      <td>23.00</td>\n",
       "      <td>8.00</td>\n",
       "      <td>1.00</td>\n",
       "      <td>2.00</td>\n",
       "      <td>23.00</td>\n",
       "      <td>1.00</td>\n",
       "      <td>2.00</td>\n",
       "      <td>5.00</td>\n",
       "      <td>0.00</td>\n",
       "      <td>0.00</td>\n",
       "      <td>0.00</td>\n",
       "      <td>0.00</td>\n",
       "      <td>0.00</td>\n",
       "      <td>0.00</td>\n",
       "      <td>0.00</td>\n",
       "      <td>0.00</td>\n",
       "      <td>0.00</td>\n",
       "      <td>697.00</td>\n",
       "    </tr>\n",
       "    <tr>\n",
       "      <th>25%</th>\n",
       "      <td>33.00</td>\n",
       "      <td>12.00</td>\n",
       "      <td>2.00</td>\n",
       "      <td>10.00</td>\n",
       "      <td>34.75</td>\n",
       "      <td>12.00</td>\n",
       "      <td>8.00</td>\n",
       "      <td>9.00</td>\n",
       "      <td>6.00</td>\n",
       "      <td>4.00</td>\n",
       "      <td>0.00</td>\n",
       "      <td>0.00</td>\n",
       "      <td>0.00</td>\n",
       "      <td>0.00</td>\n",
       "      <td>0.00</td>\n",
       "      <td>0.00</td>\n",
       "      <td>0.00</td>\n",
       "      <td>2916.25</td>\n",
       "    </tr>\n",
       "    <tr>\n",
       "      <th>50%</th>\n",
       "      <td>39.00</td>\n",
       "      <td>14.00</td>\n",
       "      <td>2.00</td>\n",
       "      <td>12.00</td>\n",
       "      <td>38.00</td>\n",
       "      <td>14.00</td>\n",
       "      <td>9.00</td>\n",
       "      <td>9.00</td>\n",
       "      <td>11.00</td>\n",
       "      <td>5.00</td>\n",
       "      <td>1.00</td>\n",
       "      <td>0.00</td>\n",
       "      <td>0.00</td>\n",
       "      <td>0.00</td>\n",
       "      <td>0.00</td>\n",
       "      <td>0.00</td>\n",
       "      <td>0.00</td>\n",
       "      <td>3452.00</td>\n",
       "    </tr>\n",
       "    <tr>\n",
       "      <th>75%</th>\n",
       "      <td>46.00</td>\n",
       "      <td>16.00</td>\n",
       "      <td>3.00</td>\n",
       "      <td>12.00</td>\n",
       "      <td>43.00</td>\n",
       "      <td>16.00</td>\n",
       "      <td>9.00</td>\n",
       "      <td>9.00</td>\n",
       "      <td>15.25</td>\n",
       "      <td>7.25</td>\n",
       "      <td>1.00</td>\n",
       "      <td>1.00</td>\n",
       "      <td>1.00</td>\n",
       "      <td>1.00</td>\n",
       "      <td>1.00</td>\n",
       "      <td>1.00</td>\n",
       "      <td>1.00</td>\n",
       "      <td>3759.50</td>\n",
       "    </tr>\n",
       "    <tr>\n",
       "      <th>max</th>\n",
       "      <td>71.00</td>\n",
       "      <td>17.00</td>\n",
       "      <td>8.00</td>\n",
       "      <td>35.00</td>\n",
       "      <td>73.00</td>\n",
       "      <td>17.00</td>\n",
       "      <td>10.00</td>\n",
       "      <td>10.00</td>\n",
       "      <td>25.00</td>\n",
       "      <td>14.00</td>\n",
       "      <td>1.00</td>\n",
       "      <td>1.00</td>\n",
       "      <td>1.00</td>\n",
       "      <td>1.00</td>\n",
       "      <td>1.00</td>\n",
       "      <td>1.00</td>\n",
       "      <td>1.00</td>\n",
       "      <td>4933.00</td>\n",
       "    </tr>\n",
       "  </tbody>\n",
       "</table>\n",
       "</div>"
      ],
      "text/plain": [
       "         mage   meduc  monpre   npvis    fage   feduc   omaps   fmaps    cigs  \\\n",
       "count  196.00  193.00  196.00  193.00  196.00  189.00  196.00  196.00  196.00   \n",
       "mean    40.15   13.91    2.34   11.60   39.29   13.85    8.19    8.96   10.93   \n",
       "std     10.25    2.06    1.36    4.27    8.98    2.63    1.58    0.65    6.10   \n",
       "min     23.00    8.00    1.00    2.00   23.00    1.00    2.00    5.00    0.00   \n",
       "25%     33.00   12.00    2.00   10.00   34.75   12.00    8.00    9.00    6.00   \n",
       "50%     39.00   14.00    2.00   12.00   38.00   14.00    9.00    9.00   11.00   \n",
       "75%     46.00   16.00    3.00   12.00   43.00   16.00    9.00    9.00   15.25   \n",
       "max     71.00   17.00    8.00   35.00   73.00   17.00   10.00   10.00   25.00   \n",
       "\n",
       "        drink    male   mwhte   mblck    moth   fwhte   fblck    foth    bwght  \n",
       "count  196.00  196.00  196.00  196.00  196.00  196.00  196.00  196.00   196.00  \n",
       "mean     5.40    0.55    0.27    0.38    0.35    0.35    0.34    0.31  3334.09  \n",
       "std      3.00    0.50    0.45    0.49    0.48    0.48    0.48    0.46   646.70  \n",
       "min      0.00    0.00    0.00    0.00    0.00    0.00    0.00    0.00   697.00  \n",
       "25%      4.00    0.00    0.00    0.00    0.00    0.00    0.00    0.00  2916.25  \n",
       "50%      5.00    1.00    0.00    0.00    0.00    0.00    0.00    0.00  3452.00  \n",
       "75%      7.25    1.00    1.00    1.00    1.00    1.00    1.00    1.00  3759.50  \n",
       "max     14.00    1.00    1.00    1.00    1.00    1.00    1.00    1.00  4933.00  "
      ]
     },
     "execution_count": 5,
     "metadata": {},
     "output_type": "execute_result"
    }
   ],
   "source": [
    "birthweight.describe().round(2)"
   ]
  },
  {
   "cell_type": "markdown",
   "metadata": {},
   "source": [
    "## Clean data\n",
    "\n",
    "First create new columns for na flags than explore the colums having nas one at a time and treat them."
   ]
  },
  {
   "cell_type": "code",
   "execution_count": 6,
   "metadata": {},
   "outputs": [],
   "source": [
    "for col in birthweight:\n",
    "\n",
    "    \"\"\" Create columns that are 0s if a value was not missing and 1 if\n",
    "    a value is missing. \"\"\"\n",
    "    \n",
    "    if birthweight[col].isnull().any():\n",
    "        birthweight['m_'+col] = birthweight[col].isnull().astype(int)\n",
    "\n",
    "birthweight_dropped = birthweight.dropna()"
   ]
  },
  {
   "cell_type": "markdown",
   "metadata": {},
   "source": [
    "### Meduc\n",
    "Mother's education - assumed to be in years spend in education.\n",
    "\n",
    "3 NaNs in this column"
   ]
  },
  {
   "cell_type": "code",
   "execution_count": 7,
   "metadata": {},
   "outputs": [
    {
     "data": {
      "text/plain": [
       "<matplotlib.axes._subplots.AxesSubplot at 0x1a24e3e7f0>"
      ]
     },
     "execution_count": 7,
     "metadata": {},
     "output_type": "execute_result"
    },
    {
     "data": {
      "image/png": "[encoded data removed]",
      "text/plain": [
       "<Figure size 432x288 with 1 Axes>"
      ]
     },
     "metadata": {
      "needs_background": "light"
     },
     "output_type": "display_data"
    }
   ],
   "source": [
    "sns.distplot(birthweight_dropped['meduc'])"
   ]
  },
  {
   "cell_type": "markdown",
   "metadata": {},
   "source": [
    "Looks like camel humps...\n",
    "\n",
    "Probably best replace with rounded mean (14 years). As there are only 3 NAs in this column the distribution won't be significantly changed regardless."
   ]
  },
  {
   "cell_type": "code",
   "execution_count": 8,
   "metadata": {},
   "outputs": [],
   "source": [
    "birthweight['meduc'] = birthweight['meduc'].fillna(birthweight_dropped['meduc'].mean().round(0))"
   ]
  },
  {
   "cell_type": "markdown",
   "metadata": {},
   "source": [
    "### Npvis\n",
    "\n",
    "total number of prenatal visits\n",
    "\n",
    "3 NaNs in column"
   ]
  },
  {
   "cell_type": "code",
   "execution_count": 9,
   "metadata": {},
   "outputs": [
    {
     "data": {
      "text/plain": [
       "<matplotlib.axes._subplots.AxesSubplot at 0x1a251d70b8>"
      ]
     },
     "execution_count": 9,
     "metadata": {},
     "output_type": "execute_result"
    },
    {
     "data": {
      "image/png": "[encoded data removed]",
      "text/plain": [
       "<Figure size 432x288 with 1 Axes>"
      ]
     },
     "metadata": {
      "needs_background": "light"
     },
     "output_type": "display_data"
    }
   ],
   "source": [
    "sns.distplot(birthweight_dropped['npvis'])"
   ]
  },
  {
   "cell_type": "markdown",
   "metadata": {},
   "source": [
    "Probably best replace with rounded mean (12). As there are only 3 NAs in this column the distribution won't be significantly changed regardless."
   ]
  },
  {
   "cell_type": "code",
   "execution_count": 10,
   "metadata": {},
   "outputs": [],
   "source": [
    "birthweight['npvis'] = birthweight['npvis'].fillna(birthweight_dropped['npvis'].mean().round(0))"
   ]
  },
  {
   "cell_type": "markdown",
   "metadata": {},
   "source": [
    "### feduc\n",
    "\n",
    "father's educ, years\n",
    "\n",
    "7 NaNs in column"
   ]
  },
  {
   "cell_type": "code",
   "execution_count": 11,
   "metadata": {},
   "outputs": [
    {
     "data": {
      "text/plain": [
       "<matplotlib.axes._subplots.AxesSubplot at 0x1a25303c50>"
      ]
     },
     "execution_count": 11,
     "metadata": {},
     "output_type": "execute_result"
    },
    {
     "data": {
      "image/png": "[encoded data removed]",
      "text/plain": [
       "<Figure size 432x288 with 1 Axes>"
      ]
     },
     "metadata": {
      "needs_background": "light"
     },
     "output_type": "display_data"
    }
   ],
   "source": [
    "sns.distplot(birthweight_dropped['feduc'])"
   ]
  },
  {
   "cell_type": "markdown",
   "metadata": {},
   "source": [
    "Probably best replace with rounded mean. As there are only 7 NAs in this column the distribution won't be significantly changed regardless."
   ]
  },
  {
   "cell_type": "code",
   "execution_count": 12,
   "metadata": {},
   "outputs": [],
   "source": [
    "birthweight['feduc'] = birthweight['feduc'].fillna(birthweight_dropped['feduc'].mean().round(0))"
   ]
  },
  {
   "cell_type": "markdown",
   "metadata": {},
   "source": [
    "## Look at features\n",
    "\n",
    "omaps and fmaps are post-natal measurements and need to be removed for the regression even though they will likely be among the best predictors."
   ]
  },
  {
   "cell_type": "code",
   "execution_count": 13,
   "metadata": {},
   "outputs": [],
   "source": [
    "birthweight = birthweight.drop(['omaps',\n",
    "                                'fmaps'], 1)"
   ]
  },
  {
   "cell_type": "markdown",
   "metadata": {},
   "source": [
    "### Correlation\n",
    "\n",
    "For linear regression correlation between the predicted and the predictors is a prerequisit"
   ]
  },
  {
   "cell_type": "code",
   "execution_count": 14,
   "metadata": {},
   "outputs": [
    {
     "data": {
      "image/png": "[encoded data removed]",
      "text/plain": [
       "<Figure size 864x72 with 1 Axes>"
      ]
     },
     "metadata": {
      "needs_background": "light"
     },
     "output_type": "display_data"
    },
    {
     "data": {
      "image/png": "[encoded data removed]",
      "text/plain": [
       "<Figure size 1080x1080 with 2 Axes>"
      ]
     },
     "metadata": {
      "needs_background": "light"
     },
     "output_type": "display_data"
    }
   ],
   "source": [
    "df_corr = birthweight.corr().round(2)\n",
    "# only use the original columns for plot\n",
    "df_corr2 = df_corr.iloc[0:16,\n",
    "                        0:16]\n",
    "\n",
    "sns.palplot(sns.color_palette('coolwarm',\n",
    "                              12))\n",
    "fig, ax = plt.subplots(figsize=(15, 15))\n",
    "sns.heatmap(df_corr2,\n",
    "            cmap = 'coolwarm',\n",
    "            square = True,\n",
    "            annot = True,\n",
    "            linecolor = 'black',\n",
    "            linewidths = 0.5)\n",
    "plt.savefig('Birthweight Correlation Heatmap.png')\n",
    "plt.show()"
   ]
  },
  {
   "cell_type": "markdown",
   "metadata": {},
   "source": [
    "There is correlation between bwght and:\n",
    "- drink\n",
    "- cigs\n",
    "- fage\n",
    "- mage\n",
    "\n",
    "These should be useful for prediction"
   ]
  },
  {
   "cell_type": "markdown",
   "metadata": {},
   "source": [
    "### New features\n",
    "\n",
    "Information about similarities between mother and father might be of interest. Create new features based on race and education."
   ]
  },
  {
   "cell_type": "code",
   "execution_count": 15,
   "metadata": {},
   "outputs": [],
   "source": [
    "birthweight['sameEduc'] = (birthweight['meduc'] == birthweight['feduc'])*1\n",
    "birthweight['bothBlck'] = (birthweight['mblck'] * birthweight['fblck'])\n",
    "birthweight['bothWhte'] = (birthweight['mwhte'] * birthweight['fwhte'])\n",
    "birthweight['bothOth'] = (birthweight['moth'] * birthweight['foth'])"
   ]
  },
  {
   "cell_type": "markdown",
   "metadata": {},
   "source": [
    "## Outliers\n",
    "\n",
    "Look at the individual distributions and in combination with the knowledge gained from extrenal research define outlier flags."
   ]
  },
  {
   "cell_type": "code",
   "execution_count": 16,
   "metadata": {},
   "outputs": [
    {
     "data": {
      "image/png": "[encoded data removed]",
      "text/plain": [
       "<Figure size 432x288 with 4 Axes>"
      ]
     },
     "metadata": {
      "needs_background": "light"
     },
     "output_type": "display_data"
    }
   ],
   "source": [
    "plt.subplot(2, 2, 1)\n",
    "sns.distplot(birthweight['mage'],\n",
    "             color = 'g')\n",
    "plt.xlabel(\"Mother age\")\n",
    "\n",
    "plt.subplot(2, 2, 2)\n",
    "sns.distplot(birthweight['meduc'],\n",
    "             color = 'y')\n",
    "plt.xlabel('Mother Education')\n",
    "\n",
    "plt.subplot(2, 2, 3)\n",
    "sns.distplot(birthweight['monpre'],\n",
    "             color = 'orange')\n",
    "plt.xlabel('Months prenatal care began')\n",
    "\n",
    "plt.subplot(2, 2, 4)\n",
    "sns.distplot(birthweight['npvis'],\n",
    "             color = 'r')\n",
    "plt.xlabel('Number prenatal visits')\n",
    "\n",
    "plt.tight_layout()\n",
    "plt.savefig('Birthweight Histograms 1 of 4.png')\n",
    "\n",
    "plt.show()"
   ]
  },
  {
   "cell_type": "markdown",
   "metadata": {},
   "source": [
    "|feature| Outlier low | Outlier high |\n",
    "|---    |---          |---           |\n",
    "|mage   | 18          | 45           |\n",
    "|meduc  | 11          | 16           |\n",
    "|monpre | 1           | 4            |\n",
    "|npvis  | 4           | 18           |"
   ]
  },
  {
   "cell_type": "code",
   "execution_count": 17,
   "metadata": {},
   "outputs": [
    {
     "data": {
      "image/png": "[encoded data removed]",
      "text/plain": [
       "<Figure size 432x288 with 4 Axes>"
      ]
     },
     "metadata": {
      "needs_background": "light"
     },
     "output_type": "display_data"
    }
   ],
   "source": [
    "plt.subplot(2, 2, 1)\n",
    "sns.distplot(birthweight['fage'],\n",
    "             color = 'g')\n",
    "plt.xlabel(\"Father age\")\n",
    "\n",
    "plt.subplot(2, 2, 2)\n",
    "sns.distplot(birthweight['feduc'],\n",
    "             color = 'y')\n",
    "plt.xlabel('Father Education')\n",
    "\n",
    "plt.subplot(2, 2, 3)\n",
    "sns.distplot(birthweight['cigs'],\n",
    "             color = 'g')\n",
    "plt.xlabel(\"avg cigarettes per day\")\n",
    "\n",
    "plt.subplot(2, 2, 4)\n",
    "sns.distplot(birthweight['drink'],\n",
    "             color = 'y')\n",
    "plt.xlabel('avg drinks per week')\n",
    "\n",
    "plt.tight_layout()\n",
    "plt.savefig('Birthweight Histograms 2 of 4.png')\n",
    "\n",
    "plt.show()"
   ]
  },
  {
   "cell_type": "markdown",
   "metadata": {},
   "source": [
    "|feature| Outlier low | Outlier high |\n",
    "|---    |---          |---           |\n",
    "|fage   | 18          | 50           |\n",
    "|feduc  | 11          | 16           |\n",
    "|cigs   | 0           | 20           |\n",
    "|drink  | 0           | 8            |"
   ]
  },
  {
   "cell_type": "code",
   "execution_count": 18,
   "metadata": {},
   "outputs": [
    {
     "data": {
      "image/png": "[encoded data removed]",
      "text/plain": [
       "<Figure size 432x288 with 4 Axes>"
      ]
     },
     "metadata": {
      "needs_background": "light"
     },
     "output_type": "display_data"
    }
   ],
   "source": [
    "plt.subplot(2, 2, 1)\n",
    "sns.distplot(birthweight['male'],\n",
    "             bins = 2,\n",
    "             color = 'orange')\n",
    "plt.xlabel('if baby male')\n",
    "\n",
    "plt.subplot(2, 2, 2)\n",
    "sns.distplot(birthweight['mwhte'],\n",
    "             bins = 2,\n",
    "             color = 'r')\n",
    "plt.xlabel('if mother white')\n",
    "\n",
    "plt.subplot(2, 2, 3)\n",
    "sns.distplot(birthweight['mblck'],\n",
    "             bins = 2,\n",
    "             color = 'g')\n",
    "plt.xlabel(\"if mother black\")\n",
    "\n",
    "plt.subplot(2, 2, 4)\n",
    "sns.distplot(birthweight['moth'],\n",
    "             bins = 2,\n",
    "             color = 'y')\n",
    "plt.xlabel('if mother is other')\n",
    "\n",
    "plt.tight_layout()\n",
    "plt.savefig('Birthweight Histograms 3 of 4.png')\n",
    "\n",
    "plt.show()"
   ]
  },
  {
   "cell_type": "markdown",
   "metadata": {},
   "source": [
    "Only boolean features - no outliers needed"
   ]
  },
  {
   "cell_type": "code",
   "execution_count": 19,
   "metadata": {},
   "outputs": [
    {
     "data": {
      "image/png": "[encoded data removed]",
      "text/plain": [
       "<Figure size 432x288 with 4 Axes>"
      ]
     },
     "metadata": {
      "needs_background": "light"
     },
     "output_type": "display_data"
    }
   ],
   "source": [
    "plt.subplot(2, 2, 1)\n",
    "sns.distplot(birthweight['fwhte'],\n",
    "             bins = 2,\n",
    "             color = 'orange')\n",
    "plt.xlabel('if father white')\n",
    "\n",
    "plt.subplot(2, 2, 2)\n",
    "sns.distplot(birthweight['fblck'],\n",
    "             bins = 2,\n",
    "             color = 'r')\n",
    "plt.xlabel('if father black')\n",
    "\n",
    "plt.subplot(2, 2, 3)\n",
    "sns.distplot(birthweight['foth'],\n",
    "             bins = 2,\n",
    "             color = 'g')\n",
    "plt.xlabel(\"if father is other\")\n",
    "\n",
    "plt.subplot(2, 2, 4)\n",
    "sns.distplot(birthweight['bwght'],\n",
    "             color = 'y')\n",
    "plt.xlabel('birthweight, grams')\n",
    "\n",
    "plt.tight_layout()\n",
    "plt.savefig('Birthweight Histograms 4 of 4.png')\n",
    "\n",
    "plt.show()"
   ]
  },
  {
   "cell_type": "markdown",
   "metadata": {},
   "source": [
    "|feature| Outlier low | Outlier high |\n",
    "|---    |---          |---           |\n",
    "|bwght  | 2500        | 4000         |\n",
    "\n",
    "Outliers for birthweight here are just for info - no additional column will be added for this.\n",
    "\n",
    "Other features are boolean - no outliers needed."
   ]
  },
  {
   "cell_type": "markdown",
   "metadata": {},
   "source": [
    "#### Create Outlier Dictionaries\n",
    "Hi values: Outliers are greater than these\n",
    "\n",
    "Lo values: Outliers are less than these"
   ]
  },
  {
   "cell_type": "code",
   "execution_count": 20,
   "metadata": {},
   "outputs": [],
   "source": [
    "OL_hi = {'mage':45,\n",
    "         'meduc':16,\n",
    "         'monpre':4,\n",
    "         'npvis':18,\n",
    "         'fage':50,\n",
    "         'feduc':16,\n",
    "         'cigs':20,\n",
    "         'drink':8\n",
    "        }\n",
    "OL_lo = {'mage':18,\n",
    "         'meduc':11,\n",
    "         'monpre':1,\n",
    "         'npvis':4,\n",
    "         'fage':18,\n",
    "         'feduc':11,\n",
    "         'cigs':0,\n",
    "         'drink':0\n",
    "        }"
   ]
  },
  {
   "cell_type": "markdown",
   "metadata": {},
   "source": [
    "The outlierflagging function loops through all keys in the dictionary and applies the lower and upper boundaries to the data frame. Note that the same keys have to be in both dictionaries."
   ]
  },
  {
   "cell_type": "code",
   "execution_count": 21,
   "metadata": {},
   "outputs": [],
   "source": [
    "def outlierflagging (df, OL_hi, OL_lo):\n",
    "    for key in OL_hi.keys():\n",
    "        df['out_'+key] = 0\n",
    "        df['out_'+key] = df[key].apply(lambda val: 1 if val > OL_hi[key] else -1 if val < OL_lo[key] else 0)\n",
    "    return df"
   ]
  },
  {
   "cell_type": "code",
   "execution_count": 22,
   "metadata": {},
   "outputs": [],
   "source": [
    "birthweight = outlierflagging(birthweight,\n",
    "                              OL_hi,\n",
    "                              OL_lo)"
   ]
  },
  {
   "cell_type": "markdown",
   "metadata": {},
   "source": [
    "## Scatter\n",
    "\n",
    "Looking into possible relationships of birthweight and some of the variables."
   ]
  },
  {
   "cell_type": "code",
   "execution_count": 23,
   "metadata": {},
   "outputs": [
    {
     "data": {
      "image/png": "[encoded data removed]",
      "text/plain": [
       "<Figure size 432x288 with 4 Axes>"
      ]
     },
     "metadata": {
      "needs_background": "light"
     },
     "output_type": "display_data"
    }
   ],
   "source": [
    "names = birthweight.columns.values.tolist()\n",
    "\n",
    "plt.subplot(2, 2, 1)\n",
    "plt.scatter(x = names[0],\n",
    "            y = 'bwght',\n",
    "            data = birthweight)\n",
    "plt.xlabel(names[0])\n",
    "plt.ylabel('birth weight')\n",
    "\n",
    "plt.subplot(2, 2, 2)\n",
    "plt.scatter(x = names[4],\n",
    "            y = 'bwght',\n",
    "            data = birthweight)\n",
    "plt.xlabel(names[4])\n",
    "plt.ylabel('birth weight')\n",
    "\n",
    "plt.subplot(2, 2, 3)\n",
    "plt.scatter(x = names[1],\n",
    "            y = 'bwght',\n",
    "            data = birthweight)\n",
    "plt.xlabel(names[1])\n",
    "plt.ylabel('birth weight')\n",
    "\n",
    "plt.subplot(2, 2, 4)\n",
    "plt.scatter(x = names[2],\n",
    "            y = 'bwght',\n",
    "            data = birthweight)\n",
    "plt.xlabel(names[2])\n",
    "plt.ylabel('birth weight')\n",
    "\n",
    "plt.tight_layout()\n",
    "plt.savefig('Birthweight Scatters 1 of 3.png')\n",
    "\n",
    "plt.show()"
   ]
  },
  {
   "cell_type": "markdown",
   "metadata": {},
   "source": [
    "All realy low values of birthweight corespond to a high age of father and/or mother.\n",
    "\n",
    "There seems no relationship between birthweight and meduc or monpre."
   ]
  },
  {
   "cell_type": "code",
   "execution_count": 24,
   "metadata": {},
   "outputs": [
    {
     "data": {
      "image/png": "[encoded data removed]",
      "text/plain": [
       "<Figure size 432x288 with 4 Axes>"
      ]
     },
     "metadata": {
      "needs_background": "light"
     },
     "output_type": "display_data"
    }
   ],
   "source": [
    "plt.subplot(2, 2, 1)\n",
    "plt.scatter(x = names[3],\n",
    "            y = 'bwght',\n",
    "            data = birthweight)\n",
    "plt.xlabel(names[3])\n",
    "plt.ylabel('birth weight')\n",
    "\n",
    "plt.subplot(2, 2, 2)\n",
    "plt.scatter(x = names[5],\n",
    "            y = 'bwght',\n",
    "            data = birthweight)\n",
    "plt.xlabel(names[5])\n",
    "plt.ylabel('birth weight')\n",
    "\n",
    "plt.subplot(2, 2, 3)\n",
    "plt.scatter(x = names[6],\n",
    "            y = 'bwght',\n",
    "            data = birthweight)\n",
    "plt.xlabel(names[6])\n",
    "plt.ylabel('birth weight')\n",
    "\n",
    "plt.subplot(2, 2, 4)\n",
    "plt.scatter(x = names[7],\n",
    "            y = 'bwght',\n",
    "            data = birthweight)\n",
    "plt.xlabel(names[7])\n",
    "plt.ylabel('birth weight')\n",
    "\n",
    "plt.tight_layout()\n",
    "plt.savefig('Birthweight Scatters 2 of 3.png')\n",
    "\n",
    "plt.show()"
   ]
  },
  {
   "cell_type": "markdown",
   "metadata": {},
   "source": [
    "Feduc and npvis doesn't seem to have a relationship to birthweight.\n",
    "\n",
    "It can be clearly seen, that the number of cigaretes smoked and the number of drinks during pregnancy is correlated to low birthweight."
   ]
  },
  {
   "cell_type": "code",
   "execution_count": 25,
   "metadata": {},
   "outputs": [
    {
     "data": {
      "image/png": "[encoded data removed]",
      "text/plain": [
       "<Figure size 432x288 with 2 Axes>"
      ]
     },
     "metadata": {
      "needs_background": "light"
     },
     "output_type": "display_data"
    }
   ],
   "source": [
    "plt.subplot(2, 1, 1)\n",
    "plt.scatter(x = names[8],\n",
    "            y = 'bwght',\n",
    "            data = birthweight)\n",
    "plt.xlabel(names[8])\n",
    "plt.ylabel('birth weight')\n",
    "\n",
    "plt.subplot(2, 1, 2)\n",
    "plt.scatter(x = names[9],\n",
    "            y = 'bwght',\n",
    "            data = birthweight)\n",
    "plt.xlabel(names[9])\n",
    "plt.ylabel('birth weight')\n",
    "\n",
    "plt.tight_layout()\n",
    "plt.savefig('Birthweight Scatters 3 of 3.png')\n",
    "\n",
    "plt.show()"
   ]
  },
  {
   "cell_type": "markdown",
   "metadata": {},
   "source": [
    "All the really low birthweight data points seem to be of male children.\n",
    "\n",
    "The white skin color of the mother doesn't seem to have any influence on birthweight."
   ]
  },
  {
   "cell_type": "markdown",
   "metadata": {},
   "source": [
    "## Create training and test data"
   ]
  },
  {
   "cell_type": "code",
   "execution_count": 26,
   "metadata": {},
   "outputs": [],
   "source": [
    "# attributes\n",
    "X = birthweight.drop(['bwght'], 1)\n",
    "# lables\n",
    "y = birthweight['bwght']"
   ]
  },
  {
   "cell_type": "code",
   "execution_count": 27,
   "metadata": {},
   "outputs": [],
   "source": [
    "X_train, X_test, y_train, y_test = train_test_split(X,\n",
    "                                                    y,\n",
    "                                                    test_size = 0.1,\n",
    "                                                    random_state = 508)"
   ]
  },
  {
   "cell_type": "markdown",
   "metadata": {},
   "source": [
    "# Train Algorithms"
   ]
  },
  {
   "cell_type": "markdown",
   "metadata": {},
   "source": [
    "## Linear Regression\n",
    "\n",
    "### Baseline with all features"
   ]
  },
  {
   "cell_type": "code",
   "execution_count": 28,
   "metadata": {},
   "outputs": [
    {
     "data": {
      "text/plain": [
       "LinearRegression(copy_X=True, fit_intercept=True, n_jobs=None,\n",
       "         normalize=False)"
      ]
     },
     "execution_count": 28,
     "metadata": {},
     "output_type": "execute_result"
    }
   ],
   "source": [
    "lr = LinearRegression()\n",
    "lr.fit(X_train,\n",
    "       y_train)"
   ]
  },
  {
   "cell_type": "code",
   "execution_count": 29,
   "metadata": {},
   "outputs": [
    {
     "name": "stdout",
     "output_type": "stream",
     "text": [
      "Testing score: 0.669106\n",
      "Training score: 0.768877\n",
      "Diff: 0.099771\n"
     ]
    }
   ],
   "source": [
    "score = lr.score(X_test,\n",
    "                 y_test)\n",
    "train_score = lr.score(X_train,\n",
    "                       y_train)\n",
    "diff = train_score - score\n",
    "\n",
    "print(\"Testing score: %f\" % (score))\n",
    "print(\"Training score: %f\" % (train_score))\n",
    "print(\"Diff: %f\" % (diff))"
   ]
  },
  {
   "cell_type": "markdown",
   "metadata": {},
   "source": [
    "### Drop features until best regressor is found"
   ]
  },
  {
   "cell_type": "code",
   "execution_count": 30,
   "metadata": {},
   "outputs": [],
   "source": [
    "X_n = X.drop(['meduc',\n",
    "              'sameEduc',\n",
    "              'male',\n",
    "              'mwhte',\n",
    "              'mblck',\n",
    "              'moth',\n",
    "              'fwhte',\n",
    "              'fblck',\n",
    "              'm_meduc',\n",
    "              'm_npvis',\n",
    "              'sameEduc',\n",
    "              'bothWhte',\n",
    "              'out_mage',\n",
    "              'out_meduc',\n",
    "              'out_monpre',\n",
    "              'out_feduc'],1)\n",
    "\n",
    "X_train_n, X_test_n, y_train, y_test = train_test_split(X_n,\n",
    "                                                        y,\n",
    "                                                        test_size = 0.1,\n",
    "                                                        random_state = 508)"
   ]
  },
  {
   "cell_type": "code",
   "execution_count": 31,
   "metadata": {},
   "outputs": [
    {
     "data": {
      "text/plain": [
       "LinearRegression(copy_X=True, fit_intercept=True, n_jobs=None,\n",
       "         normalize=False)"
      ]
     },
     "execution_count": 31,
     "metadata": {},
     "output_type": "execute_result"
    }
   ],
   "source": [
    "lr = LinearRegression()\n",
    "lr.fit(X_train_n,\n",
    "       y_train)"
   ]
  },
  {
   "cell_type": "code",
   "execution_count": 32,
   "metadata": {},
   "outputs": [
    {
     "name": "stdout",
     "output_type": "stream",
     "text": [
      "Testing score: 0.691396\n",
      "Training score: 0.750319\n",
      "Diff: 0.058923\n"
     ]
    }
   ],
   "source": [
    "score = lr.score(X_test_n,\n",
    "                 y_test)\n",
    "train_score = lr.score(X_train_n,\n",
    "                       y_train)\n",
    "diff = train_score - score\n",
    "\n",
    "print(\"Testing score: %f\" % (score))\n",
    "print(\"Training score: %f\" % (train_score))\n",
    "print(\"Diff: %f\" % (diff))"
   ]
  },
  {
   "cell_type": "markdown",
   "metadata": {},
   "source": [
    "## Ridge Regression"
   ]
  },
  {
   "cell_type": "code",
   "execution_count": 33,
   "metadata": {},
   "outputs": [
    {
     "data": {
      "text/plain": [
       "Ridge(alpha=150, copy_X=True, fit_intercept=True, max_iter=None,\n",
       "   normalize=False, random_state=508, solver='auto', tol=0.001)"
      ]
     },
     "execution_count": 33,
     "metadata": {},
     "output_type": "execute_result"
    }
   ],
   "source": [
    "rr = linear_model.Ridge(alpha = 150,\n",
    "                         random_state = 508,\n",
    "                         normalize = False)\n",
    "rr.fit(X_train,\n",
    "       y_train)"
   ]
  },
  {
   "cell_type": "code",
   "execution_count": 34,
   "metadata": {},
   "outputs": [
    {
     "name": "stdout",
     "output_type": "stream",
     "text": [
      "Testing score: 0.615560\n",
      "Training score: 0.723547\n",
      "Diff: 0.107988\n"
     ]
    }
   ],
   "source": [
    "score = rr.score(X_test,\n",
    "                 y_test)\n",
    "train_score = rr.score(X_train,\n",
    "                       y_train)\n",
    "diff = train_score - score\n",
    "\n",
    "print(\"Testing score: %f\" % (score))\n",
    "print(\"Training score: %f\" % (train_score))\n",
    "print(\"Diff: %f\" % (diff))"
   ]
  },
  {
   "cell_type": "markdown",
   "metadata": {},
   "source": [
    "No improvement over Linear Reg"
   ]
  },
  {
   "cell_type": "markdown",
   "metadata": {},
   "source": [
    "## Lasso Regression"
   ]
  },
  {
   "cell_type": "code",
   "execution_count": 35,
   "metadata": {},
   "outputs": [
    {
     "data": {
      "text/plain": [
       "Lasso(alpha=0.01, copy_X=True, fit_intercept=True, max_iter=1000,\n",
       "   normalize=False, positive=False, precompute=False, random_state=None,\n",
       "   selection='cyclic', tol=0.0001, warm_start=False)"
      ]
     },
     "execution_count": 35,
     "metadata": {},
     "output_type": "execute_result"
    }
   ],
   "source": [
    "regL = linear_model.Lasso(alpha = 0.01)\n",
    "regL.fit(X_train_n,\n",
    "         y_train)"
   ]
  },
  {
   "cell_type": "code",
   "execution_count": 36,
   "metadata": {},
   "outputs": [
    {
     "name": "stdout",
     "output_type": "stream",
     "text": [
      "Testing score: 0.691349\n",
      "Training score: 0.750319\n",
      "Diff: 0.058969\n"
     ]
    }
   ],
   "source": [
    "score = regL.score(X_test_n,\n",
    "                   y_test)\n",
    "train_score = regL.score(X_train_n,\n",
    "                         y_train)\n",
    "diff = train_score - score\n",
    "\n",
    "print(\"Testing score: %f\" % (score))\n",
    "print(\"Training score: %f\" % (train_score))\n",
    "print(\"Diff: %f\" % (diff))"
   ]
  },
  {
   "cell_type": "markdown",
   "metadata": {},
   "source": [
    "Lasso Regression on reduced featureset gives slight improvement over Linear Regression"
   ]
  },
  {
   "cell_type": "markdown",
   "metadata": {},
   "source": [
    "## Elastic Net"
   ]
  },
  {
   "cell_type": "code",
   "execution_count": 37,
   "metadata": {},
   "outputs": [
    {
     "data": {
      "text/plain": [
       "ElasticNet(alpha=0.001, copy_X=True, fit_intercept=True, l1_ratio=1.0,\n",
       "      max_iter=1000, normalize=False, positive=False, precompute=False,\n",
       "      random_state=508, selection='cyclic', tol=0.0001, warm_start=False)"
      ]
     },
     "execution_count": 37,
     "metadata": {},
     "output_type": "execute_result"
    }
   ],
   "source": [
    "regEN = ElasticNet(alpha = 0.001,\n",
    "                   l1_ratio = 1.0,\n",
    "                  random_state = 508,\n",
    "                  normalize = False)\n",
    "regEN.fit(X_train_n,\n",
    "          y_train)"
   ]
  },
  {
   "cell_type": "code",
   "execution_count": 38,
   "metadata": {},
   "outputs": [
    {
     "name": "stdout",
     "output_type": "stream",
     "text": [
      "Testing score: 0.691391\n",
      "Training score: 0.750319\n",
      "Diff: 0.058928\n"
     ]
    }
   ],
   "source": [
    "score = regEN.score(X_test_n,\n",
    "                    y_test)\n",
    "train_score = regEN.score(X_train_n,\n",
    "                          y_train)\n",
    "diff = train_score - score\n",
    "\n",
    "print(\"Testing score: %f\" % (score))\n",
    "print(\"Training score: %f\" % (train_score))\n",
    "print(\"Diff: %f\" % (diff))"
   ]
  },
  {
   "cell_type": "markdown",
   "metadata": {},
   "source": [
    "Very similar result to Lasso"
   ]
  },
  {
   "cell_type": "markdown",
   "metadata": {},
   "source": [
    "## Lasso Lars"
   ]
  },
  {
   "cell_type": "code",
   "execution_count": 39,
   "metadata": {},
   "outputs": [
    {
     "data": {
      "text/plain": [
       "LassoLars(alpha=0.001, copy_X=True, eps=2.220446049250313e-16,\n",
       "     fit_intercept=True, fit_path=True, max_iter=2000, normalize=True,\n",
       "     positive=False, precompute='auto', verbose=False)"
      ]
     },
     "execution_count": 39,
     "metadata": {},
     "output_type": "execute_result"
    }
   ],
   "source": [
    "regLARS = linear_model.LassoLars(alpha = 0.001,\n",
    "                                 max_iter = 2000)\n",
    "regLARS.fit(X_train_n,\n",
    "            y_train)"
   ]
  },
  {
   "cell_type": "code",
   "execution_count": 40,
   "metadata": {},
   "outputs": [
    {
     "name": "stdout",
     "output_type": "stream",
     "text": [
      "Testing score: 0.691382\n",
      "Training score: 0.750319\n",
      "Diff: 0.058937\n"
     ]
    }
   ],
   "source": [
    "score = regLARS.score(X_test_n,\n",
    "                      y_test)\n",
    "train_score = regLARS.score(X_train_n,\n",
    "                            y_train)\n",
    "diff = train_score - score\n",
    "\n",
    "print(\"Testing score: %f\" % (score))\n",
    "print(\"Training score: %f\" % (train_score))\n",
    "print(\"Diff: %f\" % (diff))"
   ]
  },
  {
   "cell_type": "markdown",
   "metadata": {},
   "source": [
    "Again - no improvement"
   ]
  },
  {
   "cell_type": "markdown",
   "metadata": {},
   "source": [
    "## KNN\n",
    "\n",
    "look for the optimal number of neighbors first."
   ]
  },
  {
   "cell_type": "code",
   "execution_count": 41,
   "metadata": {},
   "outputs": [
    {
     "data": {
      "image/png": "[encoded data removed]",
      "text/plain": [
       "<Figure size 864x648 with 1 Axes>"
      ]
     },
     "metadata": {
      "needs_background": "light"
     },
     "output_type": "display_data"
    }
   ],
   "source": [
    "training_accuracy = []\n",
    "test_accuracy = []\n",
    "neighbors_settings = range(1, 51)\n",
    "for n_neighbors in neighbors_settings:\n",
    "    # Building the model\n",
    "    clf = KNeighborsRegressor(n_neighbors = n_neighbors)\n",
    "    clf.fit(X_train,\n",
    "            y_train)\n",
    "    \n",
    "    # Recording the training set accuracy\n",
    "    training_accuracy.append(clf.score(X_train,\n",
    "                                       y_train))\n",
    "    \n",
    "    # Recording the generalization accuracy\n",
    "    test_accuracy.append(clf.score(X_test,\n",
    "                                   y_test))\n",
    "\n",
    "# Plotting the visualization\n",
    "fig, ax = plt.subplots(figsize = (12, 9))\n",
    "plt.plot(neighbors_settings,\n",
    "         training_accuracy,\n",
    "         label = \"training accuracy\")\n",
    "plt.plot(neighbors_settings,\n",
    "         test_accuracy,\n",
    "         label = \"test accuracy\")\n",
    "plt.ylabel(\"Accuracy\")\n",
    "plt.xlabel(\"n_neighbors\")\n",
    "plt.legend()\n",
    "plt.show()"
   ]
  },
  {
   "cell_type": "code",
   "execution_count": 42,
   "metadata": {},
   "outputs": [
    {
     "name": "stdout",
     "output_type": "stream",
     "text": [
      "The optimal number of neighbors is 3 with an optimal score of 0.484742226717361\n"
     ]
    }
   ],
   "source": [
    "print(\"The optimal number of neighbors is\", \\\n",
    "      test_accuracy.index(max(test_accuracy)), \\\n",
    "      \"with an optimal score of\", \\\n",
    "      max(test_accuracy))"
   ]
  },
  {
   "cell_type": "code",
   "execution_count": 43,
   "metadata": {},
   "outputs": [
    {
     "data": {
      "text/plain": [
       "KNeighborsRegressor(algorithm='auto', leaf_size=30, metric='minkowski',\n",
       "          metric_params=None, n_jobs=None, n_neighbors=3, p=2,\n",
       "          weights='uniform')"
      ]
     },
     "execution_count": 43,
     "metadata": {},
     "output_type": "execute_result"
    }
   ],
   "source": [
    "knn_reg = KNeighborsRegressor(algorithm = 'auto',\n",
    "                              n_neighbors = 3)\n",
    "knn_reg.fit(X_train,\n",
    "            y_train)"
   ]
  },
  {
   "cell_type": "code",
   "execution_count": 44,
   "metadata": {},
   "outputs": [
    {
     "name": "stdout",
     "output_type": "stream",
     "text": [
      "Testing score: 0.439728\n",
      "Training score: 0.793500\n",
      "Diff: 0.353772\n"
     ]
    }
   ],
   "source": [
    "score = knn_reg.score(X_test,\n",
    "                      y_test)\n",
    "train_score = knn_reg.score(X_train,\n",
    "                            y_train)\n",
    "diff = train_score - score\n",
    "\n",
    "print(\"Testing score: %f\" % (score))\n",
    "print(\"Training score: %f\" % (train_score))\n",
    "print(\"Diff: %f\" % (diff))"
   ]
  },
  {
   "cell_type": "markdown",
   "metadata": {},
   "source": [
    "KNN gives so far the worst result."
   ]
  },
  {
   "cell_type": "markdown",
   "metadata": {},
   "source": [
    "## Decision Tree"
   ]
  },
  {
   "cell_type": "code",
   "execution_count": 45,
   "metadata": {},
   "outputs": [
    {
     "data": {
      "text/plain": [
       "DecisionTreeRegressor(criterion='mae', max_depth=3, max_features=None,\n",
       "           max_leaf_nodes=None, min_impurity_decrease=0.0,\n",
       "           min_impurity_split=None, min_samples_leaf=1,\n",
       "           min_samples_split=2, min_weight_fraction_leaf=0.0,\n",
       "           presort=False, random_state=508, splitter='best')"
      ]
     },
     "execution_count": 45,
     "metadata": {},
     "output_type": "execute_result"
    }
   ],
   "source": [
    "clf1 = tree.DecisionTreeRegressor(max_depth = 3,\n",
    "                                  random_state = 508,\n",
    "                                  criterion = 'mae')\n",
    "clf1.fit(X_train,\n",
    "         y_train)"
   ]
  },
  {
   "cell_type": "code",
   "execution_count": 46,
   "metadata": {},
   "outputs": [
    {
     "name": "stdout",
     "output_type": "stream",
     "text": [
      "Testing score: 0.313337\n",
      "Training score: 0.605687\n",
      "Diff: 0.292350\n"
     ]
    }
   ],
   "source": [
    "score = clf1.score(X_test,\n",
    "                   y_test)\n",
    "train_score = clf1.score(X_train,\n",
    "                         y_train)\n",
    "diff = train_score - score\n",
    "\n",
    "print(\"Testing score: %f\" % (score))\n",
    "print(\"Training score: %f\" % (train_score))\n",
    "print(\"Diff: %f\" % (diff))"
   ]
  },
  {
   "cell_type": "code",
   "execution_count": 47,
   "metadata": {},
   "outputs": [
    {
     "data": {
      "image/svg+xml": [
       "<?xml version=\"1.0\" encoding=\"UTF-8\" standalone=\"no\"?>\n",
       "<!DOCTYPE svg PUBLIC \"-//W3C//DTD SVG 1.1//EN\"\n",
       " \"http://www.w3.org/Graphics/SVG/1.1/DTD/svg11.dtd\">\n",
       "<!-- Generated by graphviz version 2.40.1 (20161225.0304)\n",
       " -->\n",
       "<!-- Title: Tree Pages: 1 -->\n",
       "<svg width=\"1014pt\" height=\"373pt\"\n",
       " viewBox=\"0.00 0.00 1013.50 373.00\" xmlns=\"http://www.w3.org/2000/svg\" xmlns:xlink=\"http://www.w3.org/1999/xlink\">\n",
       "<g id=\"graph0\" class=\"graph\" transform=\"scale(1 1) rotate(0) translate(4 369)\">\n",
       "<title>Tree</title>\n",
       "<polygon fill=\"#ffffff\" stroke=\"transparent\" points=\"-4,4 -4,-369 1009.5,-369 1009.5,4 -4,4\"/>\n",
       "<!-- 0 -->\n",
       "<g id=\"node1\" class=\"node\">\n",
       "<title>0</title>\n",
       "<path fill=\"#e58139\" fill-opacity=\"0.776471\" stroke=\"#000000\" d=\"M546,-365C546,-365 460,-365 460,-365 454,-365 448,-359 448,-353 448,-353 448,-309 448,-309 448,-303 454,-297 460,-297 460,-297 546,-297 546,-297 552,-297 558,-303 558,-309 558,-309 558,-353 558,-353 558,-359 552,-365 546,-365\"/>\n",
       "<text text-anchor=\"start\" x=\"470\" y=\"-349.8\" font-family=\"Helvetica,sans-Serif\" font-size=\"14.00\" fill=\"#000000\">drink ≤ 6.5</text>\n",
       "<text text-anchor=\"start\" x=\"456\" y=\"-334.8\" font-family=\"Helvetica,sans-Serif\" font-size=\"14.00\" fill=\"#000000\">mae = 519.665</text>\n",
       "<text text-anchor=\"start\" x=\"457\" y=\"-319.8\" font-family=\"Helvetica,sans-Serif\" font-size=\"14.00\" fill=\"#000000\">samples = 176</text>\n",
       "<text text-anchor=\"start\" x=\"456.5\" y=\"-304.8\" font-family=\"Helvetica,sans-Serif\" font-size=\"14.00\" fill=\"#000000\">value = 3454.0</text>\n",
       "</g>\n",
       "<!-- 1 -->\n",
       "<g id=\"node2\" class=\"node\">\n",
       "<title>1</title>\n",
       "<path fill=\"#e58139\" fill-opacity=\"0.870588\" stroke=\"#000000\" d=\"M417.5,-261C417.5,-261 332.5,-261 332.5,-261 326.5,-261 320.5,-255 320.5,-249 320.5,-249 320.5,-205 320.5,-205 320.5,-199 326.5,-193 332.5,-193 332.5,-193 417.5,-193 417.5,-193 423.5,-193 429.5,-199 429.5,-205 429.5,-205 429.5,-249 429.5,-249 429.5,-255 423.5,-261 417.5,-261\"/>\n",
       "<text text-anchor=\"start\" x=\"342\" y=\"-245.8\" font-family=\"Helvetica,sans-Serif\" font-size=\"14.00\" fill=\"#000000\">drink ≤ 2.5</text>\n",
       "<text text-anchor=\"start\" x=\"331.5\" y=\"-230.8\" font-family=\"Helvetica,sans-Serif\" font-size=\"14.00\" fill=\"#000000\">mae = 358.54</text>\n",
       "<text text-anchor=\"start\" x=\"329\" y=\"-215.8\" font-family=\"Helvetica,sans-Serif\" font-size=\"14.00\" fill=\"#000000\">samples = 113</text>\n",
       "<text text-anchor=\"start\" x=\"328.5\" y=\"-200.8\" font-family=\"Helvetica,sans-Serif\" font-size=\"14.00\" fill=\"#000000\">value = 3700.0</text>\n",
       "</g>\n",
       "<!-- 0&#45;&gt;1 -->\n",
       "<g id=\"edge1\" class=\"edge\">\n",
       "<title>0&#45;&gt;1</title>\n",
       "<path fill=\"none\" stroke=\"#000000\" d=\"M461.088,-296.9465C449.485,-287.519 436.7779,-277.1946 424.7741,-267.4415\"/>\n",
       "<polygon fill=\"#000000\" stroke=\"#000000\" points=\"426.9744,-264.7196 417.0061,-261.13 422.5602,-270.1524 426.9744,-264.7196\"/>\n",
       "<text text-anchor=\"middle\" x=\"419.5786\" y=\"-282.2973\" font-family=\"Helvetica,sans-Serif\" font-size=\"14.00\" fill=\"#000000\">True</text>\n",
       "</g>\n",
       "<!-- 8 -->\n",
       "<g id=\"node9\" class=\"node\">\n",
       "<title>8</title>\n",
       "<path fill=\"#e58139\" fill-opacity=\"0.533333\" stroke=\"#000000\" d=\"M674,-261C674,-261 588,-261 588,-261 582,-261 576,-255 576,-249 576,-249 576,-205 576,-205 576,-199 582,-193 588,-193 588,-193 674,-193 674,-193 680,-193 686,-199 686,-205 686,-205 686,-249 686,-249 686,-255 680,-261 674,-261\"/>\n",
       "<text text-anchor=\"start\" x=\"594\" y=\"-245.8\" font-family=\"Helvetica,sans-Serif\" font-size=\"14.00\" fill=\"#000000\">drink ≤ 10.5</text>\n",
       "<text text-anchor=\"start\" x=\"584\" y=\"-230.8\" font-family=\"Helvetica,sans-Serif\" font-size=\"14.00\" fill=\"#000000\">mae = 450.937</text>\n",
       "<text text-anchor=\"start\" x=\"589\" y=\"-215.8\" font-family=\"Helvetica,sans-Serif\" font-size=\"14.00\" fill=\"#000000\">samples = 63</text>\n",
       "<text text-anchor=\"start\" x=\"584.5\" y=\"-200.8\" font-family=\"Helvetica,sans-Serif\" font-size=\"14.00\" fill=\"#000000\">value = 2807.0</text>\n",
       "</g>\n",
       "<!-- 0&#45;&gt;8 -->\n",
       "<g id=\"edge8\" class=\"edge\">\n",
       "<title>0&#45;&gt;8</title>\n",
       "<path fill=\"none\" stroke=\"#000000\" d=\"M544.912,-296.9465C556.515,-287.519 569.2221,-277.1946 581.2259,-267.4415\"/>\n",
       "<polygon fill=\"#000000\" stroke=\"#000000\" points=\"583.4398,-270.1524 588.9939,-261.13 579.0256,-264.7196 583.4398,-270.1524\"/>\n",
       "<text text-anchor=\"middle\" x=\"586.4214\" y=\"-282.2973\" font-family=\"Helvetica,sans-Serif\" font-size=\"14.00\" fill=\"#000000\">False</text>\n",
       "</g>\n",
       "<!-- 2 -->\n",
       "<g id=\"node3\" class=\"node\">\n",
       "<title>2</title>\n",
       "<path fill=\"#e58139\" fill-opacity=\"0.956863\" stroke=\"#000000\" d=\"M225.5,-157C225.5,-157 140.5,-157 140.5,-157 134.5,-157 128.5,-151 128.5,-145 128.5,-145 128.5,-101 128.5,-101 128.5,-95 134.5,-89 140.5,-89 140.5,-89 225.5,-89 225.5,-89 231.5,-89 237.5,-95 237.5,-101 237.5,-101 237.5,-145 237.5,-145 237.5,-151 231.5,-157 225.5,-157\"/>\n",
       "<text text-anchor=\"start\" x=\"148\" y=\"-141.8\" font-family=\"Helvetica,sans-Serif\" font-size=\"14.00\" fill=\"#000000\">fage ≤ 38.5</text>\n",
       "<text text-anchor=\"start\" x=\"143.5\" y=\"-126.8\" font-family=\"Helvetica,sans-Serif\" font-size=\"14.00\" fill=\"#000000\">mae = 214.6</text>\n",
       "<text text-anchor=\"start\" x=\"141\" y=\"-111.8\" font-family=\"Helvetica,sans-Serif\" font-size=\"14.00\" fill=\"#000000\">samples = 30</text>\n",
       "<text text-anchor=\"start\" x=\"136.5\" y=\"-96.8\" font-family=\"Helvetica,sans-Serif\" font-size=\"14.00\" fill=\"#000000\">value = 3930.0</text>\n",
       "</g>\n",
       "<!-- 1&#45;&gt;2 -->\n",
       "<g id=\"edge2\" class=\"edge\">\n",
       "<title>1&#45;&gt;2</title>\n",
       "<path fill=\"none\" stroke=\"#000000\" d=\"M320.4941,-197.476C297.4902,-185.0155 270.5501,-170.423 246.6422,-157.4728\"/>\n",
       "<polygon fill=\"#000000\" stroke=\"#000000\" points=\"248.1022,-154.2832 237.6422,-152.5979 244.7681,-160.4383 248.1022,-154.2832\"/>\n",
       "</g>\n",
       "<!-- 5 -->\n",
       "<g id=\"node6\" class=\"node\">\n",
       "<title>5</title>\n",
       "<path fill=\"#e58139\" fill-opacity=\"0.831373\" stroke=\"#000000\" d=\"M418,-157C418,-157 332,-157 332,-157 326,-157 320,-151 320,-145 320,-145 320,-101 320,-101 320,-95 326,-89 332,-89 332,-89 418,-89 418,-89 424,-89 430,-95 430,-101 430,-101 430,-145 430,-145 430,-151 424,-157 418,-157\"/>\n",
       "<text text-anchor=\"start\" x=\"340\" y=\"-141.8\" font-family=\"Helvetica,sans-Serif\" font-size=\"14.00\" fill=\"#000000\">fage ≤ 48.5</text>\n",
       "<text text-anchor=\"start\" x=\"328\" y=\"-126.8\" font-family=\"Helvetica,sans-Serif\" font-size=\"14.00\" fill=\"#000000\">mae = 349.337</text>\n",
       "<text text-anchor=\"start\" x=\"333\" y=\"-111.8\" font-family=\"Helvetica,sans-Serif\" font-size=\"14.00\" fill=\"#000000\">samples = 83</text>\n",
       "<text text-anchor=\"start\" x=\"328.5\" y=\"-96.8\" font-family=\"Helvetica,sans-Serif\" font-size=\"14.00\" fill=\"#000000\">value = 3600.0</text>\n",
       "</g>\n",
       "<!-- 1&#45;&gt;5 -->\n",
       "<g id=\"edge5\" class=\"edge\">\n",
       "<title>1&#45;&gt;5</title>\n",
       "<path fill=\"none\" stroke=\"#000000\" d=\"M375,-192.9465C375,-184.776 375,-175.9318 375,-167.3697\"/>\n",
       "<polygon fill=\"#000000\" stroke=\"#000000\" points=\"378.5001,-167.13 375,-157.13 371.5001,-167.13 378.5001,-167.13\"/>\n",
       "</g>\n",
       "<!-- 3 -->\n",
       "<g id=\"node4\" class=\"node\">\n",
       "<title>3</title>\n",
       "<path fill=\"#e58139\" stroke=\"#000000\" d=\"M98,-53C98,-53 12,-53 12,-53 6,-53 0,-47 0,-41 0,-41 0,-12 0,-12 0,-6 6,0 12,0 12,0 98,0 98,0 104,0 110,-6 110,-12 110,-12 110,-41 110,-41 110,-47 104,-53 98,-53\"/>\n",
       "<text text-anchor=\"start\" x=\"8\" y=\"-37.8\" font-family=\"Helvetica,sans-Serif\" font-size=\"14.00\" fill=\"#000000\">mae = 222.182</text>\n",
       "<text text-anchor=\"start\" x=\"13\" y=\"-22.8\" font-family=\"Helvetica,sans-Serif\" font-size=\"14.00\" fill=\"#000000\">samples = 22</text>\n",
       "<text text-anchor=\"start\" x=\"8.5\" y=\"-7.8\" font-family=\"Helvetica,sans-Serif\" font-size=\"14.00\" fill=\"#000000\">value = 4045.0</text>\n",
       "</g>\n",
       "<!-- 2&#45;&gt;3 -->\n",
       "<g id=\"edge3\" class=\"edge\">\n",
       "<title>2&#45;&gt;3</title>\n",
       "<path fill=\"none\" stroke=\"#000000\" d=\"M137.872,-88.9777C125.1187,-79.3629 111.2673,-68.9203 98.6053,-59.3743\"/>\n",
       "<polygon fill=\"#000000\" stroke=\"#000000\" points=\"100.5719,-56.4737 90.4798,-53.2485 96.3579,-62.0632 100.5719,-56.4737\"/>\n",
       "</g>\n",
       "<!-- 4 -->\n",
       "<g id=\"node5\" class=\"node\">\n",
       "<title>4</title>\n",
       "<path fill=\"#e58139\" fill-opacity=\"0.898039\" stroke=\"#000000\" d=\"M225.5,-53C225.5,-53 140.5,-53 140.5,-53 134.5,-53 128.5,-47 128.5,-41 128.5,-41 128.5,-12 128.5,-12 128.5,-6 134.5,0 140.5,0 140.5,0 225.5,0 225.5,0 231.5,0 237.5,-6 237.5,-12 237.5,-12 237.5,-41 237.5,-41 237.5,-47 231.5,-53 225.5,-53\"/>\n",
       "<text text-anchor=\"start\" x=\"143.5\" y=\"-37.8\" font-family=\"Helvetica,sans-Serif\" font-size=\"14.00\" fill=\"#000000\">mae = 66.75</text>\n",
       "<text text-anchor=\"start\" x=\"145\" y=\"-22.8\" font-family=\"Helvetica,sans-Serif\" font-size=\"14.00\" fill=\"#000000\">samples = 8</text>\n",
       "<text text-anchor=\"start\" x=\"136.5\" y=\"-7.8\" font-family=\"Helvetica,sans-Serif\" font-size=\"14.00\" fill=\"#000000\">value = 3770.5</text>\n",
       "</g>\n",
       "<!-- 2&#45;&gt;4 -->\n",
       "<g id=\"edge4\" class=\"edge\">\n",
       "<title>2&#45;&gt;4</title>\n",
       "<path fill=\"none\" stroke=\"#000000\" d=\"M183,-88.9777C183,-80.7364 183,-71.887 183,-63.5153\"/>\n",
       "<polygon fill=\"#000000\" stroke=\"#000000\" points=\"186.5001,-63.2484 183,-53.2485 179.5001,-63.2485 186.5001,-63.2484\"/>\n",
       "</g>\n",
       "<!-- 6 -->\n",
       "<g id=\"node7\" class=\"node\">\n",
       "<title>6</title>\n",
       "<path fill=\"#e58139\" fill-opacity=\"0.835294\" stroke=\"#000000\" d=\"M354,-53C354,-53 268,-53 268,-53 262,-53 256,-47 256,-41 256,-41 256,-12 256,-12 256,-6 262,0 268,0 268,0 354,0 354,0 360,0 366,-6 366,-12 366,-12 366,-41 366,-41 366,-47 360,-53 354,-53\"/>\n",
       "<text text-anchor=\"start\" x=\"264\" y=\"-37.8\" font-family=\"Helvetica,sans-Serif\" font-size=\"14.00\" fill=\"#000000\">mae = 306.622</text>\n",
       "<text text-anchor=\"start\" x=\"269\" y=\"-22.8\" font-family=\"Helvetica,sans-Serif\" font-size=\"14.00\" fill=\"#000000\">samples = 74</text>\n",
       "<text text-anchor=\"start\" x=\"264.5\" y=\"-7.8\" font-family=\"Helvetica,sans-Serif\" font-size=\"14.00\" fill=\"#000000\">value = 3610.5</text>\n",
       "</g>\n",
       "<!-- 5&#45;&gt;6 -->\n",
       "<g id=\"edge6\" class=\"edge\">\n",
       "<title>5&#45;&gt;6</title>\n",
       "<path fill=\"none\" stroke=\"#000000\" d=\"M352.436,-88.9777C346.6059,-80.187 340.3169,-70.7044 334.443,-61.8477\"/>\n",
       "<polygon fill=\"#000000\" stroke=\"#000000\" points=\"337.1838,-59.6478 328.7399,-53.2485 331.3502,-63.5167 337.1838,-59.6478\"/>\n",
       "</g>\n",
       "<!-- 7 -->\n",
       "<g id=\"node8\" class=\"node\">\n",
       "<title>7</title>\n",
       "<path fill=\"#e58139\" fill-opacity=\"0.576471\" stroke=\"#000000\" d=\"M482,-53C482,-53 396,-53 396,-53 390,-53 384,-47 384,-41 384,-41 384,-12 384,-12 384,-6 390,0 396,0 396,0 482,0 482,0 488,0 494,-6 494,-12 494,-12 494,-41 494,-41 494,-47 488,-53 482,-53\"/>\n",
       "<text text-anchor=\"start\" x=\"392\" y=\"-37.8\" font-family=\"Helvetica,sans-Serif\" font-size=\"14.00\" fill=\"#000000\">mae = 229.444</text>\n",
       "<text text-anchor=\"start\" x=\"401\" y=\"-22.8\" font-family=\"Helvetica,sans-Serif\" font-size=\"14.00\" fill=\"#000000\">samples = 9</text>\n",
       "<text text-anchor=\"start\" x=\"392.5\" y=\"-7.8\" font-family=\"Helvetica,sans-Serif\" font-size=\"14.00\" fill=\"#000000\">value = 2920.0</text>\n",
       "</g>\n",
       "<!-- 5&#45;&gt;7 -->\n",
       "<g id=\"edge7\" class=\"edge\">\n",
       "<title>5&#45;&gt;7</title>\n",
       "<path fill=\"none\" stroke=\"#000000\" d=\"M397.564,-88.9777C403.3941,-80.187 409.6831,-70.7044 415.557,-61.8477\"/>\n",
       "<polygon fill=\"#000000\" stroke=\"#000000\" points=\"418.6498,-63.5167 421.2601,-53.2485 412.8162,-59.6478 418.6498,-63.5167\"/>\n",
       "</g>\n",
       "<!-- 9 -->\n",
       "<g id=\"node10\" class=\"node\">\n",
       "<title>9</title>\n",
       "<path fill=\"#e58139\" fill-opacity=\"0.568627\" stroke=\"#000000\" d=\"M674,-157C674,-157 588,-157 588,-157 582,-157 576,-151 576,-145 576,-145 576,-101 576,-101 576,-95 582,-89 588,-89 588,-89 674,-89 674,-89 680,-89 686,-95 686,-101 686,-101 686,-145 686,-145 686,-151 680,-157 674,-157\"/>\n",
       "<text text-anchor=\"start\" x=\"601\" y=\"-141.8\" font-family=\"Helvetica,sans-Serif\" font-size=\"14.00\" fill=\"#000000\">cigs ≤ 8.5</text>\n",
       "<text text-anchor=\"start\" x=\"584\" y=\"-126.8\" font-family=\"Helvetica,sans-Serif\" font-size=\"14.00\" fill=\"#000000\">mae = 387.545</text>\n",
       "<text text-anchor=\"start\" x=\"589\" y=\"-111.8\" font-family=\"Helvetica,sans-Serif\" font-size=\"14.00\" fill=\"#000000\">samples = 55</text>\n",
       "<text text-anchor=\"start\" x=\"584.5\" y=\"-96.8\" font-family=\"Helvetica,sans-Serif\" font-size=\"14.00\" fill=\"#000000\">value = 2900.0</text>\n",
       "</g>\n",
       "<!-- 8&#45;&gt;9 -->\n",
       "<g id=\"edge9\" class=\"edge\">\n",
       "<title>8&#45;&gt;9</title>\n",
       "<path fill=\"none\" stroke=\"#000000\" d=\"M631,-192.9465C631,-184.776 631,-175.9318 631,-167.3697\"/>\n",
       "<polygon fill=\"#000000\" stroke=\"#000000\" points=\"634.5001,-167.13 631,-157.13 627.5001,-167.13 634.5001,-167.13\"/>\n",
       "</g>\n",
       "<!-- 12 -->\n",
       "<g id=\"node13\" class=\"node\">\n",
       "<title>12</title>\n",
       "<path fill=\"#e58139\" fill-opacity=\"0.235294\" stroke=\"#000000\" d=\"M866,-157C866,-157 780,-157 780,-157 774,-157 768,-151 768,-145 768,-145 768,-101 768,-101 768,-95 774,-89 780,-89 780,-89 866,-89 866,-89 872,-89 878,-95 878,-101 878,-101 878,-145 878,-145 878,-151 872,-157 866,-157\"/>\n",
       "<text text-anchor=\"start\" x=\"789\" y=\"-141.8\" font-family=\"Helvetica,sans-Serif\" font-size=\"14.00\" fill=\"#000000\">cigs ≤ 19.0</text>\n",
       "<text text-anchor=\"start\" x=\"776\" y=\"-126.8\" font-family=\"Helvetica,sans-Serif\" font-size=\"14.00\" fill=\"#000000\">mae = 294.875</text>\n",
       "<text text-anchor=\"start\" x=\"785\" y=\"-111.8\" font-family=\"Helvetica,sans-Serif\" font-size=\"14.00\" fill=\"#000000\">samples = 8</text>\n",
       "<text text-anchor=\"start\" x=\"776.5\" y=\"-96.8\" font-family=\"Helvetica,sans-Serif\" font-size=\"14.00\" fill=\"#000000\">value = 2017.0</text>\n",
       "</g>\n",
       "<!-- 8&#45;&gt;12 -->\n",
       "<g id=\"edge12\" class=\"edge\">\n",
       "<title>8&#45;&gt;12</title>\n",
       "<path fill=\"none\" stroke=\"#000000\" d=\"M686.0195,-197.1978C708.8156,-184.8499 735.4069,-170.4463 759.0636,-157.6322\"/>\n",
       "<polygon fill=\"#000000\" stroke=\"#000000\" points=\"760.8465,-160.647 767.9725,-152.8066 757.5125,-154.4919 760.8465,-160.647\"/>\n",
       "</g>\n",
       "<!-- 10 -->\n",
       "<g id=\"node11\" class=\"node\">\n",
       "<title>10</title>\n",
       "<path fill=\"#e58139\" fill-opacity=\"0.800000\" stroke=\"#000000\" d=\"M610,-53C610,-53 524,-53 524,-53 518,-53 512,-47 512,-41 512,-41 512,-12 512,-12 512,-6 518,0 524,0 524,0 610,0 610,0 616,0 622,-6 622,-12 622,-12 622,-41 622,-41 622,-47 616,-53 610,-53\"/>\n",
       "<text text-anchor=\"start\" x=\"520\" y=\"-37.8\" font-family=\"Helvetica,sans-Serif\" font-size=\"14.00\" fill=\"#000000\">mae = 291.308</text>\n",
       "<text text-anchor=\"start\" x=\"525\" y=\"-22.8\" font-family=\"Helvetica,sans-Serif\" font-size=\"14.00\" fill=\"#000000\">samples = 13</text>\n",
       "<text text-anchor=\"start\" x=\"520.5\" y=\"-7.8\" font-family=\"Helvetica,sans-Serif\" font-size=\"14.00\" fill=\"#000000\">value = 3518.0</text>\n",
       "</g>\n",
       "<!-- 9&#45;&gt;10 -->\n",
       "<g id=\"edge10\" class=\"edge\">\n",
       "<title>9&#45;&gt;10</title>\n",
       "<path fill=\"none\" stroke=\"#000000\" d=\"M608.436,-88.9777C602.6059,-80.187 596.3169,-70.7044 590.443,-61.8477\"/>\n",
       "<polygon fill=\"#000000\" stroke=\"#000000\" points=\"593.1838,-59.6478 584.7399,-53.2485 587.3502,-63.5167 593.1838,-59.6478\"/>\n",
       "</g>\n",
       "<!-- 11 -->\n",
       "<g id=\"node12\" class=\"node\">\n",
       "<title>11</title>\n",
       "<path fill=\"#e58139\" fill-opacity=\"0.525490\" stroke=\"#000000\" d=\"M738,-53C738,-53 652,-53 652,-53 646,-53 640,-47 640,-41 640,-41 640,-12 640,-12 640,-6 646,0 652,0 652,0 738,0 738,0 744,0 750,-6 750,-12 750,-12 750,-41 750,-41 750,-47 744,-53 738,-53\"/>\n",
       "<text text-anchor=\"start\" x=\"648\" y=\"-37.8\" font-family=\"Helvetica,sans-Serif\" font-size=\"14.00\" fill=\"#000000\">mae = 347.143</text>\n",
       "<text text-anchor=\"start\" x=\"653\" y=\"-22.8\" font-family=\"Helvetica,sans-Serif\" font-size=\"14.00\" fill=\"#000000\">samples = 42</text>\n",
       "<text text-anchor=\"start\" x=\"648.5\" y=\"-7.8\" font-family=\"Helvetica,sans-Serif\" font-size=\"14.00\" fill=\"#000000\">value = 2790.0</text>\n",
       "</g>\n",
       "<!-- 9&#45;&gt;11 -->\n",
       "<g id=\"edge11\" class=\"edge\">\n",
       "<title>9&#45;&gt;11</title>\n",
       "<path fill=\"none\" stroke=\"#000000\" d=\"M653.564,-88.9777C659.3941,-80.187 665.6831,-70.7044 671.557,-61.8477\"/>\n",
       "<polygon fill=\"#000000\" stroke=\"#000000\" points=\"674.6498,-63.5167 677.2601,-53.2485 668.8162,-59.6478 674.6498,-63.5167\"/>\n",
       "</g>\n",
       "<!-- 13 -->\n",
       "<g id=\"node14\" class=\"node\">\n",
       "<title>13</title>\n",
       "<path fill=\"#e58139\" fill-opacity=\"0.250980\" stroke=\"#000000\" d=\"M866,-53C866,-53 780,-53 780,-53 774,-53 768,-47 768,-41 768,-41 768,-12 768,-12 768,-6 774,0 780,0 780,0 866,0 866,0 872,0 878,-6 878,-12 878,-12 878,-41 878,-41 878,-47 872,-53 866,-53\"/>\n",
       "<text text-anchor=\"start\" x=\"776\" y=\"-37.8\" font-family=\"Helvetica,sans-Serif\" font-size=\"14.00\" fill=\"#000000\">mae = 173.167</text>\n",
       "<text text-anchor=\"start\" x=\"785\" y=\"-22.8\" font-family=\"Helvetica,sans-Serif\" font-size=\"14.00\" fill=\"#000000\">samples = 6</text>\n",
       "<text text-anchor=\"start\" x=\"776.5\" y=\"-7.8\" font-family=\"Helvetica,sans-Serif\" font-size=\"14.00\" fill=\"#000000\">value = 2059.0</text>\n",
       "</g>\n",
       "<!-- 12&#45;&gt;13 -->\n",
       "<g id=\"edge13\" class=\"edge\">\n",
       "<title>12&#45;&gt;13</title>\n",
       "<path fill=\"none\" stroke=\"#000000\" d=\"M823,-88.9777C823,-80.7364 823,-71.887 823,-63.5153\"/>\n",
       "<polygon fill=\"#000000\" stroke=\"#000000\" points=\"826.5001,-63.2484 823,-53.2485 819.5001,-63.2485 826.5001,-63.2484\"/>\n",
       "</g>\n",
       "<!-- 14 -->\n",
       "<g id=\"node15\" class=\"node\">\n",
       "<title>14</title>\n",
       "<path fill=\"transparent\" stroke=\"#000000\" d=\"M993.5,-53C993.5,-53 908.5,-53 908.5,-53 902.5,-53 896.5,-47 896.5,-41 896.5,-41 896.5,-12 896.5,-12 896.5,-6 902.5,0 908.5,0 908.5,0 993.5,0 993.5,0 999.5,0 1005.5,-6 1005.5,-12 1005.5,-12 1005.5,-41 1005.5,-41 1005.5,-47 999.5,-53 993.5,-53\"/>\n",
       "<text text-anchor=\"start\" x=\"911.5\" y=\"-37.8\" font-family=\"Helvetica,sans-Serif\" font-size=\"14.00\" fill=\"#000000\">mae = 100.0</text>\n",
       "<text text-anchor=\"start\" x=\"913\" y=\"-22.8\" font-family=\"Helvetica,sans-Serif\" font-size=\"14.00\" fill=\"#000000\">samples = 2</text>\n",
       "<text text-anchor=\"start\" x=\"904.5\" y=\"-7.8\" font-family=\"Helvetica,sans-Serif\" font-size=\"14.00\" fill=\"#000000\">value = 1390.0</text>\n",
       "</g>\n",
       "<!-- 12&#45;&gt;14 -->\n",
       "<g id=\"edge14\" class=\"edge\">\n",
       "<title>12&#45;&gt;14</title>\n",
       "<path fill=\"none\" stroke=\"#000000\" d=\"M868.128,-88.9777C880.8813,-79.3629 894.7327,-68.9203 907.3947,-59.3743\"/>\n",
       "<polygon fill=\"#000000\" stroke=\"#000000\" points=\"909.6421,-62.0632 915.5202,-53.2485 905.4281,-56.4737 909.6421,-62.0632\"/>\n",
       "</g>\n",
       "</g>\n",
       "</svg>\n"
      ],
      "text/plain": [
       "<graphviz.files.Source at 0x1a26685240>"
      ]
     },
     "execution_count": 47,
     "metadata": {},
     "output_type": "execute_result"
    }
   ],
   "source": [
    "dot_data = tree.export_graphviz(clf1,\n",
    "                                out_file = None,\n",
    "                                feature_names = X.columns.values.tolist(),\n",
    "                                filled = True,\n",
    "                                rounded = True,\n",
    "                                special_characters = True)\n",
    "graph = graphviz.Source(dot_data)  \n",
    "graph"
   ]
  },
  {
   "cell_type": "markdown",
   "metadata": {},
   "source": [
    "Horrible fit, but some feature importance can clearly be seen.\n",
    "The tree performs splits mainly on:\n",
    "- drink\n",
    "- fage\n",
    "- cigs\n",
    "\n",
    "Try setting leafes instead"
   ]
  },
  {
   "cell_type": "code",
   "execution_count": 48,
   "metadata": {},
   "outputs": [
    {
     "data": {
      "text/plain": [
       "DecisionTreeRegressor(criterion='mae', max_depth=None, max_features=None,\n",
       "           max_leaf_nodes=None, min_impurity_decrease=0.0,\n",
       "           min_impurity_split=None, min_samples_leaf=17,\n",
       "           min_samples_split=2, min_weight_fraction_leaf=0.0,\n",
       "           presort=False, random_state=508, splitter='best')"
      ]
     },
     "execution_count": 48,
     "metadata": {},
     "output_type": "execute_result"
    }
   ],
   "source": [
    "clf2 = tree.DecisionTreeRegressor(min_samples_leaf = 17,\n",
    "                                  random_state = 508,\n",
    "                                  criterion = 'mae')\n",
    "clf2.fit(X_train, y_train)"
   ]
  },
  {
   "cell_type": "code",
   "execution_count": 49,
   "metadata": {},
   "outputs": [
    {
     "name": "stdout",
     "output_type": "stream",
     "text": [
      "Testing score: 0.425859\n",
      "Training score: 0.566235\n",
      "Diff: 0.140376\n"
     ]
    }
   ],
   "source": [
    "score = clf2.score(X_test,\n",
    "                   y_test)\n",
    "train_score = clf2.score(X_train,\n",
    "                         y_train)\n",
    "diff = train_score - score\n",
    "\n",
    "print(\"Testing score: %f\" % (score))\n",
    "print(\"Training score: %f\" % (train_score))\n",
    "print(\"Diff: %f\" % (diff))"
   ]
  },
  {
   "cell_type": "code",
   "execution_count": 50,
   "metadata": {},
   "outputs": [
    {
     "data": {
      "image/svg+xml": [
       "<?xml version=\"1.0\" encoding=\"UTF-8\" standalone=\"no\"?>\n",
       "<!DOCTYPE svg PUBLIC \"-//W3C//DTD SVG 1.1//EN\"\n",
       " \"http://www.w3.org/Graphics/SVG/1.1/DTD/svg11.dtd\">\n",
       "<!-- Generated by graphviz version 2.40.1 (20161225.0304)\n",
       " -->\n",
       "<!-- Title: Tree Pages: 1 -->\n",
       "<svg width=\"630pt\" height=\"581pt\"\n",
       " viewBox=\"0.00 0.00 630.00 581.00\" xmlns=\"http://www.w3.org/2000/svg\" xmlns:xlink=\"http://www.w3.org/1999/xlink\">\n",
       "<g id=\"graph0\" class=\"graph\" transform=\"scale(1 1) rotate(0) translate(4 577)\">\n",
       "<title>Tree</title>\n",
       "<polygon fill=\"#ffffff\" stroke=\"transparent\" points=\"-4,4 -4,-577 626,-577 626,4 -4,4\"/>\n",
       "<!-- 0 -->\n",
       "<g id=\"node1\" class=\"node\">\n",
       "<title>0</title>\n",
       "<path fill=\"#e58139\" fill-opacity=\"0.647059\" stroke=\"#000000\" d=\"M418,-573C418,-573 332,-573 332,-573 326,-573 320,-567 320,-561 320,-561 320,-517 320,-517 320,-511 326,-505 332,-505 332,-505 418,-505 418,-505 424,-505 430,-511 430,-517 430,-517 430,-561 430,-561 430,-567 424,-573 418,-573\"/>\n",
       "<text text-anchor=\"start\" x=\"342\" y=\"-557.8\" font-family=\"Helvetica,sans-Serif\" font-size=\"14.00\" fill=\"#000000\">drink ≤ 6.5</text>\n",
       "<text text-anchor=\"start\" x=\"328\" y=\"-542.8\" font-family=\"Helvetica,sans-Serif\" font-size=\"14.00\" fill=\"#000000\">mae = 519.665</text>\n",
       "<text text-anchor=\"start\" x=\"329\" y=\"-527.8\" font-family=\"Helvetica,sans-Serif\" font-size=\"14.00\" fill=\"#000000\">samples = 176</text>\n",
       "<text text-anchor=\"start\" x=\"328.5\" y=\"-512.8\" font-family=\"Helvetica,sans-Serif\" font-size=\"14.00\" fill=\"#000000\">value = 3454.0</text>\n",
       "</g>\n",
       "<!-- 1 -->\n",
       "<g id=\"node2\" class=\"node\">\n",
       "<title>1</title>\n",
       "<path fill=\"#e58139\" fill-opacity=\"0.831373\" stroke=\"#000000\" d=\"M353.5,-469C353.5,-469 268.5,-469 268.5,-469 262.5,-469 256.5,-463 256.5,-457 256.5,-457 256.5,-413 256.5,-413 256.5,-407 262.5,-401 268.5,-401 268.5,-401 353.5,-401 353.5,-401 359.5,-401 365.5,-407 365.5,-413 365.5,-413 365.5,-457 365.5,-457 365.5,-463 359.5,-469 353.5,-469\"/>\n",
       "<text text-anchor=\"start\" x=\"278\" y=\"-453.8\" font-family=\"Helvetica,sans-Serif\" font-size=\"14.00\" fill=\"#000000\">drink ≤ 2.5</text>\n",
       "<text text-anchor=\"start\" x=\"267.5\" y=\"-438.8\" font-family=\"Helvetica,sans-Serif\" font-size=\"14.00\" fill=\"#000000\">mae = 358.54</text>\n",
       "<text text-anchor=\"start\" x=\"265\" y=\"-423.8\" font-family=\"Helvetica,sans-Serif\" font-size=\"14.00\" fill=\"#000000\">samples = 113</text>\n",
       "<text text-anchor=\"start\" x=\"264.5\" y=\"-408.8\" font-family=\"Helvetica,sans-Serif\" font-size=\"14.00\" fill=\"#000000\">value = 3700.0</text>\n",
       "</g>\n",
       "<!-- 0&#45;&gt;1 -->\n",
       "<g id=\"edge1\" class=\"edge\">\n",
       "<title>0&#45;&gt;1</title>\n",
       "<path fill=\"none\" stroke=\"#000000\" d=\"M354.044,-504.9465C348.6845,-496.2373 342.8539,-486.7626 337.2647,-477.6801\"/>\n",
       "<polygon fill=\"#000000\" stroke=\"#000000\" points=\"340.2249,-475.8122 332.0031,-469.13 334.2633,-479.481 340.2249,-475.8122\"/>\n",
       "<text text-anchor=\"middle\" x=\"326.2126\" y=\"-489.7502\" font-family=\"Helvetica,sans-Serif\" font-size=\"14.00\" fill=\"#000000\">True</text>\n",
       "</g>\n",
       "<!-- 10 -->\n",
       "<g id=\"node11\" class=\"node\">\n",
       "<title>10</title>\n",
       "<path fill=\"#e58139\" fill-opacity=\"0.168627\" stroke=\"#000000\" d=\"M482,-469C482,-469 396,-469 396,-469 390,-469 384,-463 384,-457 384,-457 384,-413 384,-413 384,-407 390,-401 396,-401 396,-401 482,-401 482,-401 488,-401 494,-407 494,-413 494,-413 494,-457 494,-457 494,-463 488,-469 482,-469\"/>\n",
       "<text text-anchor=\"start\" x=\"406\" y=\"-453.8\" font-family=\"Helvetica,sans-Serif\" font-size=\"14.00\" fill=\"#000000\">drink ≤ 8.5</text>\n",
       "<text text-anchor=\"start\" x=\"392\" y=\"-438.8\" font-family=\"Helvetica,sans-Serif\" font-size=\"14.00\" fill=\"#000000\">mae = 450.937</text>\n",
       "<text text-anchor=\"start\" x=\"397\" y=\"-423.8\" font-family=\"Helvetica,sans-Serif\" font-size=\"14.00\" fill=\"#000000\">samples = 63</text>\n",
       "<text text-anchor=\"start\" x=\"392.5\" y=\"-408.8\" font-family=\"Helvetica,sans-Serif\" font-size=\"14.00\" fill=\"#000000\">value = 2807.0</text>\n",
       "</g>\n",
       "<!-- 0&#45;&gt;10 -->\n",
       "<g id=\"edge10\" class=\"edge\">\n",
       "<title>0&#45;&gt;10</title>\n",
       "<path fill=\"none\" stroke=\"#000000\" d=\"M395.956,-504.9465C401.3155,-496.2373 407.1461,-486.7626 412.7353,-477.6801\"/>\n",
       "<polygon fill=\"#000000\" stroke=\"#000000\" points=\"415.7367,-479.481 417.9969,-469.13 409.7751,-475.8122 415.7367,-479.481\"/>\n",
       "<text text-anchor=\"middle\" x=\"423.7874\" y=\"-489.7502\" font-family=\"Helvetica,sans-Serif\" font-size=\"14.00\" fill=\"#000000\">False</text>\n",
       "</g>\n",
       "<!-- 2 -->\n",
       "<g id=\"node3\" class=\"node\">\n",
       "<title>2</title>\n",
       "<path fill=\"#e58139\" stroke=\"#000000\" d=\"M225.5,-357.5C225.5,-357.5 140.5,-357.5 140.5,-357.5 134.5,-357.5 128.5,-351.5 128.5,-345.5 128.5,-345.5 128.5,-316.5 128.5,-316.5 128.5,-310.5 134.5,-304.5 140.5,-304.5 140.5,-304.5 225.5,-304.5 225.5,-304.5 231.5,-304.5 237.5,-310.5 237.5,-316.5 237.5,-316.5 237.5,-345.5 237.5,-345.5 237.5,-351.5 231.5,-357.5 225.5,-357.5\"/>\n",
       "<text text-anchor=\"start\" x=\"143.5\" y=\"-342.3\" font-family=\"Helvetica,sans-Serif\" font-size=\"14.00\" fill=\"#000000\">mae = 214.6</text>\n",
       "<text text-anchor=\"start\" x=\"141\" y=\"-327.3\" font-family=\"Helvetica,sans-Serif\" font-size=\"14.00\" fill=\"#000000\">samples = 30</text>\n",
       "<text text-anchor=\"start\" x=\"136.5\" y=\"-312.3\" font-family=\"Helvetica,sans-Serif\" font-size=\"14.00\" fill=\"#000000\">value = 3930.0</text>\n",
       "</g>\n",
       "<!-- 1&#45;&gt;2 -->\n",
       "<g id=\"edge2\" class=\"edge\">\n",
       "<title>1&#45;&gt;2</title>\n",
       "<path fill=\"none\" stroke=\"#000000\" d=\"M269.088,-400.9465C254.4467,-389.0504 238.0474,-375.726 223.5215,-363.9237\"/>\n",
       "<polygon fill=\"#000000\" stroke=\"#000000\" points=\"225.6355,-361.1317 215.6673,-357.5422 221.2214,-366.5645 225.6355,-361.1317\"/>\n",
       "</g>\n",
       "<!-- 3 -->\n",
       "<g id=\"node4\" class=\"node\">\n",
       "<title>3</title>\n",
       "<path fill=\"#e58139\" fill-opacity=\"0.756863\" stroke=\"#000000\" d=\"M354,-365C354,-365 268,-365 268,-365 262,-365 256,-359 256,-353 256,-353 256,-309 256,-309 256,-303 262,-297 268,-297 268,-297 354,-297 354,-297 360,-297 366,-303 366,-309 366,-309 366,-353 366,-353 366,-359 360,-365 354,-365\"/>\n",
       "<text text-anchor=\"start\" x=\"277\" y=\"-349.8\" font-family=\"Helvetica,sans-Serif\" font-size=\"14.00\" fill=\"#000000\">cigs ≤ 13.5</text>\n",
       "<text text-anchor=\"start\" x=\"264\" y=\"-334.8\" font-family=\"Helvetica,sans-Serif\" font-size=\"14.00\" fill=\"#000000\">mae = 349.337</text>\n",
       "<text text-anchor=\"start\" x=\"269\" y=\"-319.8\" font-family=\"Helvetica,sans-Serif\" font-size=\"14.00\" fill=\"#000000\">samples = 83</text>\n",
       "<text text-anchor=\"start\" x=\"264.5\" y=\"-304.8\" font-family=\"Helvetica,sans-Serif\" font-size=\"14.00\" fill=\"#000000\">value = 3600.0</text>\n",
       "</g>\n",
       "<!-- 1&#45;&gt;3 -->\n",
       "<g id=\"edge3\" class=\"edge\">\n",
       "<title>1&#45;&gt;3</title>\n",
       "<path fill=\"none\" stroke=\"#000000\" d=\"M311,-400.9465C311,-392.776 311,-383.9318 311,-375.3697\"/>\n",
       "<polygon fill=\"#000000\" stroke=\"#000000\" points=\"314.5001,-375.13 311,-365.13 307.5001,-375.13 314.5001,-375.13\"/>\n",
       "</g>\n",
       "<!-- 4 -->\n",
       "<g id=\"node5\" class=\"node\">\n",
       "<title>4</title>\n",
       "<path fill=\"#e58139\" fill-opacity=\"0.823529\" stroke=\"#000000\" d=\"M226,-261C226,-261 140,-261 140,-261 134,-261 128,-255 128,-249 128,-249 128,-205 128,-205 128,-199 134,-193 140,-193 140,-193 226,-193 226,-193 232,-193 238,-199 238,-205 238,-205 238,-249 238,-249 238,-255 232,-261 226,-261\"/>\n",
       "<text text-anchor=\"start\" x=\"148\" y=\"-245.8\" font-family=\"Helvetica,sans-Serif\" font-size=\"14.00\" fill=\"#000000\">fage ≤ 39.5</text>\n",
       "<text text-anchor=\"start\" x=\"136\" y=\"-230.8\" font-family=\"Helvetica,sans-Serif\" font-size=\"14.00\" fill=\"#000000\">mae = 320.017</text>\n",
       "<text text-anchor=\"start\" x=\"141\" y=\"-215.8\" font-family=\"Helvetica,sans-Serif\" font-size=\"14.00\" fill=\"#000000\">samples = 60</text>\n",
       "<text text-anchor=\"start\" x=\"136.5\" y=\"-200.8\" font-family=\"Helvetica,sans-Serif\" font-size=\"14.00\" fill=\"#000000\">value = 3690.0</text>\n",
       "</g>\n",
       "<!-- 3&#45;&gt;4 -->\n",
       "<g id=\"edge4\" class=\"edge\">\n",
       "<title>3&#45;&gt;4</title>\n",
       "<path fill=\"none\" stroke=\"#000000\" d=\"M269.088,-296.9465C257.485,-287.519 244.7779,-277.1946 232.7741,-267.4415\"/>\n",
       "<polygon fill=\"#000000\" stroke=\"#000000\" points=\"234.9744,-264.7196 225.0061,-261.13 230.5602,-270.1524 234.9744,-264.7196\"/>\n",
       "</g>\n",
       "<!-- 9 -->\n",
       "<g id=\"node10\" class=\"node\">\n",
       "<title>9</title>\n",
       "<path fill=\"#e58139\" fill-opacity=\"0.462745\" stroke=\"#000000\" d=\"M354,-253.5C354,-253.5 268,-253.5 268,-253.5 262,-253.5 256,-247.5 256,-241.5 256,-241.5 256,-212.5 256,-212.5 256,-206.5 262,-200.5 268,-200.5 268,-200.5 354,-200.5 354,-200.5 360,-200.5 366,-206.5 366,-212.5 366,-212.5 366,-241.5 366,-241.5 366,-247.5 360,-253.5 354,-253.5\"/>\n",
       "<text text-anchor=\"start\" x=\"264\" y=\"-238.3\" font-family=\"Helvetica,sans-Serif\" font-size=\"14.00\" fill=\"#000000\">mae = 255.348</text>\n",
       "<text text-anchor=\"start\" x=\"269\" y=\"-223.3\" font-family=\"Helvetica,sans-Serif\" font-size=\"14.00\" fill=\"#000000\">samples = 23</text>\n",
       "<text text-anchor=\"start\" x=\"264.5\" y=\"-208.3\" font-family=\"Helvetica,sans-Serif\" font-size=\"14.00\" fill=\"#000000\">value = 3203.0</text>\n",
       "</g>\n",
       "<!-- 3&#45;&gt;9 -->\n",
       "<g id=\"edge9\" class=\"edge\">\n",
       "<title>3&#45;&gt;9</title>\n",
       "<path fill=\"none\" stroke=\"#000000\" d=\"M311,-296.9465C311,-286.2621 311,-274.4254 311,-263.5742\"/>\n",
       "<polygon fill=\"#000000\" stroke=\"#000000\" points=\"314.5001,-263.5421 311,-253.5422 307.5001,-263.5422 314.5001,-263.5421\"/>\n",
       "</g>\n",
       "<!-- 5 -->\n",
       "<g id=\"node6\" class=\"node\">\n",
       "<title>5</title>\n",
       "<path fill=\"#e58139\" fill-opacity=\"0.843137\" stroke=\"#000000\" d=\"M162,-157C162,-157 76,-157 76,-157 70,-157 64,-151 64,-145 64,-145 64,-101 64,-101 64,-95 70,-89 76,-89 76,-89 162,-89 162,-89 168,-89 174,-95 174,-101 174,-101 174,-145 174,-145 174,-151 168,-157 162,-157\"/>\n",
       "<text text-anchor=\"start\" x=\"89\" y=\"-141.8\" font-family=\"Helvetica,sans-Serif\" font-size=\"14.00\" fill=\"#000000\">cigs ≤ 8.5</text>\n",
       "<text text-anchor=\"start\" x=\"72\" y=\"-126.8\" font-family=\"Helvetica,sans-Serif\" font-size=\"14.00\" fill=\"#000000\">mae = 222.476</text>\n",
       "<text text-anchor=\"start\" x=\"77\" y=\"-111.8\" font-family=\"Helvetica,sans-Serif\" font-size=\"14.00\" fill=\"#000000\">samples = 42</text>\n",
       "<text text-anchor=\"start\" x=\"72.5\" y=\"-96.8\" font-family=\"Helvetica,sans-Serif\" font-size=\"14.00\" fill=\"#000000\">value = 3717.0</text>\n",
       "</g>\n",
       "<!-- 4&#45;&gt;5 -->\n",
       "<g id=\"edge5\" class=\"edge\">\n",
       "<title>4&#45;&gt;5</title>\n",
       "<path fill=\"none\" stroke=\"#000000\" d=\"M162.044,-192.9465C156.6845,-184.2373 150.8539,-174.7626 145.2647,-165.6801\"/>\n",
       "<polygon fill=\"#000000\" stroke=\"#000000\" points=\"148.2249,-163.8122 140.0031,-157.13 142.2633,-167.481 148.2249,-163.8122\"/>\n",
       "</g>\n",
       "<!-- 8 -->\n",
       "<g id=\"node9\" class=\"node\">\n",
       "<title>8</title>\n",
       "<path fill=\"#e58139\" fill-opacity=\"0.619608\" stroke=\"#000000\" d=\"M290,-149.5C290,-149.5 204,-149.5 204,-149.5 198,-149.5 192,-143.5 192,-137.5 192,-137.5 192,-108.5 192,-108.5 192,-102.5 198,-96.5 204,-96.5 204,-96.5 290,-96.5 290,-96.5 296,-96.5 302,-102.5 302,-108.5 302,-108.5 302,-137.5 302,-137.5 302,-143.5 296,-149.5 290,-149.5\"/>\n",
       "<text text-anchor=\"start\" x=\"200\" y=\"-134.3\" font-family=\"Helvetica,sans-Serif\" font-size=\"14.00\" fill=\"#000000\">mae = 494.611</text>\n",
       "<text text-anchor=\"start\" x=\"205\" y=\"-119.3\" font-family=\"Helvetica,sans-Serif\" font-size=\"14.00\" fill=\"#000000\">samples = 18</text>\n",
       "<text text-anchor=\"start\" x=\"200.5\" y=\"-104.3\" font-family=\"Helvetica,sans-Serif\" font-size=\"14.00\" fill=\"#000000\">value = 3414.5</text>\n",
       "</g>\n",
       "<!-- 4&#45;&gt;8 -->\n",
       "<g id=\"edge8\" class=\"edge\">\n",
       "<title>4&#45;&gt;8</title>\n",
       "<path fill=\"none\" stroke=\"#000000\" d=\"M203.956,-192.9465C210.8022,-181.8215 218.4171,-169.4473 225.3157,-158.237\"/>\n",
       "<polygon fill=\"#000000\" stroke=\"#000000\" points=\"228.4061,-159.8931 230.6664,-149.5422 222.4445,-156.2244 228.4061,-159.8931\"/>\n",
       "</g>\n",
       "<!-- 6 -->\n",
       "<g id=\"node7\" class=\"node\">\n",
       "<title>6</title>\n",
       "<path fill=\"#e58139\" fill-opacity=\"0.870588\" stroke=\"#000000\" d=\"M98,-53C98,-53 12,-53 12,-53 6,-53 0,-47 0,-41 0,-41 0,-12 0,-12 0,-6 6,0 12,0 12,0 98,0 98,0 104,0 110,-6 110,-12 110,-12 110,-41 110,-41 110,-47 104,-53 98,-53\"/>\n",
       "<text text-anchor=\"start\" x=\"8\" y=\"-37.8\" font-family=\"Helvetica,sans-Serif\" font-size=\"14.00\" fill=\"#000000\">mae = 241.609</text>\n",
       "<text text-anchor=\"start\" x=\"13\" y=\"-22.8\" font-family=\"Helvetica,sans-Serif\" font-size=\"14.00\" fill=\"#000000\">samples = 23</text>\n",
       "<text text-anchor=\"start\" x=\"8.5\" y=\"-7.8\" font-family=\"Helvetica,sans-Serif\" font-size=\"14.00\" fill=\"#000000\">value = 3756.0</text>\n",
       "</g>\n",
       "<!-- 5&#45;&gt;6 -->\n",
       "<g id=\"edge6\" class=\"edge\">\n",
       "<title>5&#45;&gt;6</title>\n",
       "<path fill=\"none\" stroke=\"#000000\" d=\"M96.436,-88.9777C90.6059,-80.187 84.3169,-70.7044 78.443,-61.8477\"/>\n",
       "<polygon fill=\"#000000\" stroke=\"#000000\" points=\"81.1838,-59.6478 72.7399,-53.2485 75.3502,-63.5167 81.1838,-59.6478\"/>\n",
       "</g>\n",
       "<!-- 7 -->\n",
       "<g id=\"node8\" class=\"node\">\n",
       "<title>7</title>\n",
       "<path fill=\"#e58139\" fill-opacity=\"0.796078\" stroke=\"#000000\" d=\"M226,-53C226,-53 140,-53 140,-53 134,-53 128,-47 128,-41 128,-41 128,-12 128,-12 128,-6 134,0 140,0 140,0 226,0 226,0 232,0 238,-6 238,-12 238,-12 238,-41 238,-41 238,-47 232,-53 226,-53\"/>\n",
       "<text text-anchor=\"start\" x=\"136\" y=\"-37.8\" font-family=\"Helvetica,sans-Serif\" font-size=\"14.00\" fill=\"#000000\">mae = 190.105</text>\n",
       "<text text-anchor=\"start\" x=\"141\" y=\"-22.8\" font-family=\"Helvetica,sans-Serif\" font-size=\"14.00\" fill=\"#000000\">samples = 19</text>\n",
       "<text text-anchor=\"start\" x=\"136.5\" y=\"-7.8\" font-family=\"Helvetica,sans-Serif\" font-size=\"14.00\" fill=\"#000000\">value = 3657.0</text>\n",
       "</g>\n",
       "<!-- 5&#45;&gt;7 -->\n",
       "<g id=\"edge7\" class=\"edge\">\n",
       "<title>5&#45;&gt;7</title>\n",
       "<path fill=\"none\" stroke=\"#000000\" d=\"M141.564,-88.9777C147.3941,-80.187 153.6831,-70.7044 159.557,-61.8477\"/>\n",
       "<polygon fill=\"#000000\" stroke=\"#000000\" points=\"162.6498,-63.5167 165.2601,-53.2485 156.8162,-59.6478 162.6498,-63.5167\"/>\n",
       "</g>\n",
       "<!-- 11 -->\n",
       "<g id=\"node12\" class=\"node\">\n",
       "<title>11</title>\n",
       "<path fill=\"#e58139\" fill-opacity=\"0.419608\" stroke=\"#000000\" d=\"M482,-365C482,-365 396,-365 396,-365 390,-365 384,-359 384,-353 384,-353 384,-309 384,-309 384,-303 390,-297 396,-297 396,-297 482,-297 482,-297 488,-297 494,-303 494,-309 494,-309 494,-353 494,-353 494,-359 488,-365 482,-365\"/>\n",
       "<text text-anchor=\"start\" x=\"400.5\" y=\"-349.8\" font-family=\"Helvetica,sans-Serif\" font-size=\"14.00\" fill=\"#000000\">feduc ≤ 13.5</text>\n",
       "<text text-anchor=\"start\" x=\"392\" y=\"-334.8\" font-family=\"Helvetica,sans-Serif\" font-size=\"14.00\" fill=\"#000000\">mae = 344.324</text>\n",
       "<text text-anchor=\"start\" x=\"397\" y=\"-319.8\" font-family=\"Helvetica,sans-Serif\" font-size=\"14.00\" fill=\"#000000\">samples = 34</text>\n",
       "<text text-anchor=\"start\" x=\"392.5\" y=\"-304.8\" font-family=\"Helvetica,sans-Serif\" font-size=\"14.00\" fill=\"#000000\">value = 3147.0</text>\n",
       "</g>\n",
       "<!-- 10&#45;&gt;11 -->\n",
       "<g id=\"edge11\" class=\"edge\">\n",
       "<title>10&#45;&gt;11</title>\n",
       "<path fill=\"none\" stroke=\"#000000\" d=\"M439,-400.9465C439,-392.776 439,-383.9318 439,-375.3697\"/>\n",
       "<polygon fill=\"#000000\" stroke=\"#000000\" points=\"442.5001,-375.13 439,-365.13 435.5001,-375.13 442.5001,-375.13\"/>\n",
       "</g>\n",
       "<!-- 14 -->\n",
       "<g id=\"node15\" class=\"node\">\n",
       "<title>14</title>\n",
       "<path fill=\"transparent\" stroke=\"#000000\" d=\"M610,-357.5C610,-357.5 524,-357.5 524,-357.5 518,-357.5 512,-351.5 512,-345.5 512,-345.5 512,-316.5 512,-316.5 512,-310.5 518,-304.5 524,-304.5 524,-304.5 610,-304.5 610,-304.5 616,-304.5 622,-310.5 622,-316.5 622,-316.5 622,-345.5 622,-345.5 622,-351.5 616,-357.5 610,-357.5\"/>\n",
       "<text text-anchor=\"start\" x=\"520\" y=\"-342.3\" font-family=\"Helvetica,sans-Serif\" font-size=\"14.00\" fill=\"#000000\">mae = 419.207</text>\n",
       "<text text-anchor=\"start\" x=\"525\" y=\"-327.3\" font-family=\"Helvetica,sans-Serif\" font-size=\"14.00\" fill=\"#000000\">samples = 29</text>\n",
       "<text text-anchor=\"start\" x=\"520.5\" y=\"-312.3\" font-family=\"Helvetica,sans-Serif\" font-size=\"14.00\" fill=\"#000000\">value = 2580.0</text>\n",
       "</g>\n",
       "<!-- 10&#45;&gt;14 -->\n",
       "<g id=\"edge14\" class=\"edge\">\n",
       "<title>10&#45;&gt;14</title>\n",
       "<path fill=\"none\" stroke=\"#000000\" d=\"M480.912,-400.9465C495.5533,-389.0504 511.9526,-375.726 526.4785,-363.9237\"/>\n",
       "<polygon fill=\"#000000\" stroke=\"#000000\" points=\"528.7786,-366.5645 534.3327,-357.5422 524.3645,-361.1317 528.7786,-366.5645\"/>\n",
       "</g>\n",
       "<!-- 12 -->\n",
       "<g id=\"node13\" class=\"node\">\n",
       "<title>12</title>\n",
       "<path fill=\"#e58139\" fill-opacity=\"0.235294\" stroke=\"#000000\" d=\"M482,-253.5C482,-253.5 396,-253.5 396,-253.5 390,-253.5 384,-247.5 384,-241.5 384,-241.5 384,-212.5 384,-212.5 384,-206.5 390,-200.5 396,-200.5 396,-200.5 482,-200.5 482,-200.5 488,-200.5 494,-206.5 494,-212.5 494,-212.5 494,-241.5 494,-241.5 494,-247.5 488,-253.5 482,-253.5\"/>\n",
       "<text text-anchor=\"start\" x=\"392\" y=\"-238.3\" font-family=\"Helvetica,sans-Serif\" font-size=\"14.00\" fill=\"#000000\">mae = 315.412</text>\n",
       "<text text-anchor=\"start\" x=\"397\" y=\"-223.3\" font-family=\"Helvetica,sans-Serif\" font-size=\"14.00\" fill=\"#000000\">samples = 17</text>\n",
       "<text text-anchor=\"start\" x=\"392.5\" y=\"-208.3\" font-family=\"Helvetica,sans-Serif\" font-size=\"14.00\" fill=\"#000000\">value = 2900.0</text>\n",
       "</g>\n",
       "<!-- 11&#45;&gt;12 -->\n",
       "<g id=\"edge12\" class=\"edge\">\n",
       "<title>11&#45;&gt;12</title>\n",
       "<path fill=\"none\" stroke=\"#000000\" d=\"M439,-296.9465C439,-286.2621 439,-274.4254 439,-263.5742\"/>\n",
       "<polygon fill=\"#000000\" stroke=\"#000000\" points=\"442.5001,-263.5421 439,-253.5422 435.5001,-263.5422 442.5001,-263.5421\"/>\n",
       "</g>\n",
       "<!-- 13 -->\n",
       "<g id=\"node14\" class=\"node\">\n",
       "<title>13</title>\n",
       "<path fill=\"#e58139\" fill-opacity=\"0.458824\" stroke=\"#000000\" d=\"M610,-253.5C610,-253.5 524,-253.5 524,-253.5 518,-253.5 512,-247.5 512,-241.5 512,-241.5 512,-212.5 512,-212.5 512,-206.5 518,-200.5 524,-200.5 524,-200.5 610,-200.5 610,-200.5 616,-200.5 622,-206.5 622,-212.5 622,-212.5 622,-241.5 622,-241.5 622,-247.5 616,-253.5 610,-253.5\"/>\n",
       "<text text-anchor=\"start\" x=\"520\" y=\"-238.3\" font-family=\"Helvetica,sans-Serif\" font-size=\"14.00\" fill=\"#000000\">mae = 336.765</text>\n",
       "<text text-anchor=\"start\" x=\"525\" y=\"-223.3\" font-family=\"Helvetica,sans-Serif\" font-size=\"14.00\" fill=\"#000000\">samples = 17</text>\n",
       "<text text-anchor=\"start\" x=\"520.5\" y=\"-208.3\" font-family=\"Helvetica,sans-Serif\" font-size=\"14.00\" fill=\"#000000\">value = 3200.0</text>\n",
       "</g>\n",
       "<!-- 11&#45;&gt;13 -->\n",
       "<g id=\"edge13\" class=\"edge\">\n",
       "<title>11&#45;&gt;13</title>\n",
       "<path fill=\"none\" stroke=\"#000000\" d=\"M480.912,-296.9465C495.5533,-285.0504 511.9526,-271.726 526.4785,-259.9237\"/>\n",
       "<polygon fill=\"#000000\" stroke=\"#000000\" points=\"528.7786,-262.5645 534.3327,-253.5422 524.3645,-257.1317 528.7786,-262.5645\"/>\n",
       "</g>\n",
       "</g>\n",
       "</svg>\n"
      ],
      "text/plain": [
       "<graphviz.files.Source at 0x1a272f6b38>"
      ]
     },
     "execution_count": 50,
     "metadata": {},
     "output_type": "execute_result"
    }
   ],
   "source": [
    "dot_data = tree.export_graphviz(clf2,\n",
    "                                out_file = None,\n",
    "                                feature_names = X.columns.values.tolist(),\n",
    "                                filled = True,\n",
    "                                rounded = True,\n",
    "                                special_characters = True)\n",
    "graph = graphviz.Source(dot_data)  \n",
    "graph"
   ]
  },
  {
   "cell_type": "markdown",
   "metadata": {},
   "source": [
    "Again really bad fit, surprisingly none of the trees uses the age of the mother."
   ]
  },
  {
   "cell_type": "markdown",
   "metadata": {},
   "source": [
    "## XGBoost\n",
    "\n",
    "Important to note that the Gradient boosting will tend to overfit due to the small number of samples.\n",
    "\n",
    "Remember to use a shallow depth as Gradiant Boosting works on stumps not on leaves!"
   ]
  },
  {
   "cell_type": "code",
   "execution_count": 51,
   "metadata": {},
   "outputs": [
    {
     "data": {
      "text/plain": [
       "XGBRegressor(alpha=0.1, base_score=0.5, booster='gbtree', colsample_bylevel=1,\n",
       "       colsample_bytree=1, gamma=0, learning_rate=0.35, max_delta_step=0,\n",
       "       max_depth=2, min_child_weight=1, missing=None, n_estimators=9,\n",
       "       n_jobs=1, nthread=None, objective='reg:linear', random_state=0,\n",
       "       reg_alpha=0, reg_lambda=1, scale_pos_weight=1, seed=None,\n",
       "       silent=True, subsample=1)"
      ]
     },
     "execution_count": 51,
     "metadata": {},
     "output_type": "execute_result"
    }
   ],
   "source": [
    "xg_reg = xgb.XGBRegressor(objective = 'reg:linear',\n",
    "                          colsample_bytree = 1,\n",
    "                          learning_rate = 0.35,\n",
    "                          max_depth = 2,\n",
    "                          alpha = 0.1,\n",
    "                          n_estimators = 9,\n",
    "                          subsample = 1)\n",
    "xg_reg.fit(X_train,\n",
    "           y_train)"
   ]
  },
  {
   "cell_type": "code",
   "execution_count": 52,
   "metadata": {},
   "outputs": [
    {
     "name": "stdout",
     "output_type": "stream",
     "text": [
      "Testing score: 0.705736\n",
      "Training score: 0.780531\n",
      "Diff: 0.074795\n"
     ]
    }
   ],
   "source": [
    "score = xg_reg.score(X_test,\n",
    "                     y_test)\n",
    "train_score = xg_reg.score(X_train,\n",
    "                           y_train)\n",
    "diff = train_score - score\n",
    "\n",
    "print(\"Testing score: %f\" % (score))\n",
    "print(\"Training score: %f\" % (train_score))\n",
    "print(\"Diff: %f\" % (diff))"
   ]
  },
  {
   "cell_type": "code",
   "execution_count": 53,
   "metadata": {},
   "outputs": [
    {
     "data": {
      "image/png": "[encoded data removed]",
      "text/plain": [
       "<Figure size 432x288 with 1 Axes>"
      ]
     },
     "metadata": {
      "needs_background": "light"
     },
     "output_type": "display_data"
    }
   ],
   "source": [
    "xgb.plot_importance(xg_reg)\n",
    "plt.rcParams['figure.figsize'] = [5,\n",
    "                                  5]\n",
    "plt.show()"
   ]
  },
  {
   "cell_type": "code",
   "execution_count": 54,
   "metadata": {},
   "outputs": [
    {
     "data": {
      "image/svg+xml": [
       "<?xml version=\"1.0\" encoding=\"UTF-8\" standalone=\"no\"?>\n",
       "<!DOCTYPE svg PUBLIC \"-//W3C//DTD SVG 1.1//EN\"\n",
       " \"http://www.w3.org/Graphics/SVG/1.1/DTD/svg11.dtd\">\n",
       "<!-- Generated by graphviz version 2.40.1 (20161225.0304)\n",
       " -->\n",
       "<!-- Title: %3 Pages: 1 -->\n",
       "<svg width=\"299pt\" height=\"306pt\"\n",
       " viewBox=\"0.00 0.00 299.00 305.89\" xmlns=\"http://www.w3.org/2000/svg\" xmlns:xlink=\"http://www.w3.org/1999/xlink\">\n",
       "<g id=\"graph0\" class=\"graph\" transform=\"scale(1 1) rotate(0) translate(4 301.8858)\">\n",
       "<title>%3</title>\n",
       "<polygon fill=\"#ffffff\" stroke=\"transparent\" points=\"-4,4 -4,-301.8858 295,-301.8858 295,4 -4,4\"/>\n",
       "<!-- 0 -->\n",
       "<g id=\"node1\" class=\"node\">\n",
       "<title>0</title>\n",
       "<ellipse fill=\"none\" stroke=\"#000000\" cx=\"107\" cy=\"-258.2393\" rx=\"39.7935\" ry=\"39.7935\"/>\n",
       "<text text-anchor=\"middle\" x=\"107\" y=\"-254.5393\" font-family=\"Times,serif\" font-size=\"14.00\" fill=\"#000000\">drink&lt;9</text>\n",
       "</g>\n",
       "<!-- 1 -->\n",
       "<g id=\"node2\" class=\"node\">\n",
       "<title>1</title>\n",
       "<polygon fill=\"none\" stroke=\"#000000\" points=\"112,-145.2964 0,-145.2964 0,-109.2964 112,-109.2964 112,-145.2964\"/>\n",
       "<text text-anchor=\"middle\" x=\"56\" y=\"-123.5964\" font-family=\"Times,serif\" font-size=\"14.00\" fill=\"#000000\">leaf=1223.31738</text>\n",
       "</g>\n",
       "<!-- 0&#45;&gt;1 -->\n",
       "<g id=\"edge1\" class=\"edge\">\n",
       "<title>0&#45;&gt;1</title>\n",
       "<path fill=\"none\" stroke=\"#0000ff\" d=\"M81.7893,-227.4149C76.1126,-219.1283 70.6845,-209.8772 67,-200.5928 61.3266,-186.2967 58.5531,-169.3712 57.2083,-155.3886\"/>\n",
       "<polygon fill=\"#0000ff\" stroke=\"#0000ff\" points=\"60.6937,-155.0627 56.4341,-145.3618 53.7144,-155.6016 60.6937,-155.0627\"/>\n",
       "<text text-anchor=\"middle\" x=\"102\" y=\"-189.3928\" font-family=\"Times,serif\" font-size=\"14.00\" fill=\"#000000\">yes, missing</text>\n",
       "</g>\n",
       "<!-- 2 -->\n",
       "<g id=\"node3\" class=\"node\">\n",
       "<title>2</title>\n",
       "<ellipse fill=\"none\" stroke=\"#000000\" cx=\"170\" cy=\"-127.2964\" rx=\"40.0939\" ry=\"40.0939\"/>\n",
       "<text text-anchor=\"middle\" x=\"170\" y=\"-123.5964\" font-family=\"Times,serif\" font-size=\"14.00\" fill=\"#000000\">npvis&lt;4</text>\n",
       "</g>\n",
       "<!-- 0&#45;&gt;2 -->\n",
       "<g id=\"edge2\" class=\"edge\">\n",
       "<title>0&#45;&gt;2</title>\n",
       "<path fill=\"none\" stroke=\"#ff0000\" d=\"M125.7234,-223.0358C129.5327,-215.66 133.4561,-207.9022 137,-200.5928 141.2023,-191.9254 145.5375,-182.6035 149.6285,-173.61\"/>\n",
       "<polygon fill=\"#ff0000\" stroke=\"#ff0000\" points=\"152.8625,-174.9524 153.7874,-164.3981 146.4826,-172.072 152.8625,-174.9524\"/>\n",
       "<text text-anchor=\"middle\" x=\"150.5\" y=\"-189.3928\" font-family=\"Times,serif\" font-size=\"14.00\" fill=\"#000000\">no</text>\n",
       "</g>\n",
       "<!-- 3 -->\n",
       "<g id=\"node4\" class=\"node\">\n",
       "<title>3</title>\n",
       "<polygon fill=\"none\" stroke=\"#000000\" points=\"161,-36 49,-36 49,0 161,0 161,-36\"/>\n",
       "<text text-anchor=\"middle\" x=\"105\" y=\"-14.3\" font-family=\"Times,serif\" font-size=\"14.00\" fill=\"#000000\">leaf=121.887497</text>\n",
       "</g>\n",
       "<!-- 2&#45;&gt;3 -->\n",
       "<g id=\"edge3\" class=\"edge\">\n",
       "<title>2&#45;&gt;3</title>\n",
       "<path fill=\"none\" stroke=\"#0000ff\" d=\"M149.2549,-92.4139C140.1116,-77.0395 129.5337,-59.2531 121.0127,-44.9251\"/>\n",
       "<polygon fill=\"#0000ff\" stroke=\"#0000ff\" points=\"123.8657,-42.875 115.746,-36.0691 117.8493,-46.4531 123.8657,-42.875\"/>\n",
       "<text text-anchor=\"middle\" x=\"168\" y=\"-57.8\" font-family=\"Times,serif\" font-size=\"14.00\" fill=\"#000000\">yes, missing</text>\n",
       "</g>\n",
       "<!-- 4 -->\n",
       "<g id=\"node5\" class=\"node\">\n",
       "<title>4</title>\n",
       "<polygon fill=\"none\" stroke=\"#000000\" points=\"291,-36 179,-36 179,0 291,0 291,-36\"/>\n",
       "<text text-anchor=\"middle\" x=\"235\" y=\"-14.3\" font-family=\"Times,serif\" font-size=\"14.00\" fill=\"#000000\">leaf=836.475891</text>\n",
       "</g>\n",
       "<!-- 2&#45;&gt;4 -->\n",
       "<g id=\"edge4\" class=\"edge\">\n",
       "<title>2&#45;&gt;4</title>\n",
       "<path fill=\"none\" stroke=\"#ff0000\" d=\"M192.0831,-93.3041C197.0848,-85.3861 202.3035,-76.9461 207,-69 211.5308,-61.3343 216.2615,-52.9004 220.5171,-45.1363\"/>\n",
       "<polygon fill=\"#ff0000\" stroke=\"#ff0000\" points=\"223.7306,-46.5529 225.4271,-36.0948 217.5791,-43.2123 223.7306,-46.5529\"/>\n",
       "<text text-anchor=\"middle\" x=\"221.5\" y=\"-57.8\" font-family=\"Times,serif\" font-size=\"14.00\" fill=\"#000000\">no</text>\n",
       "</g>\n",
       "</g>\n",
       "</svg>\n"
      ],
      "text/plain": [
       "<graphviz.dot.Digraph at 0x1a26578cf8>"
      ]
     },
     "execution_count": 54,
     "metadata": {},
     "output_type": "execute_result"
    }
   ],
   "source": [
    "xgb.to_graphviz(xg_reg,\n",
    "                num_trees = 0)"
   ]
  },
  {
   "cell_type": "code",
   "execution_count": 55,
   "metadata": {},
   "outputs": [
    {
     "data": {
      "image/svg+xml": [
       "<?xml version=\"1.0\" encoding=\"UTF-8\" standalone=\"no\"?>\n",
       "<!DOCTYPE svg PUBLIC \"-//W3C//DTD SVG 1.1//EN\"\n",
       " \"http://www.w3.org/Graphics/SVG/1.1/DTD/svg11.dtd\">\n",
       "<!-- Generated by graphviz version 2.40.1 (20161225.0304)\n",
       " -->\n",
       "<!-- Title: %3 Pages: 1 -->\n",
       "<svg width=\"299pt\" height=\"305pt\"\n",
       " viewBox=\"0.00 0.00 299.00 304.59\" xmlns=\"http://www.w3.org/2000/svg\" xmlns:xlink=\"http://www.w3.org/1999/xlink\">\n",
       "<g id=\"graph0\" class=\"graph\" transform=\"scale(1 1) rotate(0) translate(4 300.5859)\">\n",
       "<title>%3</title>\n",
       "<polygon fill=\"#ffffff\" stroke=\"transparent\" points=\"-4,4 -4,-300.5859 295,-300.5859 295,4 -4,4\"/>\n",
       "<!-- 0 -->\n",
       "<g id=\"node1\" class=\"node\">\n",
       "<title>0</title>\n",
       "<ellipse fill=\"none\" stroke=\"#000000\" cx=\"102\" cy=\"-256.9394\" rx=\"39.7935\" ry=\"39.7935\"/>\n",
       "<text text-anchor=\"middle\" x=\"102\" y=\"-253.2394\" font-family=\"Times,serif\" font-size=\"14.00\" fill=\"#000000\">drink&lt;6</text>\n",
       "</g>\n",
       "<!-- 1 -->\n",
       "<g id=\"node2\" class=\"node\">\n",
       "<title>1</title>\n",
       "<polygon fill=\"none\" stroke=\"#000000\" points=\"112,-144.6465 0,-144.6465 0,-108.6465 112,-108.6465 112,-144.6465\"/>\n",
       "<text text-anchor=\"middle\" x=\"56\" y=\"-122.9465\" font-family=\"Times,serif\" font-size=\"14.00\" fill=\"#000000\">leaf=857.931702</text>\n",
       "</g>\n",
       "<!-- 0&#45;&gt;1 -->\n",
       "<g id=\"edge1\" class=\"edge\">\n",
       "<title>0&#45;&gt;1</title>\n",
       "<path fill=\"none\" stroke=\"#0000ff\" d=\"M79.1034,-224.2319C74.4654,-216.3601 70.0741,-207.768 67,-199.293 61.8861,-185.1945 59.1493,-168.7232 57.6848,-155.0322\"/>\n",
       "<polygon fill=\"#0000ff\" stroke=\"#0000ff\" points=\"61.1417,-154.394 56.762,-144.7468 54.1697,-155.0196 61.1417,-154.394\"/>\n",
       "<text text-anchor=\"middle\" x=\"102\" y=\"-188.093\" font-family=\"Times,serif\" font-size=\"14.00\" fill=\"#000000\">yes, missing</text>\n",
       "</g>\n",
       "<!-- 2 -->\n",
       "<g id=\"node3\" class=\"node\">\n",
       "<title>2</title>\n",
       "<ellipse fill=\"none\" stroke=\"#000000\" cx=\"170\" cy=\"-126.6465\" rx=\"39.7935\" ry=\"39.7935\"/>\n",
       "<text text-anchor=\"middle\" x=\"170\" y=\"-122.9465\" font-family=\"Times,serif\" font-size=\"14.00\" fill=\"#000000\">cigs&lt;13</text>\n",
       "</g>\n",
       "<!-- 0&#45;&gt;2 -->\n",
       "<g id=\"edge2\" class=\"edge\">\n",
       "<title>0&#45;&gt;2</title>\n",
       "<path fill=\"none\" stroke=\"#ff0000\" d=\"M123.4127,-223.1875C128.0702,-215.4378 132.8435,-207.1608 137,-199.293 141.5143,-190.7478 146.019,-181.4648 150.184,-172.4808\"/>\n",
       "<polygon fill=\"#ff0000\" stroke=\"#ff0000\" points=\"153.4197,-173.8207 154.3876,-163.2701 147.0516,-170.9143 153.4197,-173.8207\"/>\n",
       "<text text-anchor=\"middle\" x=\"150.5\" y=\"-188.093\" font-family=\"Times,serif\" font-size=\"14.00\" fill=\"#000000\">no</text>\n",
       "</g>\n",
       "<!-- 3 -->\n",
       "<g id=\"node4\" class=\"node\">\n",
       "<title>3</title>\n",
       "<polygon fill=\"none\" stroke=\"#000000\" points=\"161,-36 49,-36 49,0 161,0 161,-36\"/>\n",
       "<text text-anchor=\"middle\" x=\"105\" y=\"-14.3\" font-family=\"Times,serif\" font-size=\"14.00\" fill=\"#000000\">leaf=732.261353</text>\n",
       "</g>\n",
       "<!-- 2&#45;&gt;3 -->\n",
       "<g id=\"edge3\" class=\"edge\">\n",
       "<title>2&#45;&gt;3</title>\n",
       "<path fill=\"none\" stroke=\"#0000ff\" d=\"M149.6119,-92.5682C140.4496,-77.2534 129.7885,-59.4336 121.1862,-45.0549\"/>\n",
       "<polygon fill=\"#0000ff\" stroke=\"#0000ff\" points=\"124.0046,-42.9485 115.867,-36.1639 117.9975,-46.5424 124.0046,-42.9485\"/>\n",
       "<text text-anchor=\"middle\" x=\"169\" y=\"-57.8\" font-family=\"Times,serif\" font-size=\"14.00\" fill=\"#000000\">yes, missing</text>\n",
       "</g>\n",
       "<!-- 4 -->\n",
       "<g id=\"node5\" class=\"node\">\n",
       "<title>4</title>\n",
       "<polygon fill=\"none\" stroke=\"#000000\" points=\"291,-36 179,-36 179,0 291,0 291,-36\"/>\n",
       "<text text-anchor=\"middle\" x=\"235\" y=\"-14.3\" font-family=\"Times,serif\" font-size=\"14.00\" fill=\"#000000\">leaf=535.881409</text>\n",
       "</g>\n",
       "<!-- 2&#45;&gt;4 -->\n",
       "<g id=\"edge4\" class=\"edge\">\n",
       "<title>2&#45;&gt;4</title>\n",
       "<path fill=\"none\" stroke=\"#ff0000\" d=\"M192.4549,-93.7649C197.7067,-85.7556 203.1732,-77.1471 208,-69 212.5017,-61.4016 217.1048,-52.9885 221.2056,-45.223\"/>\n",
       "<polygon fill=\"#ff0000\" stroke=\"#ff0000\" points=\"224.4052,-46.6565 225.9179,-36.1702 218.196,-43.4243 224.4052,-46.6565\"/>\n",
       "<text text-anchor=\"middle\" x=\"222.5\" y=\"-57.8\" font-family=\"Times,serif\" font-size=\"14.00\" fill=\"#000000\">no</text>\n",
       "</g>\n",
       "</g>\n",
       "</svg>\n"
      ],
      "text/plain": [
       "<graphviz.dot.Digraph at 0x1a2659ca90>"
      ]
     },
     "execution_count": 55,
     "metadata": {},
     "output_type": "execute_result"
    }
   ],
   "source": [
    "xgb.to_graphviz(xg_reg,\n",
    "                num_trees = 1)"
   ]
  },
  {
   "cell_type": "code",
   "execution_count": 56,
   "metadata": {},
   "outputs": [
    {
     "data": {
      "image/svg+xml": [
       "<?xml version=\"1.0\" encoding=\"UTF-8\" standalone=\"no\"?>\n",
       "<!DOCTYPE svg PUBLIC \"-//W3C//DTD SVG 1.1//EN\"\n",
       " \"http://www.w3.org/Graphics/SVG/1.1/DTD/svg11.dtd\">\n",
       "<!-- Generated by graphviz version 2.40.1 (20161225.0304)\n",
       " -->\n",
       "<!-- Title: %3 Pages: 1 -->\n",
       "<svg width=\"510pt\" height=\"315pt\"\n",
       " viewBox=\"0.00 0.00 510.00 314.99\" xmlns=\"http://www.w3.org/2000/svg\" xmlns:xlink=\"http://www.w3.org/1999/xlink\">\n",
       "<g id=\"graph0\" class=\"graph\" transform=\"scale(1 1) rotate(0) translate(4 310.985)\">\n",
       "<title>%3</title>\n",
       "<polygon fill=\"#ffffff\" stroke=\"transparent\" points=\"-4,4 -4,-310.985 506,-310.985 506,4 -4,4\"/>\n",
       "<!-- 0 -->\n",
       "<g id=\"node1\" class=\"node\">\n",
       "<title>0</title>\n",
       "<ellipse fill=\"none\" stroke=\"#000000\" cx=\"250\" cy=\"-262.139\" rx=\"44.6926\" ry=\"44.6926\"/>\n",
       "<text text-anchor=\"middle\" x=\"250\" y=\"-258.439\" font-family=\"Times,serif\" font-size=\"14.00\" fill=\"#000000\">mage&lt;52</text>\n",
       "</g>\n",
       "<!-- 1 -->\n",
       "<g id=\"node2\" class=\"node\">\n",
       "<title>1</title>\n",
       "<ellipse fill=\"none\" stroke=\"#000000\" cx=\"186\" cy=\"-126.6465\" rx=\"39.7935\" ry=\"39.7935\"/>\n",
       "<text text-anchor=\"middle\" x=\"186\" y=\"-122.9465\" font-family=\"Times,serif\" font-size=\"14.00\" fill=\"#000000\">cigs&lt;11</text>\n",
       "</g>\n",
       "<!-- 0&#45;&gt;1 -->\n",
       "<g id=\"edge1\" class=\"edge\">\n",
       "<title>0&#45;&gt;1</title>\n",
       "<path fill=\"none\" stroke=\"#0000ff\" d=\"M226.78,-223.7442C222.3122,-215.7789 217.8352,-207.3548 214,-199.293 210.1186,-191.1341 206.3552,-182.2831 202.9127,-173.6577\"/>\n",
       "<polygon fill=\"#0000ff\" stroke=\"#0000ff\" points=\"206.0661,-172.1101 199.1733,-164.064 199.544,-174.6523 206.0661,-172.1101\"/>\n",
       "<text text-anchor=\"middle\" x=\"249\" y=\"-188.093\" font-family=\"Times,serif\" font-size=\"14.00\" fill=\"#000000\">yes, missing</text>\n",
       "</g>\n",
       "<!-- 2 -->\n",
       "<g id=\"node3\" class=\"node\">\n",
       "<title>2</title>\n",
       "<ellipse fill=\"none\" stroke=\"#000000\" cx=\"316\" cy=\"-126.6465\" rx=\"39.7935\" ry=\"39.7935\"/>\n",
       "<text text-anchor=\"middle\" x=\"316\" y=\"-122.9465\" font-family=\"Times,serif\" font-size=\"14.00\" fill=\"#000000\">cigs&lt;19</text>\n",
       "</g>\n",
       "<!-- 0&#45;&gt;2 -->\n",
       "<g id=\"edge2\" class=\"edge\">\n",
       "<title>0&#45;&gt;2</title>\n",
       "<path fill=\"none\" stroke=\"#ff0000\" d=\"M271.895,-222.8338C276.0299,-215.089 280.2352,-206.9801 284,-199.293 288.1399,-190.8399 292.3484,-181.7266 296.2944,-172.9069\"/>\n",
       "<polygon fill=\"#ff0000\" stroke=\"#ff0000\" points=\"299.6122,-174.0582 300.4573,-163.4971 293.2107,-171.226 299.6122,-174.0582\"/>\n",
       "<text text-anchor=\"middle\" x=\"297.5\" y=\"-188.093\" font-family=\"Times,serif\" font-size=\"14.00\" fill=\"#000000\">no</text>\n",
       "</g>\n",
       "<!-- 3 -->\n",
       "<g id=\"node4\" class=\"node\">\n",
       "<title>3</title>\n",
       "<polygon fill=\"none\" stroke=\"#000000\" points=\"112,-36 0,-36 0,0 112,0 112,-36\"/>\n",
       "<text text-anchor=\"middle\" x=\"56\" y=\"-14.3\" font-family=\"Times,serif\" font-size=\"14.00\" fill=\"#000000\">leaf=607.650146</text>\n",
       "</g>\n",
       "<!-- 1&#45;&gt;3 -->\n",
       "<g id=\"edge3\" class=\"edge\">\n",
       "<title>1&#45;&gt;3</title>\n",
       "<path fill=\"none\" stroke=\"#0000ff\" d=\"M154.2492,-102.7679C141.0041,-92.5877 125.5738,-80.439 112,-69 102.1803,-60.7247 91.7034,-51.3415 82.4996,-42.8998\"/>\n",
       "<polygon fill=\"#0000ff\" stroke=\"#0000ff\" points=\"84.8312,-40.2888 75.1102,-36.0753 80.0818,-45.4312 84.8312,-40.2888\"/>\n",
       "<text text-anchor=\"middle\" x=\"147\" y=\"-57.8\" font-family=\"Times,serif\" font-size=\"14.00\" fill=\"#000000\">yes, missing</text>\n",
       "</g>\n",
       "<!-- 4 -->\n",
       "<g id=\"node5\" class=\"node\">\n",
       "<title>4</title>\n",
       "<polygon fill=\"none\" stroke=\"#000000\" points=\"242,-36 130,-36 130,0 242,0 242,-36\"/>\n",
       "<text text-anchor=\"middle\" x=\"186\" y=\"-14.3\" font-family=\"Times,serif\" font-size=\"14.00\" fill=\"#000000\">leaf=449.378113</text>\n",
       "</g>\n",
       "<!-- 1&#45;&gt;4 -->\n",
       "<g id=\"edge4\" class=\"edge\">\n",
       "<title>1&#45;&gt;4</title>\n",
       "<path fill=\"none\" stroke=\"#ff0000\" d=\"M186,-86.8075C186,-73.411 186,-58.7467 186,-46.4107\"/>\n",
       "<polygon fill=\"#ff0000\" stroke=\"#ff0000\" points=\"189.5001,-46.2596 186,-36.2596 182.5001,-46.2597 189.5001,-46.2596\"/>\n",
       "<text text-anchor=\"middle\" x=\"193.5\" y=\"-57.8\" font-family=\"Times,serif\" font-size=\"14.00\" fill=\"#000000\">no</text>\n",
       "</g>\n",
       "<!-- 5 -->\n",
       "<g id=\"node6\" class=\"node\">\n",
       "<title>5</title>\n",
       "<polygon fill=\"none\" stroke=\"#000000\" points=\"372,-36 260,-36 260,0 372,0 372,-36\"/>\n",
       "<text text-anchor=\"middle\" x=\"316\" y=\"-14.3\" font-family=\"Times,serif\" font-size=\"14.00\" fill=\"#000000\">leaf=322.328491</text>\n",
       "</g>\n",
       "<!-- 2&#45;&gt;5 -->\n",
       "<g id=\"edge5\" class=\"edge\">\n",
       "<title>2&#45;&gt;5</title>\n",
       "<path fill=\"none\" stroke=\"#0000ff\" d=\"M316,-86.8075C316,-73.411 316,-58.7467 316,-46.4107\"/>\n",
       "<polygon fill=\"#0000ff\" stroke=\"#0000ff\" points=\"319.5001,-46.2596 316,-36.2596 312.5001,-46.2597 319.5001,-46.2596\"/>\n",
       "<text text-anchor=\"middle\" x=\"351\" y=\"-57.8\" font-family=\"Times,serif\" font-size=\"14.00\" fill=\"#000000\">yes, missing</text>\n",
       "</g>\n",
       "<!-- 6 -->\n",
       "<g id=\"node7\" class=\"node\">\n",
       "<title>6</title>\n",
       "<polygon fill=\"none\" stroke=\"#000000\" points=\"502,-36 390,-36 390,0 502,0 502,-36\"/>\n",
       "<text text-anchor=\"middle\" x=\"446\" y=\"-14.3\" font-family=\"Times,serif\" font-size=\"14.00\" fill=\"#000000\">leaf=29.4111423</text>\n",
       "</g>\n",
       "<!-- 2&#45;&gt;6 -->\n",
       "<g id=\"edge6\" class=\"edge\">\n",
       "<title>2&#45;&gt;6</title>\n",
       "<path fill=\"none\" stroke=\"#ff0000\" d=\"M347.7508,-102.7679C360.9959,-92.5877 376.4262,-80.439 390,-69 399.8197,-60.7247 410.2966,-51.3415 419.5004,-42.8998\"/>\n",
       "<polygon fill=\"#ff0000\" stroke=\"#ff0000\" points=\"421.9182,-45.4312 426.8898,-36.0753 417.1688,-40.2888 421.9182,-45.4312\"/>\n",
       "<text text-anchor=\"middle\" x=\"412.5\" y=\"-57.8\" font-family=\"Times,serif\" font-size=\"14.00\" fill=\"#000000\">no</text>\n",
       "</g>\n",
       "</g>\n",
       "</svg>\n"
      ],
      "text/plain": [
       "<graphviz.dot.Digraph at 0x1a272f66a0>"
      ]
     },
     "execution_count": 56,
     "metadata": {},
     "output_type": "execute_result"
    }
   ],
   "source": [
    "xgb.to_graphviz(xg_reg,\n",
    "                num_trees = 2)"
   ]
  },
  {
   "cell_type": "code",
   "execution_count": 57,
   "metadata": {},
   "outputs": [
    {
     "data": {
      "image/svg+xml": [
       "<?xml version=\"1.0\" encoding=\"UTF-8\" standalone=\"no\"?>\n",
       "<!DOCTYPE svg PUBLIC \"-//W3C//DTD SVG 1.1//EN\"\n",
       " \"http://www.w3.org/Graphics/SVG/1.1/DTD/svg11.dtd\">\n",
       "<!-- Generated by graphviz version 2.40.1 (20161225.0304)\n",
       " -->\n",
       "<!-- Title: %3 Pages: 1 -->\n",
       "<svg width=\"304pt\" height=\"315pt\"\n",
       " viewBox=\"0.00 0.00 304.00 314.99\" xmlns=\"http://www.w3.org/2000/svg\" xmlns:xlink=\"http://www.w3.org/1999/xlink\">\n",
       "<g id=\"graph0\" class=\"graph\" transform=\"scale(1 1) rotate(0) translate(4 310.985)\">\n",
       "<title>%3</title>\n",
       "<polygon fill=\"#ffffff\" stroke=\"transparent\" points=\"-4,4 -4,-310.985 300,-310.985 300,4 -4,4\"/>\n",
       "<!-- 0 -->\n",
       "<g id=\"node1\" class=\"node\">\n",
       "<title>0</title>\n",
       "<ellipse fill=\"none\" stroke=\"#000000\" cx=\"102\" cy=\"-267.3385\" rx=\"39.7935\" ry=\"39.7935\"/>\n",
       "<text text-anchor=\"middle\" x=\"102\" y=\"-263.6385\" font-family=\"Times,serif\" font-size=\"14.00\" fill=\"#000000\">drink&lt;4</text>\n",
       "</g>\n",
       "<!-- 1 -->\n",
       "<g id=\"node2\" class=\"node\">\n",
       "<title>1</title>\n",
       "<polygon fill=\"none\" stroke=\"#000000\" points=\"112,-149.846 0,-149.846 0,-113.846 112,-113.846 112,-149.846\"/>\n",
       "<text text-anchor=\"middle\" x=\"56\" y=\"-128.146\" font-family=\"Times,serif\" font-size=\"14.00\" fill=\"#000000\">leaf=451.494385</text>\n",
       "</g>\n",
       "<!-- 0&#45;&gt;1 -->\n",
       "<g id=\"edge1\" class=\"edge\">\n",
       "<title>0&#45;&gt;1</title>\n",
       "<path fill=\"none\" stroke=\"#0000ff\" d=\"M80.7873,-233.4561C76.717,-225.8539 72.8436,-217.671 70,-209.692 64.3246,-193.767 60.87,-175.1545 58.8129,-160.1227\"/>\n",
       "<polygon fill=\"#0000ff\" stroke=\"#0000ff\" points=\"62.2497,-159.3953 57.5501,-149.8998 55.3025,-160.2534 62.2497,-159.3953\"/>\n",
       "<text text-anchor=\"middle\" x=\"105\" y=\"-198.492\" font-family=\"Times,serif\" font-size=\"14.00\" fill=\"#000000\">yes, missing</text>\n",
       "</g>\n",
       "<!-- 2 -->\n",
       "<g id=\"node3\" class=\"node\">\n",
       "<title>2</title>\n",
       "<ellipse fill=\"none\" stroke=\"#000000\" cx=\"175\" cy=\"-131.846\" rx=\"44.6926\" ry=\"44.6926\"/>\n",
       "<text text-anchor=\"middle\" x=\"175\" y=\"-128.146\" font-family=\"Times,serif\" font-size=\"14.00\" fill=\"#000000\">mage&lt;52</text>\n",
       "</g>\n",
       "<!-- 0&#45;&gt;2 -->\n",
       "<g id=\"edge2\" class=\"edge\">\n",
       "<title>0&#45;&gt;2</title>\n",
       "<path fill=\"none\" stroke=\"#ff0000\" d=\"M124.8345,-234.6736C130.0727,-226.6566 135.4379,-217.9903 140,-209.692 144.6626,-201.2111 149.2242,-191.9907 153.4328,-182.96\"/>\n",
       "<polygon fill=\"#ff0000\" stroke=\"#ff0000\" points=\"156.7109,-184.2072 157.6804,-173.6568 150.3432,-181.2999 156.7109,-184.2072\"/>\n",
       "<text text-anchor=\"middle\" x=\"154.5\" y=\"-198.492\" font-family=\"Times,serif\" font-size=\"14.00\" fill=\"#000000\">no</text>\n",
       "</g>\n",
       "<!-- 3 -->\n",
       "<g id=\"node4\" class=\"node\">\n",
       "<title>3</title>\n",
       "<polygon fill=\"none\" stroke=\"#000000\" points=\"166,-36 54,-36 54,0 166,0 166,-36\"/>\n",
       "<text text-anchor=\"middle\" x=\"110\" y=\"-14.3\" font-family=\"Times,serif\" font-size=\"14.00\" fill=\"#000000\">leaf=305.815369</text>\n",
       "</g>\n",
       "<!-- 2&#45;&gt;3 -->\n",
       "<g id=\"edge3\" class=\"edge\">\n",
       "<title>2&#45;&gt;3</title>\n",
       "<path fill=\"none\" stroke=\"#0000ff\" d=\"M152.6307,-92.6667C143.6536,-76.9436 133.5308,-59.2137 125.4027,-44.9774\"/>\n",
       "<polygon fill=\"#0000ff\" stroke=\"#0000ff\" points=\"128.3792,-43.1317 120.3814,-36.1829 122.3002,-46.6025 128.3792,-43.1317\"/>\n",
       "<text text-anchor=\"middle\" x=\"174\" y=\"-57.8\" font-family=\"Times,serif\" font-size=\"14.00\" fill=\"#000000\">yes, missing</text>\n",
       "</g>\n",
       "<!-- 4 -->\n",
       "<g id=\"node5\" class=\"node\">\n",
       "<title>4</title>\n",
       "<polygon fill=\"none\" stroke=\"#000000\" points=\"296,-36 184,-36 184,0 296,0 296,-36\"/>\n",
       "<text text-anchor=\"middle\" x=\"240\" y=\"-14.3\" font-family=\"Times,serif\" font-size=\"14.00\" fill=\"#000000\">leaf=171.062653</text>\n",
       "</g>\n",
       "<!-- 2&#45;&gt;4 -->\n",
       "<g id=\"edge4\" class=\"edge\">\n",
       "<title>2&#45;&gt;4</title>\n",
       "<path fill=\"none\" stroke=\"#ff0000\" d=\"M198.6612,-93.4968C203.4902,-85.4536 208.4755,-76.9878 213,-69 217.3528,-61.3153 221.9095,-52.8754 226.0135,-45.1117\"/>\n",
       "<polygon fill=\"#ff0000\" stroke=\"#ff0000\" points=\"229.2085,-46.5553 230.7509,-36.0734 223.0085,-43.3057 229.2085,-46.5553\"/>\n",
       "<text text-anchor=\"middle\" x=\"227.5\" y=\"-57.8\" font-family=\"Times,serif\" font-size=\"14.00\" fill=\"#000000\">no</text>\n",
       "</g>\n",
       "</g>\n",
       "</svg>\n"
      ],
      "text/plain": [
       "<graphviz.dot.Digraph at 0x1a2772f710>"
      ]
     },
     "execution_count": 57,
     "metadata": {},
     "output_type": "execute_result"
    }
   ],
   "source": [
    "xgb.to_graphviz(xg_reg,\n",
    "                num_trees = 3)"
   ]
  },
  {
   "cell_type": "code",
   "execution_count": 58,
   "metadata": {},
   "outputs": [
    {
     "data": {
      "image/svg+xml": [
       "<?xml version=\"1.0\" encoding=\"UTF-8\" standalone=\"no\"?>\n",
       "<!DOCTYPE svg PUBLIC \"-//W3C//DTD SVG 1.1//EN\"\n",
       " \"http://www.w3.org/Graphics/SVG/1.1/DTD/svg11.dtd\">\n",
       "<!-- Generated by graphviz version 2.40.1 (20161225.0304)\n",
       " -->\n",
       "<!-- Title: %3 Pages: 1 -->\n",
       "<svg width=\"509pt\" height=\"315pt\"\n",
       " viewBox=\"0.00 0.00 508.50 314.99\" xmlns=\"http://www.w3.org/2000/svg\" xmlns:xlink=\"http://www.w3.org/1999/xlink\">\n",
       "<g id=\"graph0\" class=\"graph\" transform=\"scale(1 1) rotate(0) translate(4 310.985)\">\n",
       "<title>%3</title>\n",
       "<polygon fill=\"#ffffff\" stroke=\"transparent\" points=\"-4,4 -4,-310.985 504.5,-310.985 504.5,4 -4,4\"/>\n",
       "<!-- 0 -->\n",
       "<g id=\"node1\" class=\"node\">\n",
       "<title>0</title>\n",
       "<ellipse fill=\"none\" stroke=\"#000000\" cx=\"249\" cy=\"-267.3385\" rx=\"39.7935\" ry=\"39.7935\"/>\n",
       "<text text-anchor=\"middle\" x=\"249\" y=\"-263.6385\" font-family=\"Times,serif\" font-size=\"14.00\" fill=\"#000000\">cigs&lt;14</text>\n",
       "</g>\n",
       "<!-- 1 -->\n",
       "<g id=\"node2\" class=\"node\">\n",
       "<title>1</title>\n",
       "<ellipse fill=\"none\" stroke=\"#000000\" cx=\"186\" cy=\"-131.846\" rx=\"39.7935\" ry=\"39.7935\"/>\n",
       "<text text-anchor=\"middle\" x=\"186\" y=\"-128.146\" font-family=\"Times,serif\" font-size=\"14.00\" fill=\"#000000\">drink&lt;6</text>\n",
       "</g>\n",
       "<!-- 0&#45;&gt;1 -->\n",
       "<g id=\"edge1\" class=\"edge\">\n",
       "<title>0&#45;&gt;1</title>\n",
       "<path fill=\"none\" stroke=\"#0000ff\" d=\"M226.0207,-234.6204C221.0047,-226.6784 216.0053,-218.0587 212,-209.692 207.4774,-200.2448 203.4083,-189.8046 199.9053,-179.7205\"/>\n",
       "<polygon fill=\"#0000ff\" stroke=\"#0000ff\" points=\"203.2143,-178.5795 196.7237,-170.2055 196.5756,-180.7993 203.2143,-178.5795\"/>\n",
       "<text text-anchor=\"middle\" x=\"247\" y=\"-198.492\" font-family=\"Times,serif\" font-size=\"14.00\" fill=\"#000000\">yes, missing</text>\n",
       "</g>\n",
       "<!-- 2 -->\n",
       "<g id=\"node3\" class=\"node\">\n",
       "<title>2</title>\n",
       "<ellipse fill=\"none\" stroke=\"#000000\" cx=\"313\" cy=\"-131.846\" rx=\"44.6926\" ry=\"44.6926\"/>\n",
       "<text text-anchor=\"middle\" x=\"313\" y=\"-128.146\" font-family=\"Times,serif\" font-size=\"14.00\" fill=\"#000000\">mage&lt;65</text>\n",
       "</g>\n",
       "<!-- 0&#45;&gt;2 -->\n",
       "<g id=\"edge2\" class=\"edge\">\n",
       "<title>0&#45;&gt;2</title>\n",
       "<path fill=\"none\" stroke=\"#ff0000\" d=\"M269.5271,-233.3189C273.854,-225.6554 278.2423,-217.482 282,-209.692 286.038,-201.3208 289.9914,-192.2793 293.6508,-183.4235\"/>\n",
       "<polygon fill=\"#ff0000\" stroke=\"#ff0000\" points=\"296.9869,-184.5099 297.4964,-173.9273 290.4987,-181.8824 296.9869,-184.5099\"/>\n",
       "<text text-anchor=\"middle\" x=\"296.5\" y=\"-198.492\" font-family=\"Times,serif\" font-size=\"14.00\" fill=\"#000000\">no</text>\n",
       "</g>\n",
       "<!-- 3 -->\n",
       "<g id=\"node4\" class=\"node\">\n",
       "<title>3</title>\n",
       "<polygon fill=\"none\" stroke=\"#000000\" points=\"112,-36 0,-36 0,0 112,0 112,-36\"/>\n",
       "<text text-anchor=\"middle\" x=\"56\" y=\"-14.3\" font-family=\"Times,serif\" font-size=\"14.00\" fill=\"#000000\">leaf=278.822388</text>\n",
       "</g>\n",
       "<!-- 1&#45;&gt;3 -->\n",
       "<g id=\"edge3\" class=\"edge\">\n",
       "<title>1&#45;&gt;3</title>\n",
       "<path fill=\"none\" stroke=\"#0000ff\" d=\"M155.5539,-106.3962C142.1111,-95.0549 126.1751,-81.4674 112,-69 102.4345,-60.5869 92.0893,-51.2379 82.9243,-42.8661\"/>\n",
       "<polygon fill=\"#0000ff\" stroke=\"#0000ff\" points=\"85.2837,-40.281 75.5463,-36.1057 80.5547,-45.442 85.2837,-40.281\"/>\n",
       "<text text-anchor=\"middle\" x=\"147\" y=\"-57.8\" font-family=\"Times,serif\" font-size=\"14.00\" fill=\"#000000\">yes, missing</text>\n",
       "</g>\n",
       "<!-- 4 -->\n",
       "<g id=\"node5\" class=\"node\">\n",
       "<title>4</title>\n",
       "<polygon fill=\"none\" stroke=\"#000000\" points=\"242,-36 130,-36 130,0 242,0 242,-36\"/>\n",
       "<text text-anchor=\"middle\" x=\"186\" y=\"-14.3\" font-family=\"Times,serif\" font-size=\"14.00\" fill=\"#000000\">leaf=192.250854</text>\n",
       "</g>\n",
       "<!-- 1&#45;&gt;4 -->\n",
       "<g id=\"edge4\" class=\"edge\">\n",
       "<title>1&#45;&gt;4</title>\n",
       "<path fill=\"none\" stroke=\"#ff0000\" d=\"M186,-92.0282C186,-77.052 186,-60.3343 186,-46.5805\"/>\n",
       "<polygon fill=\"#ff0000\" stroke=\"#ff0000\" points=\"189.5001,-46.2755 186,-36.2755 182.5001,-46.2756 189.5001,-46.2755\"/>\n",
       "<text text-anchor=\"middle\" x=\"193.5\" y=\"-57.8\" font-family=\"Times,serif\" font-size=\"14.00\" fill=\"#000000\">no</text>\n",
       "</g>\n",
       "<!-- 5 -->\n",
       "<g id=\"node6\" class=\"node\">\n",
       "<title>5</title>\n",
       "<polygon fill=\"none\" stroke=\"#000000\" points=\"365.5,-36 260.5,-36 260.5,0 365.5,0 365.5,-36\"/>\n",
       "<text text-anchor=\"middle\" x=\"313\" y=\"-14.3\" font-family=\"Times,serif\" font-size=\"14.00\" fill=\"#000000\">leaf=161.00528</text>\n",
       "</g>\n",
       "<!-- 2&#45;&gt;5 -->\n",
       "<g id=\"edge5\" class=\"edge\">\n",
       "<title>2&#45;&gt;5</title>\n",
       "<path fill=\"none\" stroke=\"#0000ff\" d=\"M313,-86.8511C313,-73.1028 313,-58.3826 313,-46.0964\"/>\n",
       "<polygon fill=\"#0000ff\" stroke=\"#0000ff\" points=\"316.5001,-46.0117 313,-36.0117 309.5001,-46.0118 316.5001,-46.0117\"/>\n",
       "<text text-anchor=\"middle\" x=\"348\" y=\"-57.8\" font-family=\"Times,serif\" font-size=\"14.00\" fill=\"#000000\">yes, missing</text>\n",
       "</g>\n",
       "<!-- 6 -->\n",
       "<g id=\"node7\" class=\"node\">\n",
       "<title>6</title>\n",
       "<polygon fill=\"none\" stroke=\"#000000\" points=\"500.5,-36 383.5,-36 383.5,0 500.5,0 500.5,-36\"/>\n",
       "<text text-anchor=\"middle\" x=\"442\" y=\"-14.3\" font-family=\"Times,serif\" font-size=\"14.00\" fill=\"#000000\">leaf=&#45;12.1859274</text>\n",
       "</g>\n",
       "<!-- 2&#45;&gt;6 -->\n",
       "<g id=\"edge6\" class=\"edge\">\n",
       "<title>2&#45;&gt;6</title>\n",
       "<path fill=\"none\" stroke=\"#ff0000\" d=\"M347.5307,-103.0557C360.0635,-92.4661 374.2677,-80.3002 387,-69 396.3407,-60.71 406.402,-51.4735 415.333,-43.1633\"/>\n",
       "<polygon fill=\"#ff0000\" stroke=\"#ff0000\" points=\"417.9263,-45.5303 422.8439,-36.1458 413.1474,-40.4153 417.9263,-45.5303\"/>\n",
       "<text text-anchor=\"middle\" x=\"409.5\" y=\"-57.8\" font-family=\"Times,serif\" font-size=\"14.00\" fill=\"#000000\">no</text>\n",
       "</g>\n",
       "</g>\n",
       "</svg>\n"
      ],
      "text/plain": [
       "<graphviz.dot.Digraph at 0x1a272de940>"
      ]
     },
     "execution_count": 58,
     "metadata": {},
     "output_type": "execute_result"
    }
   ],
   "source": [
    "xgb.to_graphviz(xg_reg,\n",
    "                num_trees = 4)"
   ]
  },
  {
   "cell_type": "code",
   "execution_count": 59,
   "metadata": {},
   "outputs": [
    {
     "data": {
      "image/svg+xml": [
       "<?xml version=\"1.0\" encoding=\"UTF-8\" standalone=\"no\"?>\n",
       "<!DOCTYPE svg PUBLIC \"-//W3C//DTD SVG 1.1//EN\"\n",
       " \"http://www.w3.org/Graphics/SVG/1.1/DTD/svg11.dtd\">\n",
       "<!-- Generated by graphviz version 2.40.1 (20161225.0304)\n",
       " -->\n",
       "<!-- Title: %3 Pages: 1 -->\n",
       "<svg width=\"510pt\" height=\"306pt\"\n",
       " viewBox=\"0.00 0.00 510.00 305.89\" xmlns=\"http://www.w3.org/2000/svg\" xmlns:xlink=\"http://www.w3.org/1999/xlink\">\n",
       "<g id=\"graph0\" class=\"graph\" transform=\"scale(1 1) rotate(0) translate(4 301.8858)\">\n",
       "<title>%3</title>\n",
       "<polygon fill=\"#ffffff\" stroke=\"transparent\" points=\"-4,4 -4,-301.8858 506,-301.8858 506,4 -4,4\"/>\n",
       "<!-- 0 -->\n",
       "<g id=\"node1\" class=\"node\">\n",
       "<title>0</title>\n",
       "<ellipse fill=\"none\" stroke=\"#000000\" cx=\"250\" cy=\"-258.2393\" rx=\"39.7935\" ry=\"39.7935\"/>\n",
       "<text text-anchor=\"middle\" x=\"250\" y=\"-254.5393\" font-family=\"Times,serif\" font-size=\"14.00\" fill=\"#000000\">drink&lt;3</text>\n",
       "</g>\n",
       "<!-- 1 -->\n",
       "<g id=\"node2\" class=\"node\">\n",
       "<title>1</title>\n",
       "<ellipse fill=\"none\" stroke=\"#000000\" cx=\"186\" cy=\"-127.2964\" rx=\"40.0939\" ry=\"40.0939\"/>\n",
       "<text text-anchor=\"middle\" x=\"186\" y=\"-123.5964\" font-family=\"Times,serif\" font-size=\"14.00\" fill=\"#000000\">fage&lt;40</text>\n",
       "</g>\n",
       "<!-- 0&#45;&gt;1 -->\n",
       "<g id=\"edge1\" class=\"edge\">\n",
       "<title>0&#45;&gt;1</title>\n",
       "<path fill=\"none\" stroke=\"#0000ff\" d=\"M227.7462,-225.0326C222.9153,-217.184 218.0463,-208.7276 214,-200.5928 209.9889,-192.5289 206.1821,-183.7411 202.7414,-175.1414\"/>\n",
       "<polygon fill=\"#0000ff\" stroke=\"#0000ff\" points=\"205.9036,-173.6154 199.0211,-165.5605 199.3782,-176.1493 205.9036,-173.6154\"/>\n",
       "<text text-anchor=\"middle\" x=\"249\" y=\"-189.3928\" font-family=\"Times,serif\" font-size=\"14.00\" fill=\"#000000\">yes, missing</text>\n",
       "</g>\n",
       "<!-- 2 -->\n",
       "<g id=\"node3\" class=\"node\">\n",
       "<title>2</title>\n",
       "<ellipse fill=\"none\" stroke=\"#000000\" cx=\"316\" cy=\"-127.2964\" rx=\"39.7935\" ry=\"39.7935\"/>\n",
       "<text text-anchor=\"middle\" x=\"316\" y=\"-123.5964\" font-family=\"Times,serif\" font-size=\"14.00\" fill=\"#000000\">cigs&lt;12</text>\n",
       "</g>\n",
       "<!-- 0&#45;&gt;2 -->\n",
       "<g id=\"edge2\" class=\"edge\">\n",
       "<title>0&#45;&gt;2</title>\n",
       "<path fill=\"none\" stroke=\"#ff0000\" d=\"M270.8316,-224.4816C275.3544,-216.7322 279.983,-208.4568 284,-200.5928 288.4066,-191.9663 292.788,-182.5979 296.8307,-173.5329\"/>\n",
       "<polygon fill=\"#ff0000\" stroke=\"#ff0000\" points=\"300.0953,-174.8033 300.9078,-164.2396 293.685,-171.991 300.0953,-174.8033\"/>\n",
       "<text text-anchor=\"middle\" x=\"298.5\" y=\"-189.3928\" font-family=\"Times,serif\" font-size=\"14.00\" fill=\"#000000\">no</text>\n",
       "</g>\n",
       "<!-- 3 -->\n",
       "<g id=\"node4\" class=\"node\">\n",
       "<title>3</title>\n",
       "<polygon fill=\"none\" stroke=\"#000000\" points=\"112,-36 0,-36 0,0 112,0 112,-36\"/>\n",
       "<text text-anchor=\"middle\" x=\"56\" y=\"-14.3\" font-family=\"Times,serif\" font-size=\"14.00\" fill=\"#000000\">leaf=245.881882</text>\n",
       "</g>\n",
       "<!-- 1&#45;&gt;3 -->\n",
       "<g id=\"edge3\" class=\"edge\">\n",
       "<title>1&#45;&gt;3</title>\n",
       "<path fill=\"none\" stroke=\"#0000ff\" d=\"M153.9106,-102.8221C140.7517,-92.579 125.4757,-80.4192 112,-69 102.2029,-60.698 91.7313,-51.3084 82.5255,-42.8692\"/>\n",
       "<polygon fill=\"#0000ff\" stroke=\"#0000ff\" points=\"84.8559,-40.2572 75.1329,-36.0484 80.1091,-45.4019 84.8559,-40.2572\"/>\n",
       "<text text-anchor=\"middle\" x=\"147\" y=\"-57.8\" font-family=\"Times,serif\" font-size=\"14.00\" fill=\"#000000\">yes, missing</text>\n",
       "</g>\n",
       "<!-- 4 -->\n",
       "<g id=\"node5\" class=\"node\">\n",
       "<title>4</title>\n",
       "<polygon fill=\"none\" stroke=\"#000000\" points=\"242,-36 130,-36 130,0 242,0 242,-36\"/>\n",
       "<text text-anchor=\"middle\" x=\"186\" y=\"-14.3\" font-family=\"Times,serif\" font-size=\"14.00\" fill=\"#000000\">leaf=129.139694</text>\n",
       "</g>\n",
       "<!-- 1&#45;&gt;4 -->\n",
       "<g id=\"edge4\" class=\"edge\">\n",
       "<title>1&#45;&gt;4</title>\n",
       "<path fill=\"none\" stroke=\"#ff0000\" d=\"M186,-86.909C186,-73.4577 186,-58.7671 186,-46.4187\"/>\n",
       "<polygon fill=\"#ff0000\" stroke=\"#ff0000\" points=\"189.5001,-46.2601 186,-36.2601 182.5001,-46.2601 189.5001,-46.2601\"/>\n",
       "<text text-anchor=\"middle\" x=\"193.5\" y=\"-57.8\" font-family=\"Times,serif\" font-size=\"14.00\" fill=\"#000000\">no</text>\n",
       "</g>\n",
       "<!-- 5 -->\n",
       "<g id=\"node6\" class=\"node\">\n",
       "<title>5</title>\n",
       "<polygon fill=\"none\" stroke=\"#000000\" points=\"372,-36 260,-36 260,0 372,0 372,-36\"/>\n",
       "<text text-anchor=\"middle\" x=\"316\" y=\"-14.3\" font-family=\"Times,serif\" font-size=\"14.00\" fill=\"#000000\">leaf=152.780655</text>\n",
       "</g>\n",
       "<!-- 2&#45;&gt;5 -->\n",
       "<g id=\"edge5\" class=\"edge\">\n",
       "<title>2&#45;&gt;5</title>\n",
       "<path fill=\"none\" stroke=\"#0000ff\" d=\"M316,-87.5287C316,-73.9329 316,-59.0069 316,-46.4815\"/>\n",
       "<polygon fill=\"#0000ff\" stroke=\"#0000ff\" points=\"319.5001,-46.1861 316,-36.1861 312.5001,-46.1862 319.5001,-46.1861\"/>\n",
       "<text text-anchor=\"middle\" x=\"351\" y=\"-57.8\" font-family=\"Times,serif\" font-size=\"14.00\" fill=\"#000000\">yes, missing</text>\n",
       "</g>\n",
       "<!-- 6 -->\n",
       "<g id=\"node7\" class=\"node\">\n",
       "<title>6</title>\n",
       "<polygon fill=\"none\" stroke=\"#000000\" points=\"502,-36 390,-36 390,0 502,0 502,-36\"/>\n",
       "<text text-anchor=\"middle\" x=\"446\" y=\"-14.3\" font-family=\"Times,serif\" font-size=\"14.00\" fill=\"#000000\">leaf=89.1576843</text>\n",
       "</g>\n",
       "<!-- 2&#45;&gt;6 -->\n",
       "<g id=\"edge6\" class=\"edge\">\n",
       "<title>2&#45;&gt;6</title>\n",
       "<path fill=\"none\" stroke=\"#ff0000\" d=\"M347.7244,-103.1061C360.9652,-92.8042 376.3995,-80.5249 390,-69 399.7971,-60.698 410.2687,-51.3084 419.4745,-42.8692\"/>\n",
       "<polygon fill=\"#ff0000\" stroke=\"#ff0000\" points=\"421.8909,-45.4019 426.8671,-36.0484 417.1441,-40.2572 421.8909,-45.4019\"/>\n",
       "<text text-anchor=\"middle\" x=\"412.5\" y=\"-57.8\" font-family=\"Times,serif\" font-size=\"14.00\" fill=\"#000000\">no</text>\n",
       "</g>\n",
       "</g>\n",
       "</svg>\n"
      ],
      "text/plain": [
       "<graphviz.dot.Digraph at 0x1a2772f9b0>"
      ]
     },
     "execution_count": 59,
     "metadata": {},
     "output_type": "execute_result"
    }
   ],
   "source": [
    "xgb.to_graphviz(xg_reg,\n",
    "                num_trees = 5)"
   ]
  },
  {
   "cell_type": "code",
   "execution_count": 60,
   "metadata": {},
   "outputs": [
    {
     "data": {
      "image/svg+xml": [
       "<?xml version=\"1.0\" encoding=\"UTF-8\" standalone=\"no\"?>\n",
       "<!DOCTYPE svg PUBLIC \"-//W3C//DTD SVG 1.1//EN\"\n",
       " \"http://www.w3.org/Graphics/SVG/1.1/DTD/svg11.dtd\">\n",
       "<!-- Generated by graphviz version 2.40.1 (20161225.0304)\n",
       " -->\n",
       "<!-- Title: %3 Pages: 1 -->\n",
       "<svg width=\"510pt\" height=\"341pt\"\n",
       " viewBox=\"0.00 0.00 510.00 340.98\" xmlns=\"http://www.w3.org/2000/svg\" xmlns:xlink=\"http://www.w3.org/1999/xlink\">\n",
       "<g id=\"graph0\" class=\"graph\" transform=\"scale(1 1) rotate(0) translate(4 336.9827)\">\n",
       "<title>%3</title>\n",
       "<polygon fill=\"#ffffff\" stroke=\"transparent\" points=\"-4,4 -4,-336.9827 506,-336.9827 506,4 -4,4\"/>\n",
       "<!-- 0 -->\n",
       "<g id=\"node1\" class=\"node\">\n",
       "<title>0</title>\n",
       "<ellipse fill=\"none\" stroke=\"#000000\" cx=\"250\" cy=\"-293.3362\" rx=\"39.7935\" ry=\"39.7935\"/>\n",
       "<text text-anchor=\"middle\" x=\"250\" y=\"-289.6362\" font-family=\"Times,serif\" font-size=\"14.00\" fill=\"#000000\">drink&lt;3</text>\n",
       "</g>\n",
       "<!-- 1 -->\n",
       "<g id=\"node2\" class=\"node\">\n",
       "<title>1</title>\n",
       "<ellipse fill=\"none\" stroke=\"#000000\" cx=\"186\" cy=\"-144.8449\" rx=\"57.6901\" ry=\"57.6901\"/>\n",
       "<text text-anchor=\"middle\" x=\"186\" y=\"-141.1449\" font-family=\"Times,serif\" font-size=\"14.00\" fill=\"#000000\">sameEduc&lt;1</text>\n",
       "</g>\n",
       "<!-- 0&#45;&gt;1 -->\n",
       "<g id=\"edge1\" class=\"edge\">\n",
       "<title>0&#45;&gt;1</title>\n",
       "<path fill=\"none\" stroke=\"#0000ff\" d=\"M227.5373,-260.6244C222.6612,-252.6822 217.825,-244.0607 214,-235.6897 210.362,-227.7281 207.0296,-219.1659 204.0323,-210.5939\"/>\n",
       "<polygon fill=\"#0000ff\" stroke=\"#0000ff\" points=\"207.293,-209.309 200.7922,-200.943 200.657,-211.537 207.293,-209.309\"/>\n",
       "<text text-anchor=\"middle\" x=\"249\" y=\"-224.4897\" font-family=\"Times,serif\" font-size=\"14.00\" fill=\"#000000\">yes, missing</text>\n",
       "</g>\n",
       "<!-- 2 -->\n",
       "<g id=\"node3\" class=\"node\">\n",
       "<title>2</title>\n",
       "<ellipse fill=\"none\" stroke=\"#000000\" cx=\"316\" cy=\"-144.8449\" rx=\"51.9908\" ry=\"51.9908\"/>\n",
       "<text text-anchor=\"middle\" x=\"316\" y=\"-141.1449\" font-family=\"Times,serif\" font-size=\"14.00\" fill=\"#000000\">feduc&lt;11.5</text>\n",
       "</g>\n",
       "<!-- 0&#45;&gt;2 -->\n",
       "<g id=\"edge2\" class=\"edge\">\n",
       "<title>0&#45;&gt;2</title>\n",
       "<path fill=\"none\" stroke=\"#ff0000\" d=\"M271.261,-259.7881C275.7616,-252.0278 280.2725,-243.695 284,-235.6897 288.6476,-225.7086 293.0213,-214.8522 296.9546,-204.231\"/>\n",
       "<polygon fill=\"#ff0000\" stroke=\"#ff0000\" points=\"300.3369,-205.1692 300.4382,-194.5748 293.7523,-202.7936 300.3369,-205.1692\"/>\n",
       "<text text-anchor=\"middle\" x=\"298.5\" y=\"-224.4897\" font-family=\"Times,serif\" font-size=\"14.00\" fill=\"#000000\">no</text>\n",
       "</g>\n",
       "<!-- 3 -->\n",
       "<g id=\"node4\" class=\"node\">\n",
       "<title>3</title>\n",
       "<polygon fill=\"none\" stroke=\"#000000\" points=\"112,-36 0,-36 0,0 112,0 112,-36\"/>\n",
       "<text text-anchor=\"middle\" x=\"56\" y=\"-14.3\" font-family=\"Times,serif\" font-size=\"14.00\" fill=\"#000000\">leaf=188.040482</text>\n",
       "</g>\n",
       "<!-- 1&#45;&gt;3 -->\n",
       "<g id=\"edge3\" class=\"edge\">\n",
       "<title>1&#45;&gt;3</title>\n",
       "<path fill=\"none\" stroke=\"#0000ff\" d=\"M144.5098,-104.3616C123.9638,-84.3143 99.7959,-60.7329 81.9101,-43.2812\"/>\n",
       "<polygon fill=\"#0000ff\" stroke=\"#0000ff\" points=\"84.26,-40.684 74.6582,-36.2054 79.3714,-45.6942 84.26,-40.684\"/>\n",
       "<text text-anchor=\"middle\" x=\"141\" y=\"-57.8\" font-family=\"Times,serif\" font-size=\"14.00\" fill=\"#000000\">yes, missing</text>\n",
       "</g>\n",
       "<!-- 4 -->\n",
       "<g id=\"node5\" class=\"node\">\n",
       "<title>4</title>\n",
       "<polygon fill=\"none\" stroke=\"#000000\" points=\"242,-36 130,-36 130,0 242,0 242,-36\"/>\n",
       "<text text-anchor=\"middle\" x=\"186\" y=\"-14.3\" font-family=\"Times,serif\" font-size=\"14.00\" fill=\"#000000\">leaf=115.658745</text>\n",
       "</g>\n",
       "<!-- 1&#45;&gt;4 -->\n",
       "<g id=\"edge4\" class=\"edge\">\n",
       "<title>1&#45;&gt;4</title>\n",
       "<path fill=\"none\" stroke=\"#ff0000\" d=\"M186,-86.9903C186,-72.883 186,-58.4054 186,-46.3785\"/>\n",
       "<polygon fill=\"#ff0000\" stroke=\"#ff0000\" points=\"189.5001,-46.1032 186,-36.1032 182.5001,-46.1033 189.5001,-46.1032\"/>\n",
       "<text text-anchor=\"middle\" x=\"193.5\" y=\"-57.8\" font-family=\"Times,serif\" font-size=\"14.00\" fill=\"#000000\">no</text>\n",
       "</g>\n",
       "<!-- 5 -->\n",
       "<g id=\"node6\" class=\"node\">\n",
       "<title>5</title>\n",
       "<polygon fill=\"none\" stroke=\"#000000\" points=\"372,-36 260,-36 260,0 372,0 372,-36\"/>\n",
       "<text text-anchor=\"middle\" x=\"316\" y=\"-14.3\" font-family=\"Times,serif\" font-size=\"14.00\" fill=\"#000000\">leaf=10.3580389</text>\n",
       "</g>\n",
       "<!-- 2&#45;&gt;5 -->\n",
       "<g id=\"edge5\" class=\"edge\">\n",
       "<title>2&#45;&gt;5</title>\n",
       "<path fill=\"none\" stroke=\"#0000ff\" d=\"M316,-92.5199C316,-76.6884 316,-59.9047 316,-46.2818\"/>\n",
       "<polygon fill=\"#0000ff\" stroke=\"#0000ff\" points=\"319.5001,-46.1127 316,-36.1127 312.5001,-46.1127 319.5001,-46.1127\"/>\n",
       "<text text-anchor=\"middle\" x=\"351\" y=\"-57.8\" font-family=\"Times,serif\" font-size=\"14.00\" fill=\"#000000\">yes, missing</text>\n",
       "</g>\n",
       "<!-- 6 -->\n",
       "<g id=\"node7\" class=\"node\">\n",
       "<title>6</title>\n",
       "<polygon fill=\"none\" stroke=\"#000000\" points=\"502,-36 390,-36 390,0 502,0 502,-36\"/>\n",
       "<text text-anchor=\"middle\" x=\"446\" y=\"-14.3\" font-family=\"Times,serif\" font-size=\"14.00\" fill=\"#000000\">leaf=86.9202347</text>\n",
       "</g>\n",
       "<!-- 2&#45;&gt;6 -->\n",
       "<g id=\"edge6\" class=\"edge\">\n",
       "<title>2&#45;&gt;6</title>\n",
       "<path fill=\"none\" stroke=\"#ff0000\" d=\"M353.2528,-108.4962C374.7134,-87.5565 401.1418,-61.7695 420.2897,-43.0863\"/>\n",
       "<polygon fill=\"#ff0000\" stroke=\"#ff0000\" points=\"422.7883,-45.5384 427.5015,-36.0496 417.8997,-40.5282 422.7883,-45.5384\"/>\n",
       "<text text-anchor=\"middle\" x=\"414.5\" y=\"-57.8\" font-family=\"Times,serif\" font-size=\"14.00\" fill=\"#000000\">no</text>\n",
       "</g>\n",
       "</g>\n",
       "</svg>\n"
      ],
      "text/plain": [
       "<graphviz.dot.Digraph at 0x1a2774a630>"
      ]
     },
     "execution_count": 60,
     "metadata": {},
     "output_type": "execute_result"
    }
   ],
   "source": [
    "xgb.to_graphviz(xg_reg,\n",
    "                num_trees = 6)"
   ]
  },
  {
   "cell_type": "code",
   "execution_count": 61,
   "metadata": {},
   "outputs": [
    {
     "data": {
      "image/svg+xml": [
       "<?xml version=\"1.0\" encoding=\"UTF-8\" standalone=\"no\"?>\n",
       "<!DOCTYPE svg PUBLIC \"-//W3C//DTD SVG 1.1//EN\"\n",
       " \"http://www.w3.org/Graphics/SVG/1.1/DTD/svg11.dtd\">\n",
       "<!-- Generated by graphviz version 2.40.1 (20161225.0304)\n",
       " -->\n",
       "<!-- Title: %3 Pages: 1 -->\n",
       "<svg width=\"516pt\" height=\"329pt\"\n",
       " viewBox=\"0.00 0.00 516.00 329.28\" xmlns=\"http://www.w3.org/2000/svg\" xmlns:xlink=\"http://www.w3.org/1999/xlink\">\n",
       "<g id=\"graph0\" class=\"graph\" transform=\"scale(1 1) rotate(0) translate(4 325.2837)\">\n",
       "<title>%3</title>\n",
       "<polygon fill=\"#ffffff\" stroke=\"transparent\" points=\"-4,4 -4,-325.2837 512,-325.2837 512,4 -4,4\"/>\n",
       "<!-- 0 -->\n",
       "<g id=\"node1\" class=\"node\">\n",
       "<title>0</title>\n",
       "<ellipse fill=\"none\" stroke=\"#000000\" cx=\"252\" cy=\"-281.6373\" rx=\"39.7935\" ry=\"39.7935\"/>\n",
       "<text text-anchor=\"middle\" x=\"252\" y=\"-277.9373\" font-family=\"Times,serif\" font-size=\"14.00\" fill=\"#000000\">drink&lt;8</text>\n",
       "</g>\n",
       "<!-- 1 -->\n",
       "<g id=\"node2\" class=\"node\">\n",
       "<title>1</title>\n",
       "<ellipse fill=\"none\" stroke=\"#000000\" cx=\"186\" cy=\"-138.9954\" rx=\"44.6926\" ry=\"44.6926\"/>\n",
       "<text text-anchor=\"middle\" x=\"186\" y=\"-135.2954\" font-family=\"Times,serif\" font-size=\"14.00\" fill=\"#000000\">mage&lt;43</text>\n",
       "</g>\n",
       "<!-- 0&#45;&gt;1 -->\n",
       "<g id=\"edge1\" class=\"edge\">\n",
       "<title>0&#45;&gt;1</title>\n",
       "<path fill=\"none\" stroke=\"#0000ff\" d=\"M230.3186,-248.4191C225.6241,-240.571 220.9027,-232.1177 217,-223.9908 212.0566,-213.6967 207.4208,-202.3944 203.3165,-191.4868\"/>\n",
       "<polygon fill=\"#0000ff\" stroke=\"#0000ff\" points=\"206.5807,-190.2221 199.8522,-182.0381 200.0085,-192.6318 206.5807,-190.2221\"/>\n",
       "<text text-anchor=\"middle\" x=\"252\" y=\"-212.7908\" font-family=\"Times,serif\" font-size=\"14.00\" fill=\"#000000\">yes, missing</text>\n",
       "</g>\n",
       "<!-- 2 -->\n",
       "<g id=\"node3\" class=\"node\">\n",
       "<title>2</title>\n",
       "<ellipse fill=\"none\" stroke=\"#000000\" cx=\"319\" cy=\"-138.9954\" rx=\"51.9908\" ry=\"51.9908\"/>\n",
       "<text text-anchor=\"middle\" x=\"319\" y=\"-135.2954\" font-family=\"Times,serif\" font-size=\"14.00\" fill=\"#000000\">feduc&lt;14.5</text>\n",
       "</g>\n",
       "<!-- 0&#45;&gt;2 -->\n",
       "<g id=\"edge2\" class=\"edge\">\n",
       "<title>0&#45;&gt;2</title>\n",
       "<path fill=\"none\" stroke=\"#ff0000\" d=\"M273.6198,-248.3893C278.3172,-240.5426 283.0554,-232.0974 287,-223.9908 291.0025,-215.7654 294.8343,-206.9029 298.3672,-198.1146\"/>\n",
       "<polygon fill=\"#ff0000\" stroke=\"#ff0000\" points=\"301.6897,-199.2287 302.0775,-188.641 295.1717,-196.676 301.6897,-199.2287\"/>\n",
       "<text text-anchor=\"middle\" x=\"301.5\" y=\"-212.7908\" font-family=\"Times,serif\" font-size=\"14.00\" fill=\"#000000\">no</text>\n",
       "</g>\n",
       "<!-- 3 -->\n",
       "<g id=\"node4\" class=\"node\">\n",
       "<title>3</title>\n",
       "<polygon fill=\"none\" stroke=\"#000000\" points=\"112,-36 0,-36 0,0 112,0 112,-36\"/>\n",
       "<text text-anchor=\"middle\" x=\"56\" y=\"-14.3\" font-family=\"Times,serif\" font-size=\"14.00\" fill=\"#000000\">leaf=87.2791519</text>\n",
       "</g>\n",
       "<!-- 1&#45;&gt;3 -->\n",
       "<g id=\"edge3\" class=\"edge\">\n",
       "<title>1&#45;&gt;3</title>\n",
       "<path fill=\"none\" stroke=\"#0000ff\" d=\"M152.8591,-108.1501C131.1135,-87.9107 103.0476,-61.7888 82.7298,-42.8783\"/>\n",
       "<polygon fill=\"#0000ff\" stroke=\"#0000ff\" points=\"85.0561,-40.2621 75.3515,-36.0111 80.287,-45.3862 85.0561,-40.2621\"/>\n",
       "<text text-anchor=\"middle\" x=\"145\" y=\"-57.8\" font-family=\"Times,serif\" font-size=\"14.00\" fill=\"#000000\">yes, missing</text>\n",
       "</g>\n",
       "<!-- 4 -->\n",
       "<g id=\"node5\" class=\"node\">\n",
       "<title>4</title>\n",
       "<polygon fill=\"none\" stroke=\"#000000\" points=\"242,-36 130,-36 130,0 242,0 242,-36\"/>\n",
       "<text text-anchor=\"middle\" x=\"186\" y=\"-14.3\" font-family=\"Times,serif\" font-size=\"14.00\" fill=\"#000000\">leaf=33.1186333</text>\n",
       "</g>\n",
       "<!-- 1&#45;&gt;4 -->\n",
       "<g id=\"edge4\" class=\"edge\">\n",
       "<title>1&#45;&gt;4</title>\n",
       "<path fill=\"none\" stroke=\"#ff0000\" d=\"M186,-93.9412C186,-77.9859 186,-60.4948 186,-46.3247\"/>\n",
       "<polygon fill=\"#ff0000\" stroke=\"#ff0000\" points=\"189.5001,-46.2165 186,-36.2165 182.5001,-46.2166 189.5001,-46.2165\"/>\n",
       "<text text-anchor=\"middle\" x=\"193.5\" y=\"-57.8\" font-family=\"Times,serif\" font-size=\"14.00\" fill=\"#000000\">no</text>\n",
       "</g>\n",
       "<!-- 5 -->\n",
       "<g id=\"node6\" class=\"node\">\n",
       "<title>5</title>\n",
       "<polygon fill=\"none\" stroke=\"#000000\" points=\"377.5,-36 260.5,-36 260.5,0 377.5,0 377.5,-36\"/>\n",
       "<text text-anchor=\"middle\" x=\"319\" y=\"-14.3\" font-family=\"Times,serif\" font-size=\"14.00\" fill=\"#000000\">leaf=&#45;10.3251734</text>\n",
       "</g>\n",
       "<!-- 2&#45;&gt;5 -->\n",
       "<g id=\"edge5\" class=\"edge\">\n",
       "<title>2&#45;&gt;5</title>\n",
       "<path fill=\"none\" stroke=\"#0000ff\" d=\"M319,-86.9803C319,-73.0533 319,-58.5144 319,-46.3952\"/>\n",
       "<polygon fill=\"#0000ff\" stroke=\"#0000ff\" points=\"322.5001,-46.0325 319,-36.0325 315.5001,-46.0326 322.5001,-46.0325\"/>\n",
       "<text text-anchor=\"middle\" x=\"354\" y=\"-57.8\" font-family=\"Times,serif\" font-size=\"14.00\" fill=\"#000000\">yes, missing</text>\n",
       "</g>\n",
       "<!-- 6 -->\n",
       "<g id=\"node7\" class=\"node\">\n",
       "<title>6</title>\n",
       "<polygon fill=\"none\" stroke=\"#000000\" points=\"508,-36 396,-36 396,0 508,0 508,-36\"/>\n",
       "<text text-anchor=\"middle\" x=\"452\" y=\"-14.3\" font-family=\"Times,serif\" font-size=\"14.00\" fill=\"#000000\">leaf=64.1154861</text>\n",
       "</g>\n",
       "<!-- 2&#45;&gt;6 -->\n",
       "<g id=\"edge6\" class=\"edge\">\n",
       "<title>2&#45;&gt;6</title>\n",
       "<path fill=\"none\" stroke=\"#ff0000\" d=\"M357.4691,-103.9985C378.9114,-84.4916 405.1128,-60.6551 424.488,-43.0288\"/>\n",
       "<polygon fill=\"#ff0000\" stroke=\"#ff0000\" points=\"427.0356,-45.4428 432.0773,-36.1245 422.325,-40.2649 427.0356,-45.4428\"/>\n",
       "<text text-anchor=\"middle\" x=\"415.5\" y=\"-57.8\" font-family=\"Times,serif\" font-size=\"14.00\" fill=\"#000000\">no</text>\n",
       "</g>\n",
       "</g>\n",
       "</svg>\n"
      ],
      "text/plain": [
       "<graphviz.dot.Digraph at 0x1a27718400>"
      ]
     },
     "execution_count": 61,
     "metadata": {},
     "output_type": "execute_result"
    }
   ],
   "source": [
    "xgb.to_graphviz(xg_reg,\n",
    "                num_trees = 7)"
   ]
  },
  {
   "cell_type": "code",
   "execution_count": 62,
   "metadata": {},
   "outputs": [
    {
     "data": {
      "image/svg+xml": [
       "<?xml version=\"1.0\" encoding=\"UTF-8\" standalone=\"no\"?>\n",
       "<!DOCTYPE svg PUBLIC \"-//W3C//DTD SVG 1.1//EN\"\n",
       " \"http://www.w3.org/Graphics/SVG/1.1/DTD/svg11.dtd\">\n",
       "<!-- Generated by graphviz version 2.40.1 (20161225.0304)\n",
       " -->\n",
       "<!-- Title: %3 Pages: 1 -->\n",
       "<svg width=\"514pt\" height=\"311pt\"\n",
       " viewBox=\"0.00 0.00 514.00 311.09\" xmlns=\"http://www.w3.org/2000/svg\" xmlns:xlink=\"http://www.w3.org/1999/xlink\">\n",
       "<g id=\"graph0\" class=\"graph\" transform=\"scale(1 1) rotate(0) translate(4 307.0854)\">\n",
       "<title>%3</title>\n",
       "<polygon fill=\"#ffffff\" stroke=\"transparent\" points=\"-4,4 -4,-307.0854 510,-307.0854 510,4 -4,4\"/>\n",
       "<!-- 0 -->\n",
       "<g id=\"node1\" class=\"node\">\n",
       "<title>0</title>\n",
       "<ellipse fill=\"none\" stroke=\"#000000\" cx=\"250.5\" cy=\"-267.9885\" rx=\"35.194\" ry=\"35.194\"/>\n",
       "<text text-anchor=\"middle\" x=\"250.5\" y=\"-264.2885\" font-family=\"Times,serif\" font-size=\"14.00\" fill=\"#000000\">cigs&lt;2</text>\n",
       "</g>\n",
       "<!-- 1 -->\n",
       "<g id=\"node2\" class=\"node\">\n",
       "<title>1</title>\n",
       "<ellipse fill=\"none\" stroke=\"#000000\" cx=\"187.5\" cy=\"-134.4458\" rx=\"47.3916\" ry=\"47.3916\"/>\n",
       "<text text-anchor=\"middle\" x=\"187.5\" y=\"-130.7458\" font-family=\"Times,serif\" font-size=\"14.00\" fill=\"#000000\">feduc&lt;9.5</text>\n",
       "</g>\n",
       "<!-- 0&#45;&gt;1 -->\n",
       "<g id=\"edge1\" class=\"edge\">\n",
       "<title>0&#45;&gt;1</title>\n",
       "<path fill=\"none\" stroke=\"#0000ff\" d=\"M228.9032,-240.293C223.3798,-232.3795 217.7949,-223.5472 213.5,-214.8916 209.6131,-207.0583 206.1272,-198.5139 203.0661,-190.0137\"/>\n",
       "<polygon fill=\"#0000ff\" stroke=\"#0000ff\" points=\"206.3492,-188.7975 199.7919,-180.4758 199.7284,-191.0704 206.3492,-188.7975\"/>\n",
       "<text text-anchor=\"middle\" x=\"248.5\" y=\"-203.6916\" font-family=\"Times,serif\" font-size=\"14.00\" fill=\"#000000\">yes, missing</text>\n",
       "</g>\n",
       "<!-- 2 -->\n",
       "<g id=\"node3\" class=\"node\">\n",
       "<title>2</title>\n",
       "<ellipse fill=\"none\" stroke=\"#000000\" cx=\"314.5\" cy=\"-134.4458\" rx=\"39.7935\" ry=\"39.7935\"/>\n",
       "<text text-anchor=\"middle\" x=\"314.5\" y=\"-130.7458\" font-family=\"Times,serif\" font-size=\"14.00\" fill=\"#000000\">cigs&lt;21</text>\n",
       "</g>\n",
       "<!-- 0&#45;&gt;2 -->\n",
       "<g id=\"edge2\" class=\"edge\">\n",
       "<title>0&#45;&gt;2</title>\n",
       "<path fill=\"none\" stroke=\"#ff0000\" d=\"M270.0142,-238.7866C274.7221,-231.1695 279.5334,-222.8586 283.5,-214.8916 288.7111,-204.425 293.6284,-192.8555 297.9461,-181.8307\"/>\n",
       "<polygon fill=\"#ff0000\" stroke=\"#ff0000\" points=\"301.2787,-182.9145 301.5783,-172.3239 294.7397,-180.4161 301.2787,-182.9145\"/>\n",
       "<text text-anchor=\"middle\" x=\"298\" y=\"-203.6916\" font-family=\"Times,serif\" font-size=\"14.00\" fill=\"#000000\">no</text>\n",
       "</g>\n",
       "<!-- 3 -->\n",
       "<g id=\"node4\" class=\"node\">\n",
       "<title>3</title>\n",
       "<polygon fill=\"none\" stroke=\"#000000\" points=\"117,-36 0,-36 0,0 117,0 117,-36\"/>\n",
       "<text text-anchor=\"middle\" x=\"58.5\" y=\"-14.3\" font-family=\"Times,serif\" font-size=\"14.00\" fill=\"#000000\">leaf=&#45;47.3296394</text>\n",
       "</g>\n",
       "<!-- 1&#45;&gt;3 -->\n",
       "<g id=\"edge3\" class=\"edge\">\n",
       "<title>1&#45;&gt;3</title>\n",
       "<path fill=\"none\" stroke=\"#0000ff\" d=\"M151.5919,-102.9912C139.4418,-92.2678 125.8312,-80.1672 113.5,-69 104.2429,-60.6167 94.2026,-51.3569 85.2651,-43.0539\"/>\n",
       "<polygon fill=\"#0000ff\" stroke=\"#0000ff\" points=\"87.4462,-40.3024 77.7423,-36.0497 82.6762,-45.4256 87.4462,-40.3024\"/>\n",
       "<text text-anchor=\"middle\" x=\"148.5\" y=\"-57.8\" font-family=\"Times,serif\" font-size=\"14.00\" fill=\"#000000\">yes, missing</text>\n",
       "</g>\n",
       "<!-- 4 -->\n",
       "<g id=\"node5\" class=\"node\">\n",
       "<title>4</title>\n",
       "<polygon fill=\"none\" stroke=\"#000000\" points=\"240,-36 135,-36 135,0 240,0 240,-36\"/>\n",
       "<text text-anchor=\"middle\" x=\"187.5\" y=\"-14.3\" font-family=\"Times,serif\" font-size=\"14.00\" fill=\"#000000\">leaf=118.66246</text>\n",
       "</g>\n",
       "<!-- 1&#45;&gt;4 -->\n",
       "<g id=\"edge4\" class=\"edge\">\n",
       "<title>1&#45;&gt;4</title>\n",
       "<path fill=\"none\" stroke=\"#ff0000\" d=\"M187.5,-86.7468C187.5,-72.9505 187.5,-58.3387 187.5,-46.1504\"/>\n",
       "<polygon fill=\"#ff0000\" stroke=\"#ff0000\" points=\"191.0001,-46.1447 187.5,-36.1447 184.0001,-46.1447 191.0001,-46.1447\"/>\n",
       "<text text-anchor=\"middle\" x=\"195\" y=\"-57.8\" font-family=\"Times,serif\" font-size=\"14.00\" fill=\"#000000\">no</text>\n",
       "</g>\n",
       "<!-- 5 -->\n",
       "<g id=\"node6\" class=\"node\">\n",
       "<title>5</title>\n",
       "<polygon fill=\"none\" stroke=\"#000000\" points=\"370.5,-36 258.5,-36 258.5,0 370.5,0 370.5,-36\"/>\n",
       "<text text-anchor=\"middle\" x=\"314.5\" y=\"-14.3\" font-family=\"Times,serif\" font-size=\"14.00\" fill=\"#000000\">leaf=37.9831772</text>\n",
       "</g>\n",
       "<!-- 2&#45;&gt;5 -->\n",
       "<g id=\"edge5\" class=\"edge\">\n",
       "<title>2&#45;&gt;5</title>\n",
       "<path fill=\"none\" stroke=\"#0000ff\" d=\"M314.5,-94.6974C314.5,-78.8417 314.5,-60.9466 314.5,-46.4323\"/>\n",
       "<polygon fill=\"#0000ff\" stroke=\"#0000ff\" points=\"318.0001,-46.0818 314.5,-36.0818 311.0001,-46.0819 318.0001,-46.0818\"/>\n",
       "<text text-anchor=\"middle\" x=\"349.5\" y=\"-57.8\" font-family=\"Times,serif\" font-size=\"14.00\" fill=\"#000000\">yes, missing</text>\n",
       "</g>\n",
       "<!-- 6 -->\n",
       "<g id=\"node7\" class=\"node\">\n",
       "<title>6</title>\n",
       "<polygon fill=\"none\" stroke=\"#000000\" points=\"506,-36 389,-36 389,0 506,0 506,-36\"/>\n",
       "<text text-anchor=\"middle\" x=\"447.5\" y=\"-14.3\" font-family=\"Times,serif\" font-size=\"14.00\" fill=\"#000000\">leaf=&#45;36.6514702</text>\n",
       "</g>\n",
       "<!-- 2&#45;&gt;6 -->\n",
       "<g id=\"edge6\" class=\"edge\">\n",
       "<title>2&#45;&gt;6</title>\n",
       "<path fill=\"none\" stroke=\"#ff0000\" d=\"M344.3478,-108.3131C366.7209,-88.7247 397.1434,-62.0888 419.1468,-42.8241\"/>\n",
       "<polygon fill=\"#ff0000\" stroke=\"#ff0000\" points=\"421.6237,-45.3075 426.8419,-36.0868 417.0125,-40.0408 421.6237,-45.3075\"/>\n",
       "<text text-anchor=\"middle\" x=\"411\" y=\"-57.8\" font-family=\"Times,serif\" font-size=\"14.00\" fill=\"#000000\">no</text>\n",
       "</g>\n",
       "</g>\n",
       "</svg>\n"
      ],
      "text/plain": [
       "<graphviz.dot.Digraph at 0x1a2774acc0>"
      ]
     },
     "execution_count": 62,
     "metadata": {},
     "output_type": "execute_result"
    }
   ],
   "source": [
    "xgb.to_graphviz(xg_reg,\n",
    "                num_trees = 8)"
   ]
  },
  {
   "cell_type": "markdown",
   "metadata": {},
   "source": [
    "The XGBoost is given the low number of samles only slightly overfit. It places highest importance on:\n",
    "- cigs\n",
    "- drink\n",
    "- mage\n",
    "- feduc\n",
    "\n",
    "Let's try to predict based on the reduced dataset:"
   ]
  },
  {
   "cell_type": "code",
   "execution_count": 63,
   "metadata": {},
   "outputs": [
    {
     "data": {
      "text/plain": [
       "XGBRegressor(alpha=0.01, base_score=0.5, booster='gbtree',\n",
       "       colsample_bylevel=1, colsample_bytree=1, gamma=0,\n",
       "       learning_rate=0.35, max_delta_step=0, max_depth=2,\n",
       "       min_child_weight=1, missing=None, n_estimators=9, n_jobs=1,\n",
       "       nthread=None, objective='reg:linear', random_state=0, reg_alpha=0,\n",
       "       reg_lambda=1, scale_pos_weight=1, seed=None, silent=True,\n",
       "       subsample=1)"
      ]
     },
     "execution_count": 63,
     "metadata": {},
     "output_type": "execute_result"
    }
   ],
   "source": [
    "xg_reg2 = xgb.XGBRegressor(objective = 'reg:linear',\n",
    "                          colsample_bytree = 1,\n",
    "                          learning_rate = 0.35,\n",
    "                          max_depth = 2,\n",
    "                          alpha = 0.01,\n",
    "                          n_estimators = 9,\n",
    "                          subsample = 1)\n",
    "xg_reg2.fit(X_train_n,\n",
    "            y_train)"
   ]
  },
  {
   "cell_type": "code",
   "execution_count": 64,
   "metadata": {},
   "outputs": [
    {
     "name": "stdout",
     "output_type": "stream",
     "text": [
      "Testing score: 0.713501\n",
      "Training score: 0.779353\n",
      "Diff: 0.065852\n"
     ]
    }
   ],
   "source": [
    "score = xg_reg2.score(X_test_n,\n",
    "                      y_test)\n",
    "train_score = xg_reg2.score(X_train_n,\n",
    "                            y_train)\n",
    "diff = train_score - score\n",
    "\n",
    "print(\"Testing score: %f\" % (score))\n",
    "print(\"Training score: %f\" % (train_score))\n",
    "print(\"Diff: %f\" % (diff))"
   ]
  },
  {
   "cell_type": "code",
   "execution_count": 65,
   "metadata": {},
   "outputs": [
    {
     "data": {
      "image/png": "[encoded data removed]",
      "text/plain": [
       "<Figure size 360x360 with 1 Axes>"
      ]
     },
     "metadata": {
      "needs_background": "light"
     },
     "output_type": "display_data"
    }
   ],
   "source": [
    "xgb.plot_importance(xg_reg2)\n",
    "plt.rcParams['figure.figsize'] = [5,\n",
    "                                  5]\n",
    "plt.show()"
   ]
  },
  {
   "cell_type": "markdown",
   "metadata": {},
   "source": [
    "This is a slight improvement and it indicates, that through further feature engineering the fit can be improved further. The algorithm only overfits slightly."
   ]
  },
  {
   "cell_type": "code",
   "execution_count": 69,
   "metadata": {},
   "outputs": [],
   "source": [
    "predicted = pd.DataFrame(xg_reg2.predict(X_test_n))\n",
    "predicted.to_excel('output.xlsx')"
   ]
  }
 ],
 "metadata": {
  "kernelspec": {
   "display_name": "Python 3",
   "language": "python",
   "name": "python3"
  },
  "language_info": {
   "codemirror_mode": {
    "name": "ipython",
    "version": 3
   },
   "file_extension": ".py",
   "mimetype": "text/x-python",
   "name": "python",
   "nbconvert_exporter": "python",
   "pygments_lexer": "ipython3",
   "version": "3.6.8"
  }
 },
 "nbformat": 4,
 "nbformat_minor": 2
}
